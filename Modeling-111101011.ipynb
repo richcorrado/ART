{
 "cells": [
  {
   "cell_type": "markdown",
   "metadata": {},
   "source": [
    "# Modeling 111101011 - drop features"
   ]
  },
  {
   "cell_type": "markdown",
   "metadata": {},
   "source": [
    "In this notebook, we're specifically working on the dataset formed by dropping (31, 496, 524, 534, 917, 1183, 1299) with all features."
   ]
  },
  {
   "cell_type": "code",
   "execution_count": 1,
   "metadata": {
    "collapsed": true
   },
   "outputs": [],
   "source": [
    "import itertools\n",
    "import numpy as np\n",
    "import pandas as pd\n",
    "import scipy\n",
    "from scipy import optimize\n",
    "\n",
    "pd.set_option('display.precision',20)\n",
    "pd.set_option('display.max_colwidth',100)\n",
    "\n",
    "from sklearn import linear_model, svm, tree\n",
    "from sklearn.metrics import mean_squared_error\n",
    "from sklearn.ensemble import RandomForestRegressor\n",
    "from sklearn.model_selection import train_test_split, cross_val_predict, KFold, cross_val_score, \\\n",
    "                                    GridSearchCV, RandomizedSearchCV, ShuffleSplit\n",
    "from sklearn.neural_network import MLPRegressor\n",
    "    \n",
    "    \n",
    "    \n",
    "import xgboost as xgb\n",
    "\n",
    "from time import time\n",
    "from scipy.stats import randint as sp_randint\n",
    "\n",
    "import matplotlib.pylab as plt\n",
    "from matplotlib.pylab import rcParams\n",
    "from matplotlib import pyplot\n",
    "rcParams['figure.figsize'] = 12, 4\n",
    "%matplotlib inline"
   ]
  },
  {
   "cell_type": "code",
   "execution_count": 2,
   "metadata": {
    "collapsed": true
   },
   "outputs": [],
   "source": [
    "# def to compare goodness of fit on training set\n",
    "def rmse(y_true, y_pred):\n",
    "    return np.sqrt(mean_squared_error(y_true, y_pred))"
   ]
  },
  {
   "cell_type": "code",
   "execution_count": 3,
   "metadata": {
    "collapsed": true
   },
   "outputs": [],
   "source": [
    "# Utility function to report best scores\n",
    "def report(results, n_top=3):\n",
    "    for i in range(1, n_top + 1):\n",
    "        candidates = np.flatnonzero(results['rank_test_score'] == i)\n",
    "        for candidate in candidates:\n",
    "            print(\"Model with rank: {0}\".format(i))\n",
    "            print(\"Mean validation score: {0:.3f} (std: {1:.3f})\".format(\n",
    "                  results['mean_test_score'][candidate],\n",
    "                  results['std_test_score'][candidate]))\n",
    "            print(\"Parameters: {0}\".format(results['params'][candidate]))\n",
    "            print(\"\")"
   ]
  },
  {
   "cell_type": "code",
   "execution_count": 4,
   "metadata": {
    "collapsed": true
   },
   "outputs": [],
   "source": [
    "# run randomized search\n",
    "def random_search(regr, param_dist, n_iter_search): \n",
    "    rs = RandomizedSearchCV(regr, param_distributions=param_dist, scoring = 'neg_mean_squared_error',\n",
    "                                   n_jobs=-1, n_iter=n_iter_search, cv=kfold) #, verbose = 4)\n",
    "    start = time()\n",
    "    rs.fit(x_train, y_train)\n",
    "    print(\"RandomizedSearchCV took %.2f seconds for %d candidates\"\n",
    "      \" parameter settings.\" % ((time() - start), n_iter_search))\n",
    "    report(rs.cv_results_)"
   ]
  },
  {
   "cell_type": "code",
   "execution_count": 5,
   "metadata": {
    "collapsed": true
   },
   "outputs": [],
   "source": [
    "# run single parameter search (for ridge or lasso)\n",
    "def single_search(regr, params):\n",
    "    regr_results_df = pd.DataFrame(dtype = 'float64')\n",
    "    count = 0\n",
    "    for k, v in params.items():\n",
    "        for val in v:\n",
    "            regr.set_params(**{k: val})\n",
    "            regr_results_df.loc[count, k] = val\n",
    "            results = cross_val_score(regr, x_train, y_train, cv=kfold, scoring = 'neg_mean_squared_error')\n",
    "            (regr_results_df.loc[count, 'RMSE'], regr_results_df.loc[count, 'std dev']) = \\\n",
    "                    (np.sqrt(-results.mean()), np.sqrt(results.std()))\n",
    "            count += 1\n",
    "    return regr_results_df"
   ]
  },
  {
   "cell_type": "code",
   "execution_count": 6,
   "metadata": {
    "collapsed": true
   },
   "outputs": [],
   "source": [
    "# test against validation set\n",
    "def validate(regr):\n",
    "    regr.fit(x_train, y_train)\n",
    "    y_pred = regr.predict(x_validation)\n",
    "    return rmse(y_validation, y_pred)"
   ]
  },
  {
   "cell_type": "code",
   "execution_count": 7,
   "metadata": {
    "collapsed": true
   },
   "outputs": [],
   "source": [
    "# Cross-validation sets\n",
    "kfold = KFold(n_splits=10, random_state=7)"
   ]
  },
  {
   "cell_type": "code",
   "execution_count": 8,
   "metadata": {
    "collapsed": true
   },
   "outputs": [],
   "source": [
    "df = pd.read_csv(\"./input/train_tidy_111101011.csv\")"
   ]
  },
  {
   "cell_type": "code",
   "execution_count": 9,
   "metadata": {
    "collapsed": false
   },
   "outputs": [],
   "source": [
    "ss = ShuffleSplit(n_splits=1, test_size=0.20, random_state=71)\n",
    "\n",
    "X = df.values\n",
    "\n",
    "for train_idx, validation_idx in ss.split(X):\n",
    "    train_df = df.iloc[train_idx]\n",
    "    validation_df = df.iloc[validation_idx]\n",
    "    \n",
    "y_validation = validation_df['SalePrice'].values\n",
    "x_validation = validation_df.drop(['HouseId', 'SalePrice', 'GarageAge', 'GarageAgeLin'],axis=1).values\n",
    "y_train = train_df['SalePrice'].values\n",
    "x_train = train_df.drop(['HouseId', 'SalePrice', 'GarageAge', 'GarageAgeLin'],axis=1).values"
   ]
  },
  {
   "cell_type": "markdown",
   "metadata": {},
   "source": [
    "## Ridge regression"
   ]
  },
  {
   "cell_type": "code",
   "execution_count": 10,
   "metadata": {
    "collapsed": true
   },
   "outputs": [],
   "source": [
    "ridge_regr = linear_model.Ridge()"
   ]
  },
  {
   "cell_type": "code",
   "execution_count": 11,
   "metadata": {
    "collapsed": false
   },
   "outputs": [
    {
     "name": "stdout",
     "output_type": "stream",
     "text": [
      "RandomizedSearchCV took 2.16 seconds for 20 candidates parameter settings.\n",
      "Model with rank: 1\n",
      "Mean validation score: -0.011 (std: 0.003)\n",
      "Parameters: {'alpha': 6.9007029891837757}\n",
      "\n",
      "Model with rank: 2\n",
      "Mean validation score: -0.011 (std: 0.003)\n",
      "Parameters: {'alpha': 7.5784387149733536}\n",
      "\n",
      "Model with rank: 3\n",
      "Mean validation score: -0.011 (std: 0.003)\n",
      "Parameters: {'alpha': 4.6977861173723729}\n",
      "\n"
     ]
    }
   ],
   "source": [
    "ridge_param = {'alpha': scipy.stats.expon(scale=10)}\n",
    "random_search(ridge_regr, ridge_param, 20)"
   ]
  },
  {
   "cell_type": "code",
   "execution_count": 12,
   "metadata": {
    "collapsed": false
   },
   "outputs": [
    {
     "data": {
      "text/html": [
       "<div>\n",
       "<table border=\"1\" class=\"dataframe\">\n",
       "  <thead>\n",
       "    <tr style=\"text-align: right;\">\n",
       "      <th></th>\n",
       "      <th>alpha</th>\n",
       "      <th>RMSE</th>\n",
       "      <th>std dev</th>\n",
       "    </tr>\n",
       "  </thead>\n",
       "  <tbody>\n",
       "    <tr>\n",
       "      <th>0</th>\n",
       "      <td>1.0</td>\n",
       "      <td>0.10526025105944214477</td>\n",
       "      <td>0.05349985571433817089</td>\n",
       "    </tr>\n",
       "    <tr>\n",
       "      <th>13</th>\n",
       "      <td>14.0</td>\n",
       "      <td>0.10435909476911148230</td>\n",
       "      <td>0.05213884528330942764</td>\n",
       "    </tr>\n",
       "    <tr>\n",
       "      <th>1</th>\n",
       "      <td>2.0</td>\n",
       "      <td>0.10433356938753531040</td>\n",
       "      <td>0.05315572130518595589</td>\n",
       "    </tr>\n",
       "    <tr>\n",
       "      <th>12</th>\n",
       "      <td>13.0</td>\n",
       "      <td>0.10419087304512655856</td>\n",
       "      <td>0.05216998110381160930</td>\n",
       "    </tr>\n",
       "    <tr>\n",
       "      <th>11</th>\n",
       "      <td>12.0</td>\n",
       "      <td>0.10403180109858521651</td>\n",
       "      <td>0.05220363396860855376</td>\n",
       "    </tr>\n",
       "    <tr>\n",
       "      <th>10</th>\n",
       "      <td>11.0</td>\n",
       "      <td>0.10388404072396215105</td>\n",
       "      <td>0.05224042581108032796</td>\n",
       "    </tr>\n",
       "    <tr>\n",
       "      <th>2</th>\n",
       "      <td>3.0</td>\n",
       "      <td>0.10386582656524286083</td>\n",
       "      <td>0.05291118794753807419</td>\n",
       "    </tr>\n",
       "    <tr>\n",
       "      <th>9</th>\n",
       "      <td>10.0</td>\n",
       "      <td>0.10375042750524193780</td>\n",
       "      <td>0.05228122115583896945</td>\n",
       "    </tr>\n",
       "    <tr>\n",
       "      <th>8</th>\n",
       "      <td>9.0</td>\n",
       "      <td>0.10363475790502234275</td>\n",
       "      <td>0.05232724168549850174</td>\n",
       "    </tr>\n",
       "    <tr>\n",
       "      <th>3</th>\n",
       "      <td>4.0</td>\n",
       "      <td>0.10361641393599095584</td>\n",
       "      <td>0.05273987898095803400</td>\n",
       "    </tr>\n",
       "    <tr>\n",
       "      <th>7</th>\n",
       "      <td>8.0</td>\n",
       "      <td>0.10354223763060829699</td>\n",
       "      <td>0.05238024720544854490</td>\n",
       "    </tr>\n",
       "    <tr>\n",
       "      <th>4</th>\n",
       "      <td>5.0</td>\n",
       "      <td>0.10349605817626356119</td>\n",
       "      <td>0.05261462961125201038</td>\n",
       "    </tr>\n",
       "    <tr>\n",
       "      <th>6</th>\n",
       "      <td>7.0</td>\n",
       "      <td>0.10348020865659116052</td>\n",
       "      <td>0.05244283059928180057</td>\n",
       "    </tr>\n",
       "    <tr>\n",
       "      <th>5</th>\n",
       "      <td>6.0</td>\n",
       "      <td>0.10345938286525281635</td>\n",
       "      <td>0.05251891573542220859</td>\n",
       "    </tr>\n",
       "  </tbody>\n",
       "</table>\n",
       "</div>"
      ],
      "text/plain": [
       "    alpha                    RMSE                 std dev\n",
       "0     1.0  0.10526025105944214477  0.05349985571433817089\n",
       "13   14.0  0.10435909476911148230  0.05213884528330942764\n",
       "1     2.0  0.10433356938753531040  0.05315572130518595589\n",
       "12   13.0  0.10419087304512655856  0.05216998110381160930\n",
       "11   12.0  0.10403180109858521651  0.05220363396860855376\n",
       "10   11.0  0.10388404072396215105  0.05224042581108032796\n",
       "2     3.0  0.10386582656524286083  0.05291118794753807419\n",
       "9    10.0  0.10375042750524193780  0.05228122115583896945\n",
       "8     9.0  0.10363475790502234275  0.05232724168549850174\n",
       "3     4.0  0.10361641393599095584  0.05273987898095803400\n",
       "7     8.0  0.10354223763060829699  0.05238024720544854490\n",
       "4     5.0  0.10349605817626356119  0.05261462961125201038\n",
       "6     7.0  0.10348020865659116052  0.05244283059928180057\n",
       "5     6.0  0.10345938286525281635  0.05251891573542220859"
      ]
     },
     "execution_count": 12,
     "metadata": {},
     "output_type": "execute_result"
    },
    {
     "data": {
      "image/png": "[encoded data removed]",
      "text/plain": [
       "<matplotlib.figure.Figure at 0x7ff9363b3590>"
      ]
     },
     "metadata": {},
     "output_type": "display_data"
    }
   ],
   "source": [
    "ridge_params = {'alpha': np.arange(1, 15, 1).tolist()}\n",
    "ridge_df = single_search(ridge_regr, ridge_params)\n",
    "ridge_df.plot(x = ['alpha'], y = ['RMSE'])\n",
    "ridge_df.sort_values(['RMSE'], ascending = False)"
   ]
  },
  {
   "cell_type": "code",
   "execution_count": 13,
   "metadata": {
    "collapsed": true
   },
   "outputs": [],
   "source": [
    "ridge_regr = linear_model.Ridge(alpha = 6)"
   ]
  },
  {
   "cell_type": "code",
   "execution_count": 14,
   "metadata": {
    "collapsed": false
   },
   "outputs": [
    {
     "data": {
      "text/plain": [
       "0.12381705668317267"
      ]
     },
     "execution_count": 14,
     "metadata": {},
     "output_type": "execute_result"
    }
   ],
   "source": [
    "validate(ridge_regr)"
   ]
  },
  {
   "cell_type": "markdown",
   "metadata": {},
   "source": [
    "## Lasso"
   ]
  },
  {
   "cell_type": "code",
   "execution_count": 15,
   "metadata": {
    "collapsed": true
   },
   "outputs": [],
   "source": [
    "lasso_regr = linear_model.Lasso(max_iter=50000)"
   ]
  },
  {
   "cell_type": "code",
   "execution_count": 16,
   "metadata": {
    "collapsed": false
   },
   "outputs": [
    {
     "name": "stdout",
     "output_type": "stream",
     "text": [
      "RandomizedSearchCV took 41.08 seconds for 20 candidates parameter settings.\n",
      "Model with rank: 1\n",
      "Mean validation score: -0.010 (std: 0.003)\n",
      "Parameters: {'alpha': 0.00022767379947278901}\n",
      "\n",
      "Model with rank: 2\n",
      "Mean validation score: -0.010 (std: 0.003)\n",
      "Parameters: {'alpha': 0.00024702272550799624}\n",
      "\n",
      "Model with rank: 3\n",
      "Mean validation score: -0.010 (std: 0.003)\n",
      "Parameters: {'alpha': 0.00024940913544266378}\n",
      "\n"
     ]
    }
   ],
   "source": [
    "lasso_param = {'alpha': scipy.stats.expon(scale=0.001)}\n",
    "random_search(lasso_regr, lasso_param, 20)"
   ]
  },
  {
   "cell_type": "code",
   "execution_count": 17,
   "metadata": {
    "collapsed": false
   },
   "outputs": [
    {
     "data": {
      "text/html": [
       "<div>\n",
       "<table border=\"1\" class=\"dataframe\">\n",
       "  <thead>\n",
       "    <tr style=\"text-align: right;\">\n",
       "      <th></th>\n",
       "      <th>alpha</th>\n",
       "      <th>RMSE</th>\n",
       "      <th>std dev</th>\n",
       "    </tr>\n",
       "  </thead>\n",
       "  <tbody>\n",
       "    <tr>\n",
       "      <th>5</th>\n",
       "      <td>0.00060000000000000006</td>\n",
       "      <td>0.10396097841458405708</td>\n",
       "      <td>0.05114591549632593187</td>\n",
       "    </tr>\n",
       "    <tr>\n",
       "      <th>4</th>\n",
       "      <td>0.00050000000000000001</td>\n",
       "      <td>0.10351584195707694280</td>\n",
       "      <td>0.05144658233321838803</td>\n",
       "    </tr>\n",
       "    <tr>\n",
       "      <th>0</th>\n",
       "      <td>0.00010000000000000000</td>\n",
       "      <td>0.10345598530755073519</td>\n",
       "      <td>0.05422784254337709858</td>\n",
       "    </tr>\n",
       "    <tr>\n",
       "      <th>3</th>\n",
       "      <td>0.00040000000000000002</td>\n",
       "      <td>0.10293581896575101919</td>\n",
       "      <td>0.05198132361349575709</td>\n",
       "    </tr>\n",
       "    <tr>\n",
       "      <th>2</th>\n",
       "      <td>0.00030000000000000003</td>\n",
       "      <td>0.10223140801305137526</td>\n",
       "      <td>0.05283199119307575853</td>\n",
       "    </tr>\n",
       "    <tr>\n",
       "      <th>1</th>\n",
       "      <td>0.00020000000000000001</td>\n",
       "      <td>0.10204444218250327547</td>\n",
       "      <td>0.05339184256085816038</td>\n",
       "    </tr>\n",
       "  </tbody>\n",
       "</table>\n",
       "</div>"
      ],
      "text/plain": [
       "                    alpha                    RMSE                 std dev\n",
       "5  0.00060000000000000006  0.10396097841458405708  0.05114591549632593187\n",
       "4  0.00050000000000000001  0.10351584195707694280  0.05144658233321838803\n",
       "0  0.00010000000000000000  0.10345598530755073519  0.05422784254337709858\n",
       "3  0.00040000000000000002  0.10293581896575101919  0.05198132361349575709\n",
       "2  0.00030000000000000003  0.10223140801305137526  0.05283199119307575853\n",
       "1  0.00020000000000000001  0.10204444218250327547  0.05339184256085816038"
      ]
     },
     "execution_count": 17,
     "metadata": {},
     "output_type": "execute_result"
    },
    {
     "data": {
      "image/png": "[encoded data removed]",
      "text/plain": [
       "<matplotlib.figure.Figure at 0x7ff9362ffd10>"
      ]
     },
     "metadata": {},
     "output_type": "display_data"
    }
   ],
   "source": [
    "lasso_params = {'alpha': np.arange(0.0001, 0.0007, 0.0001).tolist()}\n",
    "lasso_df = single_search(lasso_regr, lasso_params)\n",
    "lasso_df.plot(x = ['alpha'], y = ['RMSE'])\n",
    "lasso_df.sort_values(['RMSE'], ascending = False)"
   ]
  },
  {
   "cell_type": "code",
   "execution_count": 31,
   "metadata": {
    "collapsed": true
   },
   "outputs": [],
   "source": [
    "lasso_regr = linear_model.Lasso(alpha=0.0002, max_iter=50000)"
   ]
  },
  {
   "cell_type": "code",
   "execution_count": 32,
   "metadata": {
    "collapsed": false
   },
   "outputs": [
    {
     "data": {
      "text/plain": [
       "0.12055633832245496"
      ]
     },
     "execution_count": 32,
     "metadata": {},
     "output_type": "execute_result"
    }
   ],
   "source": [
    "validate(lasso_regr)"
   ]
  },
  {
   "cell_type": "markdown",
   "metadata": {},
   "source": [
    "## Lasso LARS"
   ]
  },
  {
   "cell_type": "code",
   "execution_count": 18,
   "metadata": {
    "collapsed": true
   },
   "outputs": [],
   "source": [
    "lassolars_regr = linear_model.LassoLars(max_iter=50000)"
   ]
  },
  {
   "cell_type": "code",
   "execution_count": 19,
   "metadata": {
    "collapsed": false
   },
   "outputs": [
    {
     "name": "stderr",
     "output_type": "stream",
     "text": [
      "/usr/lib64/python2.7/site-packages/sklearn/linear_model/least_angle.py:309: ConvergenceWarning: Regressors in active set degenerate. Dropping a regressor, after 178 iterations, i.e. alpha=5.366e-05, with an active set of 154 regressors, and the smallest cholesky pivot element being 2.107e-08\n",
      "  ConvergenceWarning)\n",
      "/usr/lib64/python2.7/site-packages/sklearn/linear_model/least_angle.py:309: ConvergenceWarning: Regressors in active set degenerate. Dropping a regressor, after 226 iterations, i.e. alpha=2.282e-05, with an active set of 190 regressors, and the smallest cholesky pivot element being 2.107e-08\n",
      "  ConvergenceWarning)\n",
      "/usr/lib64/python2.7/site-packages/sklearn/linear_model/least_angle.py:309: ConvergenceWarning: Regressors in active set degenerate. Dropping a regressor, after 222 iterations, i.e. alpha=2.772e-05, with an active set of 182 regressors, and the smallest cholesky pivot element being 1.490e-08\n",
      "  ConvergenceWarning)\n",
      "/usr/lib64/python2.7/site-packages/sklearn/linear_model/least_angle.py:309: ConvergenceWarning: Regressors in active set degenerate. Dropping a regressor, after 234 iterations, i.e. alpha=2.576e-05, with an active set of 192 regressors, and the smallest cholesky pivot element being 2.220e-16\n",
      "  ConvergenceWarning)\n",
      "/usr/lib64/python2.7/site-packages/sklearn/linear_model/least_angle.py:334: ConvergenceWarning: Early stopping the lars path, as the residues are small and the current value of alpha is no longer well controlled. 247 iterations, alpha=2.136e-05, previous alpha=2.126e-05, with an active set of 202 regressors.\n",
      "  ConvergenceWarning)\n",
      "/usr/lib64/python2.7/site-packages/sklearn/linear_model/least_angle.py:309: ConvergenceWarning: Regressors in active set degenerate. Dropping a regressor, after 256 iterations, i.e. alpha=1.721e-05, with an active set of 206 regressors, and the smallest cholesky pivot element being 2.220e-16\n",
      "  ConvergenceWarning)\n",
      "/usr/lib64/python2.7/site-packages/sklearn/linear_model/least_angle.py:309: ConvergenceWarning: Regressors in active set degenerate. Dropping a regressor, after 227 iterations, i.e. alpha=1.973e-05, with an active set of 197 regressors, and the smallest cholesky pivot element being 2.788e-08\n",
      "  ConvergenceWarning)\n",
      "/usr/lib64/python2.7/site-packages/sklearn/linear_model/least_angle.py:309: ConvergenceWarning: Regressors in active set degenerate. Dropping a regressor, after 236 iterations, i.e. alpha=1.674e-05, with an active set of 204 regressors, and the smallest cholesky pivot element being 1.825e-08\n",
      "  ConvergenceWarning)\n",
      "/usr/lib64/python2.7/site-packages/sklearn/linear_model/least_angle.py:309: ConvergenceWarning: Regressors in active set degenerate. Dropping a regressor, after 224 iterations, i.e. alpha=2.284e-05, with an active set of 184 regressors, and the smallest cholesky pivot element being 2.220e-16\n",
      "  ConvergenceWarning)\n",
      "/usr/lib64/python2.7/site-packages/sklearn/linear_model/least_angle.py:309: ConvergenceWarning: Regressors in active set degenerate. Dropping a regressor, after 244 iterations, i.e. alpha=1.661e-05, with an active set of 200 regressors, and the smallest cholesky pivot element being 2.107e-08\n",
      "  ConvergenceWarning)\n",
      "/usr/lib64/python2.7/site-packages/sklearn/linear_model/least_angle.py:334: ConvergenceWarning: Early stopping the lars path, as the residues are small and the current value of alpha is no longer well controlled. 237 iterations, alpha=1.658e-05, previous alpha=1.647e-05, with an active set of 204 regressors.\n",
      "  ConvergenceWarning)\n",
      "/usr/lib64/python2.7/site-packages/sklearn/linear_model/least_angle.py:334: ConvergenceWarning: Early stopping the lars path, as the residues are small and the current value of alpha is no longer well controlled. 247 iterations, alpha=1.628e-05, previous alpha=1.622e-05, with an active set of 202 regressors.\n",
      "  ConvergenceWarning)\n",
      "/usr/lib64/python2.7/site-packages/sklearn/linear_model/least_angle.py:309: ConvergenceWarning: Regressors in active set degenerate. Dropping a regressor, after 253 iterations, i.e. alpha=1.317e-05, with an active set of 217 regressors, and the smallest cholesky pivot element being 1.825e-08\n",
      "  ConvergenceWarning)\n",
      "/usr/lib64/python2.7/site-packages/sklearn/linear_model/least_angle.py:309: ConvergenceWarning: Regressors in active set degenerate. Dropping a regressor, after 203 iterations, i.e. alpha=3.492e-05, with an active set of 165 regressors, and the smallest cholesky pivot element being 2.581e-08\n",
      "  ConvergenceWarning)\n",
      "/usr/lib64/python2.7/site-packages/sklearn/linear_model/least_angle.py:309: ConvergenceWarning: Regressors in active set degenerate. Dropping a regressor, after 178 iterations, i.e. alpha=5.366e-05, with an active set of 154 regressors, and the smallest cholesky pivot element being 2.107e-08\n",
      "  ConvergenceWarning)\n",
      "/usr/lib64/python2.7/site-packages/sklearn/linear_model/least_angle.py:309: ConvergenceWarning: Regressors in active set degenerate. Dropping a regressor, after 247 iterations, i.e. alpha=1.679e-05, with an active set of 197 regressors, and the smallest cholesky pivot element being 2.107e-08\n",
      "  ConvergenceWarning)\n",
      "/usr/lib64/python2.7/site-packages/sklearn/linear_model/least_angle.py:309: ConvergenceWarning: Regressors in active set degenerate. Dropping a regressor, after 249 iterations, i.e. alpha=1.626e-05, with an active set of 199 regressors, and the smallest cholesky pivot element being 2.107e-08\n",
      "  ConvergenceWarning)\n",
      "/usr/lib64/python2.7/site-packages/sklearn/linear_model/least_angle.py:309: ConvergenceWarning: Regressors in active set degenerate. Dropping a regressor, after 257 iterations, i.e. alpha=1.432e-05, with an active set of 207 regressors, and the smallest cholesky pivot element being 2.107e-08\n",
      "  ConvergenceWarning)\n",
      "/usr/lib64/python2.7/site-packages/sklearn/linear_model/least_angle.py:334: ConvergenceWarning: Early stopping the lars path, as the residues are small and the current value of alpha is no longer well controlled. 259 iterations, alpha=1.432e-05, previous alpha=1.406e-05, with an active set of 208 regressors.\n",
      "  ConvergenceWarning)\n",
      "/usr/lib64/python2.7/site-packages/sklearn/linear_model/least_angle.py:309: ConvergenceWarning: Regressors in active set degenerate. Dropping a regressor, after 236 iterations, i.e. alpha=2.152e-05, with an active set of 196 regressors, and the smallest cholesky pivot element being 2.356e-08\n",
      "  ConvergenceWarning)\n",
      "/usr/lib64/python2.7/site-packages/sklearn/linear_model/least_angle.py:309: ConvergenceWarning: Regressors in active set degenerate. Dropping a regressor, after 247 iterations, i.e. alpha=1.738e-05, with an active set of 203 regressors, and the smallest cholesky pivot element being 1.490e-08\n",
      "  ConvergenceWarning)\n",
      "/usr/lib64/python2.7/site-packages/sklearn/linear_model/least_angle.py:334: ConvergenceWarning: Early stopping the lars path, as the residues are small and the current value of alpha is no longer well controlled. 248 iterations, alpha=1.738e-05, previous alpha=1.737e-05, with an active set of 203 regressors.\n",
      "  ConvergenceWarning)\n",
      "/usr/lib64/python2.7/site-packages/sklearn/linear_model/least_angle.py:309: ConvergenceWarning: Regressors in active set degenerate. Dropping a regressor, after 224 iterations, i.e. alpha=2.284e-05, with an active set of 184 regressors, and the smallest cholesky pivot element being 2.220e-16\n",
      "  ConvergenceWarning)\n",
      "/usr/lib64/python2.7/site-packages/sklearn/linear_model/least_angle.py:309: ConvergenceWarning: Regressors in active set degenerate. Dropping a regressor, after 244 iterations, i.e. alpha=1.661e-05, with an active set of 200 regressors, and the smallest cholesky pivot element being 2.107e-08\n",
      "  ConvergenceWarning)\n",
      "/usr/lib64/python2.7/site-packages/sklearn/linear_model/least_angle.py:309: ConvergenceWarning: Regressors in active set degenerate. Dropping a regressor, after 203 iterations, i.e. alpha=3.492e-05, with an active set of 165 regressors, and the smallest cholesky pivot element being 2.581e-08\n",
      "  ConvergenceWarning)\n",
      "/usr/lib64/python2.7/site-packages/sklearn/linear_model/least_angle.py:334: ConvergenceWarning: Early stopping the lars path, as the residues are small and the current value of alpha is no longer well controlled. 247 iterations, alpha=1.628e-05, previous alpha=1.622e-05, with an active set of 202 regressors.\n",
      "  ConvergenceWarning)\n",
      "/usr/lib64/python2.7/site-packages/sklearn/linear_model/least_angle.py:309: ConvergenceWarning: Regressors in active set degenerate. Dropping a regressor, after 328 iterations, i.e. alpha=5.126e-06, with an active set of 242 regressors, and the smallest cholesky pivot element being 2.107e-08\n",
      "  ConvergenceWarning)\n",
      "/usr/lib64/python2.7/site-packages/sklearn/linear_model/least_angle.py:309: ConvergenceWarning: Regressors in active set degenerate. Dropping a regressor, after 328 iterations, i.e. alpha=4.994e-06, with an active set of 242 regressors, and the smallest cholesky pivot element being 2.107e-08\n",
      "  ConvergenceWarning)\n",
      "/usr/lib64/python2.7/site-packages/sklearn/linear_model/least_angle.py:334: ConvergenceWarning: Early stopping the lars path, as the residues are small and the current value of alpha is no longer well controlled. 329 iterations, alpha=5.097e-06, previous alpha=4.975e-06, with an active set of 242 regressors.\n",
      "  ConvergenceWarning)\n",
      "/usr/lib64/python2.7/site-packages/sklearn/linear_model/least_angle.py:309: ConvergenceWarning: Regressors in active set degenerate. Dropping a regressor, after 178 iterations, i.e. alpha=5.366e-05, with an active set of 154 regressors, and the smallest cholesky pivot element being 2.107e-08\n",
      "  ConvergenceWarning)\n",
      "/usr/lib64/python2.7/site-packages/sklearn/linear_model/least_angle.py:309: ConvergenceWarning: Regressors in active set degenerate. Dropping a regressor, after 247 iterations, i.e. alpha=1.679e-05, with an active set of 197 regressors, and the smallest cholesky pivot element being 2.107e-08\n",
      "  ConvergenceWarning)\n",
      "/usr/lib64/python2.7/site-packages/sklearn/linear_model/least_angle.py:309: ConvergenceWarning: Regressors in active set degenerate. Dropping a regressor, after 249 iterations, i.e. alpha=1.626e-05, with an active set of 199 regressors, and the smallest cholesky pivot element being 2.107e-08\n",
      "  ConvergenceWarning)\n",
      "/usr/lib64/python2.7/site-packages/sklearn/linear_model/least_angle.py:309: ConvergenceWarning: Regressors in active set degenerate. Dropping a regressor, after 257 iterations, i.e. alpha=1.432e-05, with an active set of 207 regressors, and the smallest cholesky pivot element being 2.107e-08\n",
      "  ConvergenceWarning)\n",
      "/usr/lib64/python2.7/site-packages/sklearn/linear_model/least_angle.py:334: ConvergenceWarning: Early stopping the lars path, as the residues are small and the current value of alpha is no longer well controlled. 259 iterations, alpha=1.432e-05, previous alpha=1.406e-05, with an active set of 208 regressors.\n",
      "  ConvergenceWarning)\n",
      "/usr/lib64/python2.7/site-packages/sklearn/linear_model/least_angle.py:309: ConvergenceWarning: Regressors in active set degenerate. Dropping a regressor, after 236 iterations, i.e. alpha=2.152e-05, with an active set of 196 regressors, and the smallest cholesky pivot element being 2.356e-08\n",
      "  ConvergenceWarning)\n",
      "/usr/lib64/python2.7/site-packages/sklearn/linear_model/least_angle.py:309: ConvergenceWarning: Regressors in active set degenerate. Dropping a regressor, after 247 iterations, i.e. alpha=1.738e-05, with an active set of 203 regressors, and the smallest cholesky pivot element being 1.490e-08\n",
      "  ConvergenceWarning)\n",
      "/usr/lib64/python2.7/site-packages/sklearn/linear_model/least_angle.py:334: ConvergenceWarning: Early stopping the lars path, as the residues are small and the current value of alpha is no longer well controlled. 248 iterations, alpha=1.738e-05, previous alpha=1.737e-05, with an active set of 203 regressors.\n",
      "  ConvergenceWarning)\n",
      "/usr/lib64/python2.7/site-packages/sklearn/linear_model/least_angle.py:309: ConvergenceWarning: Regressors in active set degenerate. Dropping a regressor, after 267 iterations, i.e. alpha=1.049e-05, with an active set of 223 regressors, and the smallest cholesky pivot element being 2.581e-08\n",
      "  ConvergenceWarning)\n",
      "/usr/lib64/python2.7/site-packages/sklearn/linear_model/least_angle.py:309: ConvergenceWarning: Regressors in active set degenerate. Dropping a regressor, after 226 iterations, i.e. alpha=2.282e-05, with an active set of 190 regressors, and the smallest cholesky pivot element being 2.107e-08\n",
      "  ConvergenceWarning)\n",
      "/usr/lib64/python2.7/site-packages/sklearn/linear_model/least_angle.py:309: ConvergenceWarning: Regressors in active set degenerate. Dropping a regressor, after 267 iterations, i.e. alpha=1.049e-05, with an active set of 223 regressors, and the smallest cholesky pivot element being 2.581e-08\n",
      "  ConvergenceWarning)\n",
      "/usr/lib64/python2.7/site-packages/sklearn/linear_model/least_angle.py:309: ConvergenceWarning: Regressors in active set degenerate. Dropping a regressor, after 222 iterations, i.e. alpha=2.772e-05, with an active set of 182 regressors, and the smallest cholesky pivot element being 1.490e-08\n",
      "  ConvergenceWarning)\n",
      "/usr/lib64/python2.7/site-packages/sklearn/linear_model/least_angle.py:309: ConvergenceWarning: Regressors in active set degenerate. Dropping a regressor, after 234 iterations, i.e. alpha=2.576e-05, with an active set of 192 regressors, and the smallest cholesky pivot element being 2.220e-16\n",
      "  ConvergenceWarning)\n",
      "/usr/lib64/python2.7/site-packages/sklearn/linear_model/least_angle.py:334: ConvergenceWarning: Early stopping the lars path, as the residues are small and the current value of alpha is no longer well controlled. 247 iterations, alpha=2.136e-05, previous alpha=2.126e-05, with an active set of 202 regressors.\n",
      "  ConvergenceWarning)\n",
      "/usr/lib64/python2.7/site-packages/sklearn/linear_model/least_angle.py:309: ConvergenceWarning: Regressors in active set degenerate. Dropping a regressor, after 227 iterations, i.e. alpha=1.973e-05, with an active set of 197 regressors, and the smallest cholesky pivot element being 2.788e-08\n",
      "  ConvergenceWarning)\n",
      "/usr/lib64/python2.7/site-packages/sklearn/linear_model/least_angle.py:309: ConvergenceWarning: Regressors in active set degenerate. Dropping a regressor, after 236 iterations, i.e. alpha=1.674e-05, with an active set of 204 regressors, and the smallest cholesky pivot element being 1.825e-08\n",
      "  ConvergenceWarning)\n",
      "/usr/lib64/python2.7/site-packages/sklearn/linear_model/least_angle.py:334: ConvergenceWarning: Early stopping the lars path, as the residues are small and the current value of alpha is no longer well controlled. 237 iterations, alpha=1.658e-05, previous alpha=1.647e-05, with an active set of 204 regressors.\n",
      "  ConvergenceWarning)\n",
      "/usr/lib64/python2.7/site-packages/sklearn/linear_model/least_angle.py:309: ConvergenceWarning: Regressors in active set degenerate. Dropping a regressor, after 203 iterations, i.e. alpha=3.492e-05, with an active set of 165 regressors, and the smallest cholesky pivot element being 2.581e-08\n",
      "  ConvergenceWarning)\n",
      "/usr/lib64/python2.7/site-packages/sklearn/linear_model/least_angle.py:309: ConvergenceWarning: Regressors in active set degenerate. Dropping a regressor, after 226 iterations, i.e. alpha=2.282e-05, with an active set of 190 regressors, and the smallest cholesky pivot element being 2.107e-08\n",
      "  ConvergenceWarning)\n",
      "/usr/lib64/python2.7/site-packages/sklearn/linear_model/least_angle.py:309: ConvergenceWarning: Regressors in active set degenerate. Dropping a regressor, after 267 iterations, i.e. alpha=1.049e-05, with an active set of 223 regressors, and the smallest cholesky pivot element being 2.581e-08\n",
      "  ConvergenceWarning)\n",
      "/usr/lib64/python2.7/site-packages/sklearn/linear_model/least_angle.py:309: ConvergenceWarning: Regressors in active set degenerate. Dropping a regressor, after 227 iterations, i.e. alpha=1.973e-05, with an active set of 197 regressors, and the smallest cholesky pivot element being 2.788e-08\n",
      "  ConvergenceWarning)\n",
      "/usr/lib64/python2.7/site-packages/sklearn/linear_model/least_angle.py:309: ConvergenceWarning: Regressors in active set degenerate. Dropping a regressor, after 236 iterations, i.e. alpha=1.674e-05, with an active set of 204 regressors, and the smallest cholesky pivot element being 1.825e-08\n",
      "  ConvergenceWarning)\n",
      "/usr/lib64/python2.7/site-packages/sklearn/linear_model/least_angle.py:334: ConvergenceWarning: Early stopping the lars path, as the residues are small and the current value of alpha is no longer well controlled. 237 iterations, alpha=1.658e-05, previous alpha=1.647e-05, with an active set of 204 regressors.\n",
      "  ConvergenceWarning)\n",
      "/usr/lib64/python2.7/site-packages/sklearn/linear_model/least_angle.py:309: ConvergenceWarning: Regressors in active set degenerate. Dropping a regressor, after 236 iterations, i.e. alpha=2.152e-05, with an active set of 196 regressors, and the smallest cholesky pivot element being 2.356e-08\n",
      "  ConvergenceWarning)\n",
      "/usr/lib64/python2.7/site-packages/sklearn/linear_model/least_angle.py:309: ConvergenceWarning: Regressors in active set degenerate. Dropping a regressor, after 222 iterations, i.e. alpha=2.772e-05, with an active set of 182 regressors, and the smallest cholesky pivot element being 1.490e-08\n",
      "  ConvergenceWarning)\n",
      "/usr/lib64/python2.7/site-packages/sklearn/linear_model/least_angle.py:309: ConvergenceWarning: Regressors in active set degenerate. Dropping a regressor, after 247 iterations, i.e. alpha=1.738e-05, with an active set of 203 regressors, and the smallest cholesky pivot element being 1.490e-08\n",
      "  ConvergenceWarning)\n",
      "/usr/lib64/python2.7/site-packages/sklearn/linear_model/least_angle.py:334: ConvergenceWarning: Early stopping the lars path, as the residues are small and the current value of alpha is no longer well controlled. 248 iterations, alpha=1.738e-05, previous alpha=1.737e-05, with an active set of 203 regressors.\n",
      "  ConvergenceWarning)\n",
      "/usr/lib64/python2.7/site-packages/sklearn/linear_model/least_angle.py:309: ConvergenceWarning: Regressors in active set degenerate. Dropping a regressor, after 234 iterations, i.e. alpha=2.576e-05, with an active set of 192 regressors, and the smallest cholesky pivot element being 2.220e-16\n",
      "  ConvergenceWarning)\n",
      "/usr/lib64/python2.7/site-packages/sklearn/linear_model/least_angle.py:334: ConvergenceWarning: Early stopping the lars path, as the residues are small and the current value of alpha is no longer well controlled. 247 iterations, alpha=2.136e-05, previous alpha=2.126e-05, with an active set of 202 regressors.\n",
      "  ConvergenceWarning)\n",
      "/usr/lib64/python2.7/site-packages/sklearn/linear_model/least_angle.py:309: ConvergenceWarning: Regressors in active set degenerate. Dropping a regressor, after 256 iterations, i.e. alpha=1.721e-05, with an active set of 206 regressors, and the smallest cholesky pivot element being 2.220e-16\n",
      "  ConvergenceWarning)\n",
      "/usr/lib64/python2.7/site-packages/sklearn/linear_model/least_angle.py:309: ConvergenceWarning: Regressors in active set degenerate. Dropping a regressor, after 253 iterations, i.e. alpha=1.317e-05, with an active set of 217 regressors, and the smallest cholesky pivot element being 1.825e-08\n",
      "  ConvergenceWarning)\n",
      "/usr/lib64/python2.7/site-packages/sklearn/linear_model/least_angle.py:309: ConvergenceWarning: Regressors in active set degenerate. Dropping a regressor, after 178 iterations, i.e. alpha=5.366e-05, with an active set of 154 regressors, and the smallest cholesky pivot element being 2.107e-08\n",
      "  ConvergenceWarning)\n"
     ]
    },
    {
     "name": "stdout",
     "output_type": "stream",
     "text": [
      "RandomizedSearchCV took 4.78 seconds for 20 candidates parameter settings.\n",
      "Model with rank: 1\n",
      "Mean validation score: -0.010 (std: 0.003)\n",
      "Parameters: {'alpha': 6.9871968699284005e-05}\n",
      "\n",
      "Model with rank: 2\n",
      "Mean validation score: -0.010 (std: 0.003)\n",
      "Parameters: {'alpha': 6.4598998214339957e-05}\n",
      "\n",
      "Model with rank: 3\n",
      "Mean validation score: -0.010 (std: 0.003)\n",
      "Parameters: {'alpha': 5.7320914083055796e-05}\n",
      "\n"
     ]
    }
   ],
   "source": [
    "lassolars_param = {'alpha': scipy.stats.expon(scale=0.0001)}\n",
    "random_search(lassolars_regr, lassolars_param, 20)"
   ]
  },
  {
   "cell_type": "code",
   "execution_count": 33,
   "metadata": {
    "collapsed": false
   },
   "outputs": [
    {
     "name": "stderr",
     "output_type": "stream",
     "text": [
      "/usr/lib64/python2.7/site-packages/sklearn/linear_model/least_angle.py:309: ConvergenceWarning: Regressors in active set degenerate. Dropping a regressor, after 222 iterations, i.e. alpha=2.772e-05, with an active set of 182 regressors, and the smallest cholesky pivot element being 1.490e-08\n",
      "  ConvergenceWarning)\n",
      "/usr/lib64/python2.7/site-packages/sklearn/linear_model/least_angle.py:309: ConvergenceWarning: Regressors in active set degenerate. Dropping a regressor, after 234 iterations, i.e. alpha=2.576e-05, with an active set of 192 regressors, and the smallest cholesky pivot element being 2.220e-16\n",
      "  ConvergenceWarning)\n",
      "/usr/lib64/python2.7/site-packages/sklearn/linear_model/least_angle.py:334: ConvergenceWarning: Early stopping the lars path, as the residues are small and the current value of alpha is no longer well controlled. 247 iterations, alpha=2.136e-05, previous alpha=2.126e-05, with an active set of 202 regressors.\n",
      "  ConvergenceWarning)\n",
      "/usr/lib64/python2.7/site-packages/sklearn/linear_model/least_angle.py:309: ConvergenceWarning: Regressors in active set degenerate. Dropping a regressor, after 224 iterations, i.e. alpha=2.284e-05, with an active set of 184 regressors, and the smallest cholesky pivot element being 2.220e-16\n",
      "  ConvergenceWarning)\n",
      "/usr/lib64/python2.7/site-packages/sklearn/linear_model/least_angle.py:309: ConvergenceWarning: Regressors in active set degenerate. Dropping a regressor, after 178 iterations, i.e. alpha=5.366e-05, with an active set of 154 regressors, and the smallest cholesky pivot element being 2.107e-08\n",
      "  ConvergenceWarning)\n",
      "/usr/lib64/python2.7/site-packages/sklearn/linear_model/least_angle.py:309: ConvergenceWarning: Regressors in active set degenerate. Dropping a regressor, after 226 iterations, i.e. alpha=2.282e-05, with an active set of 190 regressors, and the smallest cholesky pivot element being 2.107e-08\n",
      "  ConvergenceWarning)\n",
      "/usr/lib64/python2.7/site-packages/sklearn/linear_model/least_angle.py:309: ConvergenceWarning: Regressors in active set degenerate. Dropping a regressor, after 203 iterations, i.e. alpha=3.492e-05, with an active set of 165 regressors, and the smallest cholesky pivot element being 2.581e-08\n",
      "  ConvergenceWarning)\n",
      "/usr/lib64/python2.7/site-packages/sklearn/linear_model/least_angle.py:309: ConvergenceWarning: Regressors in active set degenerate. Dropping a regressor, after 236 iterations, i.e. alpha=2.152e-05, with an active set of 196 regressors, and the smallest cholesky pivot element being 2.356e-08\n",
      "  ConvergenceWarning)\n"
     ]
    },
    {
     "data": {
      "text/html": [
       "<div>\n",
       "<table border=\"1\" class=\"dataframe\">\n",
       "  <thead>\n",
       "    <tr style=\"text-align: right;\">\n",
       "      <th></th>\n",
       "      <th>alpha</th>\n",
       "      <th>RMSE</th>\n",
       "      <th>std dev</th>\n",
       "    </tr>\n",
       "  </thead>\n",
       "  <tbody>\n",
       "    <tr>\n",
       "      <th>0</th>\n",
       "      <td>0.00002000000000000000</td>\n",
       "      <td>0.10374771969212891187</td>\n",
       "      <td>0.05411258642713143857</td>\n",
       "    </tr>\n",
       "    <tr>\n",
       "      <th>1</th>\n",
       "      <td>0.00003000000000000000</td>\n",
       "      <td>0.10270705610990832346</td>\n",
       "      <td>0.05368391098463046185</td>\n",
       "    </tr>\n",
       "    <tr>\n",
       "      <th>2</th>\n",
       "      <td>0.00004000000000000001</td>\n",
       "      <td>0.10220038620604109114</td>\n",
       "      <td>0.05370041072193709047</td>\n",
       "    </tr>\n",
       "    <tr>\n",
       "      <th>9</th>\n",
       "      <td>0.00011000000000000002</td>\n",
       "      <td>0.10213374232166674838</td>\n",
       "      <td>0.05261831176011733113</td>\n",
       "    </tr>\n",
       "    <tr>\n",
       "      <th>8</th>\n",
       "      <td>0.00010000000000000002</td>\n",
       "      <td>0.10193511651245469596</td>\n",
       "      <td>0.05275318709176256976</td>\n",
       "    </tr>\n",
       "    <tr>\n",
       "      <th>3</th>\n",
       "      <td>0.00005000000000000001</td>\n",
       "      <td>0.10189647610457869265</td>\n",
       "      <td>0.05345745097169644910</td>\n",
       "    </tr>\n",
       "    <tr>\n",
       "      <th>7</th>\n",
       "      <td>0.00009000000000000002</td>\n",
       "      <td>0.10182289793544806178</td>\n",
       "      <td>0.05288486968079892520</td>\n",
       "    </tr>\n",
       "    <tr>\n",
       "      <th>6</th>\n",
       "      <td>0.00008000000000000002</td>\n",
       "      <td>0.10171950779699355516</td>\n",
       "      <td>0.05299041662405094139</td>\n",
       "    </tr>\n",
       "    <tr>\n",
       "      <th>4</th>\n",
       "      <td>0.00006000000000000001</td>\n",
       "      <td>0.10171330948373313863</td>\n",
       "      <td>0.05317405292310656284</td>\n",
       "    </tr>\n",
       "    <tr>\n",
       "      <th>5</th>\n",
       "      <td>0.00007000000000000001</td>\n",
       "      <td>0.10165681619644022227</td>\n",
       "      <td>0.05304544795563220089</td>\n",
       "    </tr>\n",
       "  </tbody>\n",
       "</table>\n",
       "</div>"
      ],
      "text/plain": [
       "                    alpha                    RMSE                 std dev\n",
       "0  0.00002000000000000000  0.10374771969212891187  0.05411258642713143857\n",
       "1  0.00003000000000000000  0.10270705610990832346  0.05368391098463046185\n",
       "2  0.00004000000000000001  0.10220038620604109114  0.05370041072193709047\n",
       "9  0.00011000000000000002  0.10213374232166674838  0.05261831176011733113\n",
       "8  0.00010000000000000002  0.10193511651245469596  0.05275318709176256976\n",
       "3  0.00005000000000000001  0.10189647610457869265  0.05345745097169644910\n",
       "7  0.00009000000000000002  0.10182289793544806178  0.05288486968079892520\n",
       "6  0.00008000000000000002  0.10171950779699355516  0.05299041662405094139\n",
       "4  0.00006000000000000001  0.10171330948373313863  0.05317405292310656284\n",
       "5  0.00007000000000000001  0.10165681619644022227  0.05304544795563220089"
      ]
     },
     "execution_count": 33,
     "metadata": {},
     "output_type": "execute_result"
    },
    {
     "data": {
      "image/png": "[encoded data removed]",
      "text/plain": [
       "<matplotlib.figure.Figure at 0x7ff935e41090>"
      ]
     },
     "metadata": {},
     "output_type": "display_data"
    }
   ],
   "source": [
    "lassolars_params = {'alpha': np.arange(0.00002, 0.00012, 0.00001).tolist()}\n",
    "lassolars_df = single_search(lassolars_regr, lassolars_params)\n",
    "lassolars_df.plot(x = ['alpha'], y = ['RMSE'])\n",
    "lassolars_df.sort_values(['RMSE'], ascending = False)"
   ]
  },
  {
   "cell_type": "code",
   "execution_count": 34,
   "metadata": {
    "collapsed": true
   },
   "outputs": [],
   "source": [
    "lassolars_regr = linear_model.LassoLars(alpha=0.00007, max_iter=50000)"
   ]
  },
  {
   "cell_type": "code",
   "execution_count": 35,
   "metadata": {
    "collapsed": false
   },
   "outputs": [
    {
     "data": {
      "text/plain": [
       "0.11680158881161026"
      ]
     },
     "execution_count": 35,
     "metadata": {},
     "output_type": "execute_result"
    }
   ],
   "source": [
    "validate(lassolars_regr)"
   ]
  },
  {
   "cell_type": "markdown",
   "metadata": {},
   "source": [
    "## Elastic Net"
   ]
  },
  {
   "cell_type": "code",
   "execution_count": 21,
   "metadata": {
    "collapsed": true
   },
   "outputs": [],
   "source": [
    "elnet_regr = linear_model.ElasticNet(max_iter=15000, random_state=7)"
   ]
  },
  {
   "cell_type": "code",
   "execution_count": 22,
   "metadata": {
    "collapsed": false
   },
   "outputs": [
    {
     "name": "stdout",
     "output_type": "stream",
     "text": [
      "RandomizedSearchCV took 18.35 seconds for 20 candidates parameter settings.\n",
      "Model with rank: 1\n",
      "Mean validation score: -0.010 (std: 0.003)\n",
      "Parameters: {'alpha': 0.00035358233495160607, 'l1_ratio': 0.62445495910857396}\n",
      "\n",
      "Model with rank: 2\n",
      "Mean validation score: -0.010 (std: 0.003)\n",
      "Parameters: {'alpha': 0.00043416833287797363, 'l1_ratio': 0.62470603036294114}\n",
      "\n",
      "Model with rank: 3\n",
      "Mean validation score: -0.010 (std: 0.003)\n",
      "Parameters: {'alpha': 0.00032299893535103926, 'l1_ratio': 0.50461868741903337}\n",
      "\n"
     ]
    }
   ],
   "source": [
    "elnet_param =  {'alpha': scipy.stats.expon(scale=0.001), 'l1_ratio': scipy.stats.truncnorm(0, 1, loc=0.5, scale=0.25)}\n",
    "random_search(elnet_regr, elnet_param, 20)"
   ]
  },
  {
   "cell_type": "code",
   "execution_count": 36,
   "metadata": {
    "collapsed": false
   },
   "outputs": [
    {
     "data": {
      "text/html": [
       "<div>\n",
       "<table border=\"1\" class=\"dataframe\">\n",
       "  <thead>\n",
       "    <tr style=\"text-align: right;\">\n",
       "      <th></th>\n",
       "      <th>alpha</th>\n",
       "      <th>RMSE</th>\n",
       "      <th>std dev</th>\n",
       "    </tr>\n",
       "  </thead>\n",
       "  <tbody>\n",
       "    <tr>\n",
       "      <th>0</th>\n",
       "      <td>0.00010000000000000000</td>\n",
       "      <td>0.10466988782840035144</td>\n",
       "      <td>0.05377250580053252044</td>\n",
       "    </tr>\n",
       "    <tr>\n",
       "      <th>1</th>\n",
       "      <td>0.00020000000000000001</td>\n",
       "      <td>0.10326048026641061750</td>\n",
       "      <td>0.05401852836131185859</td>\n",
       "    </tr>\n",
       "    <tr>\n",
       "      <th>8</th>\n",
       "      <td>0.00090000000000000008</td>\n",
       "      <td>0.10313072232319131505</td>\n",
       "      <td>0.05118811059535075675</td>\n",
       "    </tr>\n",
       "    <tr>\n",
       "      <th>7</th>\n",
       "      <td>0.00080000000000000004</td>\n",
       "      <td>0.10281776943307323335</td>\n",
       "      <td>0.05142412293743517382</td>\n",
       "    </tr>\n",
       "    <tr>\n",
       "      <th>6</th>\n",
       "      <td>0.00070000000000000010</td>\n",
       "      <td>0.10250379685245057659</td>\n",
       "      <td>0.05175669300415524504</td>\n",
       "    </tr>\n",
       "    <tr>\n",
       "      <th>2</th>\n",
       "      <td>0.00030000000000000003</td>\n",
       "      <td>0.10230564763321468857</td>\n",
       "      <td>0.05337334652506264820</td>\n",
       "    </tr>\n",
       "    <tr>\n",
       "      <th>5</th>\n",
       "      <td>0.00060000000000000006</td>\n",
       "      <td>0.10217504697494768362</td>\n",
       "      <td>0.05211407649020021599</td>\n",
       "    </tr>\n",
       "    <tr>\n",
       "      <th>4</th>\n",
       "      <td>0.00050000000000000001</td>\n",
       "      <td>0.10189428762141458651</td>\n",
       "      <td>0.05243180076169059317</td>\n",
       "    </tr>\n",
       "    <tr>\n",
       "      <th>3</th>\n",
       "      <td>0.00040000000000000002</td>\n",
       "      <td>0.10184323097231291755</td>\n",
       "      <td>0.05279955610031008412</td>\n",
       "    </tr>\n",
       "  </tbody>\n",
       "</table>\n",
       "</div>"
      ],
      "text/plain": [
       "                    alpha                    RMSE                 std dev\n",
       "0  0.00010000000000000000  0.10466988782840035144  0.05377250580053252044\n",
       "1  0.00020000000000000001  0.10326048026641061750  0.05401852836131185859\n",
       "8  0.00090000000000000008  0.10313072232319131505  0.05118811059535075675\n",
       "7  0.00080000000000000004  0.10281776943307323335  0.05142412293743517382\n",
       "6  0.00070000000000000010  0.10250379685245057659  0.05175669300415524504\n",
       "2  0.00030000000000000003  0.10230564763321468857  0.05337334652506264820\n",
       "5  0.00060000000000000006  0.10217504697494768362  0.05211407649020021599\n",
       "4  0.00050000000000000001  0.10189428762141458651  0.05243180076169059317\n",
       "3  0.00040000000000000002  0.10184323097231291755  0.05279955610031008412"
      ]
     },
     "execution_count": 36,
     "metadata": {},
     "output_type": "execute_result"
    },
    {
     "data": {
      "image/png": "[encoded data removed]",
      "text/plain": [
       "<matplotlib.figure.Figure at 0x7ff9362609d0>"
      ]
     },
     "metadata": {},
     "output_type": "display_data"
    }
   ],
   "source": [
    "elnet_regr = linear_model.ElasticNet(alpha=0.00038, l1_ratio=0.5, max_iter=15000, random_state=7)\n",
    "elnet_params = {'alpha': np.arange(0.0001, 0.0010, 0.0001).tolist()}\n",
    "elnet_df = single_search(elnet_regr, elnet_params)\n",
    "elnet_df.plot(x = ['alpha'], y = ['RMSE'])\n",
    "elnet_df.sort_values(['RMSE'], ascending = False)"
   ]
  },
  {
   "cell_type": "code",
   "execution_count": 37,
   "metadata": {
    "collapsed": false
   },
   "outputs": [
    {
     "data": {
      "text/html": [
       "<div>\n",
       "<table border=\"1\" class=\"dataframe\">\n",
       "  <thead>\n",
       "    <tr style=\"text-align: right;\">\n",
       "      <th></th>\n",
       "      <th>l1_ratio</th>\n",
       "      <th>RMSE</th>\n",
       "      <th>std dev</th>\n",
       "    </tr>\n",
       "  </thead>\n",
       "  <tbody>\n",
       "    <tr>\n",
       "      <th>0</th>\n",
       "      <td>0.10000000000000000555</td>\n",
       "      <td>0.10441432388581213531</td>\n",
       "      <td>0.05348813671562054062</td>\n",
       "    </tr>\n",
       "    <tr>\n",
       "      <th>1</th>\n",
       "      <td>0.20000000000000001110</td>\n",
       "      <td>0.10346152464539486171</td>\n",
       "      <td>0.05371712493904876040</td>\n",
       "    </tr>\n",
       "    <tr>\n",
       "      <th>2</th>\n",
       "      <td>0.30000000000000004441</td>\n",
       "      <td>0.10265271857124085020</td>\n",
       "      <td>0.05343233380398759724</td>\n",
       "    </tr>\n",
       "    <tr>\n",
       "      <th>8</th>\n",
       "      <td>0.90000000000000002220</td>\n",
       "      <td>0.10260496058354055815</td>\n",
       "      <td>0.05228437429770904643</td>\n",
       "    </tr>\n",
       "    <tr>\n",
       "      <th>7</th>\n",
       "      <td>0.80000000000000004441</td>\n",
       "      <td>0.10226430794461338625</td>\n",
       "      <td>0.05248264236698847729</td>\n",
       "    </tr>\n",
       "    <tr>\n",
       "      <th>3</th>\n",
       "      <td>0.40000000000000002220</td>\n",
       "      <td>0.10214073038708404439</td>\n",
       "      <td>0.05310812616032029032</td>\n",
       "    </tr>\n",
       "    <tr>\n",
       "      <th>6</th>\n",
       "      <td>0.70000000000000006661</td>\n",
       "      <td>0.10200848688456552738</td>\n",
       "      <td>0.05255223581841998032</td>\n",
       "    </tr>\n",
       "    <tr>\n",
       "      <th>5</th>\n",
       "      <td>0.59999999999999997780</td>\n",
       "      <td>0.10184327606997581328</td>\n",
       "      <td>0.05269439763514369157</td>\n",
       "    </tr>\n",
       "    <tr>\n",
       "      <th>4</th>\n",
       "      <td>0.50000000000000000000</td>\n",
       "      <td>0.10184323097231291755</td>\n",
       "      <td>0.05279955610031008412</td>\n",
       "    </tr>\n",
       "  </tbody>\n",
       "</table>\n",
       "</div>"
      ],
      "text/plain": [
       "                 l1_ratio                    RMSE                 std dev\n",
       "0  0.10000000000000000555  0.10441432388581213531  0.05348813671562054062\n",
       "1  0.20000000000000001110  0.10346152464539486171  0.05371712493904876040\n",
       "2  0.30000000000000004441  0.10265271857124085020  0.05343233380398759724\n",
       "8  0.90000000000000002220  0.10260496058354055815  0.05228437429770904643\n",
       "7  0.80000000000000004441  0.10226430794461338625  0.05248264236698847729\n",
       "3  0.40000000000000002220  0.10214073038708404439  0.05310812616032029032\n",
       "6  0.70000000000000006661  0.10200848688456552738  0.05255223581841998032\n",
       "5  0.59999999999999997780  0.10184327606997581328  0.05269439763514369157\n",
       "4  0.50000000000000000000  0.10184323097231291755  0.05279955610031008412"
      ]
     },
     "execution_count": 37,
     "metadata": {},
     "output_type": "execute_result"
    },
    {
     "data": {
      "image/png": "[encoded data removed]",
      "text/plain": [
       "<matplotlib.figure.Figure at 0x7ff936392e90>"
      ]
     },
     "metadata": {},
     "output_type": "display_data"
    }
   ],
   "source": [
    "elnet_regr = linear_model.ElasticNet(alpha=0.0004, max_iter=15000, random_state=7)\n",
    "elnet_params = {'l1_ratio': np.arange(0.1, 1, 0.1).tolist()}\n",
    "elnet_df = single_search(elnet_regr, elnet_params)\n",
    "elnet_df.plot(x = ['l1_ratio'], y = ['RMSE'])\n",
    "elnet_df.sort_values(['RMSE'], ascending = False)"
   ]
  },
  {
   "cell_type": "code",
   "execution_count": 40,
   "metadata": {
    "collapsed": true
   },
   "outputs": [],
   "source": [
    "elnet_regr = linear_model.ElasticNet(alpha=0.0004, l1_ratio=0.55, max_iter=15000, random_state=7)"
   ]
  },
  {
   "cell_type": "code",
   "execution_count": 41,
   "metadata": {
    "collapsed": false
   },
   "outputs": [
    {
     "data": {
      "text/plain": [
       "0.12073617205416871"
      ]
     },
     "execution_count": 41,
     "metadata": {},
     "output_type": "execute_result"
    }
   ],
   "source": [
    "validate(elnet_regr)"
   ]
  },
  {
   "cell_type": "markdown",
   "metadata": {},
   "source": [
    "## Random Forest"
   ]
  },
  {
   "cell_type": "code",
   "execution_count": 24,
   "metadata": {
    "collapsed": true
   },
   "outputs": [],
   "source": [
    "rf_regr = RandomForestRegressor(n_jobs=-1, random_state = 7)"
   ]
  },
  {
   "cell_type": "code",
   "execution_count": 25,
   "metadata": {
    "collapsed": false
   },
   "outputs": [
    {
     "name": "stdout",
     "output_type": "stream",
     "text": [
      "RandomizedSearchCV took 162.12 seconds for 20 candidates parameter settings.\n",
      "Model with rank: 1\n",
      "Mean validation score: -0.014 (std: 0.003)\n",
      "Parameters: {'max_features': 72, 'n_estimators': 282, 'max_depth': 25}\n",
      "\n",
      "Model with rank: 2\n",
      "Mean validation score: -0.014 (std: 0.003)\n",
      "Parameters: {'max_features': 70, 'n_estimators': 352, 'max_depth': 17}\n",
      "\n",
      "Model with rank: 3\n",
      "Mean validation score: -0.014 (std: 0.003)\n",
      "Parameters: {'max_features': 46, 'n_estimators': 289, 'max_depth': 17}\n",
      "\n"
     ]
    }
   ],
   "source": [
    "rf_param =  {'n_estimators': scipy.stats.randint(50,400), 'max_depth': scipy.stats.randint(2,40), \n",
    "             'max_features': scipy.stats.randint(5,80)}\n",
    "random_search(rf_regr, rf_param, 20)"
   ]
  },
  {
   "cell_type": "code",
   "execution_count": 64,
   "metadata": {
    "collapsed": false
   },
   "outputs": [
    {
     "data": {
      "text/html": [
       "<div>\n",
       "<table border=\"1\" class=\"dataframe\">\n",
       "  <thead>\n",
       "    <tr style=\"text-align: right;\">\n",
       "      <th></th>\n",
       "      <th>n_estimators</th>\n",
       "      <th>RMSE</th>\n",
       "      <th>std dev</th>\n",
       "    </tr>\n",
       "  </thead>\n",
       "  <tbody>\n",
       "    <tr>\n",
       "      <th>0</th>\n",
       "      <td>50.0</td>\n",
       "      <td>0.12052795381919016726</td>\n",
       "      <td>0.05594726774489779814</td>\n",
       "    </tr>\n",
       "    <tr>\n",
       "      <th>1</th>\n",
       "      <td>100.0</td>\n",
       "      <td>0.11916286501764296324</td>\n",
       "      <td>0.05428178449016355517</td>\n",
       "    </tr>\n",
       "    <tr>\n",
       "      <th>2</th>\n",
       "      <td>150.0</td>\n",
       "      <td>0.11901574036657040778</td>\n",
       "      <td>0.05434199912361060286</td>\n",
       "    </tr>\n",
       "    <tr>\n",
       "      <th>3</th>\n",
       "      <td>200.0</td>\n",
       "      <td>0.11899647282743061605</td>\n",
       "      <td>0.05431382577925717575</td>\n",
       "    </tr>\n",
       "    <tr>\n",
       "      <th>11</th>\n",
       "      <td>600.0</td>\n",
       "      <td>0.11878123152013692065</td>\n",
       "      <td>0.05466817137953658423</td>\n",
       "    </tr>\n",
       "    <tr>\n",
       "      <th>10</th>\n",
       "      <td>550.0</td>\n",
       "      <td>0.11872252445870284943</td>\n",
       "      <td>0.05451418538502986189</td>\n",
       "    </tr>\n",
       "    <tr>\n",
       "      <th>7</th>\n",
       "      <td>400.0</td>\n",
       "      <td>0.11871672919410827807</td>\n",
       "      <td>0.05469634964345331668</td>\n",
       "    </tr>\n",
       "    <tr>\n",
       "      <th>4</th>\n",
       "      <td>250.0</td>\n",
       "      <td>0.11871037696408996698</td>\n",
       "      <td>0.05416976155895449757</td>\n",
       "    </tr>\n",
       "    <tr>\n",
       "      <th>5</th>\n",
       "      <td>300.0</td>\n",
       "      <td>0.11864325175796218426</td>\n",
       "      <td>0.05433330269589997652</td>\n",
       "    </tr>\n",
       "    <tr>\n",
       "      <th>8</th>\n",
       "      <td>450.0</td>\n",
       "      <td>0.11861659805287434744</td>\n",
       "      <td>0.05460913972698476504</td>\n",
       "    </tr>\n",
       "    <tr>\n",
       "      <th>9</th>\n",
       "      <td>500.0</td>\n",
       "      <td>0.11861005296124499386</td>\n",
       "      <td>0.05474181364205214784</td>\n",
       "    </tr>\n",
       "    <tr>\n",
       "      <th>6</th>\n",
       "      <td>350.0</td>\n",
       "      <td>0.11852405887389512451</td>\n",
       "      <td>0.05456756146583245648</td>\n",
       "    </tr>\n",
       "  </tbody>\n",
       "</table>\n",
       "</div>"
      ],
      "text/plain": [
       "    n_estimators                    RMSE                 std dev\n",
       "0           50.0  0.12052795381919016726  0.05594726774489779814\n",
       "1          100.0  0.11916286501764296324  0.05428178449016355517\n",
       "2          150.0  0.11901574036657040778  0.05434199912361060286\n",
       "3          200.0  0.11899647282743061605  0.05431382577925717575\n",
       "11         600.0  0.11878123152013692065  0.05466817137953658423\n",
       "10         550.0  0.11872252445870284943  0.05451418538502986189\n",
       "7          400.0  0.11871672919410827807  0.05469634964345331668\n",
       "4          250.0  0.11871037696408996698  0.05416976155895449757\n",
       "5          300.0  0.11864325175796218426  0.05433330269589997652\n",
       "8          450.0  0.11861659805287434744  0.05460913972698476504\n",
       "9          500.0  0.11861005296124499386  0.05474181364205214784\n",
       "6          350.0  0.11852405887389512451  0.05456756146583245648"
      ]
     },
     "execution_count": 64,
     "metadata": {},
     "output_type": "execute_result"
    },
    {
     "data": {
      "image/png": "[encoded data removed]",
      "text/plain": [
       "<matplotlib.figure.Figure at 0x7ff935d7e990>"
      ]
     },
     "metadata": {},
     "output_type": "display_data"
    }
   ],
   "source": [
    "rf_regr = RandomForestRegressor(n_estimators = 282, max_depth = 19, max_features = 83, random_state = 7)\n",
    "rf_params = {'n_estimators': np.arange(50, 650, 50).tolist()}\n",
    "rf_df = single_search(rf_regr, rf_params)\n",
    "rf_df.plot(x = ['n_estimators'], y = ['RMSE'])\n",
    "rf_df.sort_values(['RMSE'], ascending = False)"
   ]
  },
  {
   "cell_type": "code",
   "execution_count": 67,
   "metadata": {
    "collapsed": true
   },
   "outputs": [],
   "source": [
    "rf_regr = RandomForestRegressor(n_estimators = 350, max_depth = 19, max_features = 83, random_state = 7)"
   ]
  },
  {
   "cell_type": "code",
   "execution_count": 68,
   "metadata": {
    "collapsed": false
   },
   "outputs": [
    {
     "data": {
      "text/plain": [
       "0.13784234045991373"
      ]
     },
     "execution_count": 68,
     "metadata": {},
     "output_type": "execute_result"
    }
   ],
   "source": [
    "validate(rf_regr)"
   ]
  },
  {
   "cell_type": "markdown",
   "metadata": {},
   "source": [
    "## Support Vector Regressor"
   ]
  },
  {
   "cell_type": "code",
   "execution_count": 26,
   "metadata": {
    "collapsed": true
   },
   "outputs": [],
   "source": [
    "svr_regr = svm.SVR(cache_size=200, degree=3, max_iter=-1, shrinking=True, tol=0.001, verbose=False)"
   ]
  },
  {
   "cell_type": "code",
   "execution_count": 27,
   "metadata": {
    "collapsed": false
   },
   "outputs": [
    {
     "name": "stdout",
     "output_type": "stream",
     "text": [
      "RandomizedSearchCV took 40.02 seconds for 20 candidates parameter settings.\n",
      "Model with rank: 1\n",
      "Mean validation score: -0.013 (std: 0.003)\n",
      "Parameters: {'kernel': 'rbf', 'C': 2.9358211180120493, 'gamma': 0.012065525077584009}\n",
      "\n",
      "Model with rank: 2\n",
      "Mean validation score: -0.016 (std: 0.003)\n",
      "Parameters: {'kernel': 'rbf', 'C': 0.31498347733449839, 'gamma': 0.031206931920776493}\n",
      "\n",
      "Model with rank: 3\n",
      "Mean validation score: -0.018 (std: 0.003)\n",
      "Parameters: {'kernel': 'rbf', 'C': 0.77904200303571836, 'gamma': 0.040352999606096812}\n",
      "\n"
     ]
    }
   ],
   "source": [
    "svr_param = {'C': scipy.stats.expon(scale=1), 'gamma': scipy.stats.expon(scale=.1),\n",
    "              'kernel': ['rbf']}\n",
    "random_search(svr_regr, svr_param, 20)"
   ]
  },
  {
   "cell_type": "code",
   "execution_count": 52,
   "metadata": {
    "collapsed": false
   },
   "outputs": [
    {
     "data": {
      "text/html": [
       "<div>\n",
       "<table border=\"1\" class=\"dataframe\">\n",
       "  <thead>\n",
       "    <tr style=\"text-align: right;\">\n",
       "      <th></th>\n",
       "      <th>C</th>\n",
       "      <th>RMSE</th>\n",
       "      <th>std dev</th>\n",
       "    </tr>\n",
       "  </thead>\n",
       "  <tbody>\n",
       "    <tr>\n",
       "      <th>14</th>\n",
       "      <td>4.90000000000000124345</td>\n",
       "      <td>0.10830190248620419347</td>\n",
       "      <td>0.05026170177977128811</td>\n",
       "    </tr>\n",
       "    <tr>\n",
       "      <th>13</th>\n",
       "      <td>4.80000000000000071054</td>\n",
       "      <td>0.10829099151081894581</td>\n",
       "      <td>0.05023332045429666770</td>\n",
       "    </tr>\n",
       "    <tr>\n",
       "      <th>12</th>\n",
       "      <td>4.70000000000000106581</td>\n",
       "      <td>0.10827288624752626212</td>\n",
       "      <td>0.05016520808082025606</td>\n",
       "    </tr>\n",
       "    <tr>\n",
       "      <th>11</th>\n",
       "      <td>4.60000000000000142109</td>\n",
       "      <td>0.10825957996285219542</td>\n",
       "      <td>0.05012401145621370180</td>\n",
       "    </tr>\n",
       "    <tr>\n",
       "      <th>10</th>\n",
       "      <td>4.50000000000000088818</td>\n",
       "      <td>0.10823375147670935559</td>\n",
       "      <td>0.05004415557117992963</td>\n",
       "    </tr>\n",
       "    <tr>\n",
       "      <th>9</th>\n",
       "      <td>4.40000000000000035527</td>\n",
       "      <td>0.10820964720364141531</td>\n",
       "      <td>0.04998193022133261276</td>\n",
       "    </tr>\n",
       "    <tr>\n",
       "      <th>8</th>\n",
       "      <td>4.30000000000000071054</td>\n",
       "      <td>0.10817841727638895233</td>\n",
       "      <td>0.04994205705008515628</td>\n",
       "    </tr>\n",
       "    <tr>\n",
       "      <th>7</th>\n",
       "      <td>4.20000000000000106581</td>\n",
       "      <td>0.10816317845941648967</td>\n",
       "      <td>0.04989463169293069378</td>\n",
       "    </tr>\n",
       "    <tr>\n",
       "      <th>6</th>\n",
       "      <td>4.10000000000000053291</td>\n",
       "      <td>0.10813645436993160609</td>\n",
       "      <td>0.04982949460420339066</td>\n",
       "    </tr>\n",
       "    <tr>\n",
       "      <th>0</th>\n",
       "      <td>3.50000000000000000000</td>\n",
       "      <td>0.10810077242006609077</td>\n",
       "      <td>0.04981650066505426827</td>\n",
       "    </tr>\n",
       "    <tr>\n",
       "      <th>5</th>\n",
       "      <td>4.00000000000000000000</td>\n",
       "      <td>0.10809945356143692285</td>\n",
       "      <td>0.04978058278418839161</td>\n",
       "    </tr>\n",
       "    <tr>\n",
       "      <th>1</th>\n",
       "      <td>3.60000000000000008882</td>\n",
       "      <td>0.10807752207914998743</td>\n",
       "      <td>0.04979839510400229513</td>\n",
       "    </tr>\n",
       "    <tr>\n",
       "      <th>4</th>\n",
       "      <td>3.90000000000000035527</td>\n",
       "      <td>0.10807663622680388493</td>\n",
       "      <td>0.04976246207764635499</td>\n",
       "    </tr>\n",
       "    <tr>\n",
       "      <th>2</th>\n",
       "      <td>3.70000000000000017764</td>\n",
       "      <td>0.10806951944857370873</td>\n",
       "      <td>0.04976694836028680569</td>\n",
       "    </tr>\n",
       "    <tr>\n",
       "      <th>3</th>\n",
       "      <td>3.80000000000000026645</td>\n",
       "      <td>0.10805673143803964931</td>\n",
       "      <td>0.04974991935565278856</td>\n",
       "    </tr>\n",
       "  </tbody>\n",
       "</table>\n",
       "</div>"
      ],
      "text/plain": [
       "                         C                    RMSE                 std dev\n",
       "14  4.90000000000000124345  0.10830190248620419347  0.05026170177977128811\n",
       "13  4.80000000000000071054  0.10829099151081894581  0.05023332045429666770\n",
       "12  4.70000000000000106581  0.10827288624752626212  0.05016520808082025606\n",
       "11  4.60000000000000142109  0.10825957996285219542  0.05012401145621370180\n",
       "10  4.50000000000000088818  0.10823375147670935559  0.05004415557117992963\n",
       "9   4.40000000000000035527  0.10820964720364141531  0.04998193022133261276\n",
       "8   4.30000000000000071054  0.10817841727638895233  0.04994205705008515628\n",
       "7   4.20000000000000106581  0.10816317845941648967  0.04989463169293069378\n",
       "6   4.10000000000000053291  0.10813645436993160609  0.04982949460420339066\n",
       "0   3.50000000000000000000  0.10810077242006609077  0.04981650066505426827\n",
       "5   4.00000000000000000000  0.10809945356143692285  0.04978058278418839161\n",
       "1   3.60000000000000008882  0.10807752207914998743  0.04979839510400229513\n",
       "4   3.90000000000000035527  0.10807663622680388493  0.04976246207764635499\n",
       "2   3.70000000000000017764  0.10806951944857370873  0.04976694836028680569\n",
       "3   3.80000000000000026645  0.10805673143803964931  0.04974991935565278856"
      ]
     },
     "execution_count": 52,
     "metadata": {},
     "output_type": "execute_result"
    },
    {
     "data": {
      "image/png": "[encoded data removed]",
      "text/plain": [
       "<matplotlib.figure.Figure at 0x7ff935c914d0>"
      ]
     },
     "metadata": {},
     "output_type": "display_data"
    }
   ],
   "source": [
    "svr_regr = svm.SVR(C=2.9, cache_size=200, coef0=0.0, degree=3, gamma=0.005,\n",
    "                        kernel='rbf', max_iter=-1, shrinking=True, tol=0.001, verbose=False)\n",
    "svr_params = {'C': np.arange(3.5, 4.9, 0.1).tolist()}\n",
    "svr_df = single_search(svr_regr, svr_params)\n",
    "svr_df.plot(x = ['C'], y = ['RMSE'])\n",
    "svr_df.sort_values(['RMSE'], ascending = False)"
   ]
  },
  {
   "cell_type": "code",
   "execution_count": 58,
   "metadata": {
    "collapsed": true
   },
   "outputs": [],
   "source": [
    "svr_regr = svm.SVR(C=3.8, cache_size=200, coef0=0.0, degree=3, gamma=0.005,\n",
    "                        kernel='rbf', max_iter=-1, shrinking=True, tol=0.001, verbose=False)"
   ]
  },
  {
   "cell_type": "code",
   "execution_count": 59,
   "metadata": {
    "collapsed": false
   },
   "outputs": [
    {
     "data": {
      "text/plain": [
       "0.12738584699951028"
      ]
     },
     "execution_count": 59,
     "metadata": {},
     "output_type": "execute_result"
    }
   ],
   "source": [
    "validate(svr_regr)"
   ]
  },
  {
   "cell_type": "markdown",
   "metadata": {},
   "source": [
    "## Orthogonal Matching Pursuit"
   ]
  },
  {
   "cell_type": "code",
   "execution_count": 28,
   "metadata": {
    "collapsed": true
   },
   "outputs": [],
   "source": [
    "omp_regr = linear_model.OrthogonalMatchingPursuit()"
   ]
  },
  {
   "cell_type": "code",
   "execution_count": 29,
   "metadata": {
    "collapsed": false
   },
   "outputs": [
    {
     "name": "stdout",
     "output_type": "stream",
     "text": [
      "RandomizedSearchCV took 4.32 seconds for 20 candidates parameter settings.\n",
      "Model with rank: 1\n",
      "Mean validation score: -0.012 (std: 0.003)\n",
      "Parameters: {'n_nonzero_coefs': 98}\n",
      "\n",
      "Model with rank: 2\n",
      "Mean validation score: -0.012 (std: 0.003)\n",
      "Parameters: {'n_nonzero_coefs': 99}\n",
      "\n",
      "Model with rank: 3\n",
      "Mean validation score: -0.012 (std: 0.003)\n",
      "Parameters: {'n_nonzero_coefs': 106}\n",
      "\n"
     ]
    }
   ],
   "source": [
    "omp_param = {'n_nonzero_coefs': scipy.stats.randint(20,120)}\n",
    "random_search(omp_regr, omp_param, 20)"
   ]
  },
  {
   "cell_type": "code",
   "execution_count": 50,
   "metadata": {
    "collapsed": false
   },
   "outputs": [
    {
     "data": {
      "text/html": [
       "<div>\n",
       "<table border=\"1\" class=\"dataframe\">\n",
       "  <thead>\n",
       "    <tr style=\"text-align: right;\">\n",
       "      <th></th>\n",
       "      <th>n_nonzero_coefs</th>\n",
       "      <th>RMSE</th>\n",
       "      <th>std dev</th>\n",
       "    </tr>\n",
       "  </thead>\n",
       "  <tbody>\n",
       "    <tr>\n",
       "      <th>4</th>\n",
       "      <td>94.0</td>\n",
       "      <td>0.10985282407165070095</td>\n",
       "      <td>0.05534818101623038139</td>\n",
       "    </tr>\n",
       "    <tr>\n",
       "      <th>5</th>\n",
       "      <td>95.0</td>\n",
       "      <td>0.10970749994566754426</td>\n",
       "      <td>0.05500333587321945550</td>\n",
       "    </tr>\n",
       "    <tr>\n",
       "      <th>6</th>\n",
       "      <td>96.0</td>\n",
       "      <td>0.10962815345710832937</td>\n",
       "      <td>0.05468297208038691570</td>\n",
       "    </tr>\n",
       "    <tr>\n",
       "      <th>0</th>\n",
       "      <td>90.0</td>\n",
       "      <td>0.10959246076339962395</td>\n",
       "      <td>0.05580525156802912390</td>\n",
       "    </tr>\n",
       "    <tr>\n",
       "      <th>1</th>\n",
       "      <td>91.0</td>\n",
       "      <td>0.10956395006212514553</td>\n",
       "      <td>0.05483665231673771207</td>\n",
       "    </tr>\n",
       "    <tr>\n",
       "      <th>19</th>\n",
       "      <td>109.0</td>\n",
       "      <td>0.10945478236249374382</td>\n",
       "      <td>0.05361864002380221927</td>\n",
       "    </tr>\n",
       "    <tr>\n",
       "      <th>18</th>\n",
       "      <td>108.0</td>\n",
       "      <td>0.10937748692662832561</td>\n",
       "      <td>0.05305138582112080975</td>\n",
       "    </tr>\n",
       "    <tr>\n",
       "      <th>3</th>\n",
       "      <td>93.0</td>\n",
       "      <td>0.10936164694162861521</td>\n",
       "      <td>0.05512499536285215412</td>\n",
       "    </tr>\n",
       "    <tr>\n",
       "      <th>20</th>\n",
       "      <td>110.0</td>\n",
       "      <td>0.10933834891104278475</td>\n",
       "      <td>0.05330707614962705565</td>\n",
       "    </tr>\n",
       "    <tr>\n",
       "      <th>16</th>\n",
       "      <td>106.0</td>\n",
       "      <td>0.10933601678099787169</td>\n",
       "      <td>0.05312308424688637343</td>\n",
       "    </tr>\n",
       "    <tr>\n",
       "      <th>7</th>\n",
       "      <td>97.0</td>\n",
       "      <td>0.10931118155585985152</td>\n",
       "      <td>0.05472685262567827252</td>\n",
       "    </tr>\n",
       "    <tr>\n",
       "      <th>17</th>\n",
       "      <td>107.0</td>\n",
       "      <td>0.10929077484547669585</td>\n",
       "      <td>0.05304878561360591022</td>\n",
       "    </tr>\n",
       "    <tr>\n",
       "      <th>9</th>\n",
       "      <td>99.0</td>\n",
       "      <td>0.10928568739986498082</td>\n",
       "      <td>0.05358198385144945924</td>\n",
       "    </tr>\n",
       "    <tr>\n",
       "      <th>2</th>\n",
       "      <td>92.0</td>\n",
       "      <td>0.10927180204297164134</td>\n",
       "      <td>0.05454537100776976621</td>\n",
       "    </tr>\n",
       "    <tr>\n",
       "      <th>8</th>\n",
       "      <td>98.0</td>\n",
       "      <td>0.10924429497175335013</td>\n",
       "      <td>0.05409173789678268368</td>\n",
       "    </tr>\n",
       "    <tr>\n",
       "      <th>11</th>\n",
       "      <td>101.0</td>\n",
       "      <td>0.10923299081122189724</td>\n",
       "      <td>0.05365744030335387049</td>\n",
       "    </tr>\n",
       "    <tr>\n",
       "      <th>15</th>\n",
       "      <td>105.0</td>\n",
       "      <td>0.10920781696640628755</td>\n",
       "      <td>0.05286257018367187394</td>\n",
       "    </tr>\n",
       "    <tr>\n",
       "      <th>14</th>\n",
       "      <td>104.0</td>\n",
       "      <td>0.10920256260229510570</td>\n",
       "      <td>0.05283231558795965094</td>\n",
       "    </tr>\n",
       "    <tr>\n",
       "      <th>10</th>\n",
       "      <td>100.0</td>\n",
       "      <td>0.10919826351784306384</td>\n",
       "      <td>0.05375620841758523699</td>\n",
       "    </tr>\n",
       "    <tr>\n",
       "      <th>12</th>\n",
       "      <td>102.0</td>\n",
       "      <td>0.10913942608560556202</td>\n",
       "      <td>0.05333732490546902461</td>\n",
       "    </tr>\n",
       "    <tr>\n",
       "      <th>13</th>\n",
       "      <td>103.0</td>\n",
       "      <td>0.10898788046305862842</td>\n",
       "      <td>0.05303622436034741844</td>\n",
       "    </tr>\n",
       "  </tbody>\n",
       "</table>\n",
       "</div>"
      ],
      "text/plain": [
       "    n_nonzero_coefs                    RMSE                 std dev\n",
       "4              94.0  0.10985282407165070095  0.05534818101623038139\n",
       "5              95.0  0.10970749994566754426  0.05500333587321945550\n",
       "6              96.0  0.10962815345710832937  0.05468297208038691570\n",
       "0              90.0  0.10959246076339962395  0.05580525156802912390\n",
       "1              91.0  0.10956395006212514553  0.05483665231673771207\n",
       "19            109.0  0.10945478236249374382  0.05361864002380221927\n",
       "18            108.0  0.10937748692662832561  0.05305138582112080975\n",
       "3              93.0  0.10936164694162861521  0.05512499536285215412\n",
       "20            110.0  0.10933834891104278475  0.05330707614962705565\n",
       "16            106.0  0.10933601678099787169  0.05312308424688637343\n",
       "7              97.0  0.10931118155585985152  0.05472685262567827252\n",
       "17            107.0  0.10929077484547669585  0.05304878561360591022\n",
       "9              99.0  0.10928568739986498082  0.05358198385144945924\n",
       "2              92.0  0.10927180204297164134  0.05454537100776976621\n",
       "8              98.0  0.10924429497175335013  0.05409173789678268368\n",
       "11            101.0  0.10923299081122189724  0.05365744030335387049\n",
       "15            105.0  0.10920781696640628755  0.05286257018367187394\n",
       "14            104.0  0.10920256260229510570  0.05283231558795965094\n",
       "10            100.0  0.10919826351784306384  0.05375620841758523699\n",
       "12            102.0  0.10913942608560556202  0.05333732490546902461\n",
       "13            103.0  0.10898788046305862842  0.05303622436034741844"
      ]
     },
     "execution_count": 50,
     "metadata": {},
     "output_type": "execute_result"
    },
    {
     "data": {
      "image/png": "[encoded data removed]",
      "text/plain": [
       "<matplotlib.figure.Figure at 0x7ff935d23a10>"
      ]
     },
     "metadata": {},
     "output_type": "display_data"
    }
   ],
   "source": [
    "omp_regr = linear_model.OrthogonalMatchingPursuit(n_nonzero_coefs=55)\n",
    "omp_params = {'n_nonzero_coefs': np.arange(90, 111, 1).tolist()}\n",
    "omp_df = single_search(omp_regr, omp_params)\n",
    "omp_df.plot(x = ['n_nonzero_coefs'], y = ['RMSE'])\n",
    "omp_df.sort_values(['RMSE'], ascending = False)"
   ]
  },
  {
   "cell_type": "code",
   "execution_count": 53,
   "metadata": {
    "collapsed": true
   },
   "outputs": [],
   "source": [
    "omp_regr = linear_model.OrthogonalMatchingPursuit(n_nonzero_coefs=103)"
   ]
  },
  {
   "cell_type": "code",
   "execution_count": 54,
   "metadata": {
    "collapsed": false
   },
   "outputs": [
    {
     "data": {
      "text/plain": [
       "0.12368609556938975"
      ]
     },
     "execution_count": 54,
     "metadata": {},
     "output_type": "execute_result"
    }
   ],
   "source": [
    "validate(omp_regr)"
   ]
  },
  {
   "cell_type": "markdown",
   "metadata": {},
   "source": [
    "## XGBoost"
   ]
  },
  {
   "cell_type": "code",
   "execution_count": 45,
   "metadata": {
    "collapsed": false
   },
   "outputs": [
    {
     "name": "stdout",
     "output_type": "stream",
     "text": [
      "RandomizedSearchCV took 5021.72 seconds for 20 candidates parameter settings.\n",
      "Model with rank: 1\n",
      "Mean validation score: -0.013 (std: 0.003)\n",
      "Parameters: {'reg_alpha': 0.93437948135833582, 'colsample_bytree': 0.91600274153535732, 'learning_rate': 0.10658997895523015, 'min_child_weight': 0.48062647193618369, 'n_estimators': 299, 'subsample': 0.69132483911540499, 'reg_lambda': 0.24253401997381116, 'max_depth': 6, 'gamma': 0.041041090589041998}\n",
      "\n",
      "Model with rank: 2\n",
      "Mean validation score: -0.014 (std: 0.003)\n",
      "Parameters: {'reg_alpha': 1.0044327713225565, 'colsample_bytree': 0.67181981052187989, 'learning_rate': 0.43762731690551115, 'min_child_weight': 0.18571227811455351, 'n_estimators': 398, 'subsample': 0.92138542155004866, 'reg_lambda': 0.22932298516296787, 'max_depth': 2, 'gamma': 0.0034341580129753483}\n",
      "\n",
      "Model with rank: 3\n",
      "Mean validation score: -0.014 (std: 0.003)\n",
      "Parameters: {'reg_alpha': 0.44193498461644987, 'colsample_bytree': 0.93185176462135622, 'learning_rate': 0.57595598771850653, 'min_child_weight': 2.7997328433272788, 'n_estimators': 469, 'subsample': 0.55641957776024265, 'reg_lambda': 0.27038251729646051, 'max_depth': 1, 'gamma': 0.033611835265005531}\n",
      "\n"
     ]
    }
   ],
   "source": [
    "xgb_regr = xgb.XGBRegressor(seed = 42, nthread = -1, silent = 1)\n",
    "xgb_param = {'max_depth': scipy.stats.randint(1,10), # Max. Depth [1,∞]\n",
    "             'min_child_weight': scipy.stats.expon(scale=1), # Min. Child Weight [0,∞]\n",
    "             'gamma': scipy.stats.expon(scale=1), # Minimum Split Loss, gamma [0,∞]\n",
    "             'subsample': scipy.stats.uniform(0, 1), # Subsample Ratio of the training instance [0,1]\n",
    "             'colsample_bytree': scipy.stats.uniform(0, 1), # Subsample Ratio of columns [0,1]\n",
    "             'reg_alpha': scipy.stats.expon(scale=1), # L1 regularization, alpha [0,∞]\n",
    "             'reg_lambda': scipy.stats.expon(scale=1), # L2 regularization, lambda [0,∞]\n",
    "             'learning_rate': scipy.stats.uniform(0, 1), # Step size shrinkage (learning rate) [0,1]\n",
    "             'n_estimators': scipy.stats.randint(50,500) # Number of boosted trees, n_estimators\n",
    "            }\n",
    "random_search(xgb_regr, xgb_param, 20)"
   ]
  },
  {
   "cell_type": "code",
   "execution_count": 83,
   "metadata": {
    "collapsed": false
   },
   "outputs": [
    {
     "data": {
      "text/html": [
       "<div>\n",
       "<table border=\"1\" class=\"dataframe\">\n",
       "  <thead>\n",
       "    <tr style=\"text-align: right;\">\n",
       "      <th></th>\n",
       "      <th>n_estimators</th>\n",
       "      <th>RMSE</th>\n",
       "      <th>std dev</th>\n",
       "    </tr>\n",
       "  </thead>\n",
       "  <tbody>\n",
       "    <tr>\n",
       "      <th>0</th>\n",
       "      <td>100.0</td>\n",
       "      <td>0.11462330377929823289</td>\n",
       "      <td>0.04915070756958286879</td>\n",
       "    </tr>\n",
       "    <tr>\n",
       "      <th>1</th>\n",
       "      <td>200.0</td>\n",
       "      <td>0.10972012468792714801</td>\n",
       "      <td>0.05031727018880762653</td>\n",
       "    </tr>\n",
       "    <tr>\n",
       "      <th>2</th>\n",
       "      <td>300.0</td>\n",
       "      <td>0.10890189878445676042</td>\n",
       "      <td>0.04989894036478966649</td>\n",
       "    </tr>\n",
       "    <tr>\n",
       "      <th>7</th>\n",
       "      <td>800.0</td>\n",
       "      <td>0.10867870664544546089</td>\n",
       "      <td>0.05044131732027800491</td>\n",
       "    </tr>\n",
       "    <tr>\n",
       "      <th>9</th>\n",
       "      <td>1000.0</td>\n",
       "      <td>0.10861796484488082937</td>\n",
       "      <td>0.05064486657449034090</td>\n",
       "    </tr>\n",
       "    <tr>\n",
       "      <th>10</th>\n",
       "      <td>1100.0</td>\n",
       "      <td>0.10861596831673517305</td>\n",
       "      <td>0.05048399176798183674</td>\n",
       "    </tr>\n",
       "    <tr>\n",
       "      <th>6</th>\n",
       "      <td>700.0</td>\n",
       "      <td>0.10859456870497045944</td>\n",
       "      <td>0.05040856488916398148</td>\n",
       "    </tr>\n",
       "    <tr>\n",
       "      <th>8</th>\n",
       "      <td>900.0</td>\n",
       "      <td>0.10858824460526167455</td>\n",
       "      <td>0.05059852244431121970</td>\n",
       "    </tr>\n",
       "    <tr>\n",
       "      <th>13</th>\n",
       "      <td>1400.0</td>\n",
       "      <td>0.10857894737193234114</td>\n",
       "      <td>0.05055201116924955274</td>\n",
       "    </tr>\n",
       "    <tr>\n",
       "      <th>14</th>\n",
       "      <td>1500.0</td>\n",
       "      <td>0.10857641824334934855</td>\n",
       "      <td>0.05063370438373894500</td>\n",
       "    </tr>\n",
       "    <tr>\n",
       "      <th>5</th>\n",
       "      <td>600.0</td>\n",
       "      <td>0.10856786324852349401</td>\n",
       "      <td>0.05054144417087785834</td>\n",
       "    </tr>\n",
       "    <tr>\n",
       "      <th>12</th>\n",
       "      <td>1300.0</td>\n",
       "      <td>0.10856608477582732619</td>\n",
       "      <td>0.05053511250582295999</td>\n",
       "    </tr>\n",
       "    <tr>\n",
       "      <th>4</th>\n",
       "      <td>500.0</td>\n",
       "      <td>0.10854235535015788194</td>\n",
       "      <td>0.05029544440243036152</td>\n",
       "    </tr>\n",
       "    <tr>\n",
       "      <th>3</th>\n",
       "      <td>400.0</td>\n",
       "      <td>0.10854131497124744343</td>\n",
       "      <td>0.05032980950027234751</td>\n",
       "    </tr>\n",
       "    <tr>\n",
       "      <th>11</th>\n",
       "      <td>1200.0</td>\n",
       "      <td>0.10851271282168106769</td>\n",
       "      <td>0.05042072400034777052</td>\n",
       "    </tr>\n",
       "  </tbody>\n",
       "</table>\n",
       "</div>"
      ],
      "text/plain": [
       "    n_estimators                    RMSE                 std dev\n",
       "0          100.0  0.11462330377929823289  0.04915070756958286879\n",
       "1          200.0  0.10972012468792714801  0.05031727018880762653\n",
       "2          300.0  0.10890189878445676042  0.04989894036478966649\n",
       "7          800.0  0.10867870664544546089  0.05044131732027800491\n",
       "9         1000.0  0.10861796484488082937  0.05064486657449034090\n",
       "10        1100.0  0.10861596831673517305  0.05048399176798183674\n",
       "6          700.0  0.10859456870497045944  0.05040856488916398148\n",
       "8          900.0  0.10858824460526167455  0.05059852244431121970\n",
       "13        1400.0  0.10857894737193234114  0.05055201116924955274\n",
       "14        1500.0  0.10857641824334934855  0.05063370438373894500\n",
       "5          600.0  0.10856786324852349401  0.05054144417087785834\n",
       "12        1300.0  0.10856608477582732619  0.05053511250582295999\n",
       "4          500.0  0.10854235535015788194  0.05029544440243036152\n",
       "3          400.0  0.10854131497124744343  0.05032980950027234751\n",
       "11        1200.0  0.10851271282168106769  0.05042072400034777052"
      ]
     },
     "execution_count": 83,
     "metadata": {},
     "output_type": "execute_result"
    },
    {
     "data": {
      "image/png": "[encoded data removed]",
      "text/plain": [
       "<matplotlib.figure.Figure at 0x7ff9345b5a50>"
      ]
     },
     "metadata": {},
     "output_type": "display_data"
    }
   ],
   "source": [
    "xgb_regr = xgb.XGBRegressor(\n",
    "    max_depth = 3, \n",
    "    min_child_weight = 4.1,\n",
    "    gamma = 0.01,\n",
    "    subsample = 0.8,\n",
    "    colsample_bytree = 0.4,\n",
    "    reg_alpha = 0.9,\n",
    "    reg_lambda = 0.2, \n",
    "    learning_rate = 0.09,\n",
    "    n_estimators = 299,\n",
    "    objective='reg:linear', \n",
    "    seed = 42,\n",
    "    nthread = -1,\n",
    "    silent = 1)\n",
    "xgb_params = {'n_estimators': np.arange(100, 1600, 100).tolist()}\n",
    "xgb_df = single_search(xgb_regr, xgb_params)\n",
    "xgb_df.plot(x = ['n_estimators'], y = ['RMSE'])\n",
    "xgb_df.sort_values(['RMSE'], ascending = False)"
   ]
  },
  {
   "cell_type": "code",
   "execution_count": 84,
   "metadata": {
    "collapsed": true
   },
   "outputs": [],
   "source": [
    "xgb_regr = xgb.XGBRegressor(\n",
    "    max_depth = 3, \n",
    "    min_child_weight = 4.1,\n",
    "    gamma = 0.01,\n",
    "    subsample = 0.8,\n",
    "    colsample_bytree = 0.4,\n",
    "    reg_alpha = 0.9,\n",
    "    reg_lambda = 0.2, \n",
    "    learning_rate = 0.09,\n",
    "    n_estimators = 1200,\n",
    "    objective='reg:linear', \n",
    "    seed = 42,\n",
    "    nthread = -1,\n",
    "    silent = 1)"
   ]
  },
  {
   "cell_type": "code",
   "execution_count": 85,
   "metadata": {
    "collapsed": false
   },
   "outputs": [
    {
     "data": {
      "text/plain": [
       "0.12525802497078753"
      ]
     },
     "execution_count": 85,
     "metadata": {},
     "output_type": "execute_result"
    }
   ],
   "source": [
    "validate(xgb_regr)"
   ]
  },
  {
   "cell_type": "markdown",
   "metadata": {},
   "source": [
    "## MLP Regressor"
   ]
  },
  {
   "cell_type": "code",
   "execution_count": 46,
   "metadata": {
    "collapsed": true
   },
   "outputs": [],
   "source": [
    "mlp_regr = MLPRegressor(activation='relu', solver='lbfgs', random_state=641,\n",
    "                        hidden_layer_sizes=(100, ),\n",
    "                        alpha=0.0001, \n",
    "                        tol=0.0001, \n",
    "                        max_iter=200)"
   ]
  },
  {
   "cell_type": "code",
   "execution_count": 47,
   "metadata": {
    "collapsed": false
   },
   "outputs": [
    {
     "name": "stdout",
     "output_type": "stream",
     "text": [
      "RandomizedSearchCV took 997.54 seconds for 20 candidates parameter settings.\n",
      "Model with rank: 1\n",
      "Mean validation score: -0.018 (std: 0.003)\n",
      "Parameters: {'alpha': 4.5692733753639631e-05, 'max_iter': 324.11804582367563, 'tol': 0.00011508295819844777, 'hidden_layer_sizes': 488}\n",
      "\n",
      "Model with rank: 2\n",
      "Mean validation score: -0.018 (std: 0.004)\n",
      "Parameters: {'alpha': 2.6813332939469843e-05, 'max_iter': 225.71295440865825, 'tol': 9.6945198060351351e-05, 'hidden_layer_sizes': 357}\n",
      "\n",
      "Model with rank: 3\n",
      "Mean validation score: -0.018 (std: 0.004)\n",
      "Parameters: {'alpha': 0.0003232343237252024, 'max_iter': 381.27327444085256, 'tol': 0.00010351945698829497, 'hidden_layer_sizes': 139}\n",
      "\n"
     ]
    }
   ],
   "source": [
    "mlp_regr = MLPRegressor(activation='relu', solver='lbfgs', random_state=641)\n",
    "mlp_param = {'hidden_layer_sizes': scipy.stats.randint(50,500), # size of a single hidden layer\n",
    "             'alpha': scipy.stats.expon(scale=0.0001), # L2 regularization,  [0,∞]\n",
    "             'tol': scipy.stats.expon(scale=0.0001), # Minimum improvement in loss fun. during training\n",
    "             'max_iter': scipy.stats.uniform(200, 400), # Maximum number of iterations of solver\n",
    "            }\n",
    "random_search(mlp_regr, mlp_param, 20)"
   ]
  },
  {
   "cell_type": "code",
   "execution_count": 78,
   "metadata": {
    "collapsed": false
   },
   "outputs": [
    {
     "data": {
      "text/html": [
       "<div>\n",
       "<table border=\"1\" class=\"dataframe\">\n",
       "  <thead>\n",
       "    <tr style=\"text-align: right;\">\n",
       "      <th></th>\n",
       "      <th>max_iter</th>\n",
       "      <th>RMSE</th>\n",
       "      <th>std dev</th>\n",
       "    </tr>\n",
       "  </thead>\n",
       "  <tbody>\n",
       "    <tr>\n",
       "      <th>0</th>\n",
       "      <td>25.0</td>\n",
       "      <td>0.19809633302661502907</td>\n",
       "      <td>0.08127726686779657150</td>\n",
       "    </tr>\n",
       "    <tr>\n",
       "      <th>1</th>\n",
       "      <td>50.0</td>\n",
       "      <td>0.13806192677344544806</td>\n",
       "      <td>0.06553850481000694783</td>\n",
       "    </tr>\n",
       "    <tr>\n",
       "      <th>2</th>\n",
       "      <td>75.0</td>\n",
       "      <td>0.12444580232730502456</td>\n",
       "      <td>0.05900707538283974513</td>\n",
       "    </tr>\n",
       "    <tr>\n",
       "      <th>3</th>\n",
       "      <td>100.0</td>\n",
       "      <td>0.11871848015191668879</td>\n",
       "      <td>0.05592552794591888060</td>\n",
       "    </tr>\n",
       "    <tr>\n",
       "      <th>4</th>\n",
       "      <td>125.0</td>\n",
       "      <td>0.11534332125764790167</td>\n",
       "      <td>0.05214983818875869315</td>\n",
       "    </tr>\n",
       "    <tr>\n",
       "      <th>5</th>\n",
       "      <td>150.0</td>\n",
       "      <td>0.11363232870693999732</td>\n",
       "      <td>0.05173978300922766477</td>\n",
       "    </tr>\n",
       "    <tr>\n",
       "      <th>6</th>\n",
       "      <td>175.0</td>\n",
       "      <td>0.11318626550212178283</td>\n",
       "      <td>0.05384312614712433859</td>\n",
       "    </tr>\n",
       "    <tr>\n",
       "      <th>8</th>\n",
       "      <td>225.0</td>\n",
       "      <td>0.11291487224314963878</td>\n",
       "      <td>0.05449100634572365265</td>\n",
       "    </tr>\n",
       "    <tr>\n",
       "      <th>10</th>\n",
       "      <td>275.0</td>\n",
       "      <td>0.11284717195754484509</td>\n",
       "      <td>0.05233017556124983094</td>\n",
       "    </tr>\n",
       "    <tr>\n",
       "      <th>9</th>\n",
       "      <td>250.0</td>\n",
       "      <td>0.11283757709938492531</td>\n",
       "      <td>0.05390712319539366082</td>\n",
       "    </tr>\n",
       "    <tr>\n",
       "      <th>7</th>\n",
       "      <td>200.0</td>\n",
       "      <td>0.11275876314390666233</td>\n",
       "      <td>0.05394475305502679369</td>\n",
       "    </tr>\n",
       "    <tr>\n",
       "      <th>11</th>\n",
       "      <td>300.0</td>\n",
       "      <td>0.11243258764820775186</td>\n",
       "      <td>0.05231844909113436692</td>\n",
       "    </tr>\n",
       "    <tr>\n",
       "      <th>12</th>\n",
       "      <td>325.0</td>\n",
       "      <td>0.11177680078479251824</td>\n",
       "      <td>0.05099678564422051308</td>\n",
       "    </tr>\n",
       "    <tr>\n",
       "      <th>13</th>\n",
       "      <td>350.0</td>\n",
       "      <td>0.11167559002382243527</td>\n",
       "      <td>0.05243561059181379991</td>\n",
       "    </tr>\n",
       "    <tr>\n",
       "      <th>14</th>\n",
       "      <td>375.0</td>\n",
       "      <td>0.11159050016264239480</td>\n",
       "      <td>0.05238008016701469621</td>\n",
       "    </tr>\n",
       "    <tr>\n",
       "      <th>15</th>\n",
       "      <td>400.0</td>\n",
       "      <td>0.11158699865739470092</td>\n",
       "      <td>0.05242924885072676455</td>\n",
       "    </tr>\n",
       "  </tbody>\n",
       "</table>\n",
       "</div>"
      ],
      "text/plain": [
       "    max_iter                    RMSE                 std dev\n",
       "0       25.0  0.19809633302661502907  0.08127726686779657150\n",
       "1       50.0  0.13806192677344544806  0.06553850481000694783\n",
       "2       75.0  0.12444580232730502456  0.05900707538283974513\n",
       "3      100.0  0.11871848015191668879  0.05592552794591888060\n",
       "4      125.0  0.11534332125764790167  0.05214983818875869315\n",
       "5      150.0  0.11363232870693999732  0.05173978300922766477\n",
       "6      175.0  0.11318626550212178283  0.05384312614712433859\n",
       "8      225.0  0.11291487224314963878  0.05449100634572365265\n",
       "10     275.0  0.11284717195754484509  0.05233017556124983094\n",
       "9      250.0  0.11283757709938492531  0.05390712319539366082\n",
       "7      200.0  0.11275876314390666233  0.05394475305502679369\n",
       "11     300.0  0.11243258764820775186  0.05231844909113436692\n",
       "12     325.0  0.11177680078479251824  0.05099678564422051308\n",
       "13     350.0  0.11167559002382243527  0.05243561059181379991\n",
       "14     375.0  0.11159050016264239480  0.05238008016701469621\n",
       "15     400.0  0.11158699865739470092  0.05242924885072676455"
      ]
     },
     "execution_count": 78,
     "metadata": {},
     "output_type": "execute_result"
    },
    {
     "data": {
      "image/png": "[encoded data removed]",
      "text/plain": [
       "<matplotlib.figure.Figure at 0x7ff9344ab150>"
      ]
     },
     "metadata": {},
     "output_type": "display_data"
    }
   ],
   "source": [
    "mlp_regr = MLPRegressor(activation='relu', solver='lbfgs', random_state=641,\n",
    "                        hidden_layer_sizes=(2, ),\n",
    "                        alpha=0.00005, \n",
    "                        tol=0.00012, \n",
    "                        max_iter=324)\n",
    "mlp_params = {'max_iter': np.arange(25, 425, 25).tolist()}\n",
    "mlp_df = single_search(mlp_regr, mlp_params)\n",
    "mlp_df.plot(x = ['max_iter'], y = ['RMSE'])\n",
    "mlp_df.sort_values(['RMSE'], ascending = False)"
   ]
  },
  {
   "cell_type": "code",
   "execution_count": 80,
   "metadata": {
    "collapsed": true
   },
   "outputs": [],
   "source": [
    "mlp_regr = MLPRegressor(activation='relu', solver='lbfgs', random_state=641,\n",
    "                        hidden_layer_sizes=(2, ),\n",
    "                        alpha=0.00005, \n",
    "                        tol=0.00012, \n",
    "                        max_iter=400)"
   ]
  },
  {
   "cell_type": "code",
   "execution_count": 81,
   "metadata": {
    "collapsed": false
   },
   "outputs": [
    {
     "data": {
      "text/plain": [
       "0.12692074514128873"
      ]
     },
     "execution_count": 81,
     "metadata": {},
     "output_type": "execute_result"
    }
   ],
   "source": [
    "validate(mlp_regr)"
   ]
  },
  {
   "cell_type": "code",
   "execution_count": null,
   "metadata": {
    "collapsed": true
   },
   "outputs": [],
   "source": []
  }
 ],
 "metadata": {
  "kernelspec": {
   "display_name": "Python 2",
   "language": "python",
   "name": "python2"
  },
  "language_info": {
   "codemirror_mode": {
    "name": "ipython",
    "version": 2
   },
   "file_extension": ".py",
   "mimetype": "text/x-python",
   "name": "python",
   "nbconvert_exporter": "python",
   "pygments_lexer": "ipython2",
   "version": "2.7.13"
  }
 },
 "nbformat": 4,
 "nbformat_minor": 2
}
