{
 "cells": [
  {
   "cell_type": "markdown",
   "metadata": {},
   "source": [
    "# Modeling 111001011 - drop features"
   ]
  },
  {
   "cell_type": "markdown",
   "metadata": {},
   "source": [
    "In this notebook, we're specifically working on the dataset formed by dropping (31, 496, 524, 917, 1183, 1299) with the features ('LogGrLivArea', 'GrLivArea', 'TotalHouseArea', 'AreasSum') dropped."
   ]
  },
  {
   "cell_type": "code",
   "execution_count": 1,
   "metadata": {
    "collapsed": true
   },
   "outputs": [],
   "source": [
    "import itertools\n",
    "import numpy as np\n",
    "import pandas as pd\n",
    "import scipy\n",
    "from scipy import optimize\n",
    "\n",
    "pd.set_option('display.precision',20)\n",
    "pd.set_option('display.max_colwidth',100)\n",
    "\n",
    "from sklearn import linear_model, svm, tree\n",
    "from sklearn.metrics import mean_squared_error\n",
    "from sklearn.ensemble import RandomForestRegressor\n",
    "from sklearn.model_selection import train_test_split, cross_val_predict, KFold, cross_val_score, \\\n",
    "                                    GridSearchCV, RandomizedSearchCV, ShuffleSplit\n",
    "from sklearn.neural_network import MLPRegressor\n",
    "    \n",
    "    \n",
    "    \n",
    "import xgboost as xgb\n",
    "\n",
    "from time import time\n",
    "from scipy.stats import randint as sp_randint\n",
    "\n",
    "import matplotlib.pylab as plt\n",
    "from matplotlib.pylab import rcParams\n",
    "from matplotlib import pyplot\n",
    "rcParams['figure.figsize'] = 12, 4\n",
    "%matplotlib inline"
   ]
  },
  {
   "cell_type": "code",
   "execution_count": 2,
   "metadata": {
    "collapsed": true
   },
   "outputs": [],
   "source": [
    "# def to compare goodness of fit on training set\n",
    "def rmse(y_true, y_pred):\n",
    "    return np.sqrt(mean_squared_error(y_true, y_pred))"
   ]
  },
  {
   "cell_type": "code",
   "execution_count": 3,
   "metadata": {
    "collapsed": true
   },
   "outputs": [],
   "source": [
    "# Utility function to report best scores\n",
    "def report(results, n_top=3):\n",
    "    for i in range(1, n_top + 1):\n",
    "        candidates = np.flatnonzero(results['rank_test_score'] == i)\n",
    "        for candidate in candidates:\n",
    "            print(\"Model with rank: {0}\".format(i))\n",
    "            print(\"Mean validation score: {0:.3f} (std: {1:.3f})\".format(\n",
    "                  results['mean_test_score'][candidate],\n",
    "                  results['std_test_score'][candidate]))\n",
    "            print(\"Parameters: {0}\".format(results['params'][candidate]))\n",
    "            print(\"\")"
   ]
  },
  {
   "cell_type": "code",
   "execution_count": 4,
   "metadata": {
    "collapsed": true
   },
   "outputs": [],
   "source": [
    "# run randomized search\n",
    "def random_search(regr, param_dist, n_iter_search): \n",
    "    rs = RandomizedSearchCV(regr, param_distributions=param_dist, scoring = 'neg_mean_squared_error',\n",
    "                                   n_jobs=-1, n_iter=n_iter_search, cv=kfold) #, verbose = 4)\n",
    "    start = time()\n",
    "    rs.fit(x_train, y_train)\n",
    "    print(\"RandomizedSearchCV took %.2f seconds for %d candidates\"\n",
    "      \" parameter settings.\" % ((time() - start), n_iter_search))\n",
    "    report(rs.cv_results_)"
   ]
  },
  {
   "cell_type": "code",
   "execution_count": 5,
   "metadata": {
    "collapsed": true
   },
   "outputs": [],
   "source": [
    "# run single parameter search (for ridge or lasso)\n",
    "def single_search(regr, params):\n",
    "    regr_results_df = pd.DataFrame(dtype = 'float64')\n",
    "    count = 0\n",
    "    for k, v in params.items():\n",
    "        for val in v:\n",
    "            regr.set_params(**{k: val})\n",
    "            regr_results_df.loc[count, k] = val\n",
    "            results = cross_val_score(regr, x_train, y_train, cv=kfold, scoring = 'neg_mean_squared_error')\n",
    "            (regr_results_df.loc[count, 'RMSE'], regr_results_df.loc[count, 'std dev']) = \\\n",
    "                    (np.sqrt(-results.mean()), np.sqrt(results.std()))\n",
    "            count += 1\n",
    "    return regr_results_df"
   ]
  },
  {
   "cell_type": "code",
   "execution_count": 6,
   "metadata": {
    "collapsed": true
   },
   "outputs": [],
   "source": [
    "# test against validation set\n",
    "def validate(regr):\n",
    "    regr.fit(x_train, y_train)\n",
    "    y_pred = regr.predict(x_validation)\n",
    "    return rmse(y_validation, y_pred)"
   ]
  },
  {
   "cell_type": "code",
   "execution_count": 7,
   "metadata": {
    "collapsed": true
   },
   "outputs": [],
   "source": [
    "# Cross-validation sets\n",
    "kfold = KFold(n_splits=10, random_state=7)"
   ]
  },
  {
   "cell_type": "code",
   "execution_count": 8,
   "metadata": {
    "collapsed": true
   },
   "outputs": [],
   "source": [
    "df = pd.read_csv(\"./input/train_tidy_111001011.csv\")\n",
    "df.drop(['LogGrLivArea', 'GrLivArea', 'TotalHouseArea', 'AreasSum'], axis=1, inplace=True)"
   ]
  },
  {
   "cell_type": "code",
   "execution_count": 9,
   "metadata": {
    "collapsed": false
   },
   "outputs": [],
   "source": [
    "ss = ShuffleSplit(n_splits=1, test_size=0.20, random_state=71)\n",
    "\n",
    "X = df.values\n",
    "\n",
    "for train_idx, validation_idx in ss.split(X):\n",
    "    train_df = df.iloc[train_idx]\n",
    "    validation_df = df.iloc[validation_idx]\n",
    "    \n",
    "y_validation = validation_df['SalePrice'].values\n",
    "x_validation = validation_df.drop(['HouseId', 'SalePrice', 'GarageAge', 'GarageAgeLin'],axis=1).values\n",
    "y_train = train_df['SalePrice'].values\n",
    "x_train = train_df.drop(['HouseId', 'SalePrice', 'GarageAge', 'GarageAgeLin'],axis=1).values"
   ]
  },
  {
   "cell_type": "markdown",
   "metadata": {},
   "source": [
    "## Ridge regression"
   ]
  },
  {
   "cell_type": "code",
   "execution_count": 10,
   "metadata": {
    "collapsed": true
   },
   "outputs": [],
   "source": [
    "ridge_regr = linear_model.Ridge()"
   ]
  },
  {
   "cell_type": "code",
   "execution_count": 11,
   "metadata": {
    "collapsed": false
   },
   "outputs": [
    {
     "name": "stdout",
     "output_type": "stream",
     "text": [
      "RandomizedSearchCV took 4.14 seconds for 20 candidates parameter settings.\n",
      "Model with rank: 1\n",
      "Mean validation score: -0.012 (std: 0.004)\n",
      "Parameters: {'alpha': 7.0843854750719801}\n",
      "\n",
      "Model with rank: 2\n",
      "Mean validation score: -0.012 (std: 0.004)\n",
      "Parameters: {'alpha': 6.7366274201383503}\n",
      "\n",
      "Model with rank: 3\n",
      "Mean validation score: -0.012 (std: 0.004)\n",
      "Parameters: {'alpha': 12.072096727116401}\n",
      "\n"
     ]
    }
   ],
   "source": [
    "ridge_param = {'alpha': scipy.stats.expon(scale=10)}\n",
    "random_search(ridge_regr, ridge_param, 20)"
   ]
  },
  {
   "cell_type": "code",
   "execution_count": 12,
   "metadata": {
    "collapsed": false
   },
   "outputs": [
    {
     "data": {
      "text/html": [
       "<div>\n",
       "<table border=\"1\" class=\"dataframe\">\n",
       "  <thead>\n",
       "    <tr style=\"text-align: right;\">\n",
       "      <th></th>\n",
       "      <th>alpha</th>\n",
       "      <th>RMSE</th>\n",
       "      <th>std dev</th>\n",
       "    </tr>\n",
       "  </thead>\n",
       "  <tbody>\n",
       "    <tr>\n",
       "      <th>0</th>\n",
       "      <td>1.0</td>\n",
       "      <td>0.11487178277813338279</td>\n",
       "      <td>0.06419544229461715545</td>\n",
       "    </tr>\n",
       "    <tr>\n",
       "      <th>1</th>\n",
       "      <td>2.0</td>\n",
       "      <td>0.11296992013784562525</td>\n",
       "      <td>0.06399755926899612646</td>\n",
       "    </tr>\n",
       "    <tr>\n",
       "      <th>2</th>\n",
       "      <td>3.0</td>\n",
       "      <td>0.11197644235991319195</td>\n",
       "      <td>0.06377843246580387759</td>\n",
       "    </tr>\n",
       "    <tr>\n",
       "      <th>3</th>\n",
       "      <td>4.0</td>\n",
       "      <td>0.11135128770368829532</td>\n",
       "      <td>0.06360887387690317141</td>\n",
       "    </tr>\n",
       "    <tr>\n",
       "      <th>4</th>\n",
       "      <td>5.0</td>\n",
       "      <td>0.11093310923731056206</td>\n",
       "      <td>0.06347973264869662124</td>\n",
       "    </tr>\n",
       "    <tr>\n",
       "      <th>5</th>\n",
       "      <td>6.0</td>\n",
       "      <td>0.11064837271350175252</td>\n",
       "      <td>0.06337997889795141115</td>\n",
       "    </tr>\n",
       "    <tr>\n",
       "      <th>6</th>\n",
       "      <td>7.0</td>\n",
       "      <td>0.11045656586597370208</td>\n",
       "      <td>0.06330160887543456738</td>\n",
       "    </tr>\n",
       "    <tr>\n",
       "      <th>13</th>\n",
       "      <td>14.0</td>\n",
       "      <td>0.11037167428247253442</td>\n",
       "      <td>0.06303420652307138716</td>\n",
       "    </tr>\n",
       "    <tr>\n",
       "      <th>7</th>\n",
       "      <td>8.0</td>\n",
       "      <td>0.11033283755951237004</td>\n",
       "      <td>0.06323903754987730830</td>\n",
       "    </tr>\n",
       "    <tr>\n",
       "      <th>12</th>\n",
       "      <td>13.0</td>\n",
       "      <td>0.11030518279829230888</td>\n",
       "      <td>0.06305658265464419987</td>\n",
       "    </tr>\n",
       "    <tr>\n",
       "      <th>8</th>\n",
       "      <td>9.0</td>\n",
       "      <td>0.11026083190713702187</td>\n",
       "      <td>0.06318831072386828229</td>\n",
       "    </tr>\n",
       "    <tr>\n",
       "      <th>11</th>\n",
       "      <td>12.0</td>\n",
       "      <td>0.11025672376587790369</td>\n",
       "      <td>0.06308210094552224589</td>\n",
       "    </tr>\n",
       "    <tr>\n",
       "      <th>10</th>\n",
       "      <td>11.0</td>\n",
       "      <td>0.11022987148517367217</td>\n",
       "      <td>0.06311169267744433375</td>\n",
       "    </tr>\n",
       "    <tr>\n",
       "      <th>9</th>\n",
       "      <td>10.0</td>\n",
       "      <td>0.11022922574093965697</td>\n",
       "      <td>0.06314656683368080614</td>\n",
       "    </tr>\n",
       "  </tbody>\n",
       "</table>\n",
       "</div>"
      ],
      "text/plain": [
       "    alpha                    RMSE                 std dev\n",
       "0     1.0  0.11487178277813338279  0.06419544229461715545\n",
       "1     2.0  0.11296992013784562525  0.06399755926899612646\n",
       "2     3.0  0.11197644235991319195  0.06377843246580387759\n",
       "3     4.0  0.11135128770368829532  0.06360887387690317141\n",
       "4     5.0  0.11093310923731056206  0.06347973264869662124\n",
       "5     6.0  0.11064837271350175252  0.06337997889795141115\n",
       "6     7.0  0.11045656586597370208  0.06330160887543456738\n",
       "13   14.0  0.11037167428247253442  0.06303420652307138716\n",
       "7     8.0  0.11033283755951237004  0.06323903754987730830\n",
       "12   13.0  0.11030518279829230888  0.06305658265464419987\n",
       "8     9.0  0.11026083190713702187  0.06318831072386828229\n",
       "11   12.0  0.11025672376587790369  0.06308210094552224589\n",
       "10   11.0  0.11022987148517367217  0.06311169267744433375\n",
       "9    10.0  0.11022922574093965697  0.06314656683368080614"
      ]
     },
     "execution_count": 12,
     "metadata": {},
     "output_type": "execute_result"
    },
    {
     "data": {
      "image/png": "[encoded data removed]",
      "text/plain": [
       "<matplotlib.figure.Figure at 0x7efbce182b50>"
      ]
     },
     "metadata": {},
     "output_type": "display_data"
    }
   ],
   "source": [
    "ridge_params = {'alpha': np.arange(1, 15, 1).tolist()}\n",
    "ridge_df = single_search(ridge_regr, ridge_params)\n",
    "ridge_df.plot(x = ['alpha'], y = ['RMSE'])\n",
    "ridge_df.sort_values(['RMSE'], ascending = False)"
   ]
  },
  {
   "cell_type": "code",
   "execution_count": 13,
   "metadata": {
    "collapsed": true
   },
   "outputs": [],
   "source": [
    "ridge_regr = linear_model.Ridge(alpha = 10)"
   ]
  },
  {
   "cell_type": "code",
   "execution_count": 14,
   "metadata": {
    "collapsed": false
   },
   "outputs": [
    {
     "data": {
      "text/plain": [
       "0.11070767131297345"
      ]
     },
     "execution_count": 14,
     "metadata": {},
     "output_type": "execute_result"
    }
   ],
   "source": [
    "validate(ridge_regr)"
   ]
  },
  {
   "cell_type": "markdown",
   "metadata": {},
   "source": [
    "## Lasso"
   ]
  },
  {
   "cell_type": "code",
   "execution_count": 12,
   "metadata": {
    "collapsed": true
   },
   "outputs": [],
   "source": [
    "lasso_regr = linear_model.Lasso(max_iter=50000)"
   ]
  },
  {
   "cell_type": "code",
   "execution_count": 13,
   "metadata": {
    "collapsed": false
   },
   "outputs": [
    {
     "name": "stdout",
     "output_type": "stream",
     "text": [
      "RandomizedSearchCV took 20.85 seconds for 20 candidates parameter settings.\n",
      "Model with rank: 1\n",
      "Mean validation score: -0.012 (std: 0.004)\n",
      "Parameters: {'alpha': 0.00027274926882741885}\n",
      "\n",
      "Model with rank: 2\n",
      "Mean validation score: -0.012 (std: 0.004)\n",
      "Parameters: {'alpha': 0.00037682978531351075}\n",
      "\n",
      "Model with rank: 3\n",
      "Mean validation score: -0.012 (std: 0.004)\n",
      "Parameters: {'alpha': 0.00037874401674326062}\n",
      "\n"
     ]
    }
   ],
   "source": [
    "lasso_param = {'alpha': scipy.stats.expon(scale=0.001)}\n",
    "random_search(lasso_regr, lasso_param, 20)"
   ]
  },
  {
   "cell_type": "code",
   "execution_count": 27,
   "metadata": {
    "collapsed": false
   },
   "outputs": [
    {
     "data": {
      "text/html": [
       "<div>\n",
       "<table border=\"1\" class=\"dataframe\">\n",
       "  <thead>\n",
       "    <tr style=\"text-align: right;\">\n",
       "      <th></th>\n",
       "      <th>alpha</th>\n",
       "      <th>RMSE</th>\n",
       "      <th>std dev</th>\n",
       "    </tr>\n",
       "  </thead>\n",
       "  <tbody>\n",
       "    <tr>\n",
       "      <th>0</th>\n",
       "      <td>0.00010000000000000000</td>\n",
       "      <td>0.11305028680432099852</td>\n",
       "      <td>0.06478229425153293752</td>\n",
       "    </tr>\n",
       "    <tr>\n",
       "      <th>5</th>\n",
       "      <td>0.00060000000000000006</td>\n",
       "      <td>0.10999563848557580847</td>\n",
       "      <td>0.06356001385233701895</td>\n",
       "    </tr>\n",
       "    <tr>\n",
       "      <th>1</th>\n",
       "      <td>0.00020000000000000001</td>\n",
       "      <td>0.10984448622509347671</td>\n",
       "      <td>0.06408093973182399372</td>\n",
       "    </tr>\n",
       "    <tr>\n",
       "      <th>4</th>\n",
       "      <td>0.00050000000000000001</td>\n",
       "      <td>0.10957581591559435730</td>\n",
       "      <td>0.06339008624309465378</td>\n",
       "    </tr>\n",
       "    <tr>\n",
       "      <th>3</th>\n",
       "      <td>0.00040000000000000002</td>\n",
       "      <td>0.10936106403055412262</td>\n",
       "      <td>0.06341986147012759756</td>\n",
       "    </tr>\n",
       "    <tr>\n",
       "      <th>2</th>\n",
       "      <td>0.00030000000000000003</td>\n",
       "      <td>0.10925875594011522085</td>\n",
       "      <td>0.06359108164159600618</td>\n",
       "    </tr>\n",
       "  </tbody>\n",
       "</table>\n",
       "</div>"
      ],
      "text/plain": [
       "                    alpha                    RMSE                 std dev\n",
       "0  0.00010000000000000000  0.11305028680432099852  0.06478229425153293752\n",
       "5  0.00060000000000000006  0.10999563848557580847  0.06356001385233701895\n",
       "1  0.00020000000000000001  0.10984448622509347671  0.06408093973182399372\n",
       "4  0.00050000000000000001  0.10957581591559435730  0.06339008624309465378\n",
       "3  0.00040000000000000002  0.10936106403055412262  0.06341986147012759756\n",
       "2  0.00030000000000000003  0.10925875594011522085  0.06359108164159600618"
      ]
     },
     "execution_count": 27,
     "metadata": {},
     "output_type": "execute_result"
    },
    {
     "data": {
      "image/png": "[encoded data removed]",
      "text/plain": [
       "<matplotlib.figure.Figure at 0x7f35c1db9f50>"
      ]
     },
     "metadata": {},
     "output_type": "display_data"
    }
   ],
   "source": [
    "lasso_params = {'alpha': np.arange(0.0001, 0.0007, 0.0001).tolist()}\n",
    "lasso_df = single_search(lasso_regr, lasso_params)\n",
    "lasso_df.plot(x = ['alpha'], y = ['RMSE'])\n",
    "lasso_df.sort_values(['RMSE'], ascending = False)"
   ]
  },
  {
   "cell_type": "code",
   "execution_count": 28,
   "metadata": {
    "collapsed": true
   },
   "outputs": [],
   "source": [
    "lasso_regr = linear_model.Lasso(alpha=0.0003, max_iter=50000)"
   ]
  },
  {
   "cell_type": "code",
   "execution_count": 29,
   "metadata": {
    "collapsed": false
   },
   "outputs": [
    {
     "data": {
      "text/plain": [
       "0.10648875969900122"
      ]
     },
     "execution_count": 29,
     "metadata": {},
     "output_type": "execute_result"
    }
   ],
   "source": [
    "validate(lasso_regr)"
   ]
  },
  {
   "cell_type": "markdown",
   "metadata": {},
   "source": [
    "## Lasso LARS"
   ]
  },
  {
   "cell_type": "code",
   "execution_count": 14,
   "metadata": {
    "collapsed": true
   },
   "outputs": [],
   "source": [
    "lassolars_regr = linear_model.LassoLars(max_iter=50000)"
   ]
  },
  {
   "cell_type": "code",
   "execution_count": 15,
   "metadata": {
    "collapsed": false
   },
   "outputs": [
    {
     "name": "stderr",
     "output_type": "stream",
     "text": [
      "/usr/lib64/python2.7/site-packages/sklearn/linear_model/least_angle.py:309: ConvergenceWarning: Regressors in active set degenerate. Dropping a regressor, after 245 iterations, i.e. alpha=2.331e-05, with an active set of 195 regressors, and the smallest cholesky pivot element being 2.788e-08\n",
      "  ConvergenceWarning)\n",
      "/usr/lib64/python2.7/site-packages/sklearn/linear_model/least_angle.py:309: ConvergenceWarning: Regressors in active set degenerate. Dropping a regressor, after 202 iterations, i.e. alpha=4.208e-05, with an active set of 156 regressors, and the smallest cholesky pivot element being 1.490e-08\n",
      "  ConvergenceWarning)\n",
      "/usr/lib64/python2.7/site-packages/sklearn/linear_model/least_angle.py:309: ConvergenceWarning: Regressors in active set degenerate. Dropping a regressor, after 283 iterations, i.e. alpha=1.172e-05, with an active set of 215 regressors, and the smallest cholesky pivot element being 2.980e-08\n",
      "  ConvergenceWarning)\n",
      "/usr/lib64/python2.7/site-packages/sklearn/linear_model/least_angle.py:309: ConvergenceWarning: Regressors in active set degenerate. Dropping a regressor, after 216 iterations, i.e. alpha=3.762e-05, with an active set of 168 regressors, and the smallest cholesky pivot element being 3.332e-08\n",
      "  ConvergenceWarning)\n",
      "/usr/lib64/python2.7/site-packages/sklearn/linear_model/least_angle.py:309: ConvergenceWarning: Regressors in active set degenerate. Dropping a regressor, after 295 iterations, i.e. alpha=1.107e-05, with an active set of 219 regressors, and the smallest cholesky pivot element being 6.495e-08\n",
      "  ConvergenceWarning)\n",
      "/usr/lib64/python2.7/site-packages/sklearn/linear_model/least_angle.py:334: ConvergenceWarning: Early stopping the lars path, as the residues are small and the current value of alpha is no longer well controlled. 303 iterations, alpha=9.657e-06, previous alpha=9.654e-06, with an active set of 222 regressors.\n",
      "  ConvergenceWarning)\n",
      "/usr/lib64/python2.7/site-packages/sklearn/linear_model/least_angle.py:309: ConvergenceWarning: Regressors in active set degenerate. Dropping a regressor, after 243 iterations, i.e. alpha=1.779e-05, with an active set of 197 regressors, and the smallest cholesky pivot element being 4.470e-08\n",
      "  ConvergenceWarning)\n",
      "/usr/lib64/python2.7/site-packages/sklearn/linear_model/least_angle.py:309: ConvergenceWarning: Regressors in active set degenerate. Dropping a regressor, after 262 iterations, i.e. alpha=1.854e-05, with an active set of 202 regressors, and the smallest cholesky pivot element being 6.747e-08\n",
      "  ConvergenceWarning)\n",
      "/usr/lib64/python2.7/site-packages/sklearn/linear_model/least_angle.py:309: ConvergenceWarning: Regressors in active set degenerate. Dropping a regressor, after 327 iterations, i.e. alpha=5.875e-06, with an active set of 235 regressors, and the smallest cholesky pivot element being 2.107e-08\n",
      "  ConvergenceWarning)\n",
      "/usr/lib64/python2.7/site-packages/sklearn/linear_model/least_angle.py:334: ConvergenceWarning: Early stopping the lars path, as the residues are small and the current value of alpha is no longer well controlled. 264 iterations, alpha=1.826e-05, previous alpha=1.821e-05, with an active set of 203 regressors.\n",
      "  ConvergenceWarning)\n",
      "/usr/lib64/python2.7/site-packages/sklearn/linear_model/least_angle.py:334: ConvergenceWarning: Early stopping the lars path, as the residues are small and the current value of alpha is no longer well controlled. 329 iterations, alpha=5.858e-06, previous alpha=5.706e-06, with an active set of 236 regressors.\n",
      "  ConvergenceWarning)\n",
      "/usr/lib64/python2.7/site-packages/sklearn/linear_model/least_angle.py:309: ConvergenceWarning: Regressors in active set degenerate. Dropping a regressor, after 96 iterations, i.e. alpha=1.502e-04, with an active set of 84 regressors, and the smallest cholesky pivot element being 1.490e-08\n",
      "  ConvergenceWarning)\n",
      "/usr/lib64/python2.7/site-packages/sklearn/linear_model/least_angle.py:309: ConvergenceWarning: Regressors in active set degenerate. Dropping a regressor, after 113 iterations, i.e. alpha=1.143e-04, with an active set of 95 regressors, and the smallest cholesky pivot element being 2.581e-08\n",
      "  ConvergenceWarning)\n",
      "/usr/lib64/python2.7/site-packages/sklearn/linear_model/least_angle.py:309: ConvergenceWarning: Regressors in active set degenerate. Dropping a regressor, after 114 iterations, i.e. alpha=1.137e-04, with an active set of 96 regressors, and the smallest cholesky pivot element being 2.581e-08\n",
      "  ConvergenceWarning)\n",
      "/usr/lib64/python2.7/site-packages/sklearn/linear_model/least_angle.py:334: ConvergenceWarning: Early stopping the lars path, as the residues are small and the current value of alpha is no longer well controlled. 122 iterations, alpha=1.077e-04, previous alpha=1.072e-04, with an active set of 103 regressors.\n",
      "  ConvergenceWarning)\n",
      "/usr/lib64/python2.7/site-packages/sklearn/linear_model/least_angle.py:309: ConvergenceWarning: Regressors in active set degenerate. Dropping a regressor, after 308 iterations, i.e. alpha=5.605e-06, with an active set of 236 regressors, and the smallest cholesky pivot element being 2.788e-08\n",
      "  ConvergenceWarning)\n",
      "/usr/lib64/python2.7/site-packages/sklearn/linear_model/least_angle.py:309: ConvergenceWarning: Regressors in active set degenerate. Dropping a regressor, after 252 iterations, i.e. alpha=1.895e-05, with an active set of 198 regressors, and the smallest cholesky pivot element being 2.220e-16\n",
      "  ConvergenceWarning)\n",
      "/usr/lib64/python2.7/site-packages/sklearn/linear_model/least_angle.py:309: ConvergenceWarning: Regressors in active set degenerate. Dropping a regressor, after 255 iterations, i.e. alpha=1.865e-05, with an active set of 201 regressors, and the smallest cholesky pivot element being 2.220e-16\n",
      "  ConvergenceWarning)\n",
      "/usr/lib64/python2.7/site-packages/sklearn/linear_model/least_angle.py:309: ConvergenceWarning: Regressors in active set degenerate. Dropping a regressor, after 258 iterations, i.e. alpha=1.773e-05, with an active set of 202 regressors, and the smallest cholesky pivot element being 3.650e-08\n",
      "  ConvergenceWarning)\n",
      "/usr/lib64/python2.7/site-packages/sklearn/linear_model/least_angle.py:334: ConvergenceWarning: Early stopping the lars path, as the residues are small and the current value of alpha is no longer well controlled. 264 iterations, alpha=1.620e-05, previous alpha=1.612e-05, with an active set of 207 regressors.\n",
      "  ConvergenceWarning)\n",
      "/usr/lib64/python2.7/site-packages/sklearn/linear_model/least_angle.py:309: ConvergenceWarning: Regressors in active set degenerate. Dropping a regressor, after 245 iterations, i.e. alpha=2.404e-05, with an active set of 195 regressors, and the smallest cholesky pivot element being 2.220e-16\n",
      "  ConvergenceWarning)\n",
      "/usr/lib64/python2.7/site-packages/sklearn/linear_model/least_angle.py:309: ConvergenceWarning: Regressors in active set degenerate. Dropping a regressor, after 262 iterations, i.e. alpha=1.793e-05, with an active set of 200 regressors, and the smallest cholesky pivot element being 1.054e-08\n",
      "  ConvergenceWarning)\n",
      "/usr/lib64/python2.7/site-packages/sklearn/linear_model/least_angle.py:309: ConvergenceWarning: Regressors in active set degenerate. Dropping a regressor, after 280 iterations, i.e. alpha=1.342e-05, with an active set of 212 regressors, and the smallest cholesky pivot element being 1.054e-08\n",
      "  ConvergenceWarning)\n",
      "/usr/lib64/python2.7/site-packages/sklearn/linear_model/least_angle.py:334: ConvergenceWarning: Early stopping the lars path, as the residues are small and the current value of alpha is no longer well controlled. 320 iterations, alpha=7.573e-06, previous alpha=7.274e-06, with an active set of 229 regressors.\n",
      "  ConvergenceWarning)\n",
      "/usr/lib64/python2.7/site-packages/sklearn/linear_model/least_angle.py:334: ConvergenceWarning: Early stopping the lars path, as the residues are small and the current value of alpha is no longer well controlled. 341 iterations, alpha=3.086e-05, previous alpha=6.345e-06, with an active set of 232 regressors.\n",
      "  ConvergenceWarning)\n",
      "/usr/lib64/python2.7/site-packages/sklearn/linear_model/least_angle.py:309: ConvergenceWarning: Regressors in active set degenerate. Dropping a regressor, after 96 iterations, i.e. alpha=1.502e-04, with an active set of 84 regressors, and the smallest cholesky pivot element being 1.490e-08\n",
      "  ConvergenceWarning)\n",
      "/usr/lib64/python2.7/site-packages/sklearn/linear_model/least_angle.py:309: ConvergenceWarning: Regressors in active set degenerate. Dropping a regressor, after 283 iterations, i.e. alpha=7.531e-06, with an active set of 223 regressors, and the smallest cholesky pivot element being 2.980e-08\n",
      "  ConvergenceWarning)\n",
      "/usr/lib64/python2.7/site-packages/sklearn/linear_model/least_angle.py:309: ConvergenceWarning: Regressors in active set degenerate. Dropping a regressor, after 285 iterations, i.e. alpha=7.320e-06, with an active set of 225 regressors, and the smallest cholesky pivot element being 2.980e-08\n",
      "  ConvergenceWarning)\n",
      "/usr/lib64/python2.7/site-packages/sklearn/linear_model/least_angle.py:309: ConvergenceWarning: Regressors in active set degenerate. Dropping a regressor, after 113 iterations, i.e. alpha=1.143e-04, with an active set of 95 regressors, and the smallest cholesky pivot element being 2.581e-08\n",
      "  ConvergenceWarning)\n",
      "/usr/lib64/python2.7/site-packages/sklearn/linear_model/least_angle.py:309: ConvergenceWarning: Regressors in active set degenerate. Dropping a regressor, after 114 iterations, i.e. alpha=1.137e-04, with an active set of 96 regressors, and the smallest cholesky pivot element being 2.581e-08\n",
      "  ConvergenceWarning)\n",
      "/usr/lib64/python2.7/site-packages/sklearn/linear_model/least_angle.py:309: ConvergenceWarning: Regressors in active set degenerate. Dropping a regressor, after 294 iterations, i.e. alpha=6.569e-06, with an active set of 230 regressors, and the smallest cholesky pivot element being 2.107e-08\n",
      "  ConvergenceWarning)\n",
      "/usr/lib64/python2.7/site-packages/sklearn/linear_model/least_angle.py:334: ConvergenceWarning: Early stopping the lars path, as the residues are small and the current value of alpha is no longer well controlled. 295 iterations, alpha=6.568e-06, previous alpha=6.473e-06, with an active set of 230 regressors.\n",
      "  ConvergenceWarning)\n",
      "/usr/lib64/python2.7/site-packages/sklearn/linear_model/least_angle.py:334: ConvergenceWarning: Early stopping the lars path, as the residues are small and the current value of alpha is no longer well controlled. 122 iterations, alpha=1.077e-04, previous alpha=1.072e-04, with an active set of 103 regressors.\n",
      "  ConvergenceWarning)\n",
      "/usr/lib64/python2.7/site-packages/sklearn/linear_model/least_angle.py:309: ConvergenceWarning: Regressors in active set degenerate. Dropping a regressor, after 96 iterations, i.e. alpha=1.502e-04, with an active set of 84 regressors, and the smallest cholesky pivot element being 1.490e-08\n",
      "  ConvergenceWarning)\n",
      "/usr/lib64/python2.7/site-packages/sklearn/linear_model/least_angle.py:309: ConvergenceWarning: Regressors in active set degenerate. Dropping a regressor, after 113 iterations, i.e. alpha=1.143e-04, with an active set of 95 regressors, and the smallest cholesky pivot element being 2.581e-08\n",
      "  ConvergenceWarning)\n",
      "/usr/lib64/python2.7/site-packages/sklearn/linear_model/least_angle.py:309: ConvergenceWarning: Regressors in active set degenerate. Dropping a regressor, after 114 iterations, i.e. alpha=1.137e-04, with an active set of 96 regressors, and the smallest cholesky pivot element being 2.581e-08\n",
      "  ConvergenceWarning)\n",
      "/usr/lib64/python2.7/site-packages/sklearn/linear_model/least_angle.py:334: ConvergenceWarning: Early stopping the lars path, as the residues are small and the current value of alpha is no longer well controlled. 122 iterations, alpha=1.077e-04, previous alpha=1.072e-04, with an active set of 103 regressors.\n",
      "  ConvergenceWarning)\n",
      "/usr/lib64/python2.7/site-packages/sklearn/linear_model/least_angle.py:309: ConvergenceWarning: Regressors in active set degenerate. Dropping a regressor, after 252 iterations, i.e. alpha=1.895e-05, with an active set of 198 regressors, and the smallest cholesky pivot element being 2.220e-16\n",
      "  ConvergenceWarning)\n",
      "/usr/lib64/python2.7/site-packages/sklearn/linear_model/least_angle.py:309: ConvergenceWarning: Regressors in active set degenerate. Dropping a regressor, after 255 iterations, i.e. alpha=1.865e-05, with an active set of 201 regressors, and the smallest cholesky pivot element being 2.220e-16\n",
      "  ConvergenceWarning)\n",
      "/usr/lib64/python2.7/site-packages/sklearn/linear_model/least_angle.py:309: ConvergenceWarning: Regressors in active set degenerate. Dropping a regressor, after 258 iterations, i.e. alpha=1.773e-05, with an active set of 202 regressors, and the smallest cholesky pivot element being 3.650e-08\n",
      "  ConvergenceWarning)\n",
      "/usr/lib64/python2.7/site-packages/sklearn/linear_model/least_angle.py:334: ConvergenceWarning: Early stopping the lars path, as the residues are small and the current value of alpha is no longer well controlled. 264 iterations, alpha=1.620e-05, previous alpha=1.612e-05, with an active set of 207 regressors.\n",
      "  ConvergenceWarning)\n",
      "/usr/lib64/python2.7/site-packages/sklearn/linear_model/least_angle.py:309: ConvergenceWarning: Regressors in active set degenerate. Dropping a regressor, after 262 iterations, i.e. alpha=1.793e-05, with an active set of 200 regressors, and the smallest cholesky pivot element being 1.054e-08\n",
      "  ConvergenceWarning)\n",
      "/usr/lib64/python2.7/site-packages/sklearn/linear_model/least_angle.py:309: ConvergenceWarning: Regressors in active set degenerate. Dropping a regressor, after 280 iterations, i.e. alpha=1.342e-05, with an active set of 212 regressors, and the smallest cholesky pivot element being 1.054e-08\n",
      "  ConvergenceWarning)\n",
      "/usr/lib64/python2.7/site-packages/sklearn/linear_model/least_angle.py:309: ConvergenceWarning: Regressors in active set degenerate. Dropping a regressor, after 202 iterations, i.e. alpha=4.208e-05, with an active set of 156 regressors, and the smallest cholesky pivot element being 1.490e-08\n",
      "  ConvergenceWarning)\n",
      "/usr/lib64/python2.7/site-packages/sklearn/linear_model/least_angle.py:309: ConvergenceWarning: Regressors in active set degenerate. Dropping a regressor, after 243 iterations, i.e. alpha=1.779e-05, with an active set of 197 regressors, and the smallest cholesky pivot element being 4.470e-08\n",
      "  ConvergenceWarning)\n",
      "/usr/lib64/python2.7/site-packages/sklearn/linear_model/least_angle.py:309: ConvergenceWarning: Regressors in active set degenerate. Dropping a regressor, after 216 iterations, i.e. alpha=3.762e-05, with an active set of 168 regressors, and the smallest cholesky pivot element being 3.332e-08\n",
      "  ConvergenceWarning)\n",
      "/usr/lib64/python2.7/site-packages/sklearn/linear_model/least_angle.py:309: ConvergenceWarning: Regressors in active set degenerate. Dropping a regressor, after 262 iterations, i.e. alpha=1.854e-05, with an active set of 202 regressors, and the smallest cholesky pivot element being 6.747e-08\n",
      "  ConvergenceWarning)\n",
      "/usr/lib64/python2.7/site-packages/sklearn/linear_model/least_angle.py:334: ConvergenceWarning: Early stopping the lars path, as the residues are small and the current value of alpha is no longer well controlled. 264 iterations, alpha=1.826e-05, previous alpha=1.821e-05, with an active set of 203 regressors.\n",
      "  ConvergenceWarning)\n",
      "/usr/lib64/python2.7/site-packages/sklearn/linear_model/least_angle.py:309: ConvergenceWarning: Regressors in active set degenerate. Dropping a regressor, after 308 iterations, i.e. alpha=5.605e-06, with an active set of 236 regressors, and the smallest cholesky pivot element being 2.788e-08\n",
      "  ConvergenceWarning)\n",
      "/usr/lib64/python2.7/site-packages/sklearn/linear_model/least_angle.py:309: ConvergenceWarning: Regressors in active set degenerate. Dropping a regressor, after 308 iterations, i.e. alpha=5.515e-06, with an active set of 236 regressors, and the smallest cholesky pivot element being 2.788e-08\n",
      "  ConvergenceWarning)\n",
      "/usr/lib64/python2.7/site-packages/sklearn/linear_model/least_angle.py:309: ConvergenceWarning: Regressors in active set degenerate. Dropping a regressor, after 308 iterations, i.e. alpha=5.384e-06, with an active set of 236 regressors, and the smallest cholesky pivot element being 9.424e-08\n",
      "  ConvergenceWarning)\n",
      "/usr/lib64/python2.7/site-packages/sklearn/linear_model/least_angle.py:309: ConvergenceWarning: Regressors in active set degenerate. Dropping a regressor, after 308 iterations, i.e. alpha=5.483e-06, with an active set of 236 regressors, and the smallest cholesky pivot element being 2.220e-16\n",
      "  ConvergenceWarning)\n",
      "/usr/lib64/python2.7/site-packages/sklearn/linear_model/least_angle.py:334: ConvergenceWarning: Early stopping the lars path, as the residues are small and the current value of alpha is no longer well controlled. 309 iterations, alpha=5.605e-06, previous alpha=5.303e-06, with an active set of 236 regressors.\n",
      "  ConvergenceWarning)\n",
      "/usr/lib64/python2.7/site-packages/sklearn/linear_model/least_angle.py:309: ConvergenceWarning: Regressors in active set degenerate. Dropping a regressor, after 283 iterations, i.e. alpha=1.172e-05, with an active set of 215 regressors, and the smallest cholesky pivot element being 2.980e-08\n",
      "  ConvergenceWarning)\n",
      "/usr/lib64/python2.7/site-packages/sklearn/linear_model/least_angle.py:309: ConvergenceWarning: Regressors in active set degenerate. Dropping a regressor, after 327 iterations, i.e. alpha=5.875e-06, with an active set of 235 regressors, and the smallest cholesky pivot element being 2.107e-08\n",
      "  ConvergenceWarning)\n",
      "/usr/lib64/python2.7/site-packages/sklearn/linear_model/least_angle.py:334: ConvergenceWarning: Early stopping the lars path, as the residues are small and the current value of alpha is no longer well controlled. 329 iterations, alpha=5.858e-06, previous alpha=5.706e-06, with an active set of 236 regressors.\n",
      "  ConvergenceWarning)\n",
      "/usr/lib64/python2.7/site-packages/sklearn/linear_model/least_angle.py:309: ConvergenceWarning: Regressors in active set degenerate. Dropping a regressor, after 245 iterations, i.e. alpha=2.404e-05, with an active set of 195 regressors, and the smallest cholesky pivot element being 2.220e-16\n",
      "  ConvergenceWarning)\n",
      "/usr/lib64/python2.7/site-packages/sklearn/linear_model/least_angle.py:309: ConvergenceWarning: Regressors in active set degenerate. Dropping a regressor, after 252 iterations, i.e. alpha=1.895e-05, with an active set of 198 regressors, and the smallest cholesky pivot element being 2.220e-16\n",
      "  ConvergenceWarning)\n",
      "/usr/lib64/python2.7/site-packages/sklearn/linear_model/least_angle.py:334: ConvergenceWarning: Early stopping the lars path, as the residues are small and the current value of alpha is no longer well controlled. 341 iterations, alpha=3.086e-05, previous alpha=6.345e-06, with an active set of 232 regressors.\n",
      "  ConvergenceWarning)\n",
      "/usr/lib64/python2.7/site-packages/sklearn/linear_model/least_angle.py:309: ConvergenceWarning: Regressors in active set degenerate. Dropping a regressor, after 255 iterations, i.e. alpha=1.865e-05, with an active set of 201 regressors, and the smallest cholesky pivot element being 2.220e-16\n",
      "  ConvergenceWarning)\n",
      "/usr/lib64/python2.7/site-packages/sklearn/linear_model/least_angle.py:309: ConvergenceWarning: Regressors in active set degenerate. Dropping a regressor, after 258 iterations, i.e. alpha=1.773e-05, with an active set of 202 regressors, and the smallest cholesky pivot element being 3.650e-08\n",
      "  ConvergenceWarning)\n",
      "/usr/lib64/python2.7/site-packages/sklearn/linear_model/least_angle.py:334: ConvergenceWarning: Early stopping the lars path, as the residues are small and the current value of alpha is no longer well controlled. 264 iterations, alpha=1.620e-05, previous alpha=1.612e-05, with an active set of 207 regressors.\n",
      "  ConvergenceWarning)\n",
      "/usr/lib64/python2.7/site-packages/sklearn/linear_model/least_angle.py:309: ConvergenceWarning: Regressors in active set degenerate. Dropping a regressor, after 283 iterations, i.e. alpha=7.531e-06, with an active set of 223 regressors, and the smallest cholesky pivot element being 2.980e-08\n",
      "  ConvergenceWarning)\n",
      "/usr/lib64/python2.7/site-packages/sklearn/linear_model/least_angle.py:309: ConvergenceWarning: Regressors in active set degenerate. Dropping a regressor, after 285 iterations, i.e. alpha=7.320e-06, with an active set of 225 regressors, and the smallest cholesky pivot element being 2.980e-08\n",
      "  ConvergenceWarning)\n",
      "/usr/lib64/python2.7/site-packages/sklearn/linear_model/least_angle.py:309: ConvergenceWarning: Regressors in active set degenerate. Dropping a regressor, after 294 iterations, i.e. alpha=6.569e-06, with an active set of 230 regressors, and the smallest cholesky pivot element being 2.107e-08\n",
      "  ConvergenceWarning)\n",
      "/usr/lib64/python2.7/site-packages/sklearn/linear_model/least_angle.py:334: ConvergenceWarning: Early stopping the lars path, as the residues are small and the current value of alpha is no longer well controlled. 295 iterations, alpha=6.568e-06, previous alpha=6.473e-06, with an active set of 230 regressors.\n",
      "  ConvergenceWarning)\n",
      "/usr/lib64/python2.7/site-packages/sklearn/linear_model/least_angle.py:309: ConvergenceWarning: Regressors in active set degenerate. Dropping a regressor, after 343 iterations, i.e. alpha=4.131e-06, with an active set of 247 regressors, and the smallest cholesky pivot element being 2.581e-08\n",
      "  ConvergenceWarning)\n",
      "/usr/lib64/python2.7/site-packages/sklearn/linear_model/least_angle.py:334: ConvergenceWarning: Early stopping the lars path, as the residues are small and the current value of alpha is no longer well controlled. 346 iterations, alpha=6.138e-04, previous alpha=3.996e-06, with an active set of 249 regressors.\n",
      "  ConvergenceWarning)\n",
      "/usr/lib64/python2.7/site-packages/sklearn/linear_model/least_angle.py:334: ConvergenceWarning: Early stopping the lars path, as the residues are small and the current value of alpha is no longer well controlled. 320 iterations, alpha=7.573e-06, previous alpha=7.274e-06, with an active set of 229 regressors.\n",
      "  ConvergenceWarning)\n",
      "/usr/lib64/python2.7/site-packages/sklearn/linear_model/least_angle.py:309: ConvergenceWarning: Regressors in active set degenerate. Dropping a regressor, after 245 iterations, i.e. alpha=2.331e-05, with an active set of 195 regressors, and the smallest cholesky pivot element being 2.788e-08\n",
      "  ConvergenceWarning)\n",
      "/usr/lib64/python2.7/site-packages/sklearn/linear_model/least_angle.py:309: ConvergenceWarning: Regressors in active set degenerate. Dropping a regressor, after 96 iterations, i.e. alpha=1.502e-04, with an active set of 84 regressors, and the smallest cholesky pivot element being 1.490e-08\n",
      "  ConvergenceWarning)\n",
      "/usr/lib64/python2.7/site-packages/sklearn/linear_model/least_angle.py:309: ConvergenceWarning: Regressors in active set degenerate. Dropping a regressor, after 113 iterations, i.e. alpha=1.143e-04, with an active set of 95 regressors, and the smallest cholesky pivot element being 2.581e-08\n",
      "  ConvergenceWarning)\n",
      "/usr/lib64/python2.7/site-packages/sklearn/linear_model/least_angle.py:309: ConvergenceWarning: Regressors in active set degenerate. Dropping a regressor, after 114 iterations, i.e. alpha=1.137e-04, with an active set of 96 regressors, and the smallest cholesky pivot element being 2.581e-08\n",
      "  ConvergenceWarning)\n",
      "/usr/lib64/python2.7/site-packages/sklearn/linear_model/least_angle.py:334: ConvergenceWarning: Early stopping the lars path, as the residues are small and the current value of alpha is no longer well controlled. 122 iterations, alpha=1.077e-04, previous alpha=1.072e-04, with an active set of 103 regressors.\n",
      "  ConvergenceWarning)\n",
      "/usr/lib64/python2.7/site-packages/sklearn/linear_model/least_angle.py:309: ConvergenceWarning: Regressors in active set degenerate. Dropping a regressor, after 245 iterations, i.e. alpha=2.404e-05, with an active set of 195 regressors, and the smallest cholesky pivot element being 2.220e-16\n",
      "  ConvergenceWarning)\n",
      "/usr/lib64/python2.7/site-packages/sklearn/linear_model/least_angle.py:309: ConvergenceWarning: Regressors in active set degenerate. Dropping a regressor, after 283 iterations, i.e. alpha=1.172e-05, with an active set of 215 regressors, and the smallest cholesky pivot element being 2.980e-08\n",
      "  ConvergenceWarning)\n",
      "/usr/lib64/python2.7/site-packages/sklearn/linear_model/least_angle.py:309: ConvergenceWarning: Regressors in active set degenerate. Dropping a regressor, after 245 iterations, i.e. alpha=2.331e-05, with an active set of 195 regressors, and the smallest cholesky pivot element being 2.788e-08\n",
      "  ConvergenceWarning)\n",
      "/usr/lib64/python2.7/site-packages/sklearn/linear_model/least_angle.py:309: ConvergenceWarning: Regressors in active set degenerate. Dropping a regressor, after 327 iterations, i.e. alpha=5.875e-06, with an active set of 235 regressors, and the smallest cholesky pivot element being 2.107e-08\n",
      "  ConvergenceWarning)\n",
      "/usr/lib64/python2.7/site-packages/sklearn/linear_model/least_angle.py:334: ConvergenceWarning: Early stopping the lars path, as the residues are small and the current value of alpha is no longer well controlled. 329 iterations, alpha=5.858e-06, previous alpha=5.706e-06, with an active set of 236 regressors.\n",
      "  ConvergenceWarning)\n",
      "/usr/lib64/python2.7/site-packages/sklearn/linear_model/least_angle.py:309: ConvergenceWarning: Regressors in active set degenerate. Dropping a regressor, after 295 iterations, i.e. alpha=1.107e-05, with an active set of 219 regressors, and the smallest cholesky pivot element being 6.495e-08\n",
      "  ConvergenceWarning)\n",
      "/usr/lib64/python2.7/site-packages/sklearn/linear_model/least_angle.py:334: ConvergenceWarning: Early stopping the lars path, as the residues are small and the current value of alpha is no longer well controlled. 303 iterations, alpha=9.657e-06, previous alpha=9.654e-06, with an active set of 222 regressors.\n",
      "  ConvergenceWarning)\n",
      "/usr/lib64/python2.7/site-packages/sklearn/linear_model/least_angle.py:309: ConvergenceWarning: Regressors in active set degenerate. Dropping a regressor, after 343 iterations, i.e. alpha=4.131e-06, with an active set of 247 regressors, and the smallest cholesky pivot element being 2.581e-08\n",
      "  ConvergenceWarning)\n",
      "/usr/lib64/python2.7/site-packages/sklearn/linear_model/least_angle.py:309: ConvergenceWarning: Regressors in active set degenerate. Dropping a regressor, after 283 iterations, i.e. alpha=7.531e-06, with an active set of 223 regressors, and the smallest cholesky pivot element being 2.980e-08\n",
      "  ConvergenceWarning)\n",
      "/usr/lib64/python2.7/site-packages/sklearn/linear_model/least_angle.py:334: ConvergenceWarning: Early stopping the lars path, as the residues are small and the current value of alpha is no longer well controlled. 346 iterations, alpha=6.138e-04, previous alpha=3.996e-06, with an active set of 249 regressors.\n",
      "  ConvergenceWarning)\n",
      "/usr/lib64/python2.7/site-packages/sklearn/linear_model/least_angle.py:309: ConvergenceWarning: Regressors in active set degenerate. Dropping a regressor, after 285 iterations, i.e. alpha=7.320e-06, with an active set of 225 regressors, and the smallest cholesky pivot element being 2.980e-08\n",
      "  ConvergenceWarning)\n",
      "/usr/lib64/python2.7/site-packages/sklearn/linear_model/least_angle.py:309: ConvergenceWarning: Regressors in active set degenerate. Dropping a regressor, after 294 iterations, i.e. alpha=6.569e-06, with an active set of 230 regressors, and the smallest cholesky pivot element being 2.107e-08\n",
      "  ConvergenceWarning)\n",
      "/usr/lib64/python2.7/site-packages/sklearn/linear_model/least_angle.py:334: ConvergenceWarning: Early stopping the lars path, as the residues are small and the current value of alpha is no longer well controlled. 295 iterations, alpha=6.568e-06, previous alpha=6.473e-06, with an active set of 230 regressors.\n",
      "  ConvergenceWarning)\n",
      "/usr/lib64/python2.7/site-packages/sklearn/linear_model/least_angle.py:309: ConvergenceWarning: Regressors in active set degenerate. Dropping a regressor, after 202 iterations, i.e. alpha=4.208e-05, with an active set of 156 regressors, and the smallest cholesky pivot element being 1.490e-08\n",
      "  ConvergenceWarning)\n",
      "/usr/lib64/python2.7/site-packages/sklearn/linear_model/least_angle.py:309: ConvergenceWarning: Regressors in active set degenerate. Dropping a regressor, after 216 iterations, i.e. alpha=3.762e-05, with an active set of 168 regressors, and the smallest cholesky pivot element being 3.332e-08\n",
      "  ConvergenceWarning)\n"
     ]
    },
    {
     "name": "stdout",
     "output_type": "stream",
     "text": [
      "RandomizedSearchCV took 9.01 seconds for 20 candidates parameter settings.\n",
      "Model with rank: 1\n",
      "Mean validation score: -0.012 (std: 0.004)\n",
      "Parameters: {'alpha': 8.6373889661803437e-05}\n",
      "\n",
      "Model with rank: 2\n",
      "Mean validation score: -0.012 (std: 0.004)\n",
      "Parameters: {'alpha': 0.00019142479983509476}\n",
      "\n",
      "Model with rank: 3\n",
      "Mean validation score: -0.012 (std: 0.004)\n",
      "Parameters: {'alpha': 8.0907091244415279e-05}\n",
      "\n"
     ]
    }
   ],
   "source": [
    "lassolars_param = {'alpha': scipy.stats.expon(scale=0.0001)}\n",
    "random_search(lassolars_regr, lassolars_param, 20)"
   ]
  },
  {
   "cell_type": "code",
   "execution_count": 30,
   "metadata": {
    "collapsed": false
   },
   "outputs": [
    {
     "name": "stderr",
     "output_type": "stream",
     "text": [
      "/usr/lib64/python2.7/site-packages/sklearn/linear_model/least_angle.py:309: ConvergenceWarning: Regressors in active set degenerate. Dropping a regressor, after 96 iterations, i.e. alpha=1.502e-04, with an active set of 84 regressors, and the smallest cholesky pivot element being 1.490e-08\n",
      "  ConvergenceWarning)\n",
      "/usr/lib64/python2.7/site-packages/sklearn/linear_model/least_angle.py:309: ConvergenceWarning: Regressors in active set degenerate. Dropping a regressor, after 113 iterations, i.e. alpha=1.143e-04, with an active set of 95 regressors, and the smallest cholesky pivot element being 2.581e-08\n",
      "  ConvergenceWarning)\n",
      "/usr/lib64/python2.7/site-packages/sklearn/linear_model/least_angle.py:309: ConvergenceWarning: Regressors in active set degenerate. Dropping a regressor, after 114 iterations, i.e. alpha=1.137e-04, with an active set of 96 regressors, and the smallest cholesky pivot element being 2.581e-08\n",
      "  ConvergenceWarning)\n",
      "/usr/lib64/python2.7/site-packages/sklearn/linear_model/least_angle.py:334: ConvergenceWarning: Early stopping the lars path, as the residues are small and the current value of alpha is no longer well controlled. 122 iterations, alpha=1.077e-04, previous alpha=1.072e-04, with an active set of 103 regressors.\n",
      "  ConvergenceWarning)\n"
     ]
    },
    {
     "data": {
      "text/html": [
       "<div>\n",
       "<table border=\"1\" class=\"dataframe\">\n",
       "  <thead>\n",
       "    <tr style=\"text-align: right;\">\n",
       "      <th></th>\n",
       "      <th>alpha</th>\n",
       "      <th>RMSE</th>\n",
       "      <th>std dev</th>\n",
       "    </tr>\n",
       "  </thead>\n",
       "  <tbody>\n",
       "    <tr>\n",
       "      <th>0</th>\n",
       "      <td>0.00008000000000000001</td>\n",
       "      <td>0.10852895208533315519</td>\n",
       "      <td>0.06195480979814557004</td>\n",
       "    </tr>\n",
       "    <tr>\n",
       "      <th>1</th>\n",
       "      <td>0.00009000000000000001</td>\n",
       "      <td>0.10835388761054076667</td>\n",
       "      <td>0.06174891800520473234</td>\n",
       "    </tr>\n",
       "    <tr>\n",
       "      <th>2</th>\n",
       "      <td>0.00010000000000000000</td>\n",
       "      <td>0.10820166534117550694</td>\n",
       "      <td>0.06158447869268522668</td>\n",
       "    </tr>\n",
       "    <tr>\n",
       "      <th>3</th>\n",
       "      <td>0.00011000000000000000</td>\n",
       "      <td>0.10808054070160443005</td>\n",
       "      <td>0.06136550652765247055</td>\n",
       "    </tr>\n",
       "    <tr>\n",
       "      <th>4</th>\n",
       "      <td>0.00012000000000000000</td>\n",
       "      <td>0.10799329867546698936</td>\n",
       "      <td>0.06113378046242592956</td>\n",
       "    </tr>\n",
       "    <tr>\n",
       "      <th>7</th>\n",
       "      <td>0.00015000000000000001</td>\n",
       "      <td>0.10796189374775323755</td>\n",
       "      <td>0.06084444819972678609</td>\n",
       "    </tr>\n",
       "    <tr>\n",
       "      <th>5</th>\n",
       "      <td>0.00013000000000000002</td>\n",
       "      <td>0.10796048262878432666</td>\n",
       "      <td>0.06096899905843435052</td>\n",
       "    </tr>\n",
       "    <tr>\n",
       "      <th>6</th>\n",
       "      <td>0.00013999999999999999</td>\n",
       "      <td>0.10795680538867133413</td>\n",
       "      <td>0.06087169785719322157</td>\n",
       "    </tr>\n",
       "  </tbody>\n",
       "</table>\n",
       "</div>"
      ],
      "text/plain": [
       "                    alpha                    RMSE                 std dev\n",
       "0  0.00008000000000000001  0.10852895208533315519  0.06195480979814557004\n",
       "1  0.00009000000000000001  0.10835388761054076667  0.06174891800520473234\n",
       "2  0.00010000000000000000  0.10820166534117550694  0.06158447869268522668\n",
       "3  0.00011000000000000000  0.10808054070160443005  0.06136550652765247055\n",
       "4  0.00012000000000000000  0.10799329867546698936  0.06113378046242592956\n",
       "7  0.00015000000000000001  0.10796189374775323755  0.06084444819972678609\n",
       "5  0.00013000000000000002  0.10796048262878432666  0.06096899905843435052\n",
       "6  0.00013999999999999999  0.10795680538867133413  0.06087169785719322157"
      ]
     },
     "execution_count": 30,
     "metadata": {},
     "output_type": "execute_result"
    },
    {
     "data": {
      "image/png": "[encoded data removed]",
      "text/plain": [
       "<matplotlib.figure.Figure at 0x7f35c2538ed0>"
      ]
     },
     "metadata": {},
     "output_type": "display_data"
    }
   ],
   "source": [
    "lassolars_params = {'alpha': np.arange(0.00008, 0.00016, 0.00001).tolist()}\n",
    "lassolars_df = single_search(lassolars_regr, lassolars_params)\n",
    "lassolars_df.plot(x = ['alpha'], y = ['RMSE'])\n",
    "lassolars_df.sort_values(['RMSE'], ascending = False)"
   ]
  },
  {
   "cell_type": "code",
   "execution_count": 31,
   "metadata": {
    "collapsed": true
   },
   "outputs": [],
   "source": [
    "lassolars_regr = linear_model.LassoLars(alpha=0.00014, max_iter=50000)"
   ]
  },
  {
   "cell_type": "code",
   "execution_count": 32,
   "metadata": {
    "collapsed": false
   },
   "outputs": [
    {
     "data": {
      "text/plain": [
       "0.1027311912225994"
      ]
     },
     "execution_count": 32,
     "metadata": {},
     "output_type": "execute_result"
    }
   ],
   "source": [
    "validate(lassolars_regr)"
   ]
  },
  {
   "cell_type": "markdown",
   "metadata": {},
   "source": [
    "## Elastic Net"
   ]
  },
  {
   "cell_type": "code",
   "execution_count": 16,
   "metadata": {
    "collapsed": true
   },
   "outputs": [],
   "source": [
    "elnet_regr = linear_model.ElasticNet(max_iter=15000, random_state=7)"
   ]
  },
  {
   "cell_type": "code",
   "execution_count": 17,
   "metadata": {
    "collapsed": false
   },
   "outputs": [
    {
     "name": "stderr",
     "output_type": "stream",
     "text": [
      "/usr/lib64/python2.7/site-packages/sklearn/linear_model/coordinate_descent.py:479: ConvergenceWarning: Objective did not converge. You might want to increase the number of iterations. Fitting data with very small alpha may cause precision problems.\n",
      "  ConvergenceWarning)\n",
      "/usr/lib64/python2.7/site-packages/sklearn/linear_model/coordinate_descent.py:479: ConvergenceWarning: Objective did not converge. You might want to increase the number of iterations. Fitting data with very small alpha may cause precision problems.\n",
      "  ConvergenceWarning)\n",
      "/usr/lib64/python2.7/site-packages/sklearn/linear_model/coordinate_descent.py:479: ConvergenceWarning: Objective did not converge. You might want to increase the number of iterations. Fitting data with very small alpha may cause precision problems.\n",
      "  ConvergenceWarning)\n",
      "/usr/lib64/python2.7/site-packages/sklearn/linear_model/coordinate_descent.py:479: ConvergenceWarning: Objective did not converge. You might want to increase the number of iterations. Fitting data with very small alpha may cause precision problems.\n",
      "  ConvergenceWarning)\n"
     ]
    },
    {
     "name": "stdout",
     "output_type": "stream",
     "text": [
      "RandomizedSearchCV took 70.33 seconds for 20 candidates parameter settings.\n",
      "Model with rank: 1\n",
      "Mean validation score: -0.012 (std: 0.004)\n",
      "Parameters: {'alpha': 0.00057428335529804086, 'l1_ratio': 0.53045631598691756}\n",
      "\n",
      "Model with rank: 2\n",
      "Mean validation score: -0.012 (std: 0.004)\n",
      "Parameters: {'alpha': 0.00051033751323643732, 'l1_ratio': 0.50785659869599487}\n",
      "\n",
      "Model with rank: 3\n",
      "Mean validation score: -0.012 (std: 0.004)\n",
      "Parameters: {'alpha': 0.00045813128578835774, 'l1_ratio': 0.54025326274403185}\n",
      "\n"
     ]
    }
   ],
   "source": [
    "elnet_param =  {'alpha': scipy.stats.expon(scale=0.001), 'l1_ratio': scipy.stats.truncnorm(0, 1, loc=0.5, scale=0.25)}\n",
    "random_search(elnet_regr, elnet_param, 20)"
   ]
  },
  {
   "cell_type": "code",
   "execution_count": 33,
   "metadata": {
    "collapsed": false
   },
   "outputs": [
    {
     "data": {
      "text/html": [
       "<div>\n",
       "<table border=\"1\" class=\"dataframe\">\n",
       "  <thead>\n",
       "    <tr style=\"text-align: right;\">\n",
       "      <th></th>\n",
       "      <th>alpha</th>\n",
       "      <th>RMSE</th>\n",
       "      <th>std dev</th>\n",
       "    </tr>\n",
       "  </thead>\n",
       "  <tbody>\n",
       "    <tr>\n",
       "      <th>0</th>\n",
       "      <td>0.00010000000000000000</td>\n",
       "      <td>0.11582818033754818665</td>\n",
       "      <td>0.06420478939929336049</td>\n",
       "    </tr>\n",
       "    <tr>\n",
       "      <th>1</th>\n",
       "      <td>0.00020000000000000001</td>\n",
       "      <td>0.11239961215004995454</td>\n",
       "      <td>0.06462098264016487292</td>\n",
       "    </tr>\n",
       "    <tr>\n",
       "      <th>2</th>\n",
       "      <td>0.00030000000000000003</td>\n",
       "      <td>0.11046489539102750943</td>\n",
       "      <td>0.06427326313565084881</td>\n",
       "    </tr>\n",
       "    <tr>\n",
       "      <th>3</th>\n",
       "      <td>0.00040000000000000002</td>\n",
       "      <td>0.10959404483259811702</td>\n",
       "      <td>0.06391033867320275452</td>\n",
       "    </tr>\n",
       "    <tr>\n",
       "      <th>4</th>\n",
       "      <td>0.00050000000000000001</td>\n",
       "      <td>0.10921340971150765575</td>\n",
       "      <td>0.06345583144376297502</td>\n",
       "    </tr>\n",
       "    <tr>\n",
       "      <th>6</th>\n",
       "      <td>0.00070000000000000010</td>\n",
       "      <td>0.10917340205381198537</td>\n",
       "      <td>0.06299987870697272563</td>\n",
       "    </tr>\n",
       "    <tr>\n",
       "      <th>5</th>\n",
       "      <td>0.00060000000000000006</td>\n",
       "      <td>0.10910759586466349524</td>\n",
       "      <td>0.06310425728342253238</td>\n",
       "    </tr>\n",
       "  </tbody>\n",
       "</table>\n",
       "</div>"
      ],
      "text/plain": [
       "                    alpha                    RMSE                 std dev\n",
       "0  0.00010000000000000000  0.11582818033754818665  0.06420478939929336049\n",
       "1  0.00020000000000000001  0.11239961215004995454  0.06462098264016487292\n",
       "2  0.00030000000000000003  0.11046489539102750943  0.06427326313565084881\n",
       "3  0.00040000000000000002  0.10959404483259811702  0.06391033867320275452\n",
       "4  0.00050000000000000001  0.10921340971150765575  0.06345583144376297502\n",
       "6  0.00070000000000000010  0.10917340205381198537  0.06299987870697272563\n",
       "5  0.00060000000000000006  0.10910759586466349524  0.06310425728342253238"
      ]
     },
     "execution_count": 33,
     "metadata": {},
     "output_type": "execute_result"
    },
    {
     "data": {
      "image/png": "[encoded data removed]",
      "text/plain": [
       "<matplotlib.figure.Figure at 0x7f35c24cf310>"
      ]
     },
     "metadata": {},
     "output_type": "display_data"
    }
   ],
   "source": [
    "elnet_regr = linear_model.ElasticNet(alpha=0.00038, l1_ratio=0.5, max_iter=15000, random_state=7)\n",
    "elnet_params = {'alpha': np.arange(0.0001, 0.0008, 0.0001).tolist()}\n",
    "elnet_df = single_search(elnet_regr, elnet_params)\n",
    "elnet_df.plot(x = ['alpha'], y = ['RMSE'])\n",
    "elnet_df.sort_values(['RMSE'], ascending = False)"
   ]
  },
  {
   "cell_type": "code",
   "execution_count": 34,
   "metadata": {
    "collapsed": false
   },
   "outputs": [
    {
     "data": {
      "text/html": [
       "<div>\n",
       "<table border=\"1\" class=\"dataframe\">\n",
       "  <thead>\n",
       "    <tr style=\"text-align: right;\">\n",
       "      <th></th>\n",
       "      <th>l1_ratio</th>\n",
       "      <th>RMSE</th>\n",
       "      <th>std dev</th>\n",
       "    </tr>\n",
       "  </thead>\n",
       "  <tbody>\n",
       "    <tr>\n",
       "      <th>0</th>\n",
       "      <td>0.10000000000000000555</td>\n",
       "      <td>0.11282564607963881109</td>\n",
       "      <td>0.06428849514529708098</td>\n",
       "    </tr>\n",
       "    <tr>\n",
       "      <th>1</th>\n",
       "      <td>0.20000000000000001110</td>\n",
       "      <td>0.11089984172682001984</td>\n",
       "      <td>0.06430167363686484228</td>\n",
       "    </tr>\n",
       "    <tr>\n",
       "      <th>2</th>\n",
       "      <td>0.30000000000000004441</td>\n",
       "      <td>0.10978080418228033932</td>\n",
       "      <td>0.06387102378169429162</td>\n",
       "    </tr>\n",
       "    <tr>\n",
       "      <th>8</th>\n",
       "      <td>0.90000000000000002220</td>\n",
       "      <td>0.10971070978345966174</td>\n",
       "      <td>0.06338596309749515434</td>\n",
       "    </tr>\n",
       "    <tr>\n",
       "      <th>7</th>\n",
       "      <td>0.80000000000000004441</td>\n",
       "      <td>0.10945270539604975979</td>\n",
       "      <td>0.06322077028908336394</td>\n",
       "    </tr>\n",
       "    <tr>\n",
       "      <th>6</th>\n",
       "      <td>0.70000000000000006661</td>\n",
       "      <td>0.10929574900570927787</td>\n",
       "      <td>0.06315486324150187958</td>\n",
       "    </tr>\n",
       "    <tr>\n",
       "      <th>3</th>\n",
       "      <td>0.40000000000000002220</td>\n",
       "      <td>0.10927195971399075725</td>\n",
       "      <td>0.06342617563343881659</td>\n",
       "    </tr>\n",
       "    <tr>\n",
       "      <th>5</th>\n",
       "      <td>0.59999999999999997780</td>\n",
       "      <td>0.10918376019133871346</td>\n",
       "      <td>0.06305040959252324051</td>\n",
       "    </tr>\n",
       "    <tr>\n",
       "      <th>4</th>\n",
       "      <td>0.50000000000000000000</td>\n",
       "      <td>0.10910759586466342586</td>\n",
       "      <td>0.06310425728342251850</td>\n",
       "    </tr>\n",
       "  </tbody>\n",
       "</table>\n",
       "</div>"
      ],
      "text/plain": [
       "                 l1_ratio                    RMSE                 std dev\n",
       "0  0.10000000000000000555  0.11282564607963881109  0.06428849514529708098\n",
       "1  0.20000000000000001110  0.11089984172682001984  0.06430167363686484228\n",
       "2  0.30000000000000004441  0.10978080418228033932  0.06387102378169429162\n",
       "8  0.90000000000000002220  0.10971070978345966174  0.06338596309749515434\n",
       "7  0.80000000000000004441  0.10945270539604975979  0.06322077028908336394\n",
       "6  0.70000000000000006661  0.10929574900570927787  0.06315486324150187958\n",
       "3  0.40000000000000002220  0.10927195971399075725  0.06342617563343881659\n",
       "5  0.59999999999999997780  0.10918376019133871346  0.06305040959252324051\n",
       "4  0.50000000000000000000  0.10910759586466342586  0.06310425728342251850"
      ]
     },
     "execution_count": 34,
     "metadata": {},
     "output_type": "execute_result"
    },
    {
     "data": {
      "image/png": "[encoded data removed]",
      "text/plain": [
       "<matplotlib.figure.Figure at 0x7f35c234e050>"
      ]
     },
     "metadata": {},
     "output_type": "display_data"
    }
   ],
   "source": [
    "elnet_regr = linear_model.ElasticNet(alpha=0.0006, max_iter=15000, random_state=7)\n",
    "elnet_params = {'l1_ratio': np.arange(0.1, 1, 0.1).tolist()}\n",
    "elnet_df = single_search(elnet_regr, elnet_params)\n",
    "elnet_df.plot(x = ['l1_ratio'], y = ['RMSE'])\n",
    "elnet_df.sort_values(['RMSE'], ascending = False)"
   ]
  },
  {
   "cell_type": "code",
   "execution_count": 35,
   "metadata": {
    "collapsed": true
   },
   "outputs": [],
   "source": [
    "elnet_regr = linear_model.ElasticNet(alpha=0.0006, l1_ratio=0.5, max_iter=15000, random_state=7)"
   ]
  },
  {
   "cell_type": "code",
   "execution_count": 36,
   "metadata": {
    "collapsed": false
   },
   "outputs": [
    {
     "data": {
      "text/plain": [
       "0.10739691489786372"
      ]
     },
     "execution_count": 36,
     "metadata": {},
     "output_type": "execute_result"
    }
   ],
   "source": [
    "validate(elnet_regr)"
   ]
  },
  {
   "cell_type": "markdown",
   "metadata": {},
   "source": [
    "## Random Forest"
   ]
  },
  {
   "cell_type": "code",
   "execution_count": 18,
   "metadata": {
    "collapsed": true
   },
   "outputs": [],
   "source": [
    "rf_regr = RandomForestRegressor(n_jobs=-1, random_state = 7)"
   ]
  },
  {
   "cell_type": "code",
   "execution_count": 19,
   "metadata": {
    "collapsed": false
   },
   "outputs": [
    {
     "name": "stdout",
     "output_type": "stream",
     "text": [
      "RandomizedSearchCV took 72.01 seconds for 20 candidates parameter settings.\n",
      "Model with rank: 1\n",
      "Mean validation score: -0.016 (std: 0.004)\n",
      "Parameters: {'max_features': 26, 'n_estimators': 367, 'max_depth': 17}\n",
      "\n",
      "Model with rank: 2\n",
      "Mean validation score: -0.016 (std: 0.004)\n",
      "Parameters: {'max_features': 26, 'n_estimators': 394, 'max_depth': 13}\n",
      "\n",
      "Model with rank: 3\n",
      "Mean validation score: -0.016 (std: 0.004)\n",
      "Parameters: {'max_features': 27, 'n_estimators': 370, 'max_depth': 15}\n",
      "\n"
     ]
    }
   ],
   "source": [
    "rf_param =  {'n_estimators': scipy.stats.randint(50,400), 'max_depth': scipy.stats.randint(2,20), \n",
    "             'max_features': scipy.stats.randint(5,30)}\n",
    "random_search(rf_regr, rf_param, 20)"
   ]
  },
  {
   "cell_type": "code",
   "execution_count": 50,
   "metadata": {
    "collapsed": false
   },
   "outputs": [
    {
     "data": {
      "text/html": [
       "<div>\n",
       "<table border=\"1\" class=\"dataframe\">\n",
       "  <thead>\n",
       "    <tr style=\"text-align: right;\">\n",
       "      <th></th>\n",
       "      <th>n_estimators</th>\n",
       "      <th>RMSE</th>\n",
       "      <th>std dev</th>\n",
       "    </tr>\n",
       "  </thead>\n",
       "  <tbody>\n",
       "    <tr>\n",
       "      <th>0</th>\n",
       "      <td>50.0</td>\n",
       "      <td>0.12427681795889083949</td>\n",
       "      <td>0.05856550691664401398</td>\n",
       "    </tr>\n",
       "    <tr>\n",
       "      <th>1</th>\n",
       "      <td>100.0</td>\n",
       "      <td>0.12379211344884299972</td>\n",
       "      <td>0.05882806069646809993</td>\n",
       "    </tr>\n",
       "    <tr>\n",
       "      <th>2</th>\n",
       "      <td>150.0</td>\n",
       "      <td>0.12246252082520693583</td>\n",
       "      <td>0.05884555692478173061</td>\n",
       "    </tr>\n",
       "    <tr>\n",
       "      <th>3</th>\n",
       "      <td>200.0</td>\n",
       "      <td>0.12242605777968558478</td>\n",
       "      <td>0.05967367840647457011</td>\n",
       "    </tr>\n",
       "    <tr>\n",
       "      <th>4</th>\n",
       "      <td>250.0</td>\n",
       "      <td>0.12240043918374540755</td>\n",
       "      <td>0.06000008400362424887</td>\n",
       "    </tr>\n",
       "    <tr>\n",
       "      <th>5</th>\n",
       "      <td>300.0</td>\n",
       "      <td>0.12235103114818585146</td>\n",
       "      <td>0.05937255848670843633</td>\n",
       "    </tr>\n",
       "    <tr>\n",
       "      <th>9</th>\n",
       "      <td>500.0</td>\n",
       "      <td>0.12229827528441987450</td>\n",
       "      <td>0.05941654296536200835</td>\n",
       "    </tr>\n",
       "    <tr>\n",
       "      <th>7</th>\n",
       "      <td>400.0</td>\n",
       "      <td>0.12228956716536000526</td>\n",
       "      <td>0.05942086882215860677</td>\n",
       "    </tr>\n",
       "    <tr>\n",
       "      <th>6</th>\n",
       "      <td>350.0</td>\n",
       "      <td>0.12228378822021442052</td>\n",
       "      <td>0.05950721473121291932</td>\n",
       "    </tr>\n",
       "    <tr>\n",
       "      <th>8</th>\n",
       "      <td>450.0</td>\n",
       "      <td>0.12223425719923203259</td>\n",
       "      <td>0.05948141083424856451</td>\n",
       "    </tr>\n",
       "  </tbody>\n",
       "</table>\n",
       "</div>"
      ],
      "text/plain": [
       "   n_estimators                    RMSE                 std dev\n",
       "0          50.0  0.12427681795889083949  0.05856550691664401398\n",
       "1         100.0  0.12379211344884299972  0.05882806069646809993\n",
       "2         150.0  0.12246252082520693583  0.05884555692478173061\n",
       "3         200.0  0.12242605777968558478  0.05967367840647457011\n",
       "4         250.0  0.12240043918374540755  0.06000008400362424887\n",
       "5         300.0  0.12235103114818585146  0.05937255848670843633\n",
       "9         500.0  0.12229827528441987450  0.05941654296536200835\n",
       "7         400.0  0.12228956716536000526  0.05942086882215860677\n",
       "6         350.0  0.12228378822021442052  0.05950721473121291932\n",
       "8         450.0  0.12223425719923203259  0.05948141083424856451"
      ]
     },
     "execution_count": 50,
     "metadata": {},
     "output_type": "execute_result"
    },
    {
     "data": {
      "image/png": "[encoded data removed]",
      "text/plain": [
       "<matplotlib.figure.Figure at 0x7f35c234efd0>"
      ]
     },
     "metadata": {},
     "output_type": "display_data"
    }
   ],
   "source": [
    "rf_regr = RandomForestRegressor(n_estimators = 367, max_depth = 26, max_features = 75, random_state = 7)\n",
    "rf_params = {'n_estimators': np.arange(50, 550, 50).tolist()}\n",
    "rf_df = single_search(rf_regr, rf_params)\n",
    "rf_df.plot(x = ['n_estimators'], y = ['RMSE'])\n",
    "rf_df.sort_values(['RMSE'], ascending = False)"
   ]
  },
  {
   "cell_type": "code",
   "execution_count": 53,
   "metadata": {
    "collapsed": true
   },
   "outputs": [],
   "source": [
    "rf_regr = RandomForestRegressor(n_estimators = 450, max_depth = 26, max_features = 75, random_state = 7)"
   ]
  },
  {
   "cell_type": "code",
   "execution_count": 54,
   "metadata": {
    "collapsed": false
   },
   "outputs": [
    {
     "data": {
      "text/plain": [
       "0.13092064609418047"
      ]
     },
     "execution_count": 54,
     "metadata": {},
     "output_type": "execute_result"
    }
   ],
   "source": [
    "validate(rf_regr)"
   ]
  },
  {
   "cell_type": "markdown",
   "metadata": {},
   "source": [
    "## Support Vector Regressor"
   ]
  },
  {
   "cell_type": "code",
   "execution_count": 20,
   "metadata": {
    "collapsed": true
   },
   "outputs": [],
   "source": [
    "svr_regr = svm.SVR(cache_size=200, degree=3, max_iter=-1, shrinking=True, tol=0.001, verbose=False)"
   ]
  },
  {
   "cell_type": "code",
   "execution_count": 21,
   "metadata": {
    "collapsed": false
   },
   "outputs": [
    {
     "name": "stdout",
     "output_type": "stream",
     "text": [
      "RandomizedSearchCV took 20.88 seconds for 20 candidates parameter settings.\n",
      "Model with rank: 1\n",
      "Mean validation score: -0.014 (std: 0.004)\n",
      "Parameters: {'kernel': 'rbf', 'C': 0.67597011870716484, 'gamma': 0.011340042071684897}\n",
      "\n",
      "Model with rank: 2\n",
      "Mean validation score: -0.014 (std: 0.004)\n",
      "Parameters: {'kernel': 'rbf', 'C': 1.3286954913099536, 'gamma': 0.013227480861406815}\n",
      "\n",
      "Model with rank: 3\n",
      "Mean validation score: -0.014 (std: 0.004)\n",
      "Parameters: {'kernel': 'rbf', 'C': 0.67023037138144692, 'gamma': 0.0042080397372254129}\n",
      "\n"
     ]
    }
   ],
   "source": [
    "svr_param = {'C': scipy.stats.expon(scale=1), 'gamma': scipy.stats.expon(scale=.1),\n",
    "              'kernel': ['rbf']}\n",
    "random_search(svr_regr, svr_param, 20)"
   ]
  },
  {
   "cell_type": "code",
   "execution_count": 44,
   "metadata": {
    "collapsed": false
   },
   "outputs": [
    {
     "data": {
      "text/html": [
       "<div>\n",
       "<table border=\"1\" class=\"dataframe\">\n",
       "  <thead>\n",
       "    <tr style=\"text-align: right;\">\n",
       "      <th></th>\n",
       "      <th>C</th>\n",
       "      <th>RMSE</th>\n",
       "      <th>std dev</th>\n",
       "    </tr>\n",
       "  </thead>\n",
       "  <tbody>\n",
       "    <tr>\n",
       "      <th>0</th>\n",
       "      <td>0.10000000000000000555</td>\n",
       "      <td>0.14687707067028243912</td>\n",
       "      <td>0.06388736626646315808</td>\n",
       "    </tr>\n",
       "    <tr>\n",
       "      <th>1</th>\n",
       "      <td>0.20000000000000001110</td>\n",
       "      <td>0.13113098202700343431</td>\n",
       "      <td>0.06331754737979240766</td>\n",
       "    </tr>\n",
       "    <tr>\n",
       "      <th>2</th>\n",
       "      <td>0.30000000000000004441</td>\n",
       "      <td>0.12507306434655157679</td>\n",
       "      <td>0.06224319264830337206</td>\n",
       "    </tr>\n",
       "    <tr>\n",
       "      <th>3</th>\n",
       "      <td>0.40000000000000002220</td>\n",
       "      <td>0.12200658666552553766</td>\n",
       "      <td>0.06210737351436886045</td>\n",
       "    </tr>\n",
       "    <tr>\n",
       "      <th>4</th>\n",
       "      <td>0.50000000000000000000</td>\n",
       "      <td>0.12015266193919979520</td>\n",
       "      <td>0.06221366452768991445</td>\n",
       "    </tr>\n",
       "    <tr>\n",
       "      <th>5</th>\n",
       "      <td>0.59999999999999997780</td>\n",
       "      <td>0.11885585721550233351</td>\n",
       "      <td>0.06244365463156519719</td>\n",
       "    </tr>\n",
       "    <tr>\n",
       "      <th>6</th>\n",
       "      <td>0.70000000000000006661</td>\n",
       "      <td>0.11802135771613710136</td>\n",
       "      <td>0.06244856624610922724</td>\n",
       "    </tr>\n",
       "    <tr>\n",
       "      <th>7</th>\n",
       "      <td>0.80000000000000004441</td>\n",
       "      <td>0.11759739611995417841</td>\n",
       "      <td>0.06232863494518232905</td>\n",
       "    </tr>\n",
       "    <tr>\n",
       "      <th>8</th>\n",
       "      <td>0.90000000000000002220</td>\n",
       "      <td>0.11725003991415595961</td>\n",
       "      <td>0.06220536084087203293</td>\n",
       "    </tr>\n",
       "    <tr>\n",
       "      <th>9</th>\n",
       "      <td>1.00000000000000000000</td>\n",
       "      <td>0.11692552119731854099</td>\n",
       "      <td>0.06224192812313115997</td>\n",
       "    </tr>\n",
       "    <tr>\n",
       "      <th>10</th>\n",
       "      <td>1.10000000000000008882</td>\n",
       "      <td>0.11665208176577961108</td>\n",
       "      <td>0.06241051848627043180</td>\n",
       "    </tr>\n",
       "    <tr>\n",
       "      <th>11</th>\n",
       "      <td>1.20000000000000017764</td>\n",
       "      <td>0.11644330332435487430</td>\n",
       "      <td>0.06264953939790751658</td>\n",
       "    </tr>\n",
       "    <tr>\n",
       "      <th>12</th>\n",
       "      <td>1.30000000000000026645</td>\n",
       "      <td>0.11624293234733201752</td>\n",
       "      <td>0.06287859825192394780</td>\n",
       "    </tr>\n",
       "    <tr>\n",
       "      <th>13</th>\n",
       "      <td>1.40000000000000013323</td>\n",
       "      <td>0.11607293465622030293</td>\n",
       "      <td>0.06307924221003273491</td>\n",
       "    </tr>\n",
       "    <tr>\n",
       "      <th>14</th>\n",
       "      <td>1.50000000000000022204</td>\n",
       "      <td>0.11597167458974247389</td>\n",
       "      <td>0.06316174499494886518</td>\n",
       "    </tr>\n",
       "    <tr>\n",
       "      <th>15</th>\n",
       "      <td>1.60000000000000008882</td>\n",
       "      <td>0.11590702321837646760</td>\n",
       "      <td>0.06321272523078748373</td>\n",
       "    </tr>\n",
       "    <tr>\n",
       "      <th>19</th>\n",
       "      <td>2.00000000000000000000</td>\n",
       "      <td>0.11587048230778926317</td>\n",
       "      <td>0.06306887672495656294</td>\n",
       "    </tr>\n",
       "    <tr>\n",
       "      <th>18</th>\n",
       "      <td>1.90000000000000013323</td>\n",
       "      <td>0.11585779578531325840</td>\n",
       "      <td>0.06305669574949575307</td>\n",
       "    </tr>\n",
       "    <tr>\n",
       "      <th>16</th>\n",
       "      <td>1.70000000000000017764</td>\n",
       "      <td>0.11585292909215036405</td>\n",
       "      <td>0.06321094335773443096</td>\n",
       "    </tr>\n",
       "    <tr>\n",
       "      <th>17</th>\n",
       "      <td>1.80000000000000026645</td>\n",
       "      <td>0.11584619245527312537</td>\n",
       "      <td>0.06312897852217026762</td>\n",
       "    </tr>\n",
       "  </tbody>\n",
       "</table>\n",
       "</div>"
      ],
      "text/plain": [
       "                         C                    RMSE                 std dev\n",
       "0   0.10000000000000000555  0.14687707067028243912  0.06388736626646315808\n",
       "1   0.20000000000000001110  0.13113098202700343431  0.06331754737979240766\n",
       "2   0.30000000000000004441  0.12507306434655157679  0.06224319264830337206\n",
       "3   0.40000000000000002220  0.12200658666552553766  0.06210737351436886045\n",
       "4   0.50000000000000000000  0.12015266193919979520  0.06221366452768991445\n",
       "5   0.59999999999999997780  0.11885585721550233351  0.06244365463156519719\n",
       "6   0.70000000000000006661  0.11802135771613710136  0.06244856624610922724\n",
       "7   0.80000000000000004441  0.11759739611995417841  0.06232863494518232905\n",
       "8   0.90000000000000002220  0.11725003991415595961  0.06220536084087203293\n",
       "9   1.00000000000000000000  0.11692552119731854099  0.06224192812313115997\n",
       "10  1.10000000000000008882  0.11665208176577961108  0.06241051848627043180\n",
       "11  1.20000000000000017764  0.11644330332435487430  0.06264953939790751658\n",
       "12  1.30000000000000026645  0.11624293234733201752  0.06287859825192394780\n",
       "13  1.40000000000000013323  0.11607293465622030293  0.06307924221003273491\n",
       "14  1.50000000000000022204  0.11597167458974247389  0.06316174499494886518\n",
       "15  1.60000000000000008882  0.11590702321837646760  0.06321272523078748373\n",
       "19  2.00000000000000000000  0.11587048230778926317  0.06306887672495656294\n",
       "18  1.90000000000000013323  0.11585779578531325840  0.06305669574949575307\n",
       "16  1.70000000000000017764  0.11585292909215036405  0.06321094335773443096\n",
       "17  1.80000000000000026645  0.11584619245527312537  0.06312897852217026762"
      ]
     },
     "execution_count": 44,
     "metadata": {},
     "output_type": "execute_result"
    },
    {
     "data": {
      "image/png": "[encoded data removed]",
      "text/plain": [
       "<matplotlib.figure.Figure at 0x7f35c2397990>"
      ]
     },
     "metadata": {},
     "output_type": "display_data"
    }
   ],
   "source": [
    "svr_regr = svm.SVR(C=0.68, cache_size=200, coef0=0.0, degree=3, gamma=0.008,\n",
    "                        kernel='rbf', max_iter=-1, shrinking=True, tol=0.001, verbose=False)\n",
    "svr_params = {'C': np.arange(0.1, 2.1, 0.1).tolist()}\n",
    "svr_df = single_search(svr_regr, svr_params)\n",
    "svr_df.plot(x = ['C'], y = ['RMSE'])\n",
    "svr_df.sort_values(['RMSE'], ascending = False)"
   ]
  },
  {
   "cell_type": "code",
   "execution_count": 55,
   "metadata": {
    "collapsed": true
   },
   "outputs": [],
   "source": [
    "svr_regr = svm.SVR(C=1.8, cache_size=200, coef0=0.0, degree=3, gamma=0.008,\n",
    "                        kernel='rbf', max_iter=-1, shrinking=True, tol=0.001, verbose=False)"
   ]
  },
  {
   "cell_type": "code",
   "execution_count": 56,
   "metadata": {
    "collapsed": false
   },
   "outputs": [
    {
     "data": {
      "text/plain": [
       "0.12167235049411367"
      ]
     },
     "execution_count": 56,
     "metadata": {},
     "output_type": "execute_result"
    }
   ],
   "source": [
    "validate(svr_regr)"
   ]
  },
  {
   "cell_type": "markdown",
   "metadata": {},
   "source": [
    "## Orthogonal Matching Pursuit"
   ]
  },
  {
   "cell_type": "code",
   "execution_count": 22,
   "metadata": {
    "collapsed": true
   },
   "outputs": [],
   "source": [
    "omp_regr = linear_model.OrthogonalMatchingPursuit()"
   ]
  },
  {
   "cell_type": "code",
   "execution_count": 23,
   "metadata": {
    "collapsed": false
   },
   "outputs": [
    {
     "name": "stdout",
     "output_type": "stream",
     "text": [
      "RandomizedSearchCV took 2.27 seconds for 20 candidates parameter settings.\n",
      "Model with rank: 1\n",
      "Mean validation score: -0.013 (std: 0.003)\n",
      "Parameters: {'n_nonzero_coefs': 90}\n",
      "\n",
      "Model with rank: 2\n",
      "Mean validation score: -0.013 (std: 0.003)\n",
      "Parameters: {'n_nonzero_coefs': 96}\n",
      "\n",
      "Model with rank: 3\n",
      "Mean validation score: -0.014 (std: 0.003)\n",
      "Parameters: {'n_nonzero_coefs': 97}\n",
      "\n"
     ]
    }
   ],
   "source": [
    "omp_param = {'n_nonzero_coefs': scipy.stats.randint(20,120)}\n",
    "random_search(omp_regr, omp_param, 20)"
   ]
  },
  {
   "cell_type": "code",
   "execution_count": 40,
   "metadata": {
    "collapsed": false
   },
   "outputs": [
    {
     "data": {
      "text/html": [
       "<div>\n",
       "<table border=\"1\" class=\"dataframe\">\n",
       "  <thead>\n",
       "    <tr style=\"text-align: right;\">\n",
       "      <th></th>\n",
       "      <th>n_nonzero_coefs</th>\n",
       "      <th>RMSE</th>\n",
       "      <th>std dev</th>\n",
       "    </tr>\n",
       "  </thead>\n",
       "  <tbody>\n",
       "    <tr>\n",
       "      <th>18</th>\n",
       "      <td>113.0</td>\n",
       "      <td>0.11635461557324669468</td>\n",
       "      <td>0.05525759511489178322</td>\n",
       "    </tr>\n",
       "    <tr>\n",
       "      <th>19</th>\n",
       "      <td>114.0</td>\n",
       "      <td>0.11633665163796862163</td>\n",
       "      <td>0.05522863621544055190</td>\n",
       "    </tr>\n",
       "    <tr>\n",
       "      <th>17</th>\n",
       "      <td>112.0</td>\n",
       "      <td>0.11627851177965460583</td>\n",
       "      <td>0.05523542618074944038</td>\n",
       "    </tr>\n",
       "    <tr>\n",
       "      <th>2</th>\n",
       "      <td>97.0</td>\n",
       "      <td>0.11623042452590863494</td>\n",
       "      <td>0.05544194037389812979</td>\n",
       "    </tr>\n",
       "    <tr>\n",
       "      <th>14</th>\n",
       "      <td>109.0</td>\n",
       "      <td>0.11621013457119974688</td>\n",
       "      <td>0.05623034175861326561</td>\n",
       "    </tr>\n",
       "    <tr>\n",
       "      <th>16</th>\n",
       "      <td>111.0</td>\n",
       "      <td>0.11620422502234546702</td>\n",
       "      <td>0.05506828421018861858</td>\n",
       "    </tr>\n",
       "    <tr>\n",
       "      <th>15</th>\n",
       "      <td>110.0</td>\n",
       "      <td>0.11615534270940745809</td>\n",
       "      <td>0.05585391740441771752</td>\n",
       "    </tr>\n",
       "    <tr>\n",
       "      <th>1</th>\n",
       "      <td>96.0</td>\n",
       "      <td>0.11596530417585741712</td>\n",
       "      <td>0.05539956910250017075</td>\n",
       "    </tr>\n",
       "    <tr>\n",
       "      <th>0</th>\n",
       "      <td>95.0</td>\n",
       "      <td>0.11594583769019069230</td>\n",
       "      <td>0.05531592242154659972</td>\n",
       "    </tr>\n",
       "    <tr>\n",
       "      <th>3</th>\n",
       "      <td>98.0</td>\n",
       "      <td>0.11584298364201237042</td>\n",
       "      <td>0.05502734443771784695</td>\n",
       "    </tr>\n",
       "    <tr>\n",
       "      <th>7</th>\n",
       "      <td>102.0</td>\n",
       "      <td>0.11574049590381504937</td>\n",
       "      <td>0.05392787023981496924</td>\n",
       "    </tr>\n",
       "    <tr>\n",
       "      <th>6</th>\n",
       "      <td>101.0</td>\n",
       "      <td>0.11571088322379144420</td>\n",
       "      <td>0.05471436828786085949</td>\n",
       "    </tr>\n",
       "    <tr>\n",
       "      <th>5</th>\n",
       "      <td>100.0</td>\n",
       "      <td>0.11569245778028483529</td>\n",
       "      <td>0.05467428412136703109</td>\n",
       "    </tr>\n",
       "    <tr>\n",
       "      <th>13</th>\n",
       "      <td>108.0</td>\n",
       "      <td>0.11565580217027136845</td>\n",
       "      <td>0.05547468424807519560</td>\n",
       "    </tr>\n",
       "    <tr>\n",
       "      <th>10</th>\n",
       "      <td>105.0</td>\n",
       "      <td>0.11563958201824625638</td>\n",
       "      <td>0.05511371108834560439</td>\n",
       "    </tr>\n",
       "    <tr>\n",
       "      <th>12</th>\n",
       "      <td>107.0</td>\n",
       "      <td>0.11561425257616637918</td>\n",
       "      <td>0.05533523500212823854</td>\n",
       "    </tr>\n",
       "    <tr>\n",
       "      <th>4</th>\n",
       "      <td>99.0</td>\n",
       "      <td>0.11561315160863022689</td>\n",
       "      <td>0.05453591767546756702</td>\n",
       "    </tr>\n",
       "    <tr>\n",
       "      <th>8</th>\n",
       "      <td>103.0</td>\n",
       "      <td>0.11557557849525074145</td>\n",
       "      <td>0.05417691911582388220</td>\n",
       "    </tr>\n",
       "    <tr>\n",
       "      <th>11</th>\n",
       "      <td>106.0</td>\n",
       "      <td>0.11551063906043387841</td>\n",
       "      <td>0.05490697530841242430</td>\n",
       "    </tr>\n",
       "    <tr>\n",
       "      <th>9</th>\n",
       "      <td>104.0</td>\n",
       "      <td>0.11548507526747611718</td>\n",
       "      <td>0.05511827035469824693</td>\n",
       "    </tr>\n",
       "  </tbody>\n",
       "</table>\n",
       "</div>"
      ],
      "text/plain": [
       "    n_nonzero_coefs                    RMSE                 std dev\n",
       "18            113.0  0.11635461557324669468  0.05525759511489178322\n",
       "19            114.0  0.11633665163796862163  0.05522863621544055190\n",
       "17            112.0  0.11627851177965460583  0.05523542618074944038\n",
       "2              97.0  0.11623042452590863494  0.05544194037389812979\n",
       "14            109.0  0.11621013457119974688  0.05623034175861326561\n",
       "16            111.0  0.11620422502234546702  0.05506828421018861858\n",
       "15            110.0  0.11615534270940745809  0.05585391740441771752\n",
       "1              96.0  0.11596530417585741712  0.05539956910250017075\n",
       "0              95.0  0.11594583769019069230  0.05531592242154659972\n",
       "3              98.0  0.11584298364201237042  0.05502734443771784695\n",
       "7             102.0  0.11574049590381504937  0.05392787023981496924\n",
       "6             101.0  0.11571088322379144420  0.05471436828786085949\n",
       "5             100.0  0.11569245778028483529  0.05467428412136703109\n",
       "13            108.0  0.11565580217027136845  0.05547468424807519560\n",
       "10            105.0  0.11563958201824625638  0.05511371108834560439\n",
       "12            107.0  0.11561425257616637918  0.05533523500212823854\n",
       "4              99.0  0.11561315160863022689  0.05453591767546756702\n",
       "8             103.0  0.11557557849525074145  0.05417691911582388220\n",
       "11            106.0  0.11551063906043387841  0.05490697530841242430\n",
       "9             104.0  0.11548507526747611718  0.05511827035469824693"
      ]
     },
     "execution_count": 40,
     "metadata": {},
     "output_type": "execute_result"
    },
    {
     "data": {
      "image/png": "[encoded data removed]",
      "text/plain": [
       "<matplotlib.figure.Figure at 0x7f35c05394d0>"
      ]
     },
     "metadata": {},
     "output_type": "display_data"
    }
   ],
   "source": [
    "omp_regr = linear_model.OrthogonalMatchingPursuit(n_nonzero_coefs=90)\n",
    "omp_params = {'n_nonzero_coefs': np.arange(95, 115, 1).tolist()}\n",
    "omp_df = single_search(omp_regr, omp_params)\n",
    "omp_df.plot(x = ['n_nonzero_coefs'], y = ['RMSE'])\n",
    "omp_df.sort_values(['RMSE'], ascending = False)"
   ]
  },
  {
   "cell_type": "code",
   "execution_count": 57,
   "metadata": {
    "collapsed": true
   },
   "outputs": [],
   "source": [
    "omp_regr = linear_model.OrthogonalMatchingPursuit(n_nonzero_coefs=104)"
   ]
  },
  {
   "cell_type": "code",
   "execution_count": 58,
   "metadata": {
    "collapsed": false
   },
   "outputs": [
    {
     "data": {
      "text/plain": [
       "0.10617371711996455"
      ]
     },
     "execution_count": 58,
     "metadata": {},
     "output_type": "execute_result"
    }
   ],
   "source": [
    "validate(omp_regr)"
   ]
  },
  {
   "cell_type": "markdown",
   "metadata": {},
   "source": [
    "## XGBoost"
   ]
  },
  {
   "cell_type": "code",
   "execution_count": 24,
   "metadata": {
    "collapsed": false
   },
   "outputs": [
    {
     "name": "stdout",
     "output_type": "stream",
     "text": [
      "RandomizedSearchCV took 3026.17 seconds for 20 candidates parameter settings.\n",
      "Model with rank: 1\n",
      "Mean validation score: -0.015 (std: 0.004)\n",
      "Parameters: {'reg_alpha': 0.14946132842298368, 'colsample_bytree': 0.42769267737130268, 'learning_rate': 0.18575315230432843, 'min_child_weight': 0.40182436543396405, 'n_estimators': 494, 'subsample': 0.85749593371821786, 'reg_lambda': 0.14521634166888167, 'max_depth': 5, 'gamma': 0.055509459121869019}\n",
      "\n",
      "Model with rank: 2\n",
      "Mean validation score: -0.019 (std: 0.003)\n",
      "Parameters: {'reg_alpha': 1.775676242237308, 'colsample_bytree': 0.64907554457678907, 'learning_rate': 0.031835834799785467, 'min_child_weight': 0.13792596812989941, 'n_estimators': 190, 'subsample': 0.66463327015631735, 'reg_lambda': 1.2999788275145847, 'max_depth': 6, 'gamma': 0.063484776956160754}\n",
      "\n",
      "Model with rank: 3\n",
      "Mean validation score: -0.020 (std: 0.004)\n",
      "Parameters: {'reg_alpha': 0.56818079645458708, 'colsample_bytree': 0.40933929079942766, 'learning_rate': 0.13257402296073084, 'min_child_weight': 0.34274933158845294, 'n_estimators': 169, 'subsample': 0.58580199002542821, 'reg_lambda': 1.4204535797326909, 'max_depth': 3, 'gamma': 0.78241297222639428}\n",
      "\n"
     ]
    }
   ],
   "source": [
    "xgb_regr = xgb.XGBRegressor(seed = 42, nthread = -1, silent = 1)\n",
    "xgb_param = {'max_depth': scipy.stats.randint(1,10), # Max. Depth [1,∞]\n",
    "             'min_child_weight': scipy.stats.expon(scale=1), # Min. Child Weight [0,∞]\n",
    "             'gamma': scipy.stats.expon(scale=1), # Minimum Split Loss, gamma [0,∞]\n",
    "             'subsample': scipy.stats.uniform(0, 1), # Subsample Ratio of the training instance [0,1]\n",
    "             'colsample_bytree': scipy.stats.uniform(0, 1), # Subsample Ratio of columns [0,1]\n",
    "             'reg_alpha': scipy.stats.expon(scale=1), # L1 regularization, alpha [0,∞]\n",
    "             'reg_lambda': scipy.stats.expon(scale=1), # L2 regularization, lambda [0,∞]\n",
    "             'learning_rate': scipy.stats.uniform(0, 1), # Step size shrinkage (learning rate) [0,1]\n",
    "             'n_estimators': scipy.stats.randint(50,500) # Number of boosted trees, n_estimators\n",
    "            }\n",
    "random_search(xgb_regr, xgb_param, 20)"
   ]
  },
  {
   "cell_type": "code",
   "execution_count": 70,
   "metadata": {
    "collapsed": false
   },
   "outputs": [
    {
     "data": {
      "text/html": [
       "<div>\n",
       "<table border=\"1\" class=\"dataframe\">\n",
       "  <thead>\n",
       "    <tr style=\"text-align: right;\">\n",
       "      <th></th>\n",
       "      <th>n_estimators</th>\n",
       "      <th>RMSE</th>\n",
       "      <th>std dev</th>\n",
       "    </tr>\n",
       "  </thead>\n",
       "  <tbody>\n",
       "    <tr>\n",
       "      <th>5</th>\n",
       "      <td>1050.0</td>\n",
       "      <td>0.11278493525309782330</td>\n",
       "      <td>0.06337620987786941884</td>\n",
       "    </tr>\n",
       "    <tr>\n",
       "      <th>1</th>\n",
       "      <td>850.0</td>\n",
       "      <td>0.11277265670670931497</td>\n",
       "      <td>0.06328022295779603401</td>\n",
       "    </tr>\n",
       "    <tr>\n",
       "      <th>0</th>\n",
       "      <td>800.0</td>\n",
       "      <td>0.11276261219096579691</td>\n",
       "      <td>0.06348915811691718813</td>\n",
       "    </tr>\n",
       "    <tr>\n",
       "      <th>2</th>\n",
       "      <td>900.0</td>\n",
       "      <td>0.11275253860181083665</td>\n",
       "      <td>0.06329645129768771139</td>\n",
       "    </tr>\n",
       "    <tr>\n",
       "      <th>10</th>\n",
       "      <td>1300.0</td>\n",
       "      <td>0.11273861849367931842</td>\n",
       "      <td>0.06295034735276455740</td>\n",
       "    </tr>\n",
       "    <tr>\n",
       "      <th>6</th>\n",
       "      <td>1100.0</td>\n",
       "      <td>0.11273439782586705538</td>\n",
       "      <td>0.06323512775223676108</td>\n",
       "    </tr>\n",
       "    <tr>\n",
       "      <th>3</th>\n",
       "      <td>950.0</td>\n",
       "      <td>0.11272126485294677034</td>\n",
       "      <td>0.06324535034597630889</td>\n",
       "    </tr>\n",
       "    <tr>\n",
       "      <th>8</th>\n",
       "      <td>1200.0</td>\n",
       "      <td>0.11272054141010726114</td>\n",
       "      <td>0.06310876348967765781</td>\n",
       "    </tr>\n",
       "    <tr>\n",
       "      <th>9</th>\n",
       "      <td>1250.0</td>\n",
       "      <td>0.11271566752240953779</td>\n",
       "      <td>0.06301665862953427510</td>\n",
       "    </tr>\n",
       "    <tr>\n",
       "      <th>4</th>\n",
       "      <td>1000.0</td>\n",
       "      <td>0.11271419340401429843</td>\n",
       "      <td>0.06332747370344250781</td>\n",
       "    </tr>\n",
       "    <tr>\n",
       "      <th>11</th>\n",
       "      <td>1350.0</td>\n",
       "      <td>0.11267266249214570595</td>\n",
       "      <td>0.06281010770509411201</td>\n",
       "    </tr>\n",
       "    <tr>\n",
       "      <th>7</th>\n",
       "      <td>1150.0</td>\n",
       "      <td>0.11266813473413476998</td>\n",
       "      <td>0.06312302639509015378</td>\n",
       "    </tr>\n",
       "    <tr>\n",
       "      <th>12</th>\n",
       "      <td>1400.0</td>\n",
       "      <td>0.11255565322901080194</td>\n",
       "      <td>0.06279433265045904211</td>\n",
       "    </tr>\n",
       "    <tr>\n",
       "      <th>18</th>\n",
       "      <td>1700.0</td>\n",
       "      <td>0.11251858749343085497</td>\n",
       "      <td>0.06270681063236184516</td>\n",
       "    </tr>\n",
       "    <tr>\n",
       "      <th>16</th>\n",
       "      <td>1600.0</td>\n",
       "      <td>0.11251347811174143565</td>\n",
       "      <td>0.06276059321931766466</td>\n",
       "    </tr>\n",
       "    <tr>\n",
       "      <th>14</th>\n",
       "      <td>1500.0</td>\n",
       "      <td>0.11250401439077713228</td>\n",
       "      <td>0.06274849917688132828</td>\n",
       "    </tr>\n",
       "    <tr>\n",
       "      <th>19</th>\n",
       "      <td>1750.0</td>\n",
       "      <td>0.11250284452943302982</td>\n",
       "      <td>0.06278670844805471496</td>\n",
       "    </tr>\n",
       "    <tr>\n",
       "      <th>15</th>\n",
       "      <td>1550.0</td>\n",
       "      <td>0.11250270579915816471</td>\n",
       "      <td>0.06268677857382522201</td>\n",
       "    </tr>\n",
       "    <tr>\n",
       "      <th>13</th>\n",
       "      <td>1450.0</td>\n",
       "      <td>0.11248908521569567220</td>\n",
       "      <td>0.06290535981347343542</td>\n",
       "    </tr>\n",
       "    <tr>\n",
       "      <th>20</th>\n",
       "      <td>1800.0</td>\n",
       "      <td>0.11247570289937097732</td>\n",
       "      <td>0.06283462783553088460</td>\n",
       "    </tr>\n",
       "    <tr>\n",
       "      <th>17</th>\n",
       "      <td>1650.0</td>\n",
       "      <td>0.11245468411272113718</td>\n",
       "      <td>0.06272821833647389267</td>\n",
       "    </tr>\n",
       "  </tbody>\n",
       "</table>\n",
       "</div>"
      ],
      "text/plain": [
       "    n_estimators                    RMSE                 std dev\n",
       "5         1050.0  0.11278493525309782330  0.06337620987786941884\n",
       "1          850.0  0.11277265670670931497  0.06328022295779603401\n",
       "0          800.0  0.11276261219096579691  0.06348915811691718813\n",
       "2          900.0  0.11275253860181083665  0.06329645129768771139\n",
       "10        1300.0  0.11273861849367931842  0.06295034735276455740\n",
       "6         1100.0  0.11273439782586705538  0.06323512775223676108\n",
       "3          950.0  0.11272126485294677034  0.06324535034597630889\n",
       "8         1200.0  0.11272054141010726114  0.06310876348967765781\n",
       "9         1250.0  0.11271566752240953779  0.06301665862953427510\n",
       "4         1000.0  0.11271419340401429843  0.06332747370344250781\n",
       "11        1350.0  0.11267266249214570595  0.06281010770509411201\n",
       "7         1150.0  0.11266813473413476998  0.06312302639509015378\n",
       "12        1400.0  0.11255565322901080194  0.06279433265045904211\n",
       "18        1700.0  0.11251858749343085497  0.06270681063236184516\n",
       "16        1600.0  0.11251347811174143565  0.06276059321931766466\n",
       "14        1500.0  0.11250401439077713228  0.06274849917688132828\n",
       "19        1750.0  0.11250284452943302982  0.06278670844805471496\n",
       "15        1550.0  0.11250270579915816471  0.06268677857382522201\n",
       "13        1450.0  0.11248908521569567220  0.06290535981347343542\n",
       "20        1800.0  0.11247570289937097732  0.06283462783553088460\n",
       "17        1650.0  0.11245468411272113718  0.06272821833647389267"
      ]
     },
     "execution_count": 70,
     "metadata": {},
     "output_type": "execute_result"
    },
    {
     "data": {
      "image/png": "[encoded data removed]",
      "text/plain": [
       "<matplotlib.figure.Figure at 0x7f35c2499ad0>"
      ]
     },
     "metadata": {},
     "output_type": "display_data"
    }
   ],
   "source": [
    "xgb_regr = xgb.XGBRegressor(\n",
    "    max_depth = 2, \n",
    "    min_child_weight = 4.6,\n",
    "    gamma = 0.04,\n",
    "    subsample = 0.6,\n",
    "    colsample_bytree = 0.7,\n",
    "    reg_alpha = 0.4,\n",
    "    reg_lambda = 0.1, \n",
    "    learning_rate = 0.06,\n",
    "    n_estimators = 494,\n",
    "    objective='reg:linear', \n",
    "    seed = 42,\n",
    "    nthread = -1,\n",
    "    silent = 1)\n",
    "xgb_params = {'n_estimators': np.arange(800, 1850, 50).tolist()}\n",
    "xgb_df = single_search(xgb_regr, xgb_params)\n",
    "xgb_df.plot(x = ['n_estimators'], y = ['RMSE'])\n",
    "xgb_df.sort_values(['RMSE'], ascending = False)"
   ]
  },
  {
   "cell_type": "code",
   "execution_count": 71,
   "metadata": {
    "collapsed": true
   },
   "outputs": [],
   "source": [
    "xgb_regr = xgb.XGBRegressor(\n",
    "    max_depth = 2, \n",
    "    min_child_weight = 4.6,\n",
    "    gamma = 0.04,\n",
    "    subsample = 0.6,\n",
    "    colsample_bytree = 0.7,\n",
    "    reg_alpha = 0.4,\n",
    "    reg_lambda = 0.1, \n",
    "    learning_rate = 0.06,\n",
    "    n_estimators = 1650,\n",
    "    objective='reg:linear', \n",
    "    seed = 42,\n",
    "    nthread = -1,\n",
    "    silent = 1)"
   ]
  },
  {
   "cell_type": "code",
   "execution_count": 72,
   "metadata": {
    "collapsed": false
   },
   "outputs": [
    {
     "data": {
      "text/plain": [
       "0.1122552191631449"
      ]
     },
     "execution_count": 72,
     "metadata": {},
     "output_type": "execute_result"
    }
   ],
   "source": [
    "validate(xgb_regr)"
   ]
  },
  {
   "cell_type": "markdown",
   "metadata": {},
   "source": [
    "## MLP Regressor"
   ]
  },
  {
   "cell_type": "code",
   "execution_count": 25,
   "metadata": {
    "collapsed": true
   },
   "outputs": [],
   "source": [
    "mlp_regr = MLPRegressor(activation='relu', solver='lbfgs', random_state=641,\n",
    "                        hidden_layer_sizes=(100, ),\n",
    "                        alpha=0.0001, \n",
    "                        tol=0.0001, \n",
    "                        max_iter=200)"
   ]
  },
  {
   "cell_type": "code",
   "execution_count": 26,
   "metadata": {
    "collapsed": false
   },
   "outputs": [
    {
     "name": "stdout",
     "output_type": "stream",
     "text": [
      "RandomizedSearchCV took 802.17 seconds for 20 candidates parameter settings.\n",
      "Model with rank: 1\n",
      "Mean validation score: -0.019 (std: 0.004)\n",
      "Parameters: {'alpha': 0.000259801956460835, 'max_iter': 503.68955049365047, 'tol': 0.00038100956368695234, 'hidden_layer_sizes': 79}\n",
      "\n",
      "Model with rank: 2\n",
      "Mean validation score: -0.019 (std: 0.003)\n",
      "Parameters: {'alpha': 2.9655059768918286e-05, 'max_iter': 359.49452540724144, 'tol': 5.1627326681963597e-05, 'hidden_layer_sizes': 455}\n",
      "\n",
      "Model with rank: 3\n",
      "Mean validation score: -0.020 (std: 0.004)\n",
      "Parameters: {'alpha': 3.5630479909229302e-05, 'max_iter': 278.44308822284239, 'tol': 8.2798240896678598e-05, 'hidden_layer_sizes': 263}\n",
      "\n"
     ]
    }
   ],
   "source": [
    "mlp_regr = MLPRegressor(activation='relu', solver='lbfgs', random_state=641)\n",
    "mlp_param = {'hidden_layer_sizes': scipy.stats.randint(50,500), # size of a single hidden layer\n",
    "             'alpha': scipy.stats.expon(scale=0.0001), # L2 regularization,  [0,∞]\n",
    "             'tol': scipy.stats.expon(scale=0.0001), # Minimum improvement in loss fun. during training\n",
    "             'max_iter': scipy.stats.uniform(200, 400), # Maximum number of iterations of solver\n",
    "            }\n",
    "random_search(mlp_regr, mlp_param, 20)"
   ]
  },
  {
   "cell_type": "code",
   "execution_count": 62,
   "metadata": {
    "collapsed": false
   },
   "outputs": [
    {
     "data": {
      "text/html": [
       "<div>\n",
       "<table border=\"1\" class=\"dataframe\">\n",
       "  <thead>\n",
       "    <tr style=\"text-align: right;\">\n",
       "      <th></th>\n",
       "      <th>hidden_layer_sizes</th>\n",
       "      <th>RMSE</th>\n",
       "      <th>std dev</th>\n",
       "    </tr>\n",
       "  </thead>\n",
       "  <tbody>\n",
       "    <tr>\n",
       "      <th>3</th>\n",
       "      <td>4.0</td>\n",
       "      <td>0.12849635178960150395</td>\n",
       "      <td>0.06855433005071789876</td>\n",
       "    </tr>\n",
       "    <tr>\n",
       "      <th>9</th>\n",
       "      <td>10.0</td>\n",
       "      <td>0.12543453665307705003</td>\n",
       "      <td>0.06134341391450377073</td>\n",
       "    </tr>\n",
       "    <tr>\n",
       "      <th>7</th>\n",
       "      <td>8.0</td>\n",
       "      <td>0.12481477791499318020</td>\n",
       "      <td>0.06365630810321602773</td>\n",
       "    </tr>\n",
       "    <tr>\n",
       "      <th>8</th>\n",
       "      <td>9.0</td>\n",
       "      <td>0.12445000596152740180</td>\n",
       "      <td>0.06354261051495883883</td>\n",
       "    </tr>\n",
       "    <tr>\n",
       "      <th>4</th>\n",
       "      <td>5.0</td>\n",
       "      <td>0.12369454839433133286</td>\n",
       "      <td>0.06702506832170232465</td>\n",
       "    </tr>\n",
       "    <tr>\n",
       "      <th>5</th>\n",
       "      <td>6.0</td>\n",
       "      <td>0.12328953948989600231</td>\n",
       "      <td>0.06546624482353433083</td>\n",
       "    </tr>\n",
       "    <tr>\n",
       "      <th>6</th>\n",
       "      <td>7.0</td>\n",
       "      <td>0.12223955667900790467</td>\n",
       "      <td>0.06259196245209658338</td>\n",
       "    </tr>\n",
       "    <tr>\n",
       "      <th>1</th>\n",
       "      <td>2.0</td>\n",
       "      <td>0.12221318643714368379</td>\n",
       "      <td>0.06279871614449603068</td>\n",
       "    </tr>\n",
       "    <tr>\n",
       "      <th>10</th>\n",
       "      <td>11.0</td>\n",
       "      <td>0.12095475335288854990</td>\n",
       "      <td>0.05925174837991468990</td>\n",
       "    </tr>\n",
       "    <tr>\n",
       "      <th>2</th>\n",
       "      <td>3.0</td>\n",
       "      <td>0.12071240449316603116</td>\n",
       "      <td>0.06547408963416227745</td>\n",
       "    </tr>\n",
       "    <tr>\n",
       "      <th>0</th>\n",
       "      <td>1.0</td>\n",
       "      <td>0.11710275036038217400</td>\n",
       "      <td>0.06368642765957685525</td>\n",
       "    </tr>\n",
       "  </tbody>\n",
       "</table>\n",
       "</div>"
      ],
      "text/plain": [
       "    hidden_layer_sizes                    RMSE                 std dev\n",
       "3                  4.0  0.12849635178960150395  0.06855433005071789876\n",
       "9                 10.0  0.12543453665307705003  0.06134341391450377073\n",
       "7                  8.0  0.12481477791499318020  0.06365630810321602773\n",
       "8                  9.0  0.12445000596152740180  0.06354261051495883883\n",
       "4                  5.0  0.12369454839433133286  0.06702506832170232465\n",
       "5                  6.0  0.12328953948989600231  0.06546624482353433083\n",
       "6                  7.0  0.12223955667900790467  0.06259196245209658338\n",
       "1                  2.0  0.12221318643714368379  0.06279871614449603068\n",
       "10                11.0  0.12095475335288854990  0.05925174837991468990\n",
       "2                  3.0  0.12071240449316603116  0.06547408963416227745\n",
       "0                  1.0  0.11710275036038217400  0.06368642765957685525"
      ]
     },
     "execution_count": 62,
     "metadata": {},
     "output_type": "execute_result"
    },
    {
     "data": {
      "image/png": "[encoded data removed]",
      "text/plain": [
       "<matplotlib.figure.Figure at 0x7f35c24d0c50>"
      ]
     },
     "metadata": {},
     "output_type": "display_data"
    }
   ],
   "source": [
    "mlp_regr = MLPRegressor(activation='relu', solver='lbfgs', random_state=641,\n",
    "                        hidden_layer_sizes=(1, ),\n",
    "                        alpha=0.0007, \n",
    "                        tol=0.0005, \n",
    "                        max_iter=200)\n",
    "mlp_params = {'hidden_layer_sizes': np.arange(1, 12, 1).tolist()}\n",
    "mlp_df = single_search(mlp_regr, mlp_params)\n",
    "mlp_df.plot(x = ['hidden_layer_sizes'], y = ['RMSE'])\n",
    "mlp_df.sort_values(['RMSE'], ascending = False)"
   ]
  },
  {
   "cell_type": "code",
   "execution_count": 64,
   "metadata": {
    "collapsed": true
   },
   "outputs": [],
   "source": [
    "mlp_regr = MLPRegressor(activation='relu', solver='lbfgs', random_state=641,\n",
    "                        hidden_layer_sizes=(1, ),\n",
    "                        alpha=0.0007, \n",
    "                        tol=0.0005, \n",
    "                        max_iter=200)"
   ]
  },
  {
   "cell_type": "code",
   "execution_count": 65,
   "metadata": {
    "collapsed": false
   },
   "outputs": [
    {
     "data": {
      "text/plain": [
       "0.11333103023667514"
      ]
     },
     "execution_count": 65,
     "metadata": {},
     "output_type": "execute_result"
    }
   ],
   "source": [
    "validate(mlp_regr)"
   ]
  },
  {
   "cell_type": "code",
   "execution_count": null,
   "metadata": {
    "collapsed": true
   },
   "outputs": [],
   "source": []
  }
 ],
 "metadata": {
  "kernelspec": {
   "display_name": "Python 2",
   "language": "python",
   "name": "python2"
  },
  "language_info": {
   "codemirror_mode": {
    "name": "ipython",
    "version": 2
   },
   "file_extension": ".py",
   "mimetype": "text/x-python",
   "name": "python",
   "nbconvert_exporter": "python",
   "pygments_lexer": "ipython2",
   "version": "2.7.13"
  }
 },
 "nbformat": 4,
 "nbformat_minor": 2
}
