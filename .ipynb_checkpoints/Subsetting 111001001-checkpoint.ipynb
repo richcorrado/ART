{
 "cells": [
  {
   "cell_type": "markdown",
   "metadata": {},
   "source": [
    "# Subsetting 111001001 all features"
   ]
  },
  {
   "cell_type": "markdown",
   "metadata": {},
   "source": [
    "In this notebook, we're specifically working on the dataset formed by dropping (31, 496, 524, 917, 1299) with all features.\n",
    "\n",
    "We note that houses with a basement or garage have additional features, which might improve the regression.  We will explore the best way to exploit this by considering subsets of the data."
   ]
  },
  {
   "cell_type": "code",
   "execution_count": 1,
   "metadata": {
    "collapsed": true
   },
   "outputs": [],
   "source": [
    "import itertools\n",
    "import numpy as np\n",
    "import pandas as pd\n",
    "import scipy\n",
    "from scipy import optimize\n",
    "\n",
    "pd.set_option('display.precision',20)\n",
    "pd.set_option('display.max_colwidth',100)\n",
    "\n",
    "from sklearn import linear_model, svm, tree\n",
    "from sklearn.metrics import mean_squared_error\n",
    "from sklearn.ensemble import RandomForestRegressor\n",
    "from sklearn.model_selection import train_test_split, cross_val_predict, KFold, cross_val_score, \\\n",
    "                                    GridSearchCV, RandomizedSearchCV, ShuffleSplit, StratifiedShuffleSplit\n",
    "from sklearn.neural_network import MLPRegressor\n",
    "    \n",
    "    \n",
    "    \n",
    "import xgboost as xgb\n",
    "\n",
    "from time import time\n",
    "from scipy.stats import randint as sp_randint\n",
    "\n",
    "import matplotlib.pylab as plt\n",
    "from matplotlib.pylab import rcParams\n",
    "from matplotlib import pyplot\n",
    "rcParams['figure.figsize'] = 12, 4\n",
    "%matplotlib inline"
   ]
  },
  {
   "cell_type": "code",
   "execution_count": 2,
   "metadata": {
    "collapsed": true
   },
   "outputs": [],
   "source": [
    "# def to compare goodness of fit on training set\n",
    "def rmse(y_true, y_pred):\n",
    "    return np.sqrt(mean_squared_error(y_true, y_pred))"
   ]
  },
  {
   "cell_type": "code",
   "execution_count": 3,
   "metadata": {
    "collapsed": true
   },
   "outputs": [],
   "source": [
    "# Utility function to report best scores\n",
    "def report(results, n_top=3):\n",
    "    for i in range(1, n_top + 1):\n",
    "        candidates = np.flatnonzero(results['rank_test_score'] == i)\n",
    "        for candidate in candidates:\n",
    "            print(\"Model with rank: {0}\".format(i))\n",
    "            print(\"Mean validation score: {0:.3f} (std: {1:.3f})\".format(\n",
    "                  results['mean_test_score'][candidate],\n",
    "                  results['std_test_score'][candidate]))\n",
    "            print(\"Parameters: {0}\".format(results['params'][candidate]))\n",
    "            print(\"\")"
   ]
  },
  {
   "cell_type": "code",
   "execution_count": 4,
   "metadata": {
    "collapsed": true
   },
   "outputs": [],
   "source": [
    "# run randomized search\n",
    "def random_search(regr, param_dist, n_iter_search): \n",
    "    rs = RandomizedSearchCV(regr, param_distributions=param_dist, scoring = 'neg_mean_squared_error',\n",
    "                                   n_jobs=-1, n_iter=n_iter_search, cv=kfold) #, verbose = 4)\n",
    "    start = time()\n",
    "    rs.fit(x_train, y_train)\n",
    "    print(\"RandomizedSearchCV took %.2f seconds for %d candidates\"\n",
    "      \" parameter settings.\" % ((time() - start), n_iter_search))\n",
    "    report(rs.cv_results_)"
   ]
  },
  {
   "cell_type": "code",
   "execution_count": 5,
   "metadata": {
    "collapsed": true
   },
   "outputs": [],
   "source": [
    "# run single parameter search (for ridge or lasso)\n",
    "def single_search(regr, params):\n",
    "    regr_results_df = pd.DataFrame(dtype = 'float64')\n",
    "    count = 0\n",
    "    for k, v in params.items():\n",
    "        for val in v:\n",
    "            regr.set_params(**{k: val})\n",
    "            regr_results_df.loc[count, k] = val\n",
    "            results = cross_val_score(regr, x_train, y_train, cv=kfold, scoring = 'neg_mean_squared_error')\n",
    "            (regr_results_df.loc[count, 'RMSE'], regr_results_df.loc[count, 'std dev']) = \\\n",
    "                    (np.sqrt(-results.mean()), np.sqrt(results.std()))\n",
    "            count += 1\n",
    "    return regr_results_df"
   ]
  },
  {
   "cell_type": "code",
   "execution_count": 6,
   "metadata": {
    "collapsed": true
   },
   "outputs": [],
   "source": [
    "# test against validation set\n",
    "def validate(regr):\n",
    "    regr.fit(x_train, y_train)\n",
    "    y_pred = regr.predict(x_validation)\n",
    "    return rmse(y_validation, y_pred)"
   ]
  },
  {
   "cell_type": "code",
   "execution_count": 7,
   "metadata": {
    "collapsed": true
   },
   "outputs": [],
   "source": [
    "# Cross-validation sets\n",
    "kfold = KFold(n_splits=10, random_state=7)"
   ]
  },
  {
   "cell_type": "code",
   "execution_count": 8,
   "metadata": {
    "collapsed": true
   },
   "outputs": [],
   "source": [
    "df = pd.read_csv(\"./input/train_tidy_111001001.csv\")\n",
    "test_df = pd.read_csv(\"./input/test_tidy_111001001.csv\")"
   ]
  },
  {
   "cell_type": "markdown",
   "metadata": {},
   "source": [
    "## Garage"
   ]
  },
  {
   "cell_type": "code",
   "execution_count": 13,
   "metadata": {
    "collapsed": false
   },
   "outputs": [
    {
     "data": {
      "text/plain": [
       "(80, 347)"
      ]
     },
     "execution_count": 13,
     "metadata": {},
     "output_type": "execute_result"
    }
   ],
   "source": [
    "df[df['NoGarage']==1].shape"
   ]
  },
  {
   "cell_type": "markdown",
   "metadata": {},
   "source": [
    "Only 80 of the houses in the training data have no garage.  Let us set a baseline validation error for when we don't subset."
   ]
  },
  {
   "cell_type": "code",
   "execution_count": 14,
   "metadata": {
    "collapsed": false
   },
   "outputs": [],
   "source": [
    "ss = ShuffleSplit(n_splits=1, test_size=0.20, random_state=71)\n",
    "\n",
    "X = df.values\n",
    "\n",
    "for train_idx, validation_idx in ss.split(X):\n",
    "    train_df = df.iloc[train_idx]\n",
    "    validation_df = df.iloc[validation_idx]\n",
    "    \n",
    "y_validation = validation_df['SalePrice'].values\n",
    "x_validation = validation_df.drop(['HouseId', 'SalePrice', 'GarageAge', 'GarageAgeLin'],axis=1).values\n",
    "y_train = train_df['SalePrice'].values\n",
    "x_train = train_df.drop(['HouseId', 'SalePrice', 'GarageAge', 'GarageAgeLin'],axis=1).values"
   ]
  },
  {
   "cell_type": "code",
   "execution_count": 16,
   "metadata": {
    "collapsed": false
   },
   "outputs": [
    {
     "data": {
      "text/plain": [
       "0.09813879414399386"
      ]
     },
     "execution_count": 16,
     "metadata": {},
     "output_type": "execute_result"
    }
   ],
   "source": [
    "lassolarscv_regr = linear_model.LassoLarsCV()\n",
    "baseline = validate(lassolarscv_regr)\n",
    "baseline"
   ]
  },
  {
   "cell_type": "markdown",
   "metadata": {},
   "source": [
    "Now we restrict to houses with a garage."
   ]
  },
  {
   "cell_type": "code",
   "execution_count": 9,
   "metadata": {
    "collapsed": true
   },
   "outputs": [],
   "source": [
    "df_hasg = df[df['NoGarage']==0]"
   ]
  },
  {
   "cell_type": "code",
   "execution_count": 18,
   "metadata": {
    "collapsed": true
   },
   "outputs": [],
   "source": [
    "X = df_hasg.values\n",
    "\n",
    "for train_idx, validation_idx in ss.split(X):\n",
    "    train_df = df_hasg.iloc[train_idx]\n",
    "    validation_df = df_hasg.iloc[validation_idx]\n",
    "    \n",
    "y_validation = validation_df['SalePrice'].values\n",
    "x_validation = validation_df.drop(['HouseId', 'SalePrice'],axis=1).values\n",
    "y_train = train_df['SalePrice'].values\n",
    "x_train = train_df.drop(['HouseId', 'SalePrice'],axis=1).values"
   ]
  },
  {
   "cell_type": "code",
   "execution_count": 19,
   "metadata": {
    "collapsed": false
   },
   "outputs": [
    {
     "name": "stderr",
     "output_type": "stream",
     "text": [
      "/usr/lib64/python2.7/site-packages/sklearn/linear_model/least_angle.py:309: ConvergenceWarning: Regressors in active set degenerate. Dropping a regressor, after 221 iterations, i.e. alpha=4.151e-05, with an active set of 181 regressors, and the smallest cholesky pivot element being 1.490e-08\n",
      "  ConvergenceWarning)\n",
      "/usr/lib64/python2.7/site-packages/sklearn/linear_model/least_angle.py:309: ConvergenceWarning: Regressors in active set degenerate. Dropping a regressor, after 247 iterations, i.e. alpha=2.892e-05, with an active set of 197 regressors, and the smallest cholesky pivot element being 1.490e-08\n",
      "  ConvergenceWarning)\n",
      "/usr/lib64/python2.7/site-packages/sklearn/linear_model/least_angle.py:309: ConvergenceWarning: Regressors in active set degenerate. Dropping a regressor, after 254 iterations, i.e. alpha=2.771e-05, with an active set of 200 regressors, and the smallest cholesky pivot element being 1.825e-08\n",
      "  ConvergenceWarning)\n",
      "/usr/lib64/python2.7/site-packages/sklearn/linear_model/least_angle.py:309: ConvergenceWarning: Regressors in active set degenerate. Dropping a regressor, after 254 iterations, i.e. alpha=2.746e-05, with an active set of 200 regressors, and the smallest cholesky pivot element being 7.300e-08\n",
      "  ConvergenceWarning)\n",
      "/usr/lib64/python2.7/site-packages/sklearn/linear_model/least_angle.py:309: ConvergenceWarning: Regressors in active set degenerate. Dropping a regressor, after 259 iterations, i.e. alpha=2.486e-05, with an active set of 203 regressors, and the smallest cholesky pivot element being 7.300e-08\n",
      "  ConvergenceWarning)\n",
      "/usr/lib64/python2.7/site-packages/sklearn/linear_model/least_angle.py:334: ConvergenceWarning: Early stopping the lars path, as the residues are small and the current value of alpha is no longer well controlled. 263 iterations, alpha=2.321e-05, previous alpha=2.315e-05, with an active set of 206 regressors.\n",
      "  ConvergenceWarning)\n",
      "/usr/lib64/python2.7/site-packages/sklearn/linear_model/least_angle.py:309: ConvergenceWarning: Regressors in active set degenerate. Dropping a regressor, after 141 iterations, i.e. alpha=8.526e-05, with an active set of 135 regressors, and the smallest cholesky pivot element being 2.581e-08\n",
      "  ConvergenceWarning)\n",
      "/usr/lib64/python2.7/site-packages/sklearn/linear_model/least_angle.py:309: ConvergenceWarning: Regressors in active set degenerate. Dropping a regressor, after 146 iterations, i.e. alpha=7.859e-05, with an active set of 140 regressors, and the smallest cholesky pivot element being 2.581e-08\n",
      "  ConvergenceWarning)\n",
      "/usr/lib64/python2.7/site-packages/sklearn/linear_model/least_angle.py:334: ConvergenceWarning: Early stopping the lars path, as the residues are small and the current value of alpha is no longer well controlled. 170 iterations, alpha=5.532e-05, previous alpha=5.511e-05, with an active set of 163 regressors.\n",
      "  ConvergenceWarning)\n",
      "/usr/lib64/python2.7/site-packages/sklearn/linear_model/least_angle.py:309: ConvergenceWarning: Regressors in active set degenerate. Dropping a regressor, after 167 iterations, i.e. alpha=6.800e-05, with an active set of 141 regressors, and the smallest cholesky pivot element being 2.788e-08\n",
      "  ConvergenceWarning)\n",
      "/usr/lib64/python2.7/site-packages/sklearn/linear_model/least_angle.py:309: ConvergenceWarning: Regressors in active set degenerate. Dropping a regressor, after 230 iterations, i.e. alpha=2.644e-05, with an active set of 188 regressors, and the smallest cholesky pivot element being 1.825e-08\n",
      "  ConvergenceWarning)\n",
      "/usr/lib64/python2.7/site-packages/sklearn/linear_model/least_angle.py:334: ConvergenceWarning: Early stopping the lars path, as the residues are small and the current value of alpha is no longer well controlled. 353 iterations, alpha=6.103e-04, previous alpha=4.287e-06, with an active set of 252 regressors.\n",
      "  ConvergenceWarning)\n"
     ]
    },
    {
     "data": {
      "text/plain": [
       "(0.10362720242916471, 0.0054884082851708454)"
      ]
     },
     "execution_count": 19,
     "metadata": {},
     "output_type": "execute_result"
    }
   ],
   "source": [
    "hasg = validate(lassolarscv_regr)\n",
    "(hasg, hasg - baseline)"
   ]
  },
  {
   "cell_type": "markdown",
   "metadata": {},
   "source": [
    "In this case, our validation error has increased.  This could be due to sample size."
   ]
  },
  {
   "cell_type": "markdown",
   "metadata": {},
   "source": [
    "## Basements"
   ]
  },
  {
   "cell_type": "markdown",
   "metadata": {},
   "source": [
    "Let's examine the houses with basements. Only 37 houses have no basement."
   ]
  },
  {
   "cell_type": "code",
   "execution_count": 20,
   "metadata": {
    "collapsed": false
   },
   "outputs": [
    {
     "data": {
      "text/plain": [
       "(37, 347)"
      ]
     },
     "execution_count": 20,
     "metadata": {},
     "output_type": "execute_result"
    }
   ],
   "source": [
    "df[df['NoBasement']==1].shape"
   ]
  },
  {
   "cell_type": "code",
   "execution_count": 10,
   "metadata": {
    "collapsed": true
   },
   "outputs": [],
   "source": [
    "df_hasb = df[df['NoBasement']==0]"
   ]
  },
  {
   "cell_type": "code",
   "execution_count": 22,
   "metadata": {
    "collapsed": true
   },
   "outputs": [],
   "source": [
    "X = df_hasb.values\n",
    "\n",
    "for train_idx, validation_idx in ss.split(X):\n",
    "    train_df = df_hasb.iloc[train_idx]\n",
    "    validation_df = df_hasb.iloc[validation_idx]\n",
    "    \n",
    "y_validation = validation_df['SalePrice'].values\n",
    "x_validation = validation_df.drop(['HouseId', 'SalePrice', 'GarageAge', 'GarageAgeLin'],axis=1).values\n",
    "y_train = train_df['SalePrice'].values\n",
    "x_train = train_df.drop(['HouseId', 'SalePrice', 'GarageAge', 'GarageAgeLin'],axis=1).values"
   ]
  },
  {
   "cell_type": "code",
   "execution_count": 23,
   "metadata": {
    "collapsed": false
   },
   "outputs": [
    {
     "name": "stderr",
     "output_type": "stream",
     "text": [
      "/usr/lib64/python2.7/site-packages/sklearn/linear_model/least_angle.py:309: ConvergenceWarning: Regressors in active set degenerate. Dropping a regressor, after 140 iterations, i.e. alpha=1.009e-04, with an active set of 128 regressors, and the smallest cholesky pivot element being 3.650e-08\n",
      "  ConvergenceWarning)\n",
      "/usr/lib64/python2.7/site-packages/sklearn/linear_model/least_angle.py:309: ConvergenceWarning: Regressors in active set degenerate. Dropping a regressor, after 178 iterations, i.e. alpha=5.851e-05, with an active set of 158 regressors, and the smallest cholesky pivot element being 4.470e-08\n",
      "  ConvergenceWarning)\n",
      "/usr/lib64/python2.7/site-packages/sklearn/linear_model/least_angle.py:309: ConvergenceWarning: Regressors in active set degenerate. Dropping a regressor, after 200 iterations, i.e. alpha=4.006e-05, with an active set of 176 regressors, and the smallest cholesky pivot element being 4.829e-08\n",
      "  ConvergenceWarning)\n",
      "/usr/lib64/python2.7/site-packages/sklearn/linear_model/least_angle.py:309: ConvergenceWarning: Regressors in active set degenerate. Dropping a regressor, after 210 iterations, i.e. alpha=3.301e-05, with an active set of 182 regressors, and the smallest cholesky pivot element being 4.593e-08\n",
      "  ConvergenceWarning)\n",
      "/usr/lib64/python2.7/site-packages/sklearn/linear_model/least_angle.py:309: ConvergenceWarning: Regressors in active set degenerate. Dropping a regressor, after 211 iterations, i.e. alpha=3.233e-05, with an active set of 183 regressors, and the smallest cholesky pivot element being 4.593e-08\n",
      "  ConvergenceWarning)\n",
      "/usr/lib64/python2.7/site-packages/sklearn/linear_model/least_angle.py:334: ConvergenceWarning: Early stopping the lars path, as the residues are small and the current value of alpha is no longer well controlled. 214 iterations, alpha=3.090e-05, previous alpha=3.079e-05, with an active set of 185 regressors.\n",
      "  ConvergenceWarning)\n",
      "/usr/lib64/python2.7/site-packages/sklearn/linear_model/least_angle.py:309: ConvergenceWarning: Regressors in active set degenerate. Dropping a regressor, after 312 iterations, i.e. alpha=8.733e-06, with an active set of 232 regressors, and the smallest cholesky pivot element being 2.220e-16\n",
      "  ConvergenceWarning)\n",
      "/usr/lib64/python2.7/site-packages/sklearn/linear_model/least_angle.py:334: ConvergenceWarning: Early stopping the lars path, as the residues are small and the current value of alpha is no longer well controlled. 346 iterations, alpha=9.811e-05, previous alpha=4.825e-06, with an active set of 241 regressors.\n",
      "  ConvergenceWarning)\n",
      "/usr/lib64/python2.7/site-packages/sklearn/linear_model/least_angle.py:309: ConvergenceWarning: Regressors in active set degenerate. Dropping a regressor, after 107 iterations, i.e. alpha=1.652e-04, with an active set of 103 regressors, and the smallest cholesky pivot element being 2.107e-08\n",
      "  ConvergenceWarning)\n",
      "/usr/lib64/python2.7/site-packages/sklearn/linear_model/least_angle.py:309: ConvergenceWarning: Regressors in active set degenerate. Dropping a regressor, after 130 iterations, i.e. alpha=1.180e-04, with an active set of 126 regressors, and the smallest cholesky pivot element being 2.107e-08\n",
      "  ConvergenceWarning)\n",
      "/usr/lib64/python2.7/site-packages/sklearn/linear_model/least_angle.py:334: ConvergenceWarning: Early stopping the lars path, as the residues are small and the current value of alpha is no longer well controlled. 134 iterations, alpha=1.137e-04, previous alpha=1.136e-04, with an active set of 129 regressors.\n",
      "  ConvergenceWarning)\n"
     ]
    },
    {
     "data": {
      "text/plain": [
       "(0.11809107559831163, 0.019952281454317766)"
      ]
     },
     "execution_count": 23,
     "metadata": {},
     "output_type": "execute_result"
    }
   ],
   "source": [
    "hasb = validate(lassolarscv_regr)\n",
    "(hasb, hasb - baseline)"
   ]
  },
  {
   "cell_type": "markdown",
   "metadata": {},
   "source": [
    "Here, our validation error is even worse than in the garage case."
   ]
  },
  {
   "cell_type": "markdown",
   "metadata": {},
   "source": [
    "## Garage and Basement"
   ]
  },
  {
   "cell_type": "code",
   "execution_count": 11,
   "metadata": {
    "collapsed": false
   },
   "outputs": [
    {
     "data": {
      "text/plain": [
       "(1345, 347)"
      ]
     },
     "execution_count": 11,
     "metadata": {},
     "output_type": "execute_result"
    }
   ],
   "source": [
    "df_hasgb = df_hasg[df_hasg['NoBasement']==0]\n",
    "df_hasgb.shape"
   ]
  },
  {
   "cell_type": "markdown",
   "metadata": {},
   "source": [
    "1345 houses have both a garage and basement."
   ]
  },
  {
   "cell_type": "code",
   "execution_count": 27,
   "metadata": {
    "collapsed": true
   },
   "outputs": [],
   "source": [
    "X = df_hasgb.values\n",
    "\n",
    "for train_idx, validation_idx in ss.split(X):\n",
    "    train_df = df_hasgb.iloc[train_idx]\n",
    "    validation_df = df_hasgb.iloc[validation_idx]\n",
    "    \n",
    "y_validation = validation_df['SalePrice'].values\n",
    "x_validation = validation_df.drop(['HouseId', 'SalePrice'],axis=1).values\n",
    "y_train = train_df['SalePrice'].values\n",
    "x_train = train_df.drop(['HouseId', 'SalePrice'],axis=1).values"
   ]
  },
  {
   "cell_type": "code",
   "execution_count": 28,
   "metadata": {
    "collapsed": false
   },
   "outputs": [
    {
     "name": "stderr",
     "output_type": "stream",
     "text": [
      "/usr/lib64/python2.7/site-packages/sklearn/linear_model/least_angle.py:309: ConvergenceWarning: Regressors in active set degenerate. Dropping a regressor, after 158 iterations, i.e. alpha=7.032e-05, with an active set of 136 regressors, and the smallest cholesky pivot element being 2.980e-08\n",
      "  ConvergenceWarning)\n",
      "/usr/lib64/python2.7/site-packages/sklearn/linear_model/least_angle.py:309: ConvergenceWarning: Regressors in active set degenerate. Dropping a regressor, after 169 iterations, i.e. alpha=5.851e-05, with an active set of 145 regressors, and the smallest cholesky pivot element being 1.490e-08\n",
      "  ConvergenceWarning)\n",
      "/usr/lib64/python2.7/site-packages/sklearn/linear_model/least_angle.py:309: ConvergenceWarning: Regressors in active set degenerate. Dropping a regressor, after 262 iterations, i.e. alpha=1.911e-05, with an active set of 212 regressors, and the smallest cholesky pivot element being 8.689e-08\n",
      "  ConvergenceWarning)\n",
      "/usr/lib64/python2.7/site-packages/sklearn/linear_model/least_angle.py:309: ConvergenceWarning: Regressors in active set degenerate. Dropping a regressor, after 315 iterations, i.e. alpha=1.139e-05, with an active set of 225 regressors, and the smallest cholesky pivot element being 6.053e-08\n",
      "  ConvergenceWarning)\n",
      "/usr/lib64/python2.7/site-packages/sklearn/linear_model/least_angle.py:309: ConvergenceWarning: Regressors in active set degenerate. Dropping a regressor, after 320 iterations, i.e. alpha=1.034e-05, with an active set of 230 regressors, and the smallest cholesky pivot element being 6.053e-08\n",
      "  ConvergenceWarning)\n",
      "/usr/lib64/python2.7/site-packages/sklearn/linear_model/least_angle.py:309: ConvergenceWarning: Regressors in active set degenerate. Dropping a regressor, after 320 iterations, i.e. alpha=1.020e-05, with an active set of 230 regressors, and the smallest cholesky pivot element being 3.942e-08\n",
      "  ConvergenceWarning)\n",
      "/usr/lib64/python2.7/site-packages/sklearn/linear_model/least_angle.py:309: ConvergenceWarning: Regressors in active set degenerate. Dropping a regressor, after 320 iterations, i.e. alpha=1.012e-05, with an active set of 230 regressors, and the smallest cholesky pivot element being 5.373e-08\n",
      "  ConvergenceWarning)\n",
      "/usr/lib64/python2.7/site-packages/sklearn/linear_model/least_angle.py:309: ConvergenceWarning: Regressors in active set degenerate. Dropping a regressor, after 320 iterations, i.e. alpha=1.008e-05, with an active set of 230 regressors, and the smallest cholesky pivot element being 7.224e-08\n",
      "  ConvergenceWarning)\n",
      "/usr/lib64/python2.7/site-packages/sklearn/linear_model/least_angle.py:334: ConvergenceWarning: Early stopping the lars path, as the residues are small and the current value of alpha is no longer well controlled. 321 iterations, alpha=1.018e-05, previous alpha=1.006e-05, with an active set of 230 regressors.\n",
      "  ConvergenceWarning)\n",
      "/usr/lib64/python2.7/site-packages/sklearn/linear_model/least_angle.py:309: ConvergenceWarning: Regressors in active set degenerate. Dropping a regressor, after 52 iterations, i.e. alpha=4.139e-04, with an active set of 52 regressors, and the smallest cholesky pivot element being 7.885e-08\n",
      "  ConvergenceWarning)\n",
      "/usr/lib64/python2.7/site-packages/sklearn/linear_model/least_angle.py:309: ConvergenceWarning: Regressors in active set degenerate. Dropping a regressor, after 151 iterations, i.e. alpha=9.623e-05, with an active set of 125 regressors, and the smallest cholesky pivot element being 7.743e-08\n",
      "  ConvergenceWarning)\n",
      "/usr/lib64/python2.7/site-packages/sklearn/linear_model/least_angle.py:309: ConvergenceWarning: Regressors in active set degenerate. Dropping a regressor, after 152 iterations, i.e. alpha=9.592e-05, with an active set of 126 regressors, and the smallest cholesky pivot element being 7.743e-08\n",
      "  ConvergenceWarning)\n",
      "/usr/lib64/python2.7/site-packages/sklearn/linear_model/least_angle.py:309: ConvergenceWarning: Regressors in active set degenerate. Dropping a regressor, after 152 iterations, i.e. alpha=9.588e-05, with an active set of 126 regressors, and the smallest cholesky pivot element being 9.306e-08\n",
      "  ConvergenceWarning)\n",
      "/usr/lib64/python2.7/site-packages/sklearn/linear_model/least_angle.py:334: ConvergenceWarning: Early stopping the lars path, as the residues are small and the current value of alpha is no longer well controlled. 155 iterations, alpha=9.551e-05, previous alpha=9.523e-05, with an active set of 128 regressors.\n",
      "  ConvergenceWarning)\n",
      "/usr/lib64/python2.7/site-packages/sklearn/linear_model/least_angle.py:309: ConvergenceWarning: Regressors in active set degenerate. Dropping a regressor, after 292 iterations, i.e. alpha=1.493e-05, with an active set of 206 regressors, and the smallest cholesky pivot element being 2.980e-08\n",
      "  ConvergenceWarning)\n",
      "/usr/lib64/python2.7/site-packages/sklearn/linear_model/least_angle.py:309: ConvergenceWarning: Regressors in active set degenerate. Dropping a regressor, after 313 iterations, i.e. alpha=1.144e-05, with an active set of 221 regressors, and the smallest cholesky pivot element being 2.220e-16\n",
      "  ConvergenceWarning)\n",
      "/usr/lib64/python2.7/site-packages/sklearn/linear_model/least_angle.py:309: ConvergenceWarning: Regressors in active set degenerate. Dropping a regressor, after 329 iterations, i.e. alpha=8.915e-06, with an active set of 225 regressors, and the smallest cholesky pivot element being 2.581e-08\n",
      "  ConvergenceWarning)\n",
      "/usr/lib64/python2.7/site-packages/sklearn/linear_model/least_angle.py:309: ConvergenceWarning: Regressors in active set degenerate. Dropping a regressor, after 334 iterations, i.e. alpha=8.521e-06, with an active set of 228 regressors, and the smallest cholesky pivot element being 2.581e-08\n",
      "  ConvergenceWarning)\n",
      "/usr/lib64/python2.7/site-packages/sklearn/linear_model/least_angle.py:334: ConvergenceWarning: Early stopping the lars path, as the residues are small and the current value of alpha is no longer well controlled. 337 iterations, alpha=8.207e-06, previous alpha=7.899e-06, with an active set of 230 regressors.\n",
      "  ConvergenceWarning)\n"
     ]
    },
    {
     "data": {
      "text/plain": [
       "(0.090674318810134838, -0.007464475333859022)"
      ]
     },
     "execution_count": 28,
     "metadata": {},
     "output_type": "execute_result"
    }
   ],
   "source": [
    "hasgb = validate(lassolarscv_regr)\n",
    "(hasgb, hasgb - baseline)"
   ]
  },
  {
   "cell_type": "markdown",
   "metadata": {},
   "source": [
    "This is a small improvement over the baseline.  We will now work out a scheme to make a separate fit on this subset and then combine the predictions."
   ]
  },
  {
   "cell_type": "markdown",
   "metadata": {},
   "source": [
    "## Modeling on Subsets"
   ]
  },
  {
   "cell_type": "markdown",
   "metadata": {},
   "source": [
    "Let's store a dataframe that is the complement of df_hasgb."
   ]
  },
  {
   "cell_type": "code",
   "execution_count": 12,
   "metadata": {
    "collapsed": false
   },
   "outputs": [
    {
     "data": {
      "text/plain": [
       "(110, 347)"
      ]
     },
     "execution_count": 12,
     "metadata": {},
     "output_type": "execute_result"
    }
   ],
   "source": [
    "df_nogorb = df[(df['NoGarage']==1) | (df['NoBasement']==1)]\n",
    "df_nogorb.shape "
   ]
  },
  {
   "cell_type": "markdown",
   "metadata": {},
   "source": [
    "We'll build the validation set from the full dataset"
   ]
  },
  {
   "cell_type": "code",
   "execution_count": 30,
   "metadata": {
    "collapsed": true
   },
   "outputs": [],
   "source": [
    "X = df.values\n",
    "\n",
    "for train_idx, validation_idx in ss.split(X):\n",
    "    train_df = df.iloc[train_idx]\n",
    "    validation_df = df.iloc[validation_idx]"
   ]
  },
  {
   "cell_type": "markdown",
   "metadata": {},
   "source": [
    "We will split the training set"
   ]
  },
  {
   "cell_type": "code",
   "execution_count": 31,
   "metadata": {
    "collapsed": true
   },
   "outputs": [],
   "source": [
    "train_df_hasgb = train_df[(train_df['NoGarage']==0) & (train_df['NoBasement']==0)]\n",
    "train_df_nogorb = train_df[(train_df['NoGarage']==1) | (train_df['NoBasement']==1)]"
   ]
  },
  {
   "cell_type": "markdown",
   "metadata": {},
   "source": [
    "We need to fit models on the appropriate training data."
   ]
  },
  {
   "cell_type": "code",
   "execution_count": 32,
   "metadata": {
    "collapsed": true
   },
   "outputs": [],
   "source": [
    "llcv_hasgb_regr = linear_model.LassoLarsCV()\n",
    "llcv_nogorb_regr = linear_model.LassoLarsCV()"
   ]
  },
  {
   "cell_type": "code",
   "execution_count": 33,
   "metadata": {
    "collapsed": true
   },
   "outputs": [],
   "source": [
    "y_train_nogorb = train_df['SalePrice'].values\n",
    "x_train_nogorb = train_df.drop(['HouseId', 'SalePrice', 'GarageAge', 'GarageAgeLin'],axis=1).values\n",
    "y_train_hasgb = train_df_hasgb['SalePrice'].values\n",
    "x_train_hasgb = train_df_hasgb.drop(['HouseId', 'SalePrice'],axis=1).values"
   ]
  },
  {
   "cell_type": "code",
   "execution_count": 34,
   "metadata": {
    "collapsed": true
   },
   "outputs": [
    {
     "name": "stderr",
     "output_type": "stream",
     "text": [
      "/usr/lib64/python2.7/site-packages/sklearn/linear_model/least_angle.py:334: ConvergenceWarning: Early stopping the lars path, as the residues are small and the current value of alpha is no longer well controlled. 358 iterations, alpha=6.045e-05, previous alpha=4.254e-06, with an active set of 245 regressors.\n",
      "  ConvergenceWarning)\n",
      "/usr/lib64/python2.7/site-packages/sklearn/linear_model/least_angle.py:309: ConvergenceWarning: Regressors in active set degenerate. Dropping a regressor, after 251 iterations, i.e. alpha=2.428e-05, with an active set of 205 regressors, and the smallest cholesky pivot element being 2.107e-08\n",
      "  ConvergenceWarning)\n",
      "/usr/lib64/python2.7/site-packages/sklearn/linear_model/least_angle.py:309: ConvergenceWarning: Regressors in active set degenerate. Dropping a regressor, after 278 iterations, i.e. alpha=1.738e-05, with an active set of 212 regressors, and the smallest cholesky pivot element being 2.107e-08\n",
      "  ConvergenceWarning)\n",
      "/usr/lib64/python2.7/site-packages/sklearn/linear_model/least_angle.py:309: ConvergenceWarning: Regressors in active set degenerate. Dropping a regressor, after 327 iterations, i.e. alpha=7.510e-06, with an active set of 235 regressors, and the smallest cholesky pivot element being 2.581e-08\n",
      "  ConvergenceWarning)\n",
      "/usr/lib64/python2.7/site-packages/sklearn/linear_model/least_angle.py:309: ConvergenceWarning: Regressors in active set degenerate. Dropping a regressor, after 343 iterations, i.e. alpha=5.656e-06, with an active set of 243 regressors, and the smallest cholesky pivot element being 5.960e-08\n",
      "  ConvergenceWarning)\n",
      "/usr/lib64/python2.7/site-packages/sklearn/linear_model/least_angle.py:309: ConvergenceWarning: Regressors in active set degenerate. Dropping a regressor, after 346 iterations, i.e. alpha=5.615e-06, with an active set of 246 regressors, and the smallest cholesky pivot element being 2.107e-08\n",
      "  ConvergenceWarning)\n",
      "/usr/lib64/python2.7/site-packages/sklearn/linear_model/least_angle.py:309: ConvergenceWarning: Regressors in active set degenerate. Dropping a regressor, after 346 iterations, i.e. alpha=5.595e-06, with an active set of 246 regressors, and the smallest cholesky pivot element being 5.960e-08\n",
      "  ConvergenceWarning)\n",
      "/usr/lib64/python2.7/site-packages/sklearn/linear_model/least_angle.py:309: ConvergenceWarning: Regressors in active set degenerate. Dropping a regressor, after 346 iterations, i.e. alpha=5.546e-06, with an active set of 246 regressors, and the smallest cholesky pivot element being 6.053e-08\n",
      "  ConvergenceWarning)\n",
      "/usr/lib64/python2.7/site-packages/sklearn/linear_model/least_angle.py:309: ConvergenceWarning: Regressors in active set degenerate. Dropping a regressor, after 346 iterations, i.e. alpha=5.503e-06, with an active set of 246 regressors, and the smallest cholesky pivot element being 7.300e-08\n",
      "  ConvergenceWarning)\n",
      "/usr/lib64/python2.7/site-packages/sklearn/linear_model/least_angle.py:334: ConvergenceWarning: Early stopping the lars path, as the residues are small and the current value of alpha is no longer well controlled. 347 iterations, alpha=5.327e-06, previous alpha=5.266e-06, with an active set of 246 regressors.\n",
      "  ConvergenceWarning)\n",
      "/usr/lib64/python2.7/site-packages/sklearn/linear_model/least_angle.py:309: ConvergenceWarning: Regressors in active set degenerate. Dropping a regressor, after 267 iterations, i.e. alpha=2.273e-05, with an active set of 195 regressors, and the smallest cholesky pivot element being 1.825e-08\n",
      "  ConvergenceWarning)\n",
      "/usr/lib64/python2.7/site-packages/sklearn/linear_model/least_angle.py:309: ConvergenceWarning: Regressors in active set degenerate. Dropping a regressor, after 307 iterations, i.e. alpha=1.338e-05, with an active set of 217 regressors, and the smallest cholesky pivot element being 2.220e-16\n",
      "  ConvergenceWarning)\n",
      "/usr/lib64/python2.7/site-packages/sklearn/linear_model/least_angle.py:334: ConvergenceWarning: Early stopping the lars path, as the residues are small and the current value of alpha is no longer well controlled. 353 iterations, alpha=2.000e-04, previous alpha=7.456e-06, with an active set of 236 regressors.\n",
      "  ConvergenceWarning)\n"
     ]
    },
    {
     "data": {
      "text/plain": [
       "LassoLarsCV(copy_X=True, cv=None, eps=2.2204460492503131e-16,\n",
       "      fit_intercept=True, max_iter=500, max_n_alphas=1000, n_jobs=1,\n",
       "      normalize=True, positive=False, precompute='auto', verbose=False)"
      ]
     },
     "execution_count": 34,
     "metadata": {},
     "output_type": "execute_result"
    }
   ],
   "source": [
    "llcv_hasgb_regr.fit(x_train_hasgb, y_train_hasgb)\n",
    "llcv_nogorb_regr.fit(x_train_nogorb, y_train_nogorb)"
   ]
  },
  {
   "cell_type": "code",
   "execution_count": 36,
   "metadata": {
    "collapsed": false
   },
   "outputs": [],
   "source": [
    "validation_df_hasgb = validation_df[(validation_df['NoGarage']==0) & (validation_df['NoBasement']==0)]\n",
    "validation_df_nogorb = validation_df[(validation_df['NoGarage']==1) | (validation_df['NoBasement']==1)]"
   ]
  },
  {
   "cell_type": "code",
   "execution_count": 37,
   "metadata": {
    "collapsed": true
   },
   "outputs": [],
   "source": [
    "y_validation_nogorb = validation_df_nogorb['SalePrice'].values\n",
    "x_validation_nogorb = validation_df_nogorb.drop(['HouseId', 'SalePrice', 'GarageAge', 'GarageAgeLin'],axis=1).values\n",
    "y_validation_hasgb = validation_df_hasgb['SalePrice'].values\n",
    "x_validation_hasgb = validation_df_hasgb.drop(['HouseId', 'SalePrice'],axis=1).values"
   ]
  },
  {
   "cell_type": "code",
   "execution_count": 38,
   "metadata": {
    "collapsed": true
   },
   "outputs": [],
   "source": [
    "y_pred_hasgb = llcv_hasgb_regr.predict(x_validation_hasgb)\n",
    "y_pred_nogorb = llcv_nogorb_regr.predict(x_validation_nogorb)"
   ]
  },
  {
   "cell_type": "code",
   "execution_count": 47,
   "metadata": {
    "collapsed": false
   },
   "outputs": [],
   "source": [
    "y_validation = np.append(y_validation_nogorb,y_validation_hasgb)"
   ]
  },
  {
   "cell_type": "code",
   "execution_count": 49,
   "metadata": {
    "collapsed": false
   },
   "outputs": [],
   "source": [
    "y_pred = np.append(y_pred_nogorb,y_pred_hasgb)"
   ]
  },
  {
   "cell_type": "code",
   "execution_count": 51,
   "metadata": {
    "collapsed": false
   },
   "outputs": [
    {
     "data": {
      "text/plain": [
       "(0.097617740578592849, -0.00052105356540101122)"
      ]
     },
     "execution_count": 51,
     "metadata": {},
     "output_type": "execute_result"
    }
   ],
   "source": [
    "error = rmse(y_validation, y_pred) \n",
    "(error, error-baseline)"
   ]
  },
  {
   "cell_type": "markdown",
   "metadata": {},
   "source": [
    "The improvement over the baseline is in line with the previous result."
   ]
  },
  {
   "cell_type": "markdown",
   "metadata": {},
   "source": [
    "## Refitting on the Full Training Set"
   ]
  },
  {
   "cell_type": "markdown",
   "metadata": {},
   "source": [
    "Before passing to the Kaggle test set, let's fit LassoLars models on the whole training data.  "
   ]
  },
  {
   "cell_type": "code",
   "execution_count": 13,
   "metadata": {
    "collapsed": true
   },
   "outputs": [],
   "source": [
    "y_train_nogorb = df['SalePrice'].values\n",
    "x_train_nogorb = df.drop(['HouseId', 'SalePrice', 'GarageAge', 'GarageAgeLin'],axis=1).values\n",
    "y_train_hasgb = df_hasgb['SalePrice'].values\n",
    "x_train_hasgb = df_hasgb.drop(['HouseId', 'SalePrice'],axis=1).values"
   ]
  },
  {
   "cell_type": "markdown",
   "metadata": {},
   "source": [
    "LassoLars had the best results from our modeling experiments, so we'll continue using it, but we'll hand tune the L1 regularization parameter."
   ]
  },
  {
   "cell_type": "code",
   "execution_count": 14,
   "metadata": {
    "collapsed": true
   },
   "outputs": [],
   "source": [
    "x_train = x_train_nogorb\n",
    "y_train = y_train_nogorb"
   ]
  },
  {
   "cell_type": "code",
   "execution_count": 55,
   "metadata": {
    "collapsed": false
   },
   "outputs": [
    {
     "data": {
      "text/html": [
       "<div>\n",
       "<table border=\"1\" class=\"dataframe\">\n",
       "  <thead>\n",
       "    <tr style=\"text-align: right;\">\n",
       "      <th></th>\n",
       "      <th>alpha</th>\n",
       "      <th>RMSE</th>\n",
       "      <th>std dev</th>\n",
       "    </tr>\n",
       "  </thead>\n",
       "  <tbody>\n",
       "    <tr>\n",
       "      <th>5</th>\n",
       "      <td>0.00013000000000000002</td>\n",
       "      <td>0.10502000092254368258</td>\n",
       "      <td>0.05461958043298760501</td>\n",
       "    </tr>\n",
       "    <tr>\n",
       "      <th>4</th>\n",
       "      <td>0.00012000000000000000</td>\n",
       "      <td>0.10477200102536989024</td>\n",
       "      <td>0.05451735550256560370</td>\n",
       "    </tr>\n",
       "    <tr>\n",
       "      <th>3</th>\n",
       "      <td>0.00011000000000000000</td>\n",
       "      <td>0.10454164113773441180</td>\n",
       "      <td>0.05449536807608087313</td>\n",
       "    </tr>\n",
       "    <tr>\n",
       "      <th>0</th>\n",
       "      <td>0.00008000000000000001</td>\n",
       "      <td>0.10442676026475859741</td>\n",
       "      <td>0.05431687940797252229</td>\n",
       "    </tr>\n",
       "    <tr>\n",
       "      <th>2</th>\n",
       "      <td>0.00010000000000000000</td>\n",
       "      <td>0.10440270056663149278</td>\n",
       "      <td>0.05445563223384845830</td>\n",
       "    </tr>\n",
       "    <tr>\n",
       "      <th>1</th>\n",
       "      <td>0.00009000000000000001</td>\n",
       "      <td>0.10437857300346860268</td>\n",
       "      <td>0.05437406755388812102</td>\n",
       "    </tr>\n",
       "  </tbody>\n",
       "</table>\n",
       "</div>"
      ],
      "text/plain": [
       "                    alpha                    RMSE                 std dev\n",
       "5  0.00013000000000000002  0.10502000092254368258  0.05461958043298760501\n",
       "4  0.00012000000000000000  0.10477200102536989024  0.05451735550256560370\n",
       "3  0.00011000000000000000  0.10454164113773441180  0.05449536807608087313\n",
       "0  0.00008000000000000001  0.10442676026475859741  0.05431687940797252229\n",
       "2  0.00010000000000000000  0.10440270056663149278  0.05445563223384845830\n",
       "1  0.00009000000000000001  0.10437857300346860268  0.05437406755388812102"
      ]
     },
     "execution_count": 55,
     "metadata": {},
     "output_type": "execute_result"
    },
    {
     "data": {
      "image/png": "[encoded data removed]",
      "text/plain": [
       "<matplotlib.figure.Figure at 0x7f0bfdd49310>"
      ]
     },
     "metadata": {},
     "output_type": "display_data"
    }
   ],
   "source": [
    "lassolars_regr = linear_model.LassoLars(max_iter=50000)\n",
    "lassolars_params = {'alpha': np.arange(0.00008, 0.00014, 0.00001).tolist()}\n",
    "lassolars_df = single_search(lassolars_regr, lassolars_params)\n",
    "lassolars_df.plot(x = ['alpha'], y = ['RMSE'])\n",
    "lassolars_df.sort_values(['RMSE'], ascending = False)"
   ]
  },
  {
   "cell_type": "code",
   "execution_count": 15,
   "metadata": {
    "collapsed": true
   },
   "outputs": [],
   "source": [
    "ll_nogorb_regr = linear_model.LassoLars(alpha=0.00009, max_iter=50000)"
   ]
  },
  {
   "cell_type": "code",
   "execution_count": 57,
   "metadata": {
    "collapsed": true
   },
   "outputs": [],
   "source": [
    "x_train = x_train_hasgb\n",
    "y_train = y_train_hasgb"
   ]
  },
  {
   "cell_type": "code",
   "execution_count": 60,
   "metadata": {
    "collapsed": false
   },
   "outputs": [
    {
     "data": {
      "text/html": [
       "<div>\n",
       "<table border=\"1\" class=\"dataframe\">\n",
       "  <thead>\n",
       "    <tr style=\"text-align: right;\">\n",
       "      <th></th>\n",
       "      <th>alpha</th>\n",
       "      <th>RMSE</th>\n",
       "      <th>std dev</th>\n",
       "    </tr>\n",
       "  </thead>\n",
       "  <tbody>\n",
       "    <tr>\n",
       "      <th>0</th>\n",
       "      <td>0.00004000000000000000</td>\n",
       "      <td>0.10059995082499828545</td>\n",
       "      <td>0.05240906069643299497</td>\n",
       "    </tr>\n",
       "    <tr>\n",
       "      <th>1</th>\n",
       "      <td>0.00005000000000000000</td>\n",
       "      <td>0.10019881333907293408</td>\n",
       "      <td>0.05211395398664721984</td>\n",
       "    </tr>\n",
       "    <tr>\n",
       "      <th>6</th>\n",
       "      <td>0.00009999999999999999</td>\n",
       "      <td>0.10003418914599260248</td>\n",
       "      <td>0.05103147483232799153</td>\n",
       "    </tr>\n",
       "    <tr>\n",
       "      <th>2</th>\n",
       "      <td>0.00006000000000000000</td>\n",
       "      <td>0.09996341452685413020</td>\n",
       "      <td>0.05193133207806619606</td>\n",
       "    </tr>\n",
       "    <tr>\n",
       "      <th>5</th>\n",
       "      <td>0.00008999999999999999</td>\n",
       "      <td>0.09988665339497991569</td>\n",
       "      <td>0.05123906613469816212</td>\n",
       "    </tr>\n",
       "    <tr>\n",
       "      <th>3</th>\n",
       "      <td>0.00006999999999999999</td>\n",
       "      <td>0.09983026887293371121</td>\n",
       "      <td>0.05172378798250429344</td>\n",
       "    </tr>\n",
       "    <tr>\n",
       "      <th>4</th>\n",
       "      <td>0.00007999999999999999</td>\n",
       "      <td>0.09981009551691903681</td>\n",
       "      <td>0.05150360372597920927</td>\n",
       "    </tr>\n",
       "  </tbody>\n",
       "</table>\n",
       "</div>"
      ],
      "text/plain": [
       "                    alpha                    RMSE                 std dev\n",
       "0  0.00004000000000000000  0.10059995082499828545  0.05240906069643299497\n",
       "1  0.00005000000000000000  0.10019881333907293408  0.05211395398664721984\n",
       "6  0.00009999999999999999  0.10003418914599260248  0.05103147483232799153\n",
       "2  0.00006000000000000000  0.09996341452685413020  0.05193133207806619606\n",
       "5  0.00008999999999999999  0.09988665339497991569  0.05123906613469816212\n",
       "3  0.00006999999999999999  0.09983026887293371121  0.05172378798250429344\n",
       "4  0.00007999999999999999  0.09981009551691903681  0.05150360372597920927"
      ]
     },
     "execution_count": 60,
     "metadata": {},
     "output_type": "execute_result"
    },
    {
     "data": {
      "image/png": "[encoded data removed]",
      "text/plain": [
       "<matplotlib.figure.Figure at 0x7f0bfc6d86d0>"
      ]
     },
     "metadata": {},
     "output_type": "display_data"
    }
   ],
   "source": [
    "lassolars_regr = linear_model.LassoLars(max_iter=50000)\n",
    "lassolars_params = {'alpha': np.arange(0.00004, 0.00011, 0.00001).tolist()}\n",
    "lassolars_df = single_search(lassolars_regr, lassolars_params)\n",
    "lassolars_df.plot(x = ['alpha'], y = ['RMSE'])\n",
    "lassolars_df.sort_values(['RMSE'], ascending = False)"
   ]
  },
  {
   "cell_type": "code",
   "execution_count": 16,
   "metadata": {
    "collapsed": true
   },
   "outputs": [],
   "source": [
    "ll_hasgb_regr = linear_model.LassoLars(alpha=0.00008, max_iter=50000)"
   ]
  },
  {
   "cell_type": "code",
   "execution_count": 17,
   "metadata": {
    "collapsed": false
   },
   "outputs": [
    {
     "data": {
      "text/plain": [
       "LassoLars(alpha=8e-05, copy_X=True, eps=2.2204460492503131e-16,\n",
       "     fit_intercept=True, fit_path=True, max_iter=50000, normalize=True,\n",
       "     positive=False, precompute='auto', verbose=False)"
      ]
     },
     "execution_count": 17,
     "metadata": {},
     "output_type": "execute_result"
    }
   ],
   "source": [
    "ll_hasgb_regr.fit(x_train_hasgb, y_train_hasgb)"
   ]
  },
  {
   "cell_type": "code",
   "execution_count": 22,
   "metadata": {
    "collapsed": false
   },
   "outputs": [],
   "source": [
    "lassolars_features = zip(df_hasgb.drop(['HouseId','SalePrice'],axis=1).columns, ll_hasgb_regr.coef_)\n",
    "lassolars_features_df = pd.DataFrame.from_dict(lassolars_features)\n",
    "lassolars_features_df.columns = [\"Feature\", \"Coeff\"]\n",
    "lassolars_features_df = lassolars_features_df[lassolars_features_df[\"Coeff\"]!=0]\n",
    "lassolars_features_df[\"sort_ind\"] = abs(lassolars_features_df[\"Coeff\"])\n",
    "lassolars_features_df = lassolars_features_df.sort_values(by=\"sort_ind\", ascending = False)\n",
    "lassolars_features_df = lassolars_features_df.drop('sort_ind', 1)"
   ]
  },
  {
   "cell_type": "code",
   "execution_count": 23,
   "metadata": {
    "collapsed": false
   },
   "outputs": [
    {
     "data": {
      "text/html": [
       "<div>\n",
       "<table border=\"1\" class=\"dataframe\">\n",
       "  <thead>\n",
       "    <tr style=\"text-align: right;\">\n",
       "      <th></th>\n",
       "      <th>Feature</th>\n",
       "      <th>Coeff</th>\n",
       "    </tr>\n",
       "  </thead>\n",
       "  <tbody>\n",
       "    <tr>\n",
       "      <th>339</th>\n",
       "      <td>AreasSum</td>\n",
       "      <td>0.38203891676775314501</td>\n",
       "    </tr>\n",
       "    <tr>\n",
       "      <th>83</th>\n",
       "      <td>OverallQual</td>\n",
       "      <td>0.37208623725056499953</td>\n",
       "    </tr>\n",
       "    <tr>\n",
       "      <th>166</th>\n",
       "      <td>GrLivArea</td>\n",
       "      <td>0.36514422311452221503</td>\n",
       "    </tr>\n",
       "    <tr>\n",
       "      <th>338</th>\n",
       "      <td>AllSizesSumLin</td>\n",
       "      <td>0.30674465472866635496</td>\n",
       "    </tr>\n",
       "    <tr>\n",
       "      <th>172</th>\n",
       "      <td>KitchenAbvGr</td>\n",
       "      <td>-0.29380727026738667762</td>\n",
       "    </tr>\n",
       "    <tr>\n",
       "      <th>340</th>\n",
       "      <td>LivArea</td>\n",
       "      <td>0.28408310389312485533</td>\n",
       "    </tr>\n",
       "    <tr>\n",
       "      <th>84</th>\n",
       "      <td>OverallCond</td>\n",
       "      <td>0.22527445550683075637</td>\n",
       "    </tr>\n",
       "    <tr>\n",
       "      <th>319</th>\n",
       "      <td>AgeLin</td>\n",
       "      <td>0.14541605921650005429</td>\n",
       "    </tr>\n",
       "    <tr>\n",
       "      <th>12</th>\n",
       "      <td>MSZoning.C..all.</td>\n",
       "      <td>-0.14186218297738265037</td>\n",
       "    </tr>\n",
       "    <tr>\n",
       "      <th>341</th>\n",
       "      <td>LivAreaWt</td>\n",
       "      <td>0.14024849690939039659</td>\n",
       "    </tr>\n",
       "    <tr>\n",
       "      <th>337</th>\n",
       "      <td>AllSizesSum</td>\n",
       "      <td>0.12535093528640242622</td>\n",
       "    </tr>\n",
       "    <tr>\n",
       "      <th>315</th>\n",
       "      <td>TotalHouseArea</td>\n",
       "      <td>0.11422870091252521063</td>\n",
       "    </tr>\n",
       "    <tr>\n",
       "      <th>19</th>\n",
       "      <td>Street.Grvl</td>\n",
       "      <td>-0.11136687838007426621</td>\n",
       "    </tr>\n",
       "    <tr>\n",
       "      <th>43</th>\n",
       "      <td>Neighborhood.Crawfor</td>\n",
       "      <td>0.08831350502507637201</td>\n",
       "    </tr>\n",
       "    <tr>\n",
       "      <th>199</th>\n",
       "      <td>GarageCars</td>\n",
       "      <td>0.08769963330621105557</td>\n",
       "    </tr>\n",
       "    <tr>\n",
       "      <th>310</th>\n",
       "      <td>SaleConditionnums</td>\n",
       "      <td>0.08423307291127757335</td>\n",
       "    </tr>\n",
       "    <tr>\n",
       "      <th>269</th>\n",
       "      <td>OverallCondcat.3</td>\n",
       "      <td>-0.07440530435462798520</td>\n",
       "    </tr>\n",
       "    <tr>\n",
       "      <th>158</th>\n",
       "      <td>TotalBsmtSF</td>\n",
       "      <td>0.06857230976166193981</td>\n",
       "    </tr>\n",
       "    <tr>\n",
       "      <th>94</th>\n",
       "      <td>Exterior1st.BrkFace</td>\n",
       "      <td>0.06852314104850425192</td>\n",
       "    </tr>\n",
       "    <tr>\n",
       "      <th>301</th>\n",
       "      <td>GarageQualnums</td>\n",
       "      <td>0.06385758985932980802</td>\n",
       "    </tr>\n",
       "    <tr>\n",
       "      <th>182</th>\n",
       "      <td>Functional.Typ</td>\n",
       "      <td>0.06034860891162399654</td>\n",
       "    </tr>\n",
       "    <tr>\n",
       "      <th>250</th>\n",
       "      <td>MSZoningordered</td>\n",
       "      <td>0.05673899257546023700</td>\n",
       "    </tr>\n",
       "    <tr>\n",
       "      <th>317</th>\n",
       "      <td>TotalBath</td>\n",
       "      <td>0.05527918642695453522</td>\n",
       "    </tr>\n",
       "    <tr>\n",
       "      <th>92</th>\n",
       "      <td>RoofMatl.WdShngl</td>\n",
       "      <td>0.05328119893264381818</td>\n",
       "    </tr>\n",
       "    <tr>\n",
       "      <th>165</th>\n",
       "      <td>LowQualFinSF</td>\n",
       "      <td>-0.05299832733043109007</td>\n",
       "    </tr>\n",
       "    <tr>\n",
       "      <th>344</th>\n",
       "      <td>HasPool</td>\n",
       "      <td>0.05236639754201384556</td>\n",
       "    </tr>\n",
       "    <tr>\n",
       "      <th>328</th>\n",
       "      <td>DeckPorchLin</td>\n",
       "      <td>0.04794471242621012319</td>\n",
       "    </tr>\n",
       "    <tr>\n",
       "      <th>67</th>\n",
       "      <td>Condition1.RRAe</td>\n",
       "      <td>-0.04729625757729331859</td>\n",
       "    </tr>\n",
       "    <tr>\n",
       "      <th>215</th>\n",
       "      <td>ScreenPorch</td>\n",
       "      <td>0.04689512122540632350</td>\n",
       "    </tr>\n",
       "    <tr>\n",
       "      <th>288</th>\n",
       "      <td>BsmtFinType2nums</td>\n",
       "      <td>0.04682011685998063028</td>\n",
       "    </tr>\n",
       "    <tr>\n",
       "      <th>...</th>\n",
       "      <td>...</td>\n",
       "      <td>...</td>\n",
       "    </tr>\n",
       "    <tr>\n",
       "      <th>162</th>\n",
       "      <td>HeatingQC.TA</td>\n",
       "      <td>-0.00600292380765290404</td>\n",
       "    </tr>\n",
       "    <tr>\n",
       "      <th>299</th>\n",
       "      <td>GarageFinishnums</td>\n",
       "      <td>0.00597774538842506774</td>\n",
       "    </tr>\n",
       "    <tr>\n",
       "      <th>194</th>\n",
       "      <td>GarageType.CarPort</td>\n",
       "      <td>-0.00582933270791539254</td>\n",
       "    </tr>\n",
       "    <tr>\n",
       "      <th>125</th>\n",
       "      <td>ExterCond.Gd</td>\n",
       "      <td>-0.00566995753598095557</td>\n",
       "    </tr>\n",
       "    <tr>\n",
       "      <th>97</th>\n",
       "      <td>Exterior1st.MetalSd</td>\n",
       "      <td>0.00531585415224704143</td>\n",
       "    </tr>\n",
       "    <tr>\n",
       "      <th>51</th>\n",
       "      <td>Neighborhood.NPkVill</td>\n",
       "      <td>0.00508495385862482545</td>\n",
       "    </tr>\n",
       "    <tr>\n",
       "      <th>74</th>\n",
       "      <td>BldgType.Twnhs</td>\n",
       "      <td>-0.00507277053134598793</td>\n",
       "    </tr>\n",
       "    <tr>\n",
       "      <th>300</th>\n",
       "      <td>BadGarageQ</td>\n",
       "      <td>-0.00497534351962451889</td>\n",
       "    </tr>\n",
       "    <tr>\n",
       "      <th>210</th>\n",
       "      <td>PavedDrive.Y</td>\n",
       "      <td>0.00483226479057436396</td>\n",
       "    </tr>\n",
       "    <tr>\n",
       "      <th>246</th>\n",
       "      <td>SaleCondition.Family</td>\n",
       "      <td>-0.00482324152157609549</td>\n",
       "    </tr>\n",
       "    <tr>\n",
       "      <th>42</th>\n",
       "      <td>Neighborhood.CollgCr</td>\n",
       "      <td>-0.00453139841581778197</td>\n",
       "    </tr>\n",
       "    <tr>\n",
       "      <th>204</th>\n",
       "      <td>GarageCond.Fa</td>\n",
       "      <td>-0.00410164434146405733</td>\n",
       "    </tr>\n",
       "    <tr>\n",
       "      <th>120</th>\n",
       "      <td>ExterQual.Ex</td>\n",
       "      <td>0.00403133571395120505</td>\n",
       "    </tr>\n",
       "    <tr>\n",
       "      <th>316</th>\n",
       "      <td>X1stLin</td>\n",
       "      <td>0.00368567853148967037</td>\n",
       "    </tr>\n",
       "    <tr>\n",
       "      <th>258</th>\n",
       "      <td>BldgTypenums</td>\n",
       "      <td>0.00363549139918178683</td>\n",
       "    </tr>\n",
       "    <tr>\n",
       "      <th>238</th>\n",
       "      <td>YrSold.2009</td>\n",
       "      <td>-0.00355125977085870171</td>\n",
       "    </tr>\n",
       "    <tr>\n",
       "      <th>284</th>\n",
       "      <td>BsmtQualnums</td>\n",
       "      <td>0.00349065630319747404</td>\n",
       "    </tr>\n",
       "    <tr>\n",
       "      <th>189</th>\n",
       "      <td>FireplaceQu.TA</td>\n",
       "      <td>0.00154247127510582214</td>\n",
       "    </tr>\n",
       "    <tr>\n",
       "      <th>278</th>\n",
       "      <td>Exterior1stnums</td>\n",
       "      <td>0.00147510223349811825</td>\n",
       "    </tr>\n",
       "    <tr>\n",
       "      <th>243</th>\n",
       "      <td>SaleType.WD</td>\n",
       "      <td>-0.00146998037000746246</td>\n",
       "    </tr>\n",
       "    <tr>\n",
       "      <th>170</th>\n",
       "      <td>HalfBath</td>\n",
       "      <td>0.00144880749656315375</td>\n",
       "    </tr>\n",
       "    <tr>\n",
       "      <th>237</th>\n",
       "      <td>YrSold.2008</td>\n",
       "      <td>0.00114787780720192537</td>\n",
       "    </tr>\n",
       "    <tr>\n",
       "      <th>129</th>\n",
       "      <td>Foundation.PConc</td>\n",
       "      <td>0.00105538090764186712</td>\n",
       "    </tr>\n",
       "    <tr>\n",
       "      <th>263</th>\n",
       "      <td>OverallQualcat.6</td>\n",
       "      <td>-0.00058703702868185257</td>\n",
       "    </tr>\n",
       "    <tr>\n",
       "      <th>227</th>\n",
       "      <td>MoSold.5</td>\n",
       "      <td>0.00048029186197169453</td>\n",
       "    </tr>\n",
       "    <tr>\n",
       "      <th>53</th>\n",
       "      <td>Neighborhood.NWAmes</td>\n",
       "      <td>-0.00044615187478475314</td>\n",
       "    </tr>\n",
       "    <tr>\n",
       "      <th>138</th>\n",
       "      <td>BsmtCond.TA</td>\n",
       "      <td>0.00024411976884789895</td>\n",
       "    </tr>\n",
       "    <tr>\n",
       "      <th>146</th>\n",
       "      <td>BsmtFinType1.LwQ</td>\n",
       "      <td>-0.00020469816192986327</td>\n",
       "    </tr>\n",
       "    <tr>\n",
       "      <th>101</th>\n",
       "      <td>Exterior1st.Wd.Sdng</td>\n",
       "      <td>-0.00018201128128712151</td>\n",
       "    </tr>\n",
       "    <tr>\n",
       "      <th>135</th>\n",
       "      <td>BsmtQual.TA</td>\n",
       "      <td>-0.00012498171522077949</td>\n",
       "    </tr>\n",
       "  </tbody>\n",
       "</table>\n",
       "<p>121 rows × 2 columns</p>\n",
       "</div>"
      ],
      "text/plain": [
       "                  Feature                   Coeff\n",
       "339              AreasSum  0.38203891676775314501\n",
       "83            OverallQual  0.37208623725056499953\n",
       "166             GrLivArea  0.36514422311452221503\n",
       "338        AllSizesSumLin  0.30674465472866635496\n",
       "172          KitchenAbvGr -0.29380727026738667762\n",
       "340               LivArea  0.28408310389312485533\n",
       "84            OverallCond  0.22527445550683075637\n",
       "319                AgeLin  0.14541605921650005429\n",
       "12       MSZoning.C..all. -0.14186218297738265037\n",
       "341             LivAreaWt  0.14024849690939039659\n",
       "337           AllSizesSum  0.12535093528640242622\n",
       "315        TotalHouseArea  0.11422870091252521063\n",
       "19            Street.Grvl -0.11136687838007426621\n",
       "43   Neighborhood.Crawfor  0.08831350502507637201\n",
       "199            GarageCars  0.08769963330621105557\n",
       "310     SaleConditionnums  0.08423307291127757335\n",
       "269      OverallCondcat.3 -0.07440530435462798520\n",
       "158           TotalBsmtSF  0.06857230976166193981\n",
       "94    Exterior1st.BrkFace  0.06852314104850425192\n",
       "301        GarageQualnums  0.06385758985932980802\n",
       "182        Functional.Typ  0.06034860891162399654\n",
       "250       MSZoningordered  0.05673899257546023700\n",
       "317             TotalBath  0.05527918642695453522\n",
       "92       RoofMatl.WdShngl  0.05328119893264381818\n",
       "165          LowQualFinSF -0.05299832733043109007\n",
       "344               HasPool  0.05236639754201384556\n",
       "328          DeckPorchLin  0.04794471242621012319\n",
       "67        Condition1.RRAe -0.04729625757729331859\n",
       "215           ScreenPorch  0.04689512122540632350\n",
       "288      BsmtFinType2nums  0.04682011685998063028\n",
       "..                    ...                     ...\n",
       "162          HeatingQC.TA -0.00600292380765290404\n",
       "299      GarageFinishnums  0.00597774538842506774\n",
       "194    GarageType.CarPort -0.00582933270791539254\n",
       "125          ExterCond.Gd -0.00566995753598095557\n",
       "97    Exterior1st.MetalSd  0.00531585415224704143\n",
       "51   Neighborhood.NPkVill  0.00508495385862482545\n",
       "74         BldgType.Twnhs -0.00507277053134598793\n",
       "300            BadGarageQ -0.00497534351962451889\n",
       "210          PavedDrive.Y  0.00483226479057436396\n",
       "246  SaleCondition.Family -0.00482324152157609549\n",
       "42   Neighborhood.CollgCr -0.00453139841581778197\n",
       "204         GarageCond.Fa -0.00410164434146405733\n",
       "120          ExterQual.Ex  0.00403133571395120505\n",
       "316               X1stLin  0.00368567853148967037\n",
       "258          BldgTypenums  0.00363549139918178683\n",
       "238           YrSold.2009 -0.00355125977085870171\n",
       "284          BsmtQualnums  0.00349065630319747404\n",
       "189        FireplaceQu.TA  0.00154247127510582214\n",
       "278       Exterior1stnums  0.00147510223349811825\n",
       "243           SaleType.WD -0.00146998037000746246\n",
       "170              HalfBath  0.00144880749656315375\n",
       "237           YrSold.2008  0.00114787780720192537\n",
       "129      Foundation.PConc  0.00105538090764186712\n",
       "263      OverallQualcat.6 -0.00058703702868185257\n",
       "227              MoSold.5  0.00048029186197169453\n",
       "53    Neighborhood.NWAmes -0.00044615187478475314\n",
       "138           BsmtCond.TA  0.00024411976884789895\n",
       "146      BsmtFinType1.LwQ -0.00020469816192986327\n",
       "101   Exterior1st.Wd.Sdng -0.00018201128128712151\n",
       "135           BsmtQual.TA -0.00012498171522077949\n",
       "\n",
       "[121 rows x 2 columns]"
      ]
     },
     "execution_count": 23,
     "metadata": {},
     "output_type": "execute_result"
    }
   ],
   "source": [
    "lassolars_features_df"
   ]
  },
  {
   "cell_type": "code",
   "execution_count": 24,
   "metadata": {
    "collapsed": false
   },
   "outputs": [
    {
     "data": {
      "text/plain": [
       "LassoLars(alpha=9e-05, copy_X=True, eps=2.2204460492503131e-16,\n",
       "     fit_intercept=True, fit_path=True, max_iter=50000, normalize=True,\n",
       "     positive=False, precompute='auto', verbose=False)"
      ]
     },
     "execution_count": 24,
     "metadata": {},
     "output_type": "execute_result"
    }
   ],
   "source": [
    "ll_nogorb_regr.fit(x_train_nogorb, y_train_nogorb)"
   ]
  },
  {
   "cell_type": "code",
   "execution_count": 25,
   "metadata": {
    "collapsed": true
   },
   "outputs": [],
   "source": [
    "lassolars_features = zip(df_nogorb.drop(['HouseId','SalePrice'],axis=1).columns, ll_nogorb_regr.coef_)\n",
    "lassolars_features_df = pd.DataFrame.from_dict(lassolars_features)\n",
    "lassolars_features_df.columns = [\"Feature\", \"Coeff\"]\n",
    "lassolars_features_df = lassolars_features_df[lassolars_features_df[\"Coeff\"]!=0]\n",
    "lassolars_features_df[\"sort_ind\"] = abs(lassolars_features_df[\"Coeff\"])\n",
    "lassolars_features_df = lassolars_features_df.sort_values(by=\"sort_ind\", ascending = False)\n",
    "lassolars_features_df = lassolars_features_df.drop('sort_ind', 1)"
   ]
  },
  {
   "cell_type": "code",
   "execution_count": 26,
   "metadata": {
    "collapsed": false
   },
   "outputs": [
    {
     "data": {
      "text/html": [
       "<div>\n",
       "<table border=\"1\" class=\"dataframe\">\n",
       "  <thead>\n",
       "    <tr style=\"text-align: right;\">\n",
       "      <th></th>\n",
       "      <th>Feature</th>\n",
       "      <th>Coeff</th>\n",
       "    </tr>\n",
       "  </thead>\n",
       "  <tbody>\n",
       "    <tr>\n",
       "      <th>339</th>\n",
       "      <td>AreasSum</td>\n",
       "      <td>0.41012986677174911865</td>\n",
       "    </tr>\n",
       "    <tr>\n",
       "      <th>83</th>\n",
       "      <td>OverallQual</td>\n",
       "      <td>0.38029700075745137555</td>\n",
       "    </tr>\n",
       "    <tr>\n",
       "      <th>341</th>\n",
       "      <td>LivAreaWt</td>\n",
       "      <td>0.33945587604751142896</td>\n",
       "    </tr>\n",
       "    <tr>\n",
       "      <th>338</th>\n",
       "      <td>AllSizesSumLin</td>\n",
       "      <td>0.33254889039200191680</td>\n",
       "    </tr>\n",
       "    <tr>\n",
       "      <th>84</th>\n",
       "      <td>OverallCond</td>\n",
       "      <td>0.23686755533717973599</td>\n",
       "    </tr>\n",
       "    <tr>\n",
       "      <th>340</th>\n",
       "      <td>LivArea</td>\n",
       "      <td>0.20250088266719520891</td>\n",
       "    </tr>\n",
       "    <tr>\n",
       "      <th>166</th>\n",
       "      <td>GrLivArea</td>\n",
       "      <td>0.18220243937436783610</td>\n",
       "    </tr>\n",
       "    <tr>\n",
       "      <th>172</th>\n",
       "      <td>KitchenAbvGr</td>\n",
       "      <td>-0.18064891385722950390</td>\n",
       "    </tr>\n",
       "    <tr>\n",
       "      <th>318</th>\n",
       "      <td>Age</td>\n",
       "      <td>-0.12059888776177191128</td>\n",
       "    </tr>\n",
       "    <tr>\n",
       "      <th>310</th>\n",
       "      <td>SaleConditionnums</td>\n",
       "      <td>0.09528796766179176148</td>\n",
       "    </tr>\n",
       "    <tr>\n",
       "      <th>317</th>\n",
       "      <td>TotalBath</td>\n",
       "      <td>0.08647413047258059593</td>\n",
       "    </tr>\n",
       "    <tr>\n",
       "      <th>315</th>\n",
       "      <td>TotalHouseArea</td>\n",
       "      <td>0.08028871245484425767</td>\n",
       "    </tr>\n",
       "    <tr>\n",
       "      <th>254</th>\n",
       "      <td>Neighborhoodbins</td>\n",
       "      <td>0.07938361226319315400</td>\n",
       "    </tr>\n",
       "    <tr>\n",
       "      <th>43</th>\n",
       "      <td>Neighborhood.Crawfor</td>\n",
       "      <td>0.07925816879857908170</td>\n",
       "    </tr>\n",
       "    <tr>\n",
       "      <th>19</th>\n",
       "      <td>Street.Grvl</td>\n",
       "      <td>-0.07734780837406431131</td>\n",
       "    </tr>\n",
       "    <tr>\n",
       "      <th>12</th>\n",
       "      <td>MSZoning.C..all.</td>\n",
       "      <td>-0.07216101385504004873</td>\n",
       "    </tr>\n",
       "    <tr>\n",
       "      <th>94</th>\n",
       "      <td>Exterior1st.BrkFace</td>\n",
       "      <td>0.07094575836955732684</td>\n",
       "    </tr>\n",
       "    <tr>\n",
       "      <th>199</th>\n",
       "      <td>GarageCars</td>\n",
       "      <td>0.06981996756330530185</td>\n",
       "    </tr>\n",
       "    <tr>\n",
       "      <th>182</th>\n",
       "      <td>Functional.Typ</td>\n",
       "      <td>0.06490860996490843693</td>\n",
       "    </tr>\n",
       "    <tr>\n",
       "      <th>335</th>\n",
       "      <td>X2ndLin</td>\n",
       "      <td>0.06018976473857225173</td>\n",
       "    </tr>\n",
       "    <tr>\n",
       "      <th>319</th>\n",
       "      <td>AgeLin</td>\n",
       "      <td>0.05856737108137240189</td>\n",
       "    </tr>\n",
       "    <tr>\n",
       "      <th>250</th>\n",
       "      <td>MSZoningordered</td>\n",
       "      <td>0.05808022306008019109</td>\n",
       "    </tr>\n",
       "    <tr>\n",
       "      <th>269</th>\n",
       "      <td>OverallCondcat.3</td>\n",
       "      <td>-0.05519059881244117727</td>\n",
       "    </tr>\n",
       "    <tr>\n",
       "      <th>183</th>\n",
       "      <td>Fireplaces</td>\n",
       "      <td>0.05447695398835276925</td>\n",
       "    </tr>\n",
       "    <tr>\n",
       "      <th>213</th>\n",
       "      <td>EnclosedPorch</td>\n",
       "      <td>0.05234289602728506990</td>\n",
       "    </tr>\n",
       "    <tr>\n",
       "      <th>289</th>\n",
       "      <td>NoGasHeat</td>\n",
       "      <td>-0.05066963782759222046</td>\n",
       "    </tr>\n",
       "    <tr>\n",
       "      <th>92</th>\n",
       "      <td>RoofMatl.WdShngl</td>\n",
       "      <td>0.04957218501459173532</td>\n",
       "    </tr>\n",
       "    <tr>\n",
       "      <th>67</th>\n",
       "      <td>Condition1.RRAe</td>\n",
       "      <td>-0.04672613422583464515</td>\n",
       "    </tr>\n",
       "    <tr>\n",
       "      <th>337</th>\n",
       "      <td>AllSizesSum</td>\n",
       "      <td>0.04648747046125077664</td>\n",
       "    </tr>\n",
       "    <tr>\n",
       "      <th>316</th>\n",
       "      <td>X1stLin</td>\n",
       "      <td>0.04532811865967258103</td>\n",
       "    </tr>\n",
       "    <tr>\n",
       "      <th>...</th>\n",
       "      <td>...</td>\n",
       "      <td>...</td>\n",
       "    </tr>\n",
       "    <tr>\n",
       "      <th>276</th>\n",
       "      <td>OverallCondBad</td>\n",
       "      <td>-0.00877603957704959324</td>\n",
       "    </tr>\n",
       "    <tr>\n",
       "      <th>286</th>\n",
       "      <td>BsmtExposurenums</td>\n",
       "      <td>0.00860170293077381840</td>\n",
       "    </tr>\n",
       "    <tr>\n",
       "      <th>307</th>\n",
       "      <td>SummerSale</td>\n",
       "      <td>0.00859786135981676324</td>\n",
       "    </tr>\n",
       "    <tr>\n",
       "      <th>33</th>\n",
       "      <td>LotConfig.FR2</td>\n",
       "      <td>-0.00808752233326170793</td>\n",
       "    </tr>\n",
       "    <tr>\n",
       "      <th>145</th>\n",
       "      <td>BsmtFinType1.GLQ</td>\n",
       "      <td>0.00799512416971517523</td>\n",
       "    </tr>\n",
       "    <tr>\n",
       "      <th>159</th>\n",
       "      <td>HeatingQC.Ex</td>\n",
       "      <td>0.00768061897857217658</td>\n",
       "    </tr>\n",
       "    <tr>\n",
       "      <th>118</th>\n",
       "      <td>MasVnrType.Stone</td>\n",
       "      <td>0.00724134418433864443</td>\n",
       "    </tr>\n",
       "    <tr>\n",
       "      <th>299</th>\n",
       "      <td>GarageFinishnums</td>\n",
       "      <td>0.00717655892150366979</td>\n",
       "    </tr>\n",
       "    <tr>\n",
       "      <th>288</th>\n",
       "      <td>BsmtFinType2nums</td>\n",
       "      <td>0.00686638047288496128</td>\n",
       "    </tr>\n",
       "    <tr>\n",
       "      <th>53</th>\n",
       "      <td>Neighborhood.NWAmes</td>\n",
       "      <td>-0.00663175716613170416</td>\n",
       "    </tr>\n",
       "    <tr>\n",
       "      <th>71</th>\n",
       "      <td>BldgType.1Fam</td>\n",
       "      <td>0.00621324976807821269</td>\n",
       "    </tr>\n",
       "    <tr>\n",
       "      <th>101</th>\n",
       "      <td>Exterior1st.Wd.Sdng</td>\n",
       "      <td>-0.00542662651883369252</td>\n",
       "    </tr>\n",
       "    <tr>\n",
       "      <th>151</th>\n",
       "      <td>BsmtFinType2.BLQ</td>\n",
       "      <td>-0.00534546391590985052</td>\n",
       "    </tr>\n",
       "    <tr>\n",
       "      <th>37</th>\n",
       "      <td>LandSlope.Sev</td>\n",
       "      <td>-0.00532419500996237673</td>\n",
       "    </tr>\n",
       "    <tr>\n",
       "      <th>167</th>\n",
       "      <td>BsmtFullBath</td>\n",
       "      <td>0.00386497016676870140</td>\n",
       "    </tr>\n",
       "    <tr>\n",
       "      <th>255</th>\n",
       "      <td>GoodNeighborhood</td>\n",
       "      <td>0.00358871932030799083</td>\n",
       "    </tr>\n",
       "    <tr>\n",
       "      <th>120</th>\n",
       "      <td>ExterQual.Ex</td>\n",
       "      <td>0.00340943088806750557</td>\n",
       "    </tr>\n",
       "    <tr>\n",
       "      <th>170</th>\n",
       "      <td>HalfBath</td>\n",
       "      <td>0.00335545649633277971</td>\n",
       "    </tr>\n",
       "    <tr>\n",
       "      <th>126</th>\n",
       "      <td>ExterCond.TA</td>\n",
       "      <td>0.00321400772736407311</td>\n",
       "    </tr>\n",
       "    <tr>\n",
       "      <th>48</th>\n",
       "      <td>Neighborhood.Mitchel</td>\n",
       "      <td>-0.00271815000764495359</td>\n",
       "    </tr>\n",
       "    <tr>\n",
       "      <th>5</th>\n",
       "      <td>MSSubClass.70</td>\n",
       "      <td>0.00210131115542245162</td>\n",
       "    </tr>\n",
       "    <tr>\n",
       "      <th>320</th>\n",
       "      <td>VNewSale</td>\n",
       "      <td>0.00147726577789808185</td>\n",
       "    </tr>\n",
       "    <tr>\n",
       "      <th>263</th>\n",
       "      <td>OverallQualcat.6</td>\n",
       "      <td>-0.00107745415919512154</td>\n",
       "    </tr>\n",
       "    <tr>\n",
       "      <th>238</th>\n",
       "      <td>YrSold.2009</td>\n",
       "      <td>-0.00095659607035812751</td>\n",
       "    </tr>\n",
       "    <tr>\n",
       "      <th>20</th>\n",
       "      <td>Alley.Grvl</td>\n",
       "      <td>-0.00090687309703279303</td>\n",
       "    </tr>\n",
       "    <tr>\n",
       "      <th>209</th>\n",
       "      <td>PavedDrive.P</td>\n",
       "      <td>-0.00061658754332563008</td>\n",
       "    </tr>\n",
       "    <tr>\n",
       "      <th>181</th>\n",
       "      <td>Functional.Mod</td>\n",
       "      <td>-0.00028807649050802581</td>\n",
       "    </tr>\n",
       "    <tr>\n",
       "      <th>204</th>\n",
       "      <td>GarageCond.Fa</td>\n",
       "      <td>-0.00026729766302698683</td>\n",
       "    </tr>\n",
       "    <tr>\n",
       "      <th>127</th>\n",
       "      <td>Foundation.BrkTil</td>\n",
       "      <td>-0.00014352873035287179</td>\n",
       "    </tr>\n",
       "    <tr>\n",
       "      <th>243</th>\n",
       "      <td>SaleType.WD</td>\n",
       "      <td>-0.00011335417574481567</td>\n",
       "    </tr>\n",
       "  </tbody>\n",
       "</table>\n",
       "<p>98 rows × 2 columns</p>\n",
       "</div>"
      ],
      "text/plain": [
       "                  Feature                   Coeff\n",
       "339              AreasSum  0.41012986677174911865\n",
       "83            OverallQual  0.38029700075745137555\n",
       "341             LivAreaWt  0.33945587604751142896\n",
       "338        AllSizesSumLin  0.33254889039200191680\n",
       "84            OverallCond  0.23686755533717973599\n",
       "340               LivArea  0.20250088266719520891\n",
       "166             GrLivArea  0.18220243937436783610\n",
       "172          KitchenAbvGr -0.18064891385722950390\n",
       "318                   Age -0.12059888776177191128\n",
       "310     SaleConditionnums  0.09528796766179176148\n",
       "317             TotalBath  0.08647413047258059593\n",
       "315        TotalHouseArea  0.08028871245484425767\n",
       "254      Neighborhoodbins  0.07938361226319315400\n",
       "43   Neighborhood.Crawfor  0.07925816879857908170\n",
       "19            Street.Grvl -0.07734780837406431131\n",
       "12       MSZoning.C..all. -0.07216101385504004873\n",
       "94    Exterior1st.BrkFace  0.07094575836955732684\n",
       "199            GarageCars  0.06981996756330530185\n",
       "182        Functional.Typ  0.06490860996490843693\n",
       "335               X2ndLin  0.06018976473857225173\n",
       "319                AgeLin  0.05856737108137240189\n",
       "250       MSZoningordered  0.05808022306008019109\n",
       "269      OverallCondcat.3 -0.05519059881244117727\n",
       "183            Fireplaces  0.05447695398835276925\n",
       "213         EnclosedPorch  0.05234289602728506990\n",
       "289             NoGasHeat -0.05066963782759222046\n",
       "92       RoofMatl.WdShngl  0.04957218501459173532\n",
       "67        Condition1.RRAe -0.04672613422583464515\n",
       "337           AllSizesSum  0.04648747046125077664\n",
       "316               X1stLin  0.04532811865967258103\n",
       "..                    ...                     ...\n",
       "276        OverallCondBad -0.00877603957704959324\n",
       "286      BsmtExposurenums  0.00860170293077381840\n",
       "307            SummerSale  0.00859786135981676324\n",
       "33          LotConfig.FR2 -0.00808752233326170793\n",
       "145      BsmtFinType1.GLQ  0.00799512416971517523\n",
       "159          HeatingQC.Ex  0.00768061897857217658\n",
       "118      MasVnrType.Stone  0.00724134418433864443\n",
       "299      GarageFinishnums  0.00717655892150366979\n",
       "288      BsmtFinType2nums  0.00686638047288496128\n",
       "53    Neighborhood.NWAmes -0.00663175716613170416\n",
       "71          BldgType.1Fam  0.00621324976807821269\n",
       "101   Exterior1st.Wd.Sdng -0.00542662651883369252\n",
       "151      BsmtFinType2.BLQ -0.00534546391590985052\n",
       "37          LandSlope.Sev -0.00532419500996237673\n",
       "167          BsmtFullBath  0.00386497016676870140\n",
       "255      GoodNeighborhood  0.00358871932030799083\n",
       "120          ExterQual.Ex  0.00340943088806750557\n",
       "170              HalfBath  0.00335545649633277971\n",
       "126          ExterCond.TA  0.00321400772736407311\n",
       "48   Neighborhood.Mitchel -0.00271815000764495359\n",
       "5           MSSubClass.70  0.00210131115542245162\n",
       "320              VNewSale  0.00147726577789808185\n",
       "263      OverallQualcat.6 -0.00107745415919512154\n",
       "238           YrSold.2009 -0.00095659607035812751\n",
       "20             Alley.Grvl -0.00090687309703279303\n",
       "209          PavedDrive.P -0.00061658754332563008\n",
       "181        Functional.Mod -0.00028807649050802581\n",
       "204         GarageCond.Fa -0.00026729766302698683\n",
       "127     Foundation.BrkTil -0.00014352873035287179\n",
       "243           SaleType.WD -0.00011335417574481567\n",
       "\n",
       "[98 rows x 2 columns]"
      ]
     },
     "execution_count": 26,
     "metadata": {},
     "output_type": "execute_result"
    }
   ],
   "source": [
    "lassolars_features_df "
   ]
  },
  {
   "cell_type": "markdown",
   "metadata": {},
   "source": [
    "## Making Predictions on the Test Set"
   ]
  },
  {
   "cell_type": "markdown",
   "metadata": {},
   "source": [
    "We want to be able to reassemble subset predictions on the test set back into a dataframe matched on the correct HouseId."
   ]
  },
  {
   "cell_type": "code",
   "execution_count": 110,
   "metadata": {
    "collapsed": false
   },
   "outputs": [],
   "source": [
    "test_df_hasgb = test_df[(test_df['NoGarage']==0) & (test_df['NoBasement']==0)].reset_index(drop=True)\n",
    "test_df_nogorb = test_df[(test_df['NoGarage']==1) | (test_df['NoBasement']==1)].reset_index(drop=True)"
   ]
  },
  {
   "cell_type": "code",
   "execution_count": 89,
   "metadata": {
    "collapsed": false
   },
   "outputs": [],
   "source": [
    "x_test_nogorb = test_df_nogorb.drop(['HouseId', 'GarageAge', 'GarageAgeLin'],axis=1).values\n",
    "x_test_hasgb = test_df_hasgb.drop(['HouseId'],axis=1).values"
   ]
  },
  {
   "cell_type": "code",
   "execution_count": 139,
   "metadata": {
    "collapsed": false
   },
   "outputs": [],
   "source": [
    "y_pred_hasgb = ll_hasgb_regr.predict(x_test_hasgb)\n",
    "y_pred_nogorb = ll_nogorb_regr.predict(x_test_nogorb)\n",
    "\n",
    "y_pred_hasgb = np.exp(y_pred_hasgb)\n",
    "y_pred_nogorb = np.exp(y_pred_nogorb)"
   ]
  },
  {
   "cell_type": "code",
   "execution_count": 140,
   "metadata": {
    "collapsed": false
   },
   "outputs": [],
   "source": [
    "ids_hasgb = test_df_hasgb.loc[:,'HouseId'].tolist()\n",
    "ids_nogorb = test_df_nogorb.loc[:,'HouseId'].tolist()"
   ]
  },
  {
   "cell_type": "code",
   "execution_count": 141,
   "metadata": {
    "collapsed": false
   },
   "outputs": [],
   "source": [
    "nogorb_preds = zip(ids_nogorb, y_pred_nogorb)\n",
    "nogorb_preds_df = pd.DataFrame.from_dict(nogorb_preds)\n",
    "nogorb_preds_df.columns = [\"HouseId\", \"SalePrice\"]\n",
    "\n",
    "hasgb_preds = zip(ids_hasgb, y_pred_hasgb)\n",
    "hasgb_preds_df = pd.DataFrame.from_dict(hasgb_preds)\n",
    "hasgb_preds_df.columns = [\"HouseId\", \"SalePrice\"]"
   ]
  },
  {
   "cell_type": "code",
   "execution_count": 142,
   "metadata": {
    "collapsed": false
   },
   "outputs": [],
   "source": [
    "preds_df = pd.concat([nogorb_preds_df,hasgb_preds_df]).sort_values('HouseId').set_index('HouseId')"
   ]
  },
  {
   "cell_type": "code",
   "execution_count": 144,
   "metadata": {
    "collapsed": false
   },
   "outputs": [],
   "source": [
    "preds_df.to_csv('subset_output-111001001.csv', header=True, index_label='Id')"
   ]
  },
  {
   "cell_type": "markdown",
   "metadata": {},
   "source": [
    "This results in an error of 0.11998 on the public leaderboard, for a position of 936th on 2/20/17."
   ]
  },
  {
   "cell_type": "markdown",
   "metadata": {},
   "source": [
    "## Blending with XGBoost and MLP"
   ]
  },
  {
   "cell_type": "markdown",
   "metadata": {},
   "source": [
    "We can try to do a bit better by fitting XGBoost and MLP regressors to the data and making additional predictions."
   ]
  },
  {
   "cell_type": "markdown",
   "metadata": {},
   "source": [
    "### XGBoost"
   ]
  },
  {
   "cell_type": "code",
   "execution_count": 145,
   "metadata": {
    "collapsed": true
   },
   "outputs": [],
   "source": [
    "x_train = x_train_nogorb\n",
    "y_train = y_train_nogorb"
   ]
  },
  {
   "cell_type": "code",
   "execution_count": 161,
   "metadata": {
    "collapsed": false
   },
   "outputs": [
    {
     "data": {
      "text/html": [
       "<div>\n",
       "<table border=\"1\" class=\"dataframe\">\n",
       "  <thead>\n",
       "    <tr style=\"text-align: right;\">\n",
       "      <th></th>\n",
       "      <th>max_depth</th>\n",
       "      <th>RMSE</th>\n",
       "      <th>std dev</th>\n",
       "    </tr>\n",
       "  </thead>\n",
       "  <tbody>\n",
       "    <tr>\n",
       "      <th>0</th>\n",
       "      <td>1.0</td>\n",
       "      <td>0.11488772707413609508</td>\n",
       "      <td>0.05255567374183525708</td>\n",
       "    </tr>\n",
       "    <tr>\n",
       "      <th>7</th>\n",
       "      <td>8.0</td>\n",
       "      <td>0.11371224098954894888</td>\n",
       "      <td>0.05076517862737173897</td>\n",
       "    </tr>\n",
       "    <tr>\n",
       "      <th>6</th>\n",
       "      <td>7.0</td>\n",
       "      <td>0.11218566353463792218</td>\n",
       "      <td>0.05200902529169261490</td>\n",
       "    </tr>\n",
       "    <tr>\n",
       "      <th>4</th>\n",
       "      <td>5.0</td>\n",
       "      <td>0.11217345446732565617</td>\n",
       "      <td>0.05386252862767619554</td>\n",
       "    </tr>\n",
       "    <tr>\n",
       "      <th>3</th>\n",
       "      <td>4.0</td>\n",
       "      <td>0.11216396517572302383</td>\n",
       "      <td>0.05574826149357729743</td>\n",
       "    </tr>\n",
       "    <tr>\n",
       "      <th>5</th>\n",
       "      <td>6.0</td>\n",
       "      <td>0.11197797475206651419</td>\n",
       "      <td>0.05149344352390237967</td>\n",
       "    </tr>\n",
       "    <tr>\n",
       "      <th>1</th>\n",
       "      <td>2.0</td>\n",
       "      <td>0.11122383231362803491</td>\n",
       "      <td>0.05480122217021001635</td>\n",
       "    </tr>\n",
       "    <tr>\n",
       "      <th>2</th>\n",
       "      <td>3.0</td>\n",
       "      <td>0.11022172069205109224</td>\n",
       "      <td>0.05589942710242555568</td>\n",
       "    </tr>\n",
       "  </tbody>\n",
       "</table>\n",
       "</div>"
      ],
      "text/plain": [
       "   max_depth                    RMSE                 std dev\n",
       "0        1.0  0.11488772707413609508  0.05255567374183525708\n",
       "7        8.0  0.11371224098954894888  0.05076517862737173897\n",
       "6        7.0  0.11218566353463792218  0.05200902529169261490\n",
       "4        5.0  0.11217345446732565617  0.05386252862767619554\n",
       "3        4.0  0.11216396517572302383  0.05574826149357729743\n",
       "5        6.0  0.11197797475206651419  0.05149344352390237967\n",
       "1        2.0  0.11122383231362803491  0.05480122217021001635\n",
       "2        3.0  0.11022172069205109224  0.05589942710242555568"
      ]
     },
     "execution_count": 161,
     "metadata": {},
     "output_type": "execute_result"
    },
    {
     "data": {
      "image/png": "[encoded data removed]",
      "text/plain": [
       "<matplotlib.figure.Figure at 0x7f0bfdd1ac50>"
      ]
     },
     "metadata": {},
     "output_type": "display_data"
    }
   ],
   "source": [
    "xgb_regr = xgb.XGBRegressor(\n",
    "    max_depth = 3, \n",
    "    min_child_weight = 6.25,\n",
    "    gamma = 0.0005,\n",
    "    subsample = 0.4,\n",
    "    colsample_bytree = 0.3,\n",
    "    reg_alpha = 0.1,\n",
    "    reg_lambda = 3.25, \n",
    "    learning_rate = 0.06,\n",
    "    n_estimators = 500,\n",
    "    objective='reg:linear', \n",
    "    seed = 42,\n",
    "    nthread = -1,\n",
    "    silent = 1)\n",
    "xgb_params = {'max_depth': np.arange(1, 9, 1).tolist()}\n",
    "xgb_df = single_search(xgb_regr, xgb_params)\n",
    "xgb_df.plot(x = ['max_depth'], y = ['RMSE'])\n",
    "xgb_df.sort_values(['RMSE'], ascending = False)"
   ]
  },
  {
   "cell_type": "code",
   "execution_count": 206,
   "metadata": {
    "collapsed": true
   },
   "outputs": [],
   "source": [
    "xgb_nogorb_regr = xgb.XGBRegressor(\n",
    "    max_depth = 3, \n",
    "    min_child_weight = 6.25,\n",
    "    gamma = 0.0005,\n",
    "    subsample = 0.4,\n",
    "    colsample_bytree = 0.3,\n",
    "    reg_alpha = 0.1,\n",
    "    reg_lambda = 3.25, \n",
    "    learning_rate = 0.06,\n",
    "    n_estimators = 500,\n",
    "    objective='reg:linear', \n",
    "    seed = 42,\n",
    "    nthread = -1,\n",
    "    silent = 1)"
   ]
  },
  {
   "cell_type": "code",
   "execution_count": 163,
   "metadata": {
    "collapsed": true
   },
   "outputs": [],
   "source": [
    "x_train = x_train_hasgb\n",
    "y_train = y_train_hasgb"
   ]
  },
  {
   "cell_type": "code",
   "execution_count": 179,
   "metadata": {
    "collapsed": false
   },
   "outputs": [
    {
     "data": {
      "text/html": [
       "<div>\n",
       "<table border=\"1\" class=\"dataframe\">\n",
       "  <thead>\n",
       "    <tr style=\"text-align: right;\">\n",
       "      <th></th>\n",
       "      <th>max_depth</th>\n",
       "      <th>RMSE</th>\n",
       "      <th>std dev</th>\n",
       "    </tr>\n",
       "  </thead>\n",
       "  <tbody>\n",
       "    <tr>\n",
       "      <th>4</th>\n",
       "      <td>5.0</td>\n",
       "      <td>0.10883609827841995987</td>\n",
       "      <td>0.05650128996558657218</td>\n",
       "    </tr>\n",
       "    <tr>\n",
       "      <th>0</th>\n",
       "      <td>1.0</td>\n",
       "      <td>0.10834593098883134321</td>\n",
       "      <td>0.05272099918629982035</td>\n",
       "    </tr>\n",
       "    <tr>\n",
       "      <th>3</th>\n",
       "      <td>4.0</td>\n",
       "      <td>0.10774888950454976355</td>\n",
       "      <td>0.05511519880076833772</td>\n",
       "    </tr>\n",
       "    <tr>\n",
       "      <th>2</th>\n",
       "      <td>3.0</td>\n",
       "      <td>0.10545443900161750872</td>\n",
       "      <td>0.05353276962508877329</td>\n",
       "    </tr>\n",
       "    <tr>\n",
       "      <th>1</th>\n",
       "      <td>2.0</td>\n",
       "      <td>0.10531475929466539709</td>\n",
       "      <td>0.05179772584662591800</td>\n",
       "    </tr>\n",
       "  </tbody>\n",
       "</table>\n",
       "</div>"
      ],
      "text/plain": [
       "   max_depth                    RMSE                 std dev\n",
       "4        5.0  0.10883609827841995987  0.05650128996558657218\n",
       "0        1.0  0.10834593098883134321  0.05272099918629982035\n",
       "3        4.0  0.10774888950454976355  0.05511519880076833772\n",
       "2        3.0  0.10545443900161750872  0.05353276962508877329\n",
       "1        2.0  0.10531475929466539709  0.05179772584662591800"
      ]
     },
     "execution_count": 179,
     "metadata": {},
     "output_type": "execute_result"
    },
    {
     "data": {
      "image/png": "[encoded data removed]",
      "text/plain": [
       "<matplotlib.figure.Figure at 0x7f0bfdaf8310>"
      ]
     },
     "metadata": {},
     "output_type": "display_data"
    }
   ],
   "source": [
    "xgb_regr = xgb.XGBRegressor(\n",
    "    max_depth = 2, \n",
    "    min_child_weight = 1,\n",
    "    gamma = 0.001,\n",
    "    subsample = 0.7,\n",
    "    colsample_bytree = 0.105,\n",
    "    reg_alpha = 0.35,\n",
    "    reg_lambda = 2.5, \n",
    "    learning_rate = 0.06,\n",
    "    n_estimators = 800,\n",
    "    objective='reg:linear', \n",
    "    seed = 42,\n",
    "    nthread = -1,\n",
    "    silent = 1)\n",
    "xgb_params = {'max_depth': np.arange(1, 6, 1).tolist()}\n",
    "xgb_df = single_search(xgb_regr, xgb_params)\n",
    "xgb_df.plot(x = ['max_depth'], y = ['RMSE'])\n",
    "xgb_df.sort_values(['RMSE'], ascending = False)"
   ]
  },
  {
   "cell_type": "code",
   "execution_count": 207,
   "metadata": {
    "collapsed": true
   },
   "outputs": [],
   "source": [
    "xgb_hasgb_regr = xgb.XGBRegressor(\n",
    "    max_depth = 2, \n",
    "    min_child_weight = 1,\n",
    "    gamma = 0.001,\n",
    "    subsample = 0.7,\n",
    "    colsample_bytree = 0.105,\n",
    "    reg_alpha = 0.35,\n",
    "    reg_lambda = 2.5, \n",
    "    learning_rate = 0.06,\n",
    "    n_estimators = 800,\n",
    "    objective='reg:linear', \n",
    "    seed = 42,\n",
    "    nthread = -1,\n",
    "    silent = 1)"
   ]
  },
  {
   "cell_type": "code",
   "execution_count": 208,
   "metadata": {
    "collapsed": false
   },
   "outputs": [
    {
     "data": {
      "text/plain": [
       "XGBRegressor(base_score=0.5, colsample_bylevel=1, colsample_bytree=0.105,\n",
       "       gamma=0.001, learning_rate=0.06, max_delta_step=0, max_depth=2,\n",
       "       min_child_weight=1, missing=None, n_estimators=800, nthread=-1,\n",
       "       objective='reg:linear', reg_alpha=0.35, reg_lambda=2.5,\n",
       "       scale_pos_weight=1, seed=42, silent=1, subsample=0.7)"
      ]
     },
     "execution_count": 208,
     "metadata": {},
     "output_type": "execute_result"
    }
   ],
   "source": [
    "xgb_nogorb_regr.fit(x_train_nogorb, y_train_nogorb)\n",
    "xgb_hasgb_regr.fit(x_train_hasgb, y_train_hasgb)"
   ]
  },
  {
   "cell_type": "markdown",
   "metadata": {},
   "source": [
    "### Multilevel Perceptron"
   ]
  },
  {
   "cell_type": "code",
   "execution_count": 181,
   "metadata": {
    "collapsed": true
   },
   "outputs": [],
   "source": [
    "x_train = x_train_nogorb\n",
    "y_train = y_train_nogorb"
   ]
  },
  {
   "cell_type": "code",
   "execution_count": 190,
   "metadata": {
    "collapsed": false
   },
   "outputs": [
    {
     "data": {
      "text/html": [
       "<div>\n",
       "<table border=\"1\" class=\"dataframe\">\n",
       "  <thead>\n",
       "    <tr style=\"text-align: right;\">\n",
       "      <th></th>\n",
       "      <th>max_iter</th>\n",
       "      <th>RMSE</th>\n",
       "      <th>std dev</th>\n",
       "    </tr>\n",
       "  </thead>\n",
       "  <tbody>\n",
       "    <tr>\n",
       "      <th>0</th>\n",
       "      <td>25.0</td>\n",
       "      <td>0.29908575000819082046</td>\n",
       "      <td>0.11876997154703844428</td>\n",
       "    </tr>\n",
       "    <tr>\n",
       "      <th>1</th>\n",
       "      <td>50.0</td>\n",
       "      <td>0.17027111420756918525</td>\n",
       "      <td>0.08401653573108444628</td>\n",
       "    </tr>\n",
       "    <tr>\n",
       "      <th>2</th>\n",
       "      <td>75.0</td>\n",
       "      <td>0.14160940084410589268</td>\n",
       "      <td>0.05309303777329380664</td>\n",
       "    </tr>\n",
       "    <tr>\n",
       "      <th>3</th>\n",
       "      <td>100.0</td>\n",
       "      <td>0.13201830812713336027</td>\n",
       "      <td>0.05505191691268000037</td>\n",
       "    </tr>\n",
       "    <tr>\n",
       "      <th>4</th>\n",
       "      <td>125.0</td>\n",
       "      <td>0.12591422120061823708</td>\n",
       "      <td>0.05796863529395872988</td>\n",
       "    </tr>\n",
       "    <tr>\n",
       "      <th>5</th>\n",
       "      <td>150.0</td>\n",
       "      <td>0.12240037662874428404</td>\n",
       "      <td>0.05703646879461149455</td>\n",
       "    </tr>\n",
       "    <tr>\n",
       "      <th>6</th>\n",
       "      <td>175.0</td>\n",
       "      <td>0.12032256765074218763</td>\n",
       "      <td>0.05743404362097773164</td>\n",
       "    </tr>\n",
       "    <tr>\n",
       "      <th>7</th>\n",
       "      <td>200.0</td>\n",
       "      <td>0.11850118164847837920</td>\n",
       "      <td>0.05884209209803563378</td>\n",
       "    </tr>\n",
       "    <tr>\n",
       "      <th>8</th>\n",
       "      <td>225.0</td>\n",
       "      <td>0.11746927908339496738</td>\n",
       "      <td>0.05691106611736058973</td>\n",
       "    </tr>\n",
       "    <tr>\n",
       "      <th>11</th>\n",
       "      <td>300.0</td>\n",
       "      <td>0.11681115631010186018</td>\n",
       "      <td>0.05580812164061162151</td>\n",
       "    </tr>\n",
       "    <tr>\n",
       "      <th>10</th>\n",
       "      <td>275.0</td>\n",
       "      <td>0.11666785735773452237</td>\n",
       "      <td>0.05653369508510919239</td>\n",
       "    </tr>\n",
       "    <tr>\n",
       "      <th>9</th>\n",
       "      <td>250.0</td>\n",
       "      <td>0.11664805886501329601</td>\n",
       "      <td>0.05620171914944805530</td>\n",
       "    </tr>\n",
       "  </tbody>\n",
       "</table>\n",
       "</div>"
      ],
      "text/plain": [
       "    max_iter                    RMSE                 std dev\n",
       "0       25.0  0.29908575000819082046  0.11876997154703844428\n",
       "1       50.0  0.17027111420756918525  0.08401653573108444628\n",
       "2       75.0  0.14160940084410589268  0.05309303777329380664\n",
       "3      100.0  0.13201830812713336027  0.05505191691268000037\n",
       "4      125.0  0.12591422120061823708  0.05796863529395872988\n",
       "5      150.0  0.12240037662874428404  0.05703646879461149455\n",
       "6      175.0  0.12032256765074218763  0.05743404362097773164\n",
       "7      200.0  0.11850118164847837920  0.05884209209803563378\n",
       "8      225.0  0.11746927908339496738  0.05691106611736058973\n",
       "11     300.0  0.11681115631010186018  0.05580812164061162151\n",
       "10     275.0  0.11666785735773452237  0.05653369508510919239\n",
       "9      250.0  0.11664805886501329601  0.05620171914944805530"
      ]
     },
     "execution_count": 190,
     "metadata": {},
     "output_type": "execute_result"
    },
    {
     "data": {
      "image/png": "[encoded data removed]",
      "text/plain": [
       "<matplotlib.figure.Figure at 0x7f0bfc5d1b50>"
      ]
     },
     "metadata": {},
     "output_type": "display_data"
    }
   ],
   "source": [
    "mlp_regr = MLPRegressor(activation='relu', solver='lbfgs', random_state=641,\n",
    "                        hidden_layer_sizes=(9, ),\n",
    "                        alpha=0.0004, \n",
    "                        tol=0.0004, \n",
    "                        max_iter=250)\n",
    "mlp_params = {'max_iter': np.arange(25, 325, 25).tolist()}\n",
    "# mlp_params = {'tol': np.logspace(-4, -2, 11).tolist()}\n",
    "mlp_df = single_search(mlp_regr, mlp_params)\n",
    "mlp_df.plot(x = ['max_iter'], y = ['RMSE'])\n",
    "mlp_df.sort_values(['RMSE'], ascending = False)"
   ]
  },
  {
   "cell_type": "code",
   "execution_count": 191,
   "metadata": {
    "collapsed": true
   },
   "outputs": [],
   "source": [
    "mlp_nogorb_regr = MLPRegressor(activation='relu', solver='lbfgs', random_state=641,\n",
    "                        hidden_layer_sizes=(9, ),\n",
    "                        alpha=0.0004, \n",
    "                        tol=0.0004, \n",
    "                        max_iter=250)"
   ]
  },
  {
   "cell_type": "code",
   "execution_count": 192,
   "metadata": {
    "collapsed": true
   },
   "outputs": [],
   "source": [
    "x_train = x_train_hasgb\n",
    "y_train = y_train_hasgb"
   ]
  },
  {
   "cell_type": "code",
   "execution_count": 199,
   "metadata": {
    "collapsed": false
   },
   "outputs": [
    {
     "data": {
      "text/html": [
       "<div>\n",
       "<table border=\"1\" class=\"dataframe\">\n",
       "  <thead>\n",
       "    <tr style=\"text-align: right;\">\n",
       "      <th></th>\n",
       "      <th>max_iter</th>\n",
       "      <th>RMSE</th>\n",
       "      <th>std dev</th>\n",
       "    </tr>\n",
       "  </thead>\n",
       "  <tbody>\n",
       "    <tr>\n",
       "      <th>1</th>\n",
       "      <td>325.0</td>\n",
       "      <td>0.10838442045677380843</td>\n",
       "      <td>0.04999417370911652531</td>\n",
       "    </tr>\n",
       "    <tr>\n",
       "      <th>2</th>\n",
       "      <td>350.0</td>\n",
       "      <td>0.10835197894790828121</td>\n",
       "      <td>0.04960519603978941205</td>\n",
       "    </tr>\n",
       "    <tr>\n",
       "      <th>3</th>\n",
       "      <td>375.0</td>\n",
       "      <td>0.10832544819565829985</td>\n",
       "      <td>0.05016212261699106584</td>\n",
       "    </tr>\n",
       "    <tr>\n",
       "      <th>4</th>\n",
       "      <td>400.0</td>\n",
       "      <td>0.10830031803423005587</td>\n",
       "      <td>0.05009830056326205344</td>\n",
       "    </tr>\n",
       "    <tr>\n",
       "      <th>0</th>\n",
       "      <td>300.0</td>\n",
       "      <td>0.10822575373262892373</td>\n",
       "      <td>0.04993408625363403297</td>\n",
       "    </tr>\n",
       "  </tbody>\n",
       "</table>\n",
       "</div>"
      ],
      "text/plain": [
       "   max_iter                    RMSE                 std dev\n",
       "1     325.0  0.10838442045677380843  0.04999417370911652531\n",
       "2     350.0  0.10835197894790828121  0.04960519603978941205\n",
       "3     375.0  0.10832544819565829985  0.05016212261699106584\n",
       "4     400.0  0.10830031803423005587  0.05009830056326205344\n",
       "0     300.0  0.10822575373262892373  0.04993408625363403297"
      ]
     },
     "execution_count": 199,
     "metadata": {},
     "output_type": "execute_result"
    },
    {
     "data": {
      "image/png": "[encoded data removed]",
      "text/plain": [
       "<matplotlib.figure.Figure at 0x7f0bfc68f750>"
      ]
     },
     "metadata": {},
     "output_type": "display_data"
    }
   ],
   "source": [
    "mlp_regr = MLPRegressor(activation='relu', solver='lbfgs', random_state=641,\n",
    "                        hidden_layer_sizes=(2, ),\n",
    "                        alpha=0.0005, \n",
    "                        tol=0.0004, \n",
    "                        max_iter=250)\n",
    "mlp_params = {'max_iter': np.arange(300, 425, 25).tolist()}\n",
    "# mlp_params = {'tol': np.logspace(-4, -2, 11).tolist()}\n",
    "mlp_df = single_search(mlp_regr, mlp_params)\n",
    "mlp_df.plot(x = ['max_iter'], y = ['RMSE'])\n",
    "mlp_df.sort_values(['RMSE'], ascending = False)"
   ]
  },
  {
   "cell_type": "code",
   "execution_count": 200,
   "metadata": {
    "collapsed": true
   },
   "outputs": [],
   "source": [
    "mlp_hasgb_regr = MLPRegressor(activation='relu', solver='lbfgs', random_state=641,\n",
    "                        hidden_layer_sizes=(2, ),\n",
    "                        alpha=0.0005, \n",
    "                        tol=0.0004, \n",
    "                        max_iter=300)"
   ]
  },
  {
   "cell_type": "code",
   "execution_count": 203,
   "metadata": {
    "collapsed": false
   },
   "outputs": [
    {
     "data": {
      "text/plain": [
       "MLPRegressor(activation='relu', alpha=0.0005, batch_size='auto', beta_1=0.9,\n",
       "       beta_2=0.999, early_stopping=False, epsilon=1e-08,\n",
       "       hidden_layer_sizes=(2,), learning_rate='constant',\n",
       "       learning_rate_init=0.001, max_iter=300, momentum=0.9,\n",
       "       nesterovs_momentum=True, power_t=0.5, random_state=641,\n",
       "       shuffle=True, solver='lbfgs', tol=0.0004, validation_fraction=0.1,\n",
       "       verbose=False, warm_start=False)"
      ]
     },
     "execution_count": 203,
     "metadata": {},
     "output_type": "execute_result"
    }
   ],
   "source": [
    "mlp_nogorb_regr.fit(x_train_nogorb, y_train_nogorb)\n",
    "mlp_hasgb_regr.fit(x_train_hasgb, y_train_hasgb)"
   ]
  },
  {
   "cell_type": "markdown",
   "metadata": {},
   "source": [
    "## Blending Predictions"
   ]
  },
  {
   "cell_type": "code",
   "execution_count": 211,
   "metadata": {
    "collapsed": true
   },
   "outputs": [],
   "source": [
    "y_pred_hasgb_ll = ll_hasgb_regr.predict(x_test_hasgb)\n",
    "y_pred_nogorb_ll = ll_nogorb_regr.predict(x_test_nogorb)\n",
    "\n",
    "y_pred_hasgb_xgb = xgb_hasgb_regr.predict(x_test_hasgb)\n",
    "y_pred_nogorb_xgb = xgb_nogorb_regr.predict(x_test_nogorb)\n",
    "\n",
    "y_pred_hasgb_mlp = mlp_hasgb_regr.predict(x_test_hasgb)\n",
    "y_pred_nogorb_mlp = mlp_nogorb_regr.predict(x_test_nogorb)"
   ]
  },
  {
   "cell_type": "markdown",
   "metadata": {},
   "source": [
    "We will weight the predictions according to the cross-validation errors."
   ]
  },
  {
   "cell_type": "code",
   "execution_count": 213,
   "metadata": {
    "collapsed": false
   },
   "outputs": [],
   "source": [
    "y_pred_hasgb = (y_pred_hasgb_ll / 0.0998 + y_pred_hasgb_xgb / 0.1053 \n",
    "                + y_pred_hasgb_mlp / 0.1082) / (1 / 0.0998 + 1 / 0.1053 + 1 / 0.1082)\n",
    "\n",
    "y_pred_nogorb = (y_pred_nogorb_ll / 0.1044 + y_pred_nogorb_xgb / 0.11022\n",
    "                + y_pred_nogorb_mlp / 0.1166) / (1 / 0.1044 + 1 / 0.11022 + 1 / 0.1166)\n",
    "\n",
    "y_pred_hasgb = np.exp(y_pred_hasgb)\n",
    "y_pred_nogorb = np.exp(y_pred_nogorb)"
   ]
  },
  {
   "cell_type": "code",
   "execution_count": 214,
   "metadata": {
    "collapsed": true
   },
   "outputs": [],
   "source": [
    "ids_hasgb = test_df_hasgb.loc[:,'HouseId'].tolist()\n",
    "ids_nogorb = test_df_nogorb.loc[:,'HouseId'].tolist()"
   ]
  },
  {
   "cell_type": "code",
   "execution_count": 215,
   "metadata": {
    "collapsed": true
   },
   "outputs": [],
   "source": [
    "nogorb_preds = zip(ids_nogorb, y_pred_nogorb)\n",
    "nogorb_preds_df = pd.DataFrame.from_dict(nogorb_preds)\n",
    "nogorb_preds_df.columns = [\"HouseId\", \"SalePrice\"]\n",
    "\n",
    "hasgb_preds = zip(ids_hasgb, y_pred_hasgb)\n",
    "hasgb_preds_df = pd.DataFrame.from_dict(hasgb_preds)\n",
    "hasgb_preds_df.columns = [\"HouseId\", \"SalePrice\"]"
   ]
  },
  {
   "cell_type": "code",
   "execution_count": 216,
   "metadata": {
    "collapsed": true
   },
   "outputs": [],
   "source": [
    "preds_df = pd.concat([nogorb_preds_df,hasgb_preds_df]).sort_values('HouseId').set_index('HouseId')"
   ]
  },
  {
   "cell_type": "code",
   "execution_count": 217,
   "metadata": {
    "collapsed": true
   },
   "outputs": [],
   "source": [
    "preds_df.to_csv('subset_blend_output-111001001.csv', header=True, index_label='Id')"
   ]
  },
  {
   "cell_type": "markdown",
   "metadata": {},
   "source": [
    "This yielded a 0.12211 error on the public leaderboard, which was a worse result.  This is likely due to comparably larger variance of the XGB and MLP results, as evidenced by the cross-validation error on the training set."
   ]
  },
  {
   "cell_type": "markdown",
   "metadata": {},
   "source": [
    "### Elastic Net"
   ]
  },
  {
   "cell_type": "markdown",
   "metadata": {},
   "source": [
    "Since the tree and NN models didn't seem to do so well, it might be useful to blend with a different linear model to reduce some variance error. The Elastic Net was the 2nd performer behind LassoLars, so it is a natural choice."
   ]
  },
  {
   "cell_type": "code",
   "execution_count": 218,
   "metadata": {
    "collapsed": true
   },
   "outputs": [],
   "source": [
    "x_train = x_train_nogorb\n",
    "y_train = y_train_nogorb"
   ]
  },
  {
   "cell_type": "code",
   "execution_count": 220,
   "metadata": {
    "collapsed": false
   },
   "outputs": [
    {
     "data": {
      "text/html": [
       "<div>\n",
       "<table border=\"1\" class=\"dataframe\">\n",
       "  <thead>\n",
       "    <tr style=\"text-align: right;\">\n",
       "      <th></th>\n",
       "      <th>l1_ratio</th>\n",
       "      <th>RMSE</th>\n",
       "      <th>std dev</th>\n",
       "    </tr>\n",
       "  </thead>\n",
       "  <tbody>\n",
       "    <tr>\n",
       "      <th>0</th>\n",
       "      <td>0.10000000000000000555</td>\n",
       "      <td>0.10851441945455396476</td>\n",
       "      <td>0.05413143050096031611</td>\n",
       "    </tr>\n",
       "    <tr>\n",
       "      <th>1</th>\n",
       "      <td>0.20000000000000001110</td>\n",
       "      <td>0.10728474594484239957</td>\n",
       "      <td>0.05386529258550314114</td>\n",
       "    </tr>\n",
       "    <tr>\n",
       "      <th>8</th>\n",
       "      <td>0.90000000000000002220</td>\n",
       "      <td>0.10677573306873749948</td>\n",
       "      <td>0.05462062717498383790</td>\n",
       "    </tr>\n",
       "    <tr>\n",
       "      <th>2</th>\n",
       "      <td>0.30000000000000004441</td>\n",
       "      <td>0.10658991974316117668</td>\n",
       "      <td>0.05436056546318008414</td>\n",
       "    </tr>\n",
       "    <tr>\n",
       "      <th>7</th>\n",
       "      <td>0.80000000000000004441</td>\n",
       "      <td>0.10654155398039166780</td>\n",
       "      <td>0.05440054091832015326</td>\n",
       "    </tr>\n",
       "    <tr>\n",
       "      <th>6</th>\n",
       "      <td>0.70000000000000006661</td>\n",
       "      <td>0.10640772203929935169</td>\n",
       "      <td>0.05440402587124221895</td>\n",
       "    </tr>\n",
       "    <tr>\n",
       "      <th>5</th>\n",
       "      <td>0.59999999999999997780</td>\n",
       "      <td>0.10624516806587051831</td>\n",
       "      <td>0.05449819966729742976</td>\n",
       "    </tr>\n",
       "    <tr>\n",
       "      <th>3</th>\n",
       "      <td>0.40000000000000002220</td>\n",
       "      <td>0.10624420846737654689</td>\n",
       "      <td>0.05456913585266731648</td>\n",
       "    </tr>\n",
       "    <tr>\n",
       "      <th>4</th>\n",
       "      <td>0.50000000000000000000</td>\n",
       "      <td>0.10613032091837604209</td>\n",
       "      <td>0.05463493466604369547</td>\n",
       "    </tr>\n",
       "  </tbody>\n",
       "</table>\n",
       "</div>"
      ],
      "text/plain": [
       "                 l1_ratio                    RMSE                 std dev\n",
       "0  0.10000000000000000555  0.10851441945455396476  0.05413143050096031611\n",
       "1  0.20000000000000001110  0.10728474594484239957  0.05386529258550314114\n",
       "8  0.90000000000000002220  0.10677573306873749948  0.05462062717498383790\n",
       "2  0.30000000000000004441  0.10658991974316117668  0.05436056546318008414\n",
       "7  0.80000000000000004441  0.10654155398039166780  0.05440054091832015326\n",
       "6  0.70000000000000006661  0.10640772203929935169  0.05440402587124221895\n",
       "5  0.59999999999999997780  0.10624516806587051831  0.05449819966729742976\n",
       "3  0.40000000000000002220  0.10624420846737654689  0.05456913585266731648\n",
       "4  0.50000000000000000000  0.10613032091837604209  0.05463493466604369547"
      ]
     },
     "execution_count": 220,
     "metadata": {},
     "output_type": "execute_result"
    },
    {
     "data": {
      "image/png": "[encoded data removed]",
      "text/plain": [
       "<matplotlib.figure.Figure at 0x7f0bfdafaed0>"
      ]
     },
     "metadata": {},
     "output_type": "display_data"
    }
   ],
   "source": [
    "elnet_regr = linear_model.ElasticNet(alpha=0.0006, l1_ratio=0.5, max_iter=15000, random_state=7)\n",
    "# elnet_params = {'alpha': np.arange(0.0001, 0.0008, 0.0001).tolist()}\n",
    "elnet_params = {'l1_ratio': np.arange(0.1, 1, 0.1).tolist()}\n",
    "elnet_df = single_search(elnet_regr, elnet_params)\n",
    "# elnet_df.plot(x = ['alpha'], y = ['RMSE'])\n",
    "elnet_df.plot(x = ['l1_ratio'], y = ['RMSE'])\n",
    "elnet_df.sort_values(['RMSE'], ascending = False)"
   ]
  },
  {
   "cell_type": "code",
   "execution_count": 221,
   "metadata": {
    "collapsed": true
   },
   "outputs": [],
   "source": [
    "elnet_nogorb_regr = linear_model.ElasticNet(alpha=0.0006, l1_ratio=0.5, max_iter=15000, random_state=7)"
   ]
  },
  {
   "cell_type": "code",
   "execution_count": 222,
   "metadata": {
    "collapsed": true
   },
   "outputs": [],
   "source": [
    "x_train = x_train_hasgb\n",
    "y_train = y_train_hasgb"
   ]
  },
  {
   "cell_type": "code",
   "execution_count": 224,
   "metadata": {
    "collapsed": false
   },
   "outputs": [
    {
     "data": {
      "text/html": [
       "<div>\n",
       "<table border=\"1\" class=\"dataframe\">\n",
       "  <thead>\n",
       "    <tr style=\"text-align: right;\">\n",
       "      <th></th>\n",
       "      <th>l1_ratio</th>\n",
       "      <th>RMSE</th>\n",
       "      <th>std dev</th>\n",
       "    </tr>\n",
       "  </thead>\n",
       "  <tbody>\n",
       "    <tr>\n",
       "      <th>0</th>\n",
       "      <td>0.10000000000000000555</td>\n",
       "      <td>0.10418421666937850711</td>\n",
       "      <td>0.05469609801152416906</td>\n",
       "    </tr>\n",
       "    <tr>\n",
       "      <th>1</th>\n",
       "      <td>0.20000000000000001110</td>\n",
       "      <td>0.10273089514678607204</td>\n",
       "      <td>0.05402554780477002161</td>\n",
       "    </tr>\n",
       "    <tr>\n",
       "      <th>8</th>\n",
       "      <td>0.90000000000000002220</td>\n",
       "      <td>0.10223977863273230049</td>\n",
       "      <td>0.05206325867923050632</td>\n",
       "    </tr>\n",
       "    <tr>\n",
       "      <th>2</th>\n",
       "      <td>0.30000000000000004441</td>\n",
       "      <td>0.10217706811620841378</td>\n",
       "      <td>0.05366037318939575335</td>\n",
       "    </tr>\n",
       "    <tr>\n",
       "      <th>7</th>\n",
       "      <td>0.80000000000000004441</td>\n",
       "      <td>0.10196980875921866916</td>\n",
       "      <td>0.05216762989931308242</td>\n",
       "    </tr>\n",
       "    <tr>\n",
       "      <th>3</th>\n",
       "      <td>0.40000000000000002220</td>\n",
       "      <td>0.10177937192376577957</td>\n",
       "      <td>0.05342817653819182527</td>\n",
       "    </tr>\n",
       "    <tr>\n",
       "      <th>6</th>\n",
       "      <td>0.70000000000000006661</td>\n",
       "      <td>0.10170226307969326696</td>\n",
       "      <td>0.05240252934473502155</td>\n",
       "    </tr>\n",
       "    <tr>\n",
       "      <th>4</th>\n",
       "      <td>0.50000000000000000000</td>\n",
       "      <td>0.10155105846001494241</td>\n",
       "      <td>0.05315452999554833025</td>\n",
       "    </tr>\n",
       "    <tr>\n",
       "      <th>5</th>\n",
       "      <td>0.59999999999999997780</td>\n",
       "      <td>0.10153176104932667978</td>\n",
       "      <td>0.05269982983783803865</td>\n",
       "    </tr>\n",
       "  </tbody>\n",
       "</table>\n",
       "</div>"
      ],
      "text/plain": [
       "                 l1_ratio                    RMSE                 std dev\n",
       "0  0.10000000000000000555  0.10418421666937850711  0.05469609801152416906\n",
       "1  0.20000000000000001110  0.10273089514678607204  0.05402554780477002161\n",
       "8  0.90000000000000002220  0.10223977863273230049  0.05206325867923050632\n",
       "2  0.30000000000000004441  0.10217706811620841378  0.05366037318939575335\n",
       "7  0.80000000000000004441  0.10196980875921866916  0.05216762989931308242\n",
       "3  0.40000000000000002220  0.10177937192376577957  0.05342817653819182527\n",
       "6  0.70000000000000006661  0.10170226307969326696  0.05240252934473502155\n",
       "4  0.50000000000000000000  0.10155105846001494241  0.05315452999554833025\n",
       "5  0.59999999999999997780  0.10153176104932667978  0.05269982983783803865"
      ]
     },
     "execution_count": 224,
     "metadata": {},
     "output_type": "execute_result"
    },
    {
     "data": {
      "image/png": "[encoded data removed]",
      "text/plain": [
       "<matplotlib.figure.Figure at 0x7f0c30746290>"
      ]
     },
     "metadata": {},
     "output_type": "display_data"
    }
   ],
   "source": [
    "elnet_regr = linear_model.ElasticNet(alpha=0.00055, l1_ratio=0.5, max_iter=15000, random_state=7)\n",
    "# elnet_params = {'alpha': np.arange(0.0001, 0.0008, 0.0001).tolist()}\n",
    "elnet_params = {'l1_ratio': np.arange(0.1, 1, 0.1).tolist()}\n",
    "elnet_df = single_search(elnet_regr, elnet_params)\n",
    "# elnet_df.plot(x = ['alpha'], y = ['RMSE'])\n",
    "elnet_df.plot(x = ['l1_ratio'], y = ['RMSE'])\n",
    "elnet_df.sort_values(['RMSE'], ascending = False)"
   ]
  },
  {
   "cell_type": "code",
   "execution_count": 225,
   "metadata": {
    "collapsed": true
   },
   "outputs": [],
   "source": [
    "elnet_hasgb_regr = linear_model.ElasticNet(alpha=0.00055, l1_ratio=0.6, max_iter=15000, random_state=7)"
   ]
  },
  {
   "cell_type": "code",
   "execution_count": 226,
   "metadata": {
    "collapsed": false
   },
   "outputs": [
    {
     "data": {
      "text/plain": [
       "ElasticNet(alpha=0.00055, copy_X=True, fit_intercept=True, l1_ratio=0.6,\n",
       "      max_iter=15000, normalize=False, positive=False, precompute=False,\n",
       "      random_state=7, selection='cyclic', tol=0.0001, warm_start=False)"
      ]
     },
     "execution_count": 226,
     "metadata": {},
     "output_type": "execute_result"
    }
   ],
   "source": [
    "elnet_nogorb_regr.fit(x_train_nogorb, y_train_nogorb)\n",
    "elnet_hasgb_regr.fit(x_train_hasgb, y_train_hasgb)"
   ]
  },
  {
   "cell_type": "code",
   "execution_count": 227,
   "metadata": {
    "collapsed": true
   },
   "outputs": [],
   "source": [
    "y_pred_hasgb_elnet = elnet_hasgb_regr.predict(x_test_hasgb)\n",
    "y_pred_nogorb_elnet = elnet_nogorb_regr.predict(x_test_nogorb)"
   ]
  },
  {
   "cell_type": "code",
   "execution_count": 228,
   "metadata": {
    "collapsed": true
   },
   "outputs": [],
   "source": [
    "y_pred_hasgb = (y_pred_hasgb_ll / 0.0998 + y_pred_hasgb_elnet  / 0.1015 ) / (1 / 0.0998 + 1 / 0.1015)\n",
    "\n",
    "y_pred_nogorb = (y_pred_nogorb_ll / 0.1044 + y_pred_nogorb_elnet  / 0.1061) / (1 / 0.1044 + 1 / 0.1061)\n",
    "\n",
    "y_pred_hasgb = np.exp(y_pred_hasgb)\n",
    "y_pred_nogorb = np.exp(y_pred_nogorb)"
   ]
  },
  {
   "cell_type": "code",
   "execution_count": 229,
   "metadata": {
    "collapsed": true
   },
   "outputs": [],
   "source": [
    "nogorb_preds = zip(ids_nogorb, y_pred_nogorb)\n",
    "nogorb_preds_df = pd.DataFrame.from_dict(nogorb_preds)\n",
    "nogorb_preds_df.columns = [\"HouseId\", \"SalePrice\"]\n",
    "\n",
    "hasgb_preds = zip(ids_hasgb, y_pred_hasgb)\n",
    "hasgb_preds_df = pd.DataFrame.from_dict(hasgb_preds)\n",
    "hasgb_preds_df.columns = [\"HouseId\", \"SalePrice\"]"
   ]
  },
  {
   "cell_type": "code",
   "execution_count": 230,
   "metadata": {
    "collapsed": true
   },
   "outputs": [],
   "source": [
    "preds_df = pd.concat([nogorb_preds_df,hasgb_preds_df]).sort_values('HouseId').set_index('HouseId')"
   ]
  },
  {
   "cell_type": "code",
   "execution_count": 231,
   "metadata": {
    "collapsed": true
   },
   "outputs": [],
   "source": [
    "preds_df.to_csv('subset_linearblend_output-111001001.csv', header=True, index_label='Id')"
   ]
  },
  {
   "cell_type": "markdown",
   "metadata": {},
   "source": [
    "This result gets 0.12049 on the public leaderboard, which is better than the multimodel blend above, but not as good as the original LassoLars entry."
   ]
  },
  {
   "cell_type": "code",
   "execution_count": null,
   "metadata": {
    "collapsed": true
   },
   "outputs": [],
   "source": []
  }
 ],
 "metadata": {
  "kernelspec": {
   "display_name": "Python 2",
   "language": "python",
   "name": "python2"
  },
  "language_info": {
   "codemirror_mode": {
    "name": "ipython",
    "version": 2
   },
   "file_extension": ".py",
   "mimetype": "text/x-python",
   "name": "python",
   "nbconvert_exporter": "python",
   "pygments_lexer": "ipython2",
   "version": "2.7.13"
  }
 },
 "nbformat": 4,
 "nbformat_minor": 2
}
