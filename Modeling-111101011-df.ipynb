{
 "cells": [
  {
   "cell_type": "markdown",
   "metadata": {},
   "source": [
    "# Modeling 111101011 - drop features"
   ]
  },
  {
   "cell_type": "markdown",
   "metadata": {},
   "source": [
    "In this notebook, we're specifically working on the dataset formed by dropping (31, 496, 524, 534, 917, 1183, 1299) with the features ('LogGrLivArea', 'GrLivArea', 'TotalHouseArea', 'LivAreaWt', 'AreasSum') dropped."
   ]
  },
  {
   "cell_type": "code",
   "execution_count": 1,
   "metadata": {
    "collapsed": true
   },
   "outputs": [],
   "source": [
    "import itertools\n",
    "import numpy as np\n",
    "import pandas as pd\n",
    "import scipy\n",
    "from scipy import optimize\n",
    "\n",
    "pd.set_option('display.precision',20)\n",
    "pd.set_option('display.max_colwidth',100)\n",
    "\n",
    "from sklearn import linear_model, svm, tree\n",
    "from sklearn.metrics import mean_squared_error\n",
    "from sklearn.ensemble import RandomForestRegressor\n",
    "from sklearn.model_selection import train_test_split, cross_val_predict, KFold, cross_val_score, \\\n",
    "                                    GridSearchCV, RandomizedSearchCV, ShuffleSplit\n",
    "from sklearn.neural_network import MLPRegressor\n",
    "    \n",
    "    \n",
    "    \n",
    "import xgboost as xgb\n",
    "\n",
    "from time import time\n",
    "from scipy.stats import randint as sp_randint\n",
    "\n",
    "import matplotlib.pylab as plt\n",
    "from matplotlib.pylab import rcParams\n",
    "from matplotlib import pyplot\n",
    "rcParams['figure.figsize'] = 12, 4\n",
    "%matplotlib inline"
   ]
  },
  {
   "cell_type": "code",
   "execution_count": 2,
   "metadata": {
    "collapsed": true
   },
   "outputs": [],
   "source": [
    "# def to compare goodness of fit on training set\n",
    "def rmse(y_true, y_pred):\n",
    "    return np.sqrt(mean_squared_error(y_true, y_pred))"
   ]
  },
  {
   "cell_type": "code",
   "execution_count": 3,
   "metadata": {
    "collapsed": true
   },
   "outputs": [],
   "source": [
    "# Utility function to report best scores\n",
    "def report(results, n_top=3):\n",
    "    for i in range(1, n_top + 1):\n",
    "        candidates = np.flatnonzero(results['rank_test_score'] == i)\n",
    "        for candidate in candidates:\n",
    "            print(\"Model with rank: {0}\".format(i))\n",
    "            print(\"Mean validation score: {0:.3f} (std: {1:.3f})\".format(\n",
    "                  results['mean_test_score'][candidate],\n",
    "                  results['std_test_score'][candidate]))\n",
    "            print(\"Parameters: {0}\".format(results['params'][candidate]))\n",
    "            print(\"\")"
   ]
  },
  {
   "cell_type": "code",
   "execution_count": 4,
   "metadata": {
    "collapsed": true
   },
   "outputs": [],
   "source": [
    "# run randomized search\n",
    "def random_search(regr, param_dist, n_iter_search): \n",
    "    rs = RandomizedSearchCV(regr, param_distributions=param_dist, scoring = 'neg_mean_squared_error',\n",
    "                                   n_jobs=-1, n_iter=n_iter_search, cv=kfold) #, verbose = 4)\n",
    "    start = time()\n",
    "    rs.fit(x_train, y_train)\n",
    "    print(\"RandomizedSearchCV took %.2f seconds for %d candidates\"\n",
    "      \" parameter settings.\" % ((time() - start), n_iter_search))\n",
    "    report(rs.cv_results_)"
   ]
  },
  {
   "cell_type": "code",
   "execution_count": 5,
   "metadata": {
    "collapsed": true
   },
   "outputs": [],
   "source": [
    "# run single parameter search (for ridge or lasso)\n",
    "def single_search(regr, params):\n",
    "    regr_results_df = pd.DataFrame(dtype = 'float64')\n",
    "    count = 0\n",
    "    for k, v in params.items():\n",
    "        for val in v:\n",
    "            regr.set_params(**{k: val})\n",
    "            regr_results_df.loc[count, k] = val\n",
    "            results = cross_val_score(regr, x_train, y_train, cv=kfold, scoring = 'neg_mean_squared_error')\n",
    "            (regr_results_df.loc[count, 'RMSE'], regr_results_df.loc[count, 'std dev']) = \\\n",
    "                    (np.sqrt(-results.mean()), np.sqrt(results.std()))\n",
    "            count += 1\n",
    "    return regr_results_df"
   ]
  },
  {
   "cell_type": "code",
   "execution_count": 6,
   "metadata": {
    "collapsed": true
   },
   "outputs": [],
   "source": [
    "# test against validation set\n",
    "def validate(regr):\n",
    "    regr.fit(x_train, y_train)\n",
    "    y_pred = regr.predict(x_validation)\n",
    "    return rmse(y_validation, y_pred)"
   ]
  },
  {
   "cell_type": "code",
   "execution_count": 7,
   "metadata": {
    "collapsed": true
   },
   "outputs": [],
   "source": [
    "# Cross-validation sets\n",
    "kfold = KFold(n_splits=10, random_state=7)"
   ]
  },
  {
   "cell_type": "code",
   "execution_count": 8,
   "metadata": {
    "collapsed": true
   },
   "outputs": [],
   "source": [
    "df = pd.read_csv(\"./input/train_tidy_111101011.csv\")\n",
    "df.drop(['LogGrLivArea', 'GrLivArea', 'TotalHouseArea', 'LivAreaWt', 'AreasSum'], axis=1, inplace=True)"
   ]
  },
  {
   "cell_type": "code",
   "execution_count": 9,
   "metadata": {
    "collapsed": false
   },
   "outputs": [],
   "source": [
    "ss = ShuffleSplit(n_splits=1, test_size=0.20, random_state=71)\n",
    "\n",
    "X = df.values\n",
    "\n",
    "for train_idx, validation_idx in ss.split(X):\n",
    "    train_df = df.iloc[train_idx]\n",
    "    validation_df = df.iloc[validation_idx]\n",
    "    \n",
    "y_validation = validation_df['SalePrice'].values\n",
    "x_validation = validation_df.drop(['HouseId', 'SalePrice', 'GarageAge', 'GarageAgeLin'],axis=1).values\n",
    "y_train = train_df['SalePrice'].values\n",
    "x_train = train_df.drop(['HouseId', 'SalePrice', 'GarageAge', 'GarageAgeLin'],axis=1).values"
   ]
  },
  {
   "cell_type": "markdown",
   "metadata": {},
   "source": [
    "## Ridge regression"
   ]
  },
  {
   "cell_type": "code",
   "execution_count": 10,
   "metadata": {
    "collapsed": true
   },
   "outputs": [],
   "source": [
    "ridge_regr = linear_model.Ridge()"
   ]
  },
  {
   "cell_type": "code",
   "execution_count": 12,
   "metadata": {
    "collapsed": false
   },
   "outputs": [
    {
     "name": "stdout",
     "output_type": "stream",
     "text": [
      "RandomizedSearchCV took 3.48 seconds for 20 candidates parameter settings.\n",
      "Model with rank: 1\n",
      "Mean validation score: -0.011 (std: 0.003)\n",
      "Parameters: {'alpha': 4.5236693107406323}\n",
      "\n",
      "Model with rank: 2\n",
      "Mean validation score: -0.011 (std: 0.003)\n",
      "Parameters: {'alpha': 4.728108087700134}\n",
      "\n",
      "Model with rank: 3\n",
      "Mean validation score: -0.011 (std: 0.003)\n",
      "Parameters: {'alpha': 4.9254326335489758}\n",
      "\n"
     ]
    }
   ],
   "source": [
    "ridge_param = {'alpha': scipy.stats.expon(scale=10)}\n",
    "random_search(ridge_regr, ridge_param, 20)"
   ]
  },
  {
   "cell_type": "code",
   "execution_count": 12,
   "metadata": {
    "collapsed": false
   },
   "outputs": [
    {
     "data": {
      "text/html": [
       "<div>\n",
       "<table border=\"1\" class=\"dataframe\">\n",
       "  <thead>\n",
       "    <tr style=\"text-align: right;\">\n",
       "      <th></th>\n",
       "      <th>alpha</th>\n",
       "      <th>RMSE</th>\n",
       "      <th>std dev</th>\n",
       "    </tr>\n",
       "  </thead>\n",
       "  <tbody>\n",
       "    <tr>\n",
       "      <th>0</th>\n",
       "      <td>1.0</td>\n",
       "      <td>0.11648672541628668498</td>\n",
       "      <td>0.06960353972963911895</td>\n",
       "    </tr>\n",
       "    <tr>\n",
       "      <th>1</th>\n",
       "      <td>2.0</td>\n",
       "      <td>0.11499195614852372738</td>\n",
       "      <td>0.06932920536318275262</td>\n",
       "    </tr>\n",
       "    <tr>\n",
       "      <th>2</th>\n",
       "      <td>3.0</td>\n",
       "      <td>0.11418095998400942803</td>\n",
       "      <td>0.06902871846120685329</td>\n",
       "    </tr>\n",
       "    <tr>\n",
       "      <th>3</th>\n",
       "      <td>4.0</td>\n",
       "      <td>0.11366242036431382922</td>\n",
       "      <td>0.06879547938968320897</td>\n",
       "    </tr>\n",
       "    <tr>\n",
       "      <th>4</th>\n",
       "      <td>5.0</td>\n",
       "      <td>0.11331484783304877906</td>\n",
       "      <td>0.06862532102072986528</td>\n",
       "    </tr>\n",
       "    <tr>\n",
       "      <th>5</th>\n",
       "      <td>6.0</td>\n",
       "      <td>0.11308129846445100219</td>\n",
       "      <td>0.06850509449470280898</td>\n",
       "    </tr>\n",
       "    <tr>\n",
       "      <th>13</th>\n",
       "      <td>14.0</td>\n",
       "      <td>0.11303189217068244921</td>\n",
       "      <td>0.06839092291849367677</td>\n",
       "    </tr>\n",
       "    <tr>\n",
       "      <th>12</th>\n",
       "      <td>13.0</td>\n",
       "      <td>0.11294174014661534367</td>\n",
       "      <td>0.06836342801707537276</td>\n",
       "    </tr>\n",
       "    <tr>\n",
       "      <th>6</th>\n",
       "      <td>7.0</td>\n",
       "      <td>0.11292952813023268699</td>\n",
       "      <td>0.06842323326143438800</td>\n",
       "    </tr>\n",
       "    <tr>\n",
       "      <th>11</th>\n",
       "      <td>12.0</td>\n",
       "      <td>0.11286931328656245321</td>\n",
       "      <td>0.06834264033488027246</td>\n",
       "    </tr>\n",
       "    <tr>\n",
       "      <th>7</th>\n",
       "      <td>8.0</td>\n",
       "      <td>0.11283920404687583505</td>\n",
       "      <td>0.06837078749213414131</td>\n",
       "    </tr>\n",
       "    <tr>\n",
       "      <th>10</th>\n",
       "      <td>11.0</td>\n",
       "      <td>0.11281795491082782790</td>\n",
       "      <td>0.06833034076840631410</td>\n",
       "    </tr>\n",
       "    <tr>\n",
       "      <th>8</th>\n",
       "      <td>9.0</td>\n",
       "      <td>0.11279657960576142117</td>\n",
       "      <td>0.06834100875230705863</td>\n",
       "    </tr>\n",
       "    <tr>\n",
       "      <th>9</th>\n",
       "      <td>10.0</td>\n",
       "      <td>0.11279189342633985649</td>\n",
       "      <td>0.06832881237481601422</td>\n",
       "    </tr>\n",
       "  </tbody>\n",
       "</table>\n",
       "</div>"
      ],
      "text/plain": [
       "    alpha                    RMSE                 std dev\n",
       "0     1.0  0.11648672541628668498  0.06960353972963911895\n",
       "1     2.0  0.11499195614852372738  0.06932920536318275262\n",
       "2     3.0  0.11418095998400942803  0.06902871846120685329\n",
       "3     4.0  0.11366242036431382922  0.06879547938968320897\n",
       "4     5.0  0.11331484783304877906  0.06862532102072986528\n",
       "5     6.0  0.11308129846445100219  0.06850509449470280898\n",
       "13   14.0  0.11303189217068244921  0.06839092291849367677\n",
       "12   13.0  0.11294174014661534367  0.06836342801707537276\n",
       "6     7.0  0.11292952813023268699  0.06842323326143438800\n",
       "11   12.0  0.11286931328656245321  0.06834264033488027246\n",
       "7     8.0  0.11283920404687583505  0.06837078749213414131\n",
       "10   11.0  0.11281795491082782790  0.06833034076840631410\n",
       "8     9.0  0.11279657960576142117  0.06834100875230705863\n",
       "9    10.0  0.11279189342633985649  0.06832881237481601422"
      ]
     },
     "execution_count": 12,
     "metadata": {},
     "output_type": "execute_result"
    },
    {
     "data": {
      "image/png": "[encoded data removed]",
      "text/plain": [
       "<matplotlib.figure.Figure at 0x7f7e94103550>"
      ]
     },
     "metadata": {},
     "output_type": "display_data"
    }
   ],
   "source": [
    "ridge_params = {'alpha': np.arange(1, 15, 1).tolist()}\n",
    "ridge_df = single_search(ridge_regr, ridge_params)\n",
    "ridge_df.plot(x = ['alpha'], y = ['RMSE'])\n",
    "ridge_df.sort_values(['RMSE'], ascending = False)"
   ]
  },
  {
   "cell_type": "code",
   "execution_count": 13,
   "metadata": {
    "collapsed": true
   },
   "outputs": [],
   "source": [
    "ridge_regr = linear_model.Ridge(alpha = 10)"
   ]
  },
  {
   "cell_type": "code",
   "execution_count": 14,
   "metadata": {
    "collapsed": false
   },
   "outputs": [
    {
     "data": {
      "text/plain": [
       "0.12507228987676239"
      ]
     },
     "execution_count": 14,
     "metadata": {},
     "output_type": "execute_result"
    }
   ],
   "source": [
    "validate(ridge_regr)"
   ]
  },
  {
   "cell_type": "markdown",
   "metadata": {},
   "source": [
    "## Lasso"
   ]
  },
  {
   "cell_type": "code",
   "execution_count": 15,
   "metadata": {
    "collapsed": true
   },
   "outputs": [],
   "source": [
    "lasso_regr = linear_model.Lasso(max_iter=50000)"
   ]
  },
  {
   "cell_type": "code",
   "execution_count": 16,
   "metadata": {
    "collapsed": false
   },
   "outputs": [
    {
     "name": "stdout",
     "output_type": "stream",
     "text": [
      "RandomizedSearchCV took 18.05 seconds for 20 candidates parameter settings.\n",
      "Model with rank: 1\n",
      "Mean validation score: -0.010 (std: 0.003)\n",
      "Parameters: {'alpha': 0.0002727117872707258}\n",
      "\n",
      "Model with rank: 2\n",
      "Mean validation score: -0.010 (std: 0.003)\n",
      "Parameters: {'alpha': 0.0002073047887190454}\n",
      "\n",
      "Model with rank: 3\n",
      "Mean validation score: -0.010 (std: 0.003)\n",
      "Parameters: {'alpha': 0.00017017157497746749}\n",
      "\n"
     ]
    }
   ],
   "source": [
    "lasso_param = {'alpha': scipy.stats.expon(scale=0.001)}\n",
    "random_search(lasso_regr, lasso_param, 20)"
   ]
  },
  {
   "cell_type": "code",
   "execution_count": 17,
   "metadata": {
    "collapsed": false
   },
   "outputs": [
    {
     "data": {
      "text/html": [
       "<div>\n",
       "<table border=\"1\" class=\"dataframe\">\n",
       "  <thead>\n",
       "    <tr style=\"text-align: right;\">\n",
       "      <th></th>\n",
       "      <th>alpha</th>\n",
       "      <th>RMSE</th>\n",
       "      <th>std dev</th>\n",
       "    </tr>\n",
       "  </thead>\n",
       "  <tbody>\n",
       "    <tr>\n",
       "      <th>5</th>\n",
       "      <td>0.00060000000000000006</td>\n",
       "      <td>0.10392788419817891588</td>\n",
       "      <td>0.05179235814331121374</td>\n",
       "    </tr>\n",
       "    <tr>\n",
       "      <th>4</th>\n",
       "      <td>0.00050000000000000001</td>\n",
       "      <td>0.10336126644611778880</td>\n",
       "      <td>0.05192278885445007069</td>\n",
       "    </tr>\n",
       "    <tr>\n",
       "      <th>0</th>\n",
       "      <td>0.00010000000000000000</td>\n",
       "      <td>0.10335024739524324711</td>\n",
       "      <td>0.05463325218023014351</td>\n",
       "    </tr>\n",
       "    <tr>\n",
       "      <th>3</th>\n",
       "      <td>0.00040000000000000002</td>\n",
       "      <td>0.10271579025033727994</td>\n",
       "      <td>0.05216396325459032868</td>\n",
       "    </tr>\n",
       "    <tr>\n",
       "      <th>2</th>\n",
       "      <td>0.00030000000000000003</td>\n",
       "      <td>0.10205678516575686365</td>\n",
       "      <td>0.05290684958472617605</td>\n",
       "    </tr>\n",
       "    <tr>\n",
       "      <th>1</th>\n",
       "      <td>0.00020000000000000001</td>\n",
       "      <td>0.10201292982439212620</td>\n",
       "      <td>0.05373233406421305119</td>\n",
       "    </tr>\n",
       "  </tbody>\n",
       "</table>\n",
       "</div>"
      ],
      "text/plain": [
       "                    alpha                    RMSE                 std dev\n",
       "5  0.00060000000000000006  0.10392788419817891588  0.05179235814331121374\n",
       "4  0.00050000000000000001  0.10336126644611778880  0.05192278885445007069\n",
       "0  0.00010000000000000000  0.10335024739524324711  0.05463325218023014351\n",
       "3  0.00040000000000000002  0.10271579025033727994  0.05216396325459032868\n",
       "2  0.00030000000000000003  0.10205678516575686365  0.05290684958472617605\n",
       "1  0.00020000000000000001  0.10201292982439212620  0.05373233406421305119"
      ]
     },
     "execution_count": 17,
     "metadata": {},
     "output_type": "execute_result"
    },
    {
     "data": {
      "image/png": "[encoded data removed]",
      "text/plain": [
       "<matplotlib.figure.Figure at 0x7fce5c8ed290>"
      ]
     },
     "metadata": {},
     "output_type": "display_data"
    }
   ],
   "source": [
    "lasso_params = {'alpha': np.arange(0.0001, 0.0007, 0.0001).tolist()}\n",
    "lasso_df = single_search(lasso_regr, lasso_params)\n",
    "lasso_df.plot(x = ['alpha'], y = ['RMSE'])\n",
    "lasso_df.sort_values(['RMSE'], ascending = False)"
   ]
  },
  {
   "cell_type": "code",
   "execution_count": 33,
   "metadata": {
    "collapsed": true
   },
   "outputs": [],
   "source": [
    "lasso_regr = linear_model.Lasso(alpha=0.0002, max_iter=50000)"
   ]
  },
  {
   "cell_type": "code",
   "execution_count": 34,
   "metadata": {
    "collapsed": false
   },
   "outputs": [
    {
     "data": {
      "text/plain": [
       "0.12086951719150732"
      ]
     },
     "execution_count": 34,
     "metadata": {},
     "output_type": "execute_result"
    }
   ],
   "source": [
    "validate(lasso_regr)"
   ]
  },
  {
   "cell_type": "markdown",
   "metadata": {},
   "source": [
    "## Lasso LARS"
   ]
  },
  {
   "cell_type": "code",
   "execution_count": 18,
   "metadata": {
    "collapsed": true
   },
   "outputs": [],
   "source": [
    "lassolars_regr = linear_model.LassoLars(max_iter=50000)"
   ]
  },
  {
   "cell_type": "code",
   "execution_count": 19,
   "metadata": {
    "collapsed": false
   },
   "outputs": [
    {
     "name": "stderr",
     "output_type": "stream",
     "text": [
      "/usr/lib64/python2.7/site-packages/sklearn/linear_model/least_angle.py:309: ConvergenceWarning: Regressors in active set degenerate. Dropping a regressor, after 144 iterations, i.e. alpha=7.390e-05, with an active set of 124 regressors, and the smallest cholesky pivot element being 2.107e-08\n",
      "  ConvergenceWarning)\n",
      "/usr/lib64/python2.7/site-packages/sklearn/linear_model/least_angle.py:309: ConvergenceWarning: Regressors in active set degenerate. Dropping a regressor, after 164 iterations, i.e. alpha=5.890e-05, with an active set of 140 regressors, and the smallest cholesky pivot element being 2.581e-08\n",
      "  ConvergenceWarning)\n",
      "/usr/lib64/python2.7/site-packages/sklearn/linear_model/least_angle.py:309: ConvergenceWarning: Regressors in active set degenerate. Dropping a regressor, after 184 iterations, i.e. alpha=5.251e-05, with an active set of 142 regressors, and the smallest cholesky pivot element being 2.220e-16\n",
      "  ConvergenceWarning)\n",
      "/usr/lib64/python2.7/site-packages/sklearn/linear_model/least_angle.py:309: ConvergenceWarning: Regressors in active set degenerate. Dropping a regressor, after 190 iterations, i.e. alpha=5.046e-05, with an active set of 148 regressors, and the smallest cholesky pivot element being 1.054e-08\n",
      "  ConvergenceWarning)\n",
      "/usr/lib64/python2.7/site-packages/sklearn/linear_model/least_angle.py:309: ConvergenceWarning: Regressors in active set degenerate. Dropping a regressor, after 144 iterations, i.e. alpha=7.390e-05, with an active set of 124 regressors, and the smallest cholesky pivot element being 2.107e-08\n",
      "  ConvergenceWarning)\n",
      "/usr/lib64/python2.7/site-packages/sklearn/linear_model/least_angle.py:309: ConvergenceWarning: Regressors in active set degenerate. Dropping a regressor, after 144 iterations, i.e. alpha=7.390e-05, with an active set of 124 regressors, and the smallest cholesky pivot element being 2.107e-08\n",
      "  ConvergenceWarning)\n",
      "/usr/lib64/python2.7/site-packages/sklearn/linear_model/least_angle.py:309: ConvergenceWarning: Regressors in active set degenerate. Dropping a regressor, after 273 iterations, i.e. alpha=1.526e-05, with an active set of 209 regressors, and the smallest cholesky pivot element being 2.980e-08\n",
      "  ConvergenceWarning)\n",
      "/usr/lib64/python2.7/site-packages/sklearn/linear_model/least_angle.py:309: ConvergenceWarning: Regressors in active set degenerate. Dropping a regressor, after 215 iterations, i.e. alpha=2.977e-05, with an active set of 181 regressors, and the smallest cholesky pivot element being 1.825e-08\n",
      "  ConvergenceWarning)\n",
      "/usr/lib64/python2.7/site-packages/sklearn/linear_model/least_angle.py:309: ConvergenceWarning: Regressors in active set degenerate. Dropping a regressor, after 164 iterations, i.e. alpha=5.890e-05, with an active set of 140 regressors, and the smallest cholesky pivot element being 2.581e-08\n",
      "  ConvergenceWarning)\n",
      "/usr/lib64/python2.7/site-packages/sklearn/linear_model/least_angle.py:309: ConvergenceWarning: Regressors in active set degenerate. Dropping a regressor, after 216 iterations, i.e. alpha=2.977e-05, with an active set of 182 regressors, and the smallest cholesky pivot element being 1.825e-08\n",
      "  ConvergenceWarning)\n",
      "/usr/lib64/python2.7/site-packages/sklearn/linear_model/least_angle.py:309: ConvergenceWarning: Regressors in active set degenerate. Dropping a regressor, after 220 iterations, i.e. alpha=2.994e-05, with an active set of 176 regressors, and the smallest cholesky pivot element being 1.825e-08\n",
      "  ConvergenceWarning)\n",
      "/usr/lib64/python2.7/site-packages/sklearn/linear_model/least_angle.py:309: ConvergenceWarning: Regressors in active set degenerate. Dropping a regressor, after 199 iterations, i.e. alpha=3.791e-05, with an active set of 165 regressors, and the smallest cholesky pivot element being 2.107e-08\n",
      "  ConvergenceWarning)\n",
      "/usr/lib64/python2.7/site-packages/sklearn/linear_model/least_angle.py:334: ConvergenceWarning: Early stopping the lars path, as the residues are small and the current value of alpha is no longer well controlled. 202 iterations, alpha=3.712e-05, previous alpha=3.709e-05, with an active set of 167 regressors.\n",
      "  ConvergenceWarning)\n",
      "/usr/lib64/python2.7/site-packages/sklearn/linear_model/least_angle.py:334: ConvergenceWarning: Early stopping the lars path, as the residues are small and the current value of alpha is no longer well controlled. 240 iterations, alpha=1.909e-05, previous alpha=1.909e-05, with an active set of 201 regressors.\n",
      "  ConvergenceWarning)\n",
      "/usr/lib64/python2.7/site-packages/sklearn/linear_model/least_angle.py:309: ConvergenceWarning: Regressors in active set degenerate. Dropping a regressor, after 287 iterations, i.e. alpha=1.200e-05, with an active set of 219 regressors, and the smallest cholesky pivot element being 2.220e-16\n",
      "  ConvergenceWarning)\n",
      "/usr/lib64/python2.7/site-packages/sklearn/linear_model/least_angle.py:309: ConvergenceWarning: Regressors in active set degenerate. Dropping a regressor, after 338 iterations, i.e. alpha=5.101e-06, with an active set of 234 regressors, and the smallest cholesky pivot element being 1.490e-08\n",
      "  ConvergenceWarning)\n",
      "/usr/lib64/python2.7/site-packages/sklearn/linear_model/least_angle.py:334: ConvergenceWarning: Early stopping the lars path, as the residues are small and the current value of alpha is no longer well controlled. 340 iterations, alpha=4.904e-04, previous alpha=4.972e-06, with an active set of 235 regressors.\n",
      "  ConvergenceWarning)\n",
      "/usr/lib64/python2.7/site-packages/sklearn/linear_model/least_angle.py:334: ConvergenceWarning: Early stopping the lars path, as the residues are small and the current value of alpha is no longer well controlled. 334 iterations, alpha=5.624e-06, previous alpha=5.355e-06, with an active set of 235 regressors.\n",
      "  ConvergenceWarning)\n",
      "/usr/lib64/python2.7/site-packages/sklearn/linear_model/least_angle.py:309: ConvergenceWarning: Regressors in active set degenerate. Dropping a regressor, after 216 iterations, i.e. alpha=2.721e-05, with an active set of 180 regressors, and the smallest cholesky pivot element being 2.220e-16\n",
      "  ConvergenceWarning)\n",
      "/usr/lib64/python2.7/site-packages/sklearn/linear_model/least_angle.py:309: ConvergenceWarning: Regressors in active set degenerate. Dropping a regressor, after 191 iterations, i.e. alpha=4.268e-05, with an active set of 159 regressors, and the smallest cholesky pivot element being 2.581e-08\n",
      "  ConvergenceWarning)\n",
      "/usr/lib64/python2.7/site-packages/sklearn/linear_model/least_angle.py:309: ConvergenceWarning: Regressors in active set degenerate. Dropping a regressor, after 195 iterations, i.e. alpha=3.834e-05, with an active set of 163 regressors, and the smallest cholesky pivot element being 2.581e-08\n",
      "  ConvergenceWarning)\n",
      "/usr/lib64/python2.7/site-packages/sklearn/linear_model/least_angle.py:309: ConvergenceWarning: Regressors in active set degenerate. Dropping a regressor, after 222 iterations, i.e. alpha=2.510e-05, with an active set of 186 regressors, and the smallest cholesky pivot element being 1.490e-08\n",
      "  ConvergenceWarning)\n",
      "/usr/lib64/python2.7/site-packages/sklearn/linear_model/least_angle.py:309: ConvergenceWarning: Regressors in active set degenerate. Dropping a regressor, after 252 iterations, i.e. alpha=1.554e-05, with an active set of 206 regressors, and the smallest cholesky pivot element being 5.576e-08\n",
      "  ConvergenceWarning)\n",
      "/usr/lib64/python2.7/site-packages/sklearn/linear_model/least_angle.py:334: ConvergenceWarning: Early stopping the lars path, as the residues are small and the current value of alpha is no longer well controlled. 267 iterations, alpha=1.174e-05, previous alpha=1.174e-05, with an active set of 214 regressors.\n",
      "  ConvergenceWarning)\n",
      "/usr/lib64/python2.7/site-packages/sklearn/linear_model/least_angle.py:309: ConvergenceWarning: Regressors in active set degenerate. Dropping a regressor, after 184 iterations, i.e. alpha=5.251e-05, with an active set of 142 regressors, and the smallest cholesky pivot element being 2.220e-16\n",
      "  ConvergenceWarning)\n",
      "/usr/lib64/python2.7/site-packages/sklearn/linear_model/least_angle.py:309: ConvergenceWarning: Regressors in active set degenerate. Dropping a regressor, after 190 iterations, i.e. alpha=5.046e-05, with an active set of 148 regressors, and the smallest cholesky pivot element being 1.054e-08\n",
      "  ConvergenceWarning)\n",
      "/usr/lib64/python2.7/site-packages/sklearn/linear_model/least_angle.py:334: ConvergenceWarning: Early stopping the lars path, as the residues are small and the current value of alpha is no longer well controlled. 269 iterations, alpha=1.284e-05, previous alpha=1.253e-05, with an active set of 218 regressors.\n",
      "  ConvergenceWarning)\n",
      "/usr/lib64/python2.7/site-packages/sklearn/linear_model/least_angle.py:309: ConvergenceWarning: Regressors in active set degenerate. Dropping a regressor, after 268 iterations, i.e. alpha=1.724e-05, with an active set of 202 regressors, and the smallest cholesky pivot element being 2.581e-08\n",
      "  ConvergenceWarning)\n",
      "/usr/lib64/python2.7/site-packages/sklearn/linear_model/least_angle.py:309: ConvergenceWarning: Regressors in active set degenerate. Dropping a regressor, after 296 iterations, i.e. alpha=1.117e-05, with an active set of 214 regressors, and the smallest cholesky pivot element being 6.580e-08\n",
      "  ConvergenceWarning)\n",
      "/usr/lib64/python2.7/site-packages/sklearn/linear_model/least_angle.py:334: ConvergenceWarning: Early stopping the lars path, as the residues are small and the current value of alpha is no longer well controlled. 298 iterations, alpha=1.100e-05, previous alpha=1.079e-05, with an active set of 215 regressors.\n",
      "  ConvergenceWarning)\n",
      "/usr/lib64/python2.7/site-packages/sklearn/linear_model/least_angle.py:309: ConvergenceWarning: Regressors in active set degenerate. Dropping a regressor, after 220 iterations, i.e. alpha=2.326e-05, with an active set of 188 regressors, and the smallest cholesky pivot element being 1.825e-08\n",
      "  ConvergenceWarning)\n",
      "/usr/lib64/python2.7/site-packages/sklearn/linear_model/least_angle.py:309: ConvergenceWarning: Regressors in active set degenerate. Dropping a regressor, after 222 iterations, i.e. alpha=2.321e-05, with an active set of 190 regressors, and the smallest cholesky pivot element being 1.825e-08\n",
      "  ConvergenceWarning)\n",
      "/usr/lib64/python2.7/site-packages/sklearn/linear_model/least_angle.py:334: ConvergenceWarning: Early stopping the lars path, as the residues are small and the current value of alpha is no longer well controlled. 223 iterations, alpha=2.321e-05, previous alpha=2.320e-05, with an active set of 190 regressors.\n",
      "  ConvergenceWarning)\n",
      "/usr/lib64/python2.7/site-packages/sklearn/linear_model/least_angle.py:309: ConvergenceWarning: Regressors in active set degenerate. Dropping a regressor, after 256 iterations, i.e. alpha=2.055e-05, with an active set of 200 regressors, and the smallest cholesky pivot element being 2.107e-08\n",
      "  ConvergenceWarning)\n",
      "/usr/lib64/python2.7/site-packages/sklearn/linear_model/least_angle.py:309: ConvergenceWarning: Regressors in active set degenerate. Dropping a regressor, after 258 iterations, i.e. alpha=2.033e-05, with an active set of 202 regressors, and the smallest cholesky pivot element being 2.107e-08\n",
      "  ConvergenceWarning)\n",
      "/usr/lib64/python2.7/site-packages/sklearn/linear_model/least_angle.py:309: ConvergenceWarning: Regressors in active set degenerate. Dropping a regressor, after 226 iterations, i.e. alpha=2.686e-05, with an active set of 190 regressors, and the smallest cholesky pivot element being 2.220e-16\n",
      "  ConvergenceWarning)\n",
      "/usr/lib64/python2.7/site-packages/sklearn/linear_model/least_angle.py:309: ConvergenceWarning: Regressors in active set degenerate. Dropping a regressor, after 229 iterations, i.e. alpha=2.583e-05, with an active set of 191 regressors, and the smallest cholesky pivot element being 1.825e-08\n",
      "  ConvergenceWarning)\n",
      "/usr/lib64/python2.7/site-packages/sklearn/linear_model/least_angle.py:309: ConvergenceWarning: Regressors in active set degenerate. Dropping a regressor, after 297 iterations, i.e. alpha=9.202e-06, with an active set of 215 regressors, and the smallest cholesky pivot element being 2.980e-08\n",
      "  ConvergenceWarning)\n",
      "/usr/lib64/python2.7/site-packages/sklearn/linear_model/least_angle.py:309: ConvergenceWarning: Regressors in active set degenerate. Dropping a regressor, after 273 iterations, i.e. alpha=1.071e-05, with an active set of 227 regressors, and the smallest cholesky pivot element being 2.788e-08\n",
      "  ConvergenceWarning)\n",
      "/usr/lib64/python2.7/site-packages/sklearn/linear_model/least_angle.py:334: ConvergenceWarning: Early stopping the lars path, as the residues are small and the current value of alpha is no longer well controlled. 346 iterations, alpha=2.331e-04, previous alpha=4.965e-06, with an active set of 245 regressors.\n",
      "  ConvergenceWarning)\n",
      "/usr/lib64/python2.7/site-packages/sklearn/linear_model/least_angle.py:309: ConvergenceWarning: Regressors in active set degenerate. Dropping a regressor, after 298 iterations, i.e. alpha=6.793e-06, with an active set of 234 regressors, and the smallest cholesky pivot element being 1.054e-08\n",
      "  ConvergenceWarning)\n",
      "/usr/lib64/python2.7/site-packages/sklearn/linear_model/least_angle.py:334: ConvergenceWarning: Early stopping the lars path, as the residues are small and the current value of alpha is no longer well controlled. 301 iterations, alpha=6.561e-06, previous alpha=6.538e-06, with an active set of 236 regressors.\n",
      "  ConvergenceWarning)\n",
      "/usr/lib64/python2.7/site-packages/sklearn/linear_model/least_angle.py:309: ConvergenceWarning: Regressors in active set degenerate. Dropping a regressor, after 220 iterations, i.e. alpha=2.994e-05, with an active set of 176 regressors, and the smallest cholesky pivot element being 1.825e-08\n",
      "  ConvergenceWarning)\n",
      "/usr/lib64/python2.7/site-packages/sklearn/linear_model/least_angle.py:309: ConvergenceWarning: Regressors in active set degenerate. Dropping a regressor, after 287 iterations, i.e. alpha=1.200e-05, with an active set of 219 regressors, and the smallest cholesky pivot element being 2.220e-16\n",
      "  ConvergenceWarning)\n",
      "/usr/lib64/python2.7/site-packages/sklearn/linear_model/least_angle.py:309: ConvergenceWarning: Regressors in active set degenerate. Dropping a regressor, after 215 iterations, i.e. alpha=2.977e-05, with an active set of 181 regressors, and the smallest cholesky pivot element being 1.825e-08\n",
      "  ConvergenceWarning)\n",
      "/usr/lib64/python2.7/site-packages/sklearn/linear_model/least_angle.py:309: ConvergenceWarning: Regressors in active set degenerate. Dropping a regressor, after 199 iterations, i.e. alpha=3.791e-05, with an active set of 165 regressors, and the smallest cholesky pivot element being 2.107e-08\n",
      "  ConvergenceWarning)\n",
      "/usr/lib64/python2.7/site-packages/sklearn/linear_model/least_angle.py:309: ConvergenceWarning: Regressors in active set degenerate. Dropping a regressor, after 216 iterations, i.e. alpha=2.977e-05, with an active set of 182 regressors, and the smallest cholesky pivot element being 1.825e-08\n",
      "  ConvergenceWarning)\n",
      "/usr/lib64/python2.7/site-packages/sklearn/linear_model/least_angle.py:309: ConvergenceWarning: Regressors in active set degenerate. Dropping a regressor, after 273 iterations, i.e. alpha=1.526e-05, with an active set of 209 regressors, and the smallest cholesky pivot element being 2.980e-08\n",
      "  ConvergenceWarning)\n",
      "/usr/lib64/python2.7/site-packages/sklearn/linear_model/least_angle.py:334: ConvergenceWarning: Early stopping the lars path, as the residues are small and the current value of alpha is no longer well controlled. 202 iterations, alpha=3.712e-05, previous alpha=3.709e-05, with an active set of 167 regressors.\n",
      "  ConvergenceWarning)\n",
      "/usr/lib64/python2.7/site-packages/sklearn/linear_model/least_angle.py:334: ConvergenceWarning: Early stopping the lars path, as the residues are small and the current value of alpha is no longer well controlled. 240 iterations, alpha=1.909e-05, previous alpha=1.909e-05, with an active set of 201 regressors.\n",
      "  ConvergenceWarning)\n",
      "/usr/lib64/python2.7/site-packages/sklearn/linear_model/least_angle.py:309: ConvergenceWarning: Regressors in active set degenerate. Dropping a regressor, after 216 iterations, i.e. alpha=2.721e-05, with an active set of 180 regressors, and the smallest cholesky pivot element being 2.220e-16\n",
      "  ConvergenceWarning)\n",
      "/usr/lib64/python2.7/site-packages/sklearn/linear_model/least_angle.py:309: ConvergenceWarning: Regressors in active set degenerate. Dropping a regressor, after 222 iterations, i.e. alpha=2.510e-05, with an active set of 186 regressors, and the smallest cholesky pivot element being 1.490e-08\n",
      "  ConvergenceWarning)\n",
      "/usr/lib64/python2.7/site-packages/sklearn/linear_model/least_angle.py:334: ConvergenceWarning: Early stopping the lars path, as the residues are small and the current value of alpha is no longer well controlled. 267 iterations, alpha=1.174e-05, previous alpha=1.174e-05, with an active set of 214 regressors.\n",
      "  ConvergenceWarning)\n",
      "/usr/lib64/python2.7/site-packages/sklearn/linear_model/least_angle.py:309: ConvergenceWarning: Regressors in active set degenerate. Dropping a regressor, after 191 iterations, i.e. alpha=4.268e-05, with an active set of 159 regressors, and the smallest cholesky pivot element being 2.581e-08\n",
      "  ConvergenceWarning)\n",
      "/usr/lib64/python2.7/site-packages/sklearn/linear_model/least_angle.py:309: ConvergenceWarning: Regressors in active set degenerate. Dropping a regressor, after 220 iterations, i.e. alpha=2.326e-05, with an active set of 188 regressors, and the smallest cholesky pivot element being 1.825e-08\n",
      "  ConvergenceWarning)\n",
      "/usr/lib64/python2.7/site-packages/sklearn/linear_model/least_angle.py:309: ConvergenceWarning: Regressors in active set degenerate. Dropping a regressor, after 222 iterations, i.e. alpha=2.321e-05, with an active set of 190 regressors, and the smallest cholesky pivot element being 1.825e-08\n",
      "  ConvergenceWarning)\n",
      "/usr/lib64/python2.7/site-packages/sklearn/linear_model/least_angle.py:309: ConvergenceWarning: Regressors in active set degenerate. Dropping a regressor, after 195 iterations, i.e. alpha=3.834e-05, with an active set of 163 regressors, and the smallest cholesky pivot element being 2.581e-08\n",
      "  ConvergenceWarning)\n",
      "/usr/lib64/python2.7/site-packages/sklearn/linear_model/least_angle.py:334: ConvergenceWarning: Early stopping the lars path, as the residues are small and the current value of alpha is no longer well controlled. 223 iterations, alpha=2.321e-05, previous alpha=2.320e-05, with an active set of 190 regressors.\n",
      "  ConvergenceWarning)\n",
      "/usr/lib64/python2.7/site-packages/sklearn/linear_model/least_angle.py:309: ConvergenceWarning: Regressors in active set degenerate. Dropping a regressor, after 252 iterations, i.e. alpha=1.554e-05, with an active set of 206 regressors, and the smallest cholesky pivot element being 5.576e-08\n",
      "  ConvergenceWarning)\n",
      "/usr/lib64/python2.7/site-packages/sklearn/linear_model/least_angle.py:334: ConvergenceWarning: Early stopping the lars path, as the residues are small and the current value of alpha is no longer well controlled. 269 iterations, alpha=1.284e-05, previous alpha=1.253e-05, with an active set of 218 regressors.\n",
      "  ConvergenceWarning)\n",
      "/usr/lib64/python2.7/site-packages/sklearn/linear_model/least_angle.py:309: ConvergenceWarning: Regressors in active set degenerate. Dropping a regressor, after 226 iterations, i.e. alpha=2.686e-05, with an active set of 190 regressors, and the smallest cholesky pivot element being 2.220e-16\n",
      "  ConvergenceWarning)\n",
      "/usr/lib64/python2.7/site-packages/sklearn/linear_model/least_angle.py:309: ConvergenceWarning: Regressors in active set degenerate. Dropping a regressor, after 256 iterations, i.e. alpha=2.055e-05, with an active set of 200 regressors, and the smallest cholesky pivot element being 2.107e-08\n",
      "  ConvergenceWarning)\n",
      "/usr/lib64/python2.7/site-packages/sklearn/linear_model/least_angle.py:309: ConvergenceWarning: Regressors in active set degenerate. Dropping a regressor, after 258 iterations, i.e. alpha=2.033e-05, with an active set of 202 regressors, and the smallest cholesky pivot element being 2.107e-08\n",
      "  ConvergenceWarning)\n",
      "/usr/lib64/python2.7/site-packages/sklearn/linear_model/least_angle.py:309: ConvergenceWarning: Regressors in active set degenerate. Dropping a regressor, after 229 iterations, i.e. alpha=2.583e-05, with an active set of 191 regressors, and the smallest cholesky pivot element being 1.825e-08\n",
      "  ConvergenceWarning)\n",
      "/usr/lib64/python2.7/site-packages/sklearn/linear_model/least_angle.py:309: ConvergenceWarning: Regressors in active set degenerate. Dropping a regressor, after 297 iterations, i.e. alpha=9.202e-06, with an active set of 215 regressors, and the smallest cholesky pivot element being 2.980e-08\n",
      "  ConvergenceWarning)\n",
      "/usr/lib64/python2.7/site-packages/sklearn/linear_model/least_angle.py:309: ConvergenceWarning: Regressors in active set degenerate. Dropping a regressor, after 273 iterations, i.e. alpha=1.071e-05, with an active set of 227 regressors, and the smallest cholesky pivot element being 2.788e-08\n",
      "  ConvergenceWarning)\n",
      "/usr/lib64/python2.7/site-packages/sklearn/linear_model/least_angle.py:309: ConvergenceWarning: Regressors in active set degenerate. Dropping a regressor, after 164 iterations, i.e. alpha=5.890e-05, with an active set of 140 regressors, and the smallest cholesky pivot element being 2.581e-08\n",
      "  ConvergenceWarning)\n",
      "/usr/lib64/python2.7/site-packages/sklearn/linear_model/least_angle.py:309: ConvergenceWarning: Regressors in active set degenerate. Dropping a regressor, after 184 iterations, i.e. alpha=5.251e-05, with an active set of 142 regressors, and the smallest cholesky pivot element being 2.220e-16\n",
      "  ConvergenceWarning)\n",
      "/usr/lib64/python2.7/site-packages/sklearn/linear_model/least_angle.py:309: ConvergenceWarning: Regressors in active set degenerate. Dropping a regressor, after 190 iterations, i.e. alpha=5.046e-05, with an active set of 148 regressors, and the smallest cholesky pivot element being 1.054e-08\n",
      "  ConvergenceWarning)\n",
      "/usr/lib64/python2.7/site-packages/sklearn/linear_model/least_angle.py:309: ConvergenceWarning: Regressors in active set degenerate. Dropping a regressor, after 144 iterations, i.e. alpha=7.390e-05, with an active set of 124 regressors, and the smallest cholesky pivot element being 2.107e-08\n",
      "  ConvergenceWarning)\n",
      "/usr/lib64/python2.7/site-packages/sklearn/linear_model/least_angle.py:309: ConvergenceWarning: Regressors in active set degenerate. Dropping a regressor, after 164 iterations, i.e. alpha=5.890e-05, with an active set of 140 regressors, and the smallest cholesky pivot element being 2.581e-08\n",
      "  ConvergenceWarning)\n",
      "/usr/lib64/python2.7/site-packages/sklearn/linear_model/least_angle.py:309: ConvergenceWarning: Regressors in active set degenerate. Dropping a regressor, after 191 iterations, i.e. alpha=4.268e-05, with an active set of 159 regressors, and the smallest cholesky pivot element being 2.581e-08\n",
      "  ConvergenceWarning)\n",
      "/usr/lib64/python2.7/site-packages/sklearn/linear_model/least_angle.py:309: ConvergenceWarning: Regressors in active set degenerate. Dropping a regressor, after 184 iterations, i.e. alpha=5.251e-05, with an active set of 142 regressors, and the smallest cholesky pivot element being 2.220e-16\n",
      "  ConvergenceWarning)\n",
      "/usr/lib64/python2.7/site-packages/sklearn/linear_model/least_angle.py:309: ConvergenceWarning: Regressors in active set degenerate. Dropping a regressor, after 190 iterations, i.e. alpha=5.046e-05, with an active set of 148 regressors, and the smallest cholesky pivot element being 1.054e-08\n",
      "  ConvergenceWarning)\n",
      "/usr/lib64/python2.7/site-packages/sklearn/linear_model/least_angle.py:309: ConvergenceWarning: Regressors in active set degenerate. Dropping a regressor, after 199 iterations, i.e. alpha=3.791e-05, with an active set of 165 regressors, and the smallest cholesky pivot element being 2.107e-08\n",
      "  ConvergenceWarning)\n",
      "/usr/lib64/python2.7/site-packages/sklearn/linear_model/least_angle.py:334: ConvergenceWarning: Early stopping the lars path, as the residues are small and the current value of alpha is no longer well controlled. 202 iterations, alpha=3.712e-05, previous alpha=3.709e-05, with an active set of 167 regressors.\n",
      "  ConvergenceWarning)\n"
     ]
    },
    {
     "name": "stdout",
     "output_type": "stream",
     "text": [
      "RandomizedSearchCV took 8.21 seconds for 20 candidates parameter settings.\n",
      "Model with rank: 1\n",
      "Mean validation score: -0.010 (std: 0.003)\n",
      "Parameters: {'alpha': 6.559078287327024e-05}\n",
      "\n",
      "Model with rank: 2\n",
      "Mean validation score: -0.010 (std: 0.003)\n",
      "Parameters: {'alpha': 6.1295997441425029e-05}\n",
      "\n",
      "Model with rank: 3\n",
      "Mean validation score: -0.010 (std: 0.003)\n",
      "Parameters: {'alpha': 8.947861032838035e-05}\n",
      "\n"
     ]
    }
   ],
   "source": [
    "lassolars_param = {'alpha': scipy.stats.expon(scale=0.0001)}\n",
    "random_search(lassolars_regr, lassolars_param, 20)"
   ]
  },
  {
   "cell_type": "code",
   "execution_count": 35,
   "metadata": {
    "collapsed": false
   },
   "outputs": [
    {
     "name": "stderr",
     "output_type": "stream",
     "text": [
      "/usr/lib64/python2.7/site-packages/sklearn/linear_model/least_angle.py:309: ConvergenceWarning: Regressors in active set degenerate. Dropping a regressor, after 273 iterations, i.e. alpha=1.526e-05, with an active set of 209 regressors, and the smallest cholesky pivot element being 2.980e-08\n",
      "  ConvergenceWarning)\n",
      "/usr/lib64/python2.7/site-packages/sklearn/linear_model/least_angle.py:309: ConvergenceWarning: Regressors in active set degenerate. Dropping a regressor, after 220 iterations, i.e. alpha=2.994e-05, with an active set of 176 regressors, and the smallest cholesky pivot element being 1.825e-08\n",
      "  ConvergenceWarning)\n",
      "/usr/lib64/python2.7/site-packages/sklearn/linear_model/least_angle.py:309: ConvergenceWarning: Regressors in active set degenerate. Dropping a regressor, after 287 iterations, i.e. alpha=1.200e-05, with an active set of 219 regressors, and the smallest cholesky pivot element being 2.220e-16\n",
      "  ConvergenceWarning)\n",
      "/usr/lib64/python2.7/site-packages/sklearn/linear_model/least_angle.py:309: ConvergenceWarning: Regressors in active set degenerate. Dropping a regressor, after 215 iterations, i.e. alpha=2.977e-05, with an active set of 181 regressors, and the smallest cholesky pivot element being 1.825e-08\n",
      "  ConvergenceWarning)\n",
      "/usr/lib64/python2.7/site-packages/sklearn/linear_model/least_angle.py:309: ConvergenceWarning: Regressors in active set degenerate. Dropping a regressor, after 216 iterations, i.e. alpha=2.977e-05, with an active set of 182 regressors, and the smallest cholesky pivot element being 1.825e-08\n",
      "  ConvergenceWarning)\n",
      "/usr/lib64/python2.7/site-packages/sklearn/linear_model/least_angle.py:334: ConvergenceWarning: Early stopping the lars path, as the residues are small and the current value of alpha is no longer well controlled. 240 iterations, alpha=1.909e-05, previous alpha=1.909e-05, with an active set of 201 regressors.\n",
      "  ConvergenceWarning)\n",
      "/usr/lib64/python2.7/site-packages/sklearn/linear_model/least_angle.py:309: ConvergenceWarning: Regressors in active set degenerate. Dropping a regressor, after 144 iterations, i.e. alpha=7.390e-05, with an active set of 124 regressors, and the smallest cholesky pivot element being 2.107e-08\n",
      "  ConvergenceWarning)\n",
      "/usr/lib64/python2.7/site-packages/sklearn/linear_model/least_angle.py:309: ConvergenceWarning: Regressors in active set degenerate. Dropping a regressor, after 164 iterations, i.e. alpha=5.890e-05, with an active set of 140 regressors, and the smallest cholesky pivot element being 2.581e-08\n",
      "  ConvergenceWarning)\n",
      "/usr/lib64/python2.7/site-packages/sklearn/linear_model/least_angle.py:309: ConvergenceWarning: Regressors in active set degenerate. Dropping a regressor, after 199 iterations, i.e. alpha=3.791e-05, with an active set of 165 regressors, and the smallest cholesky pivot element being 2.107e-08\n",
      "  ConvergenceWarning)\n",
      "/usr/lib64/python2.7/site-packages/sklearn/linear_model/least_angle.py:334: ConvergenceWarning: Early stopping the lars path, as the residues are small and the current value of alpha is no longer well controlled. 202 iterations, alpha=3.712e-05, previous alpha=3.709e-05, with an active set of 167 regressors.\n",
      "  ConvergenceWarning)\n",
      "/usr/lib64/python2.7/site-packages/sklearn/linear_model/least_angle.py:309: ConvergenceWarning: Regressors in active set degenerate. Dropping a regressor, after 216 iterations, i.e. alpha=2.721e-05, with an active set of 180 regressors, and the smallest cholesky pivot element being 2.220e-16\n",
      "  ConvergenceWarning)\n",
      "/usr/lib64/python2.7/site-packages/sklearn/linear_model/least_angle.py:309: ConvergenceWarning: Regressors in active set degenerate. Dropping a regressor, after 222 iterations, i.e. alpha=2.510e-05, with an active set of 186 regressors, and the smallest cholesky pivot element being 1.490e-08\n",
      "  ConvergenceWarning)\n",
      "/usr/lib64/python2.7/site-packages/sklearn/linear_model/least_angle.py:334: ConvergenceWarning: Early stopping the lars path, as the residues are small and the current value of alpha is no longer well controlled. 267 iterations, alpha=1.174e-05, previous alpha=1.174e-05, with an active set of 214 regressors.\n",
      "  ConvergenceWarning)\n",
      "/usr/lib64/python2.7/site-packages/sklearn/linear_model/least_angle.py:309: ConvergenceWarning: Regressors in active set degenerate. Dropping a regressor, after 191 iterations, i.e. alpha=4.268e-05, with an active set of 159 regressors, and the smallest cholesky pivot element being 2.581e-08\n",
      "  ConvergenceWarning)\n",
      "/usr/lib64/python2.7/site-packages/sklearn/linear_model/least_angle.py:309: ConvergenceWarning: Regressors in active set degenerate. Dropping a regressor, after 195 iterations, i.e. alpha=3.834e-05, with an active set of 163 regressors, and the smallest cholesky pivot element being 2.581e-08\n",
      "  ConvergenceWarning)\n",
      "/usr/lib64/python2.7/site-packages/sklearn/linear_model/least_angle.py:309: ConvergenceWarning: Regressors in active set degenerate. Dropping a regressor, after 252 iterations, i.e. alpha=1.554e-05, with an active set of 206 regressors, and the smallest cholesky pivot element being 5.576e-08\n",
      "  ConvergenceWarning)\n",
      "/usr/lib64/python2.7/site-packages/sklearn/linear_model/least_angle.py:334: ConvergenceWarning: Early stopping the lars path, as the residues are small and the current value of alpha is no longer well controlled. 269 iterations, alpha=1.284e-05, previous alpha=1.253e-05, with an active set of 218 regressors.\n",
      "  ConvergenceWarning)\n",
      "/usr/lib64/python2.7/site-packages/sklearn/linear_model/least_angle.py:309: ConvergenceWarning: Regressors in active set degenerate. Dropping a regressor, after 184 iterations, i.e. alpha=5.251e-05, with an active set of 142 regressors, and the smallest cholesky pivot element being 2.220e-16\n",
      "  ConvergenceWarning)\n",
      "/usr/lib64/python2.7/site-packages/sklearn/linear_model/least_angle.py:309: ConvergenceWarning: Regressors in active set degenerate. Dropping a regressor, after 190 iterations, i.e. alpha=5.046e-05, with an active set of 148 regressors, and the smallest cholesky pivot element being 1.054e-08\n",
      "  ConvergenceWarning)\n",
      "/usr/lib64/python2.7/site-packages/sklearn/linear_model/least_angle.py:309: ConvergenceWarning: Regressors in active set degenerate. Dropping a regressor, after 268 iterations, i.e. alpha=1.724e-05, with an active set of 202 regressors, and the smallest cholesky pivot element being 2.581e-08\n",
      "  ConvergenceWarning)\n",
      "/usr/lib64/python2.7/site-packages/sklearn/linear_model/least_angle.py:309: ConvergenceWarning: Regressors in active set degenerate. Dropping a regressor, after 296 iterations, i.e. alpha=1.117e-05, with an active set of 214 regressors, and the smallest cholesky pivot element being 6.580e-08\n",
      "  ConvergenceWarning)\n",
      "/usr/lib64/python2.7/site-packages/sklearn/linear_model/least_angle.py:334: ConvergenceWarning: Early stopping the lars path, as the residues are small and the current value of alpha is no longer well controlled. 298 iterations, alpha=1.100e-05, previous alpha=1.079e-05, with an active set of 215 regressors.\n",
      "  ConvergenceWarning)\n",
      "/usr/lib64/python2.7/site-packages/sklearn/linear_model/least_angle.py:309: ConvergenceWarning: Regressors in active set degenerate. Dropping a regressor, after 220 iterations, i.e. alpha=2.326e-05, with an active set of 188 regressors, and the smallest cholesky pivot element being 1.825e-08\n",
      "  ConvergenceWarning)\n",
      "/usr/lib64/python2.7/site-packages/sklearn/linear_model/least_angle.py:309: ConvergenceWarning: Regressors in active set degenerate. Dropping a regressor, after 222 iterations, i.e. alpha=2.321e-05, with an active set of 190 regressors, and the smallest cholesky pivot element being 1.825e-08\n",
      "  ConvergenceWarning)\n",
      "/usr/lib64/python2.7/site-packages/sklearn/linear_model/least_angle.py:334: ConvergenceWarning: Early stopping the lars path, as the residues are small and the current value of alpha is no longer well controlled. 223 iterations, alpha=2.321e-05, previous alpha=2.320e-05, with an active set of 190 regressors.\n",
      "  ConvergenceWarning)\n",
      "/usr/lib64/python2.7/site-packages/sklearn/linear_model/least_angle.py:309: ConvergenceWarning: Regressors in active set degenerate. Dropping a regressor, after 256 iterations, i.e. alpha=2.055e-05, with an active set of 200 regressors, and the smallest cholesky pivot element being 2.107e-08\n",
      "  ConvergenceWarning)\n",
      "/usr/lib64/python2.7/site-packages/sklearn/linear_model/least_angle.py:309: ConvergenceWarning: Regressors in active set degenerate. Dropping a regressor, after 258 iterations, i.e. alpha=2.033e-05, with an active set of 202 regressors, and the smallest cholesky pivot element being 2.107e-08\n",
      "  ConvergenceWarning)\n",
      "/usr/lib64/python2.7/site-packages/sklearn/linear_model/least_angle.py:309: ConvergenceWarning: Regressors in active set degenerate. Dropping a regressor, after 226 iterations, i.e. alpha=2.686e-05, with an active set of 190 regressors, and the smallest cholesky pivot element being 2.220e-16\n",
      "  ConvergenceWarning)\n",
      "/usr/lib64/python2.7/site-packages/sklearn/linear_model/least_angle.py:309: ConvergenceWarning: Regressors in active set degenerate. Dropping a regressor, after 229 iterations, i.e. alpha=2.583e-05, with an active set of 191 regressors, and the smallest cholesky pivot element being 1.825e-08\n",
      "  ConvergenceWarning)\n",
      "/usr/lib64/python2.7/site-packages/sklearn/linear_model/least_angle.py:309: ConvergenceWarning: Regressors in active set degenerate. Dropping a regressor, after 273 iterations, i.e. alpha=1.071e-05, with an active set of 227 regressors, and the smallest cholesky pivot element being 2.788e-08\n",
      "  ConvergenceWarning)\n"
     ]
    },
    {
     "data": {
      "text/html": [
       "<div>\n",
       "<table border=\"1\" class=\"dataframe\">\n",
       "  <thead>\n",
       "    <tr style=\"text-align: right;\">\n",
       "      <th></th>\n",
       "      <th>alpha</th>\n",
       "      <th>RMSE</th>\n",
       "      <th>std dev</th>\n",
       "    </tr>\n",
       "  </thead>\n",
       "  <tbody>\n",
       "    <tr>\n",
       "      <th>0</th>\n",
       "      <td>0.00001000000000000000</td>\n",
       "      <td>0.10425760879441206552</td>\n",
       "      <td>0.05333499445927143007</td>\n",
       "    </tr>\n",
       "    <tr>\n",
       "      <th>1</th>\n",
       "      <td>0.00002000000000000000</td>\n",
       "      <td>0.10323789878000545761</td>\n",
       "      <td>0.05380385349734288780</td>\n",
       "    </tr>\n",
       "    <tr>\n",
       "      <th>2</th>\n",
       "      <td>0.00003000000000000000</td>\n",
       "      <td>0.10239868996272534496</td>\n",
       "      <td>0.05408099509515230247</td>\n",
       "    </tr>\n",
       "    <tr>\n",
       "      <th>3</th>\n",
       "      <td>0.00004000000000000000</td>\n",
       "      <td>0.10187958421895645933</td>\n",
       "      <td>0.05433392289232810701</td>\n",
       "    </tr>\n",
       "    <tr>\n",
       "      <th>8</th>\n",
       "      <td>0.00009000000000000001</td>\n",
       "      <td>0.10160977946860987042</td>\n",
       "      <td>0.05298095721445954254</td>\n",
       "    </tr>\n",
       "    <tr>\n",
       "      <th>4</th>\n",
       "      <td>0.00005000000000000000</td>\n",
       "      <td>0.10160782187460090653</td>\n",
       "      <td>0.05408267584886787549</td>\n",
       "    </tr>\n",
       "    <tr>\n",
       "      <th>7</th>\n",
       "      <td>0.00008000000000000001</td>\n",
       "      <td>0.10146554628747730953</td>\n",
       "      <td>0.05318390845482481172</td>\n",
       "    </tr>\n",
       "    <tr>\n",
       "      <th>5</th>\n",
       "      <td>0.00006000000000000000</td>\n",
       "      <td>0.10144437321278311492</td>\n",
       "      <td>0.05366967396256986517</td>\n",
       "    </tr>\n",
       "    <tr>\n",
       "      <th>6</th>\n",
       "      <td>0.00007000000000000001</td>\n",
       "      <td>0.10137015071141515510</td>\n",
       "      <td>0.05333633816349137025</td>\n",
       "    </tr>\n",
       "  </tbody>\n",
       "</table>\n",
       "</div>"
      ],
      "text/plain": [
       "                    alpha                    RMSE                 std dev\n",
       "0  0.00001000000000000000  0.10425760879441206552  0.05333499445927143007\n",
       "1  0.00002000000000000000  0.10323789878000545761  0.05380385349734288780\n",
       "2  0.00003000000000000000  0.10239868996272534496  0.05408099509515230247\n",
       "3  0.00004000000000000000  0.10187958421895645933  0.05433392289232810701\n",
       "8  0.00009000000000000001  0.10160977946860987042  0.05298095721445954254\n",
       "4  0.00005000000000000000  0.10160782187460090653  0.05408267584886787549\n",
       "7  0.00008000000000000001  0.10146554628747730953  0.05318390845482481172\n",
       "5  0.00006000000000000000  0.10144437321278311492  0.05366967396256986517\n",
       "6  0.00007000000000000001  0.10137015071141515510  0.05333633816349137025"
      ]
     },
     "execution_count": 35,
     "metadata": {},
     "output_type": "execute_result"
    },
    {
     "data": {
      "image/png": "[encoded data removed]",
      "text/plain": [
       "<matplotlib.figure.Figure at 0x7fce5c902290>"
      ]
     },
     "metadata": {},
     "output_type": "display_data"
    }
   ],
   "source": [
    "lassolars_params = {'alpha': np.arange(0.00001, 0.00010, 0.00001).tolist()}\n",
    "lassolars_df = single_search(lassolars_regr, lassolars_params)\n",
    "lassolars_df.plot(x = ['alpha'], y = ['RMSE'])\n",
    "lassolars_df.sort_values(['RMSE'], ascending = False)"
   ]
  },
  {
   "cell_type": "code",
   "execution_count": 45,
   "metadata": {
    "collapsed": true
   },
   "outputs": [],
   "source": [
    "lassolars_regr = linear_model.LassoLars(alpha=0.00007, max_iter=50000)"
   ]
  },
  {
   "cell_type": "code",
   "execution_count": 46,
   "metadata": {
    "collapsed": false
   },
   "outputs": [
    {
     "data": {
      "text/plain": [
       "0.11773179206932312"
      ]
     },
     "execution_count": 46,
     "metadata": {},
     "output_type": "execute_result"
    }
   ],
   "source": [
    "validate(lassolars_regr)"
   ]
  },
  {
   "cell_type": "markdown",
   "metadata": {},
   "source": [
    "## Elastic Net"
   ]
  },
  {
   "cell_type": "code",
   "execution_count": 21,
   "metadata": {
    "collapsed": true
   },
   "outputs": [],
   "source": [
    "elnet_regr = linear_model.ElasticNet(max_iter=15000, random_state=7)"
   ]
  },
  {
   "cell_type": "code",
   "execution_count": 22,
   "metadata": {
    "collapsed": false
   },
   "outputs": [
    {
     "name": "stdout",
     "output_type": "stream",
     "text": [
      "RandomizedSearchCV took 29.92 seconds for 20 candidates parameter settings.\n",
      "Model with rank: 1\n",
      "Mean validation score: -0.010 (std: 0.003)\n",
      "Parameters: {'alpha': 0.00048554206870430065, 'l1_ratio': 0.60114019166175958}\n",
      "\n",
      "Model with rank: 2\n",
      "Mean validation score: -0.010 (std: 0.003)\n",
      "Parameters: {'alpha': 0.00051911915364181082, 'l1_ratio': 0.55315226983055288}\n",
      "\n",
      "Model with rank: 3\n",
      "Mean validation score: -0.010 (std: 0.003)\n",
      "Parameters: {'alpha': 0.00056756417796271445, 'l1_ratio': 0.55239048893466058}\n",
      "\n"
     ]
    }
   ],
   "source": [
    "elnet_param =  {'alpha': scipy.stats.expon(scale=0.001), 'l1_ratio': scipy.stats.truncnorm(0, 1, loc=0.5, scale=0.25)}\n",
    "random_search(elnet_regr, elnet_param, 20)"
   ]
  },
  {
   "cell_type": "code",
   "execution_count": 36,
   "metadata": {
    "collapsed": false
   },
   "outputs": [
    {
     "data": {
      "text/html": [
       "<div>\n",
       "<table border=\"1\" class=\"dataframe\">\n",
       "  <thead>\n",
       "    <tr style=\"text-align: right;\">\n",
       "      <th></th>\n",
       "      <th>alpha</th>\n",
       "      <th>RMSE</th>\n",
       "      <th>std dev</th>\n",
       "    </tr>\n",
       "  </thead>\n",
       "  <tbody>\n",
       "    <tr>\n",
       "      <th>0</th>\n",
       "      <td>0.00010000000000000000</td>\n",
       "      <td>0.10459737358261084195</td>\n",
       "      <td>0.05429549223927862545</td>\n",
       "    </tr>\n",
       "    <tr>\n",
       "      <th>8</th>\n",
       "      <td>0.00090000000000000008</td>\n",
       "      <td>0.10345138678477382166</td>\n",
       "      <td>0.05135870103231263140</td>\n",
       "    </tr>\n",
       "    <tr>\n",
       "      <th>1</th>\n",
       "      <td>0.00020000000000000001</td>\n",
       "      <td>0.10324529656290283575</td>\n",
       "      <td>0.05457857696191584923</td>\n",
       "    </tr>\n",
       "    <tr>\n",
       "      <th>7</th>\n",
       "      <td>0.00080000000000000004</td>\n",
       "      <td>0.10310293779532760106</td>\n",
       "      <td>0.05153984774716214440</td>\n",
       "    </tr>\n",
       "    <tr>\n",
       "      <th>6</th>\n",
       "      <td>0.00070000000000000010</td>\n",
       "      <td>0.10273907551969413410</td>\n",
       "      <td>0.05186157506657288613</td>\n",
       "    </tr>\n",
       "    <tr>\n",
       "      <th>5</th>\n",
       "      <td>0.00060000000000000006</td>\n",
       "      <td>0.10241902657730696247</td>\n",
       "      <td>0.05230216314000588756</td>\n",
       "    </tr>\n",
       "    <tr>\n",
       "      <th>2</th>\n",
       "      <td>0.00030000000000000003</td>\n",
       "      <td>0.10241756535769447334</td>\n",
       "      <td>0.05381164611820664356</td>\n",
       "    </tr>\n",
       "    <tr>\n",
       "      <th>4</th>\n",
       "      <td>0.00050000000000000001</td>\n",
       "      <td>0.10210721506403706849</td>\n",
       "      <td>0.05274448938920579810</td>\n",
       "    </tr>\n",
       "    <tr>\n",
       "      <th>3</th>\n",
       "      <td>0.00040000000000000002</td>\n",
       "      <td>0.10203092850391327906</td>\n",
       "      <td>0.05319879427778218678</td>\n",
       "    </tr>\n",
       "  </tbody>\n",
       "</table>\n",
       "</div>"
      ],
      "text/plain": [
       "                    alpha                    RMSE                 std dev\n",
       "0  0.00010000000000000000  0.10459737358261084195  0.05429549223927862545\n",
       "8  0.00090000000000000008  0.10345138678477382166  0.05135870103231263140\n",
       "1  0.00020000000000000001  0.10324529656290283575  0.05457857696191584923\n",
       "7  0.00080000000000000004  0.10310293779532760106  0.05153984774716214440\n",
       "6  0.00070000000000000010  0.10273907551969413410  0.05186157506657288613\n",
       "5  0.00060000000000000006  0.10241902657730696247  0.05230216314000588756\n",
       "2  0.00030000000000000003  0.10241756535769447334  0.05381164611820664356\n",
       "4  0.00050000000000000001  0.10210721506403706849  0.05274448938920579810\n",
       "3  0.00040000000000000002  0.10203092850391327906  0.05319879427778218678"
      ]
     },
     "execution_count": 36,
     "metadata": {},
     "output_type": "execute_result"
    },
    {
     "data": {
      "image/png": "[encoded data removed]",
      "text/plain": [
       "<matplotlib.figure.Figure at 0x7fce28244c90>"
      ]
     },
     "metadata": {},
     "output_type": "display_data"
    }
   ],
   "source": [
    "elnet_regr = linear_model.ElasticNet(alpha=0.00038, l1_ratio=0.5, max_iter=15000, random_state=7)\n",
    "elnet_params = {'alpha': np.arange(0.0001, 0.0010, 0.0001).tolist()}\n",
    "elnet_df = single_search(elnet_regr, elnet_params)\n",
    "elnet_df.plot(x = ['alpha'], y = ['RMSE'])\n",
    "elnet_df.sort_values(['RMSE'], ascending = False)"
   ]
  },
  {
   "cell_type": "code",
   "execution_count": 47,
   "metadata": {
    "collapsed": false
   },
   "outputs": [
    {
     "data": {
      "text/html": [
       "<div>\n",
       "<table border=\"1\" class=\"dataframe\">\n",
       "  <thead>\n",
       "    <tr style=\"text-align: right;\">\n",
       "      <th></th>\n",
       "      <th>l1_ratio</th>\n",
       "      <th>RMSE</th>\n",
       "      <th>std dev</th>\n",
       "    </tr>\n",
       "  </thead>\n",
       "  <tbody>\n",
       "    <tr>\n",
       "      <th>0</th>\n",
       "      <td>0.10000000000000000555</td>\n",
       "      <td>0.10453340240166711372</td>\n",
       "      <td>0.05386811262337964229</td>\n",
       "    </tr>\n",
       "    <tr>\n",
       "      <th>1</th>\n",
       "      <td>0.20000000000000001110</td>\n",
       "      <td>0.10347430813326304044</td>\n",
       "      <td>0.05409158283802650846</td>\n",
       "    </tr>\n",
       "    <tr>\n",
       "      <th>2</th>\n",
       "      <td>0.30000000000000004441</td>\n",
       "      <td>0.10272008428972756455</td>\n",
       "      <td>0.05384478351657770445</td>\n",
       "    </tr>\n",
       "    <tr>\n",
       "      <th>8</th>\n",
       "      <td>0.90000000000000002220</td>\n",
       "      <td>0.10243701983795287791</td>\n",
       "      <td>0.05231034913465480024</td>\n",
       "    </tr>\n",
       "    <tr>\n",
       "      <th>3</th>\n",
       "      <td>0.40000000000000002220</td>\n",
       "      <td>0.10225624168035998829</td>\n",
       "      <td>0.05346045599004291271</td>\n",
       "    </tr>\n",
       "    <tr>\n",
       "      <th>7</th>\n",
       "      <td>0.80000000000000004441</td>\n",
       "      <td>0.10225000665601077787</td>\n",
       "      <td>0.05254990120344328608</td>\n",
       "    </tr>\n",
       "    <tr>\n",
       "      <th>6</th>\n",
       "      <td>0.70000000000000006661</td>\n",
       "      <td>0.10210874930894632551</td>\n",
       "      <td>0.05276474034377688638</td>\n",
       "    </tr>\n",
       "    <tr>\n",
       "      <th>5</th>\n",
       "      <td>0.59999999999999997780</td>\n",
       "      <td>0.10203457480662506129</td>\n",
       "      <td>0.05297140853988296233</td>\n",
       "    </tr>\n",
       "    <tr>\n",
       "      <th>4</th>\n",
       "      <td>0.50000000000000000000</td>\n",
       "      <td>0.10203092850391327906</td>\n",
       "      <td>0.05319879427778218678</td>\n",
       "    </tr>\n",
       "  </tbody>\n",
       "</table>\n",
       "</div>"
      ],
      "text/plain": [
       "                 l1_ratio                    RMSE                 std dev\n",
       "0  0.10000000000000000555  0.10453340240166711372  0.05386811262337964229\n",
       "1  0.20000000000000001110  0.10347430813326304044  0.05409158283802650846\n",
       "2  0.30000000000000004441  0.10272008428972756455  0.05384478351657770445\n",
       "8  0.90000000000000002220  0.10243701983795287791  0.05231034913465480024\n",
       "3  0.40000000000000002220  0.10225624168035998829  0.05346045599004291271\n",
       "7  0.80000000000000004441  0.10225000665601077787  0.05254990120344328608\n",
       "6  0.70000000000000006661  0.10210874930894632551  0.05276474034377688638\n",
       "5  0.59999999999999997780  0.10203457480662506129  0.05297140853988296233\n",
       "4  0.50000000000000000000  0.10203092850391327906  0.05319879427778218678"
      ]
     },
     "execution_count": 47,
     "metadata": {},
     "output_type": "execute_result"
    },
    {
     "data": {
      "image/png": "[encoded data removed]",
      "text/plain": [
       "<matplotlib.figure.Figure at 0x7fce29d1ecd0>"
      ]
     },
     "metadata": {},
     "output_type": "display_data"
    }
   ],
   "source": [
    "elnet_regr = linear_model.ElasticNet(alpha=0.0004, max_iter=15000, random_state=7)\n",
    "elnet_params = {'l1_ratio': np.arange(0.1, 1, 0.1).tolist()}\n",
    "elnet_df = single_search(elnet_regr, elnet_params)\n",
    "elnet_df.plot(x = ['l1_ratio'], y = ['RMSE'])\n",
    "elnet_df.sort_values(['RMSE'], ascending = False)"
   ]
  },
  {
   "cell_type": "code",
   "execution_count": 48,
   "metadata": {
    "collapsed": true
   },
   "outputs": [],
   "source": [
    "elnet_regr = linear_model.ElasticNet(alpha=0.0004, l1_ratio=0.55, max_iter=15000, random_state=7)"
   ]
  },
  {
   "cell_type": "code",
   "execution_count": 49,
   "metadata": {
    "collapsed": false
   },
   "outputs": [
    {
     "data": {
      "text/plain": [
       "0.12091498020222229"
      ]
     },
     "execution_count": 49,
     "metadata": {},
     "output_type": "execute_result"
    }
   ],
   "source": [
    "validate(elnet_regr)"
   ]
  },
  {
   "cell_type": "markdown",
   "metadata": {},
   "source": [
    "## Random Forest"
   ]
  },
  {
   "cell_type": "code",
   "execution_count": 24,
   "metadata": {
    "collapsed": true
   },
   "outputs": [],
   "source": [
    "rf_regr = RandomForestRegressor(n_jobs=-1, random_state = 7)"
   ]
  },
  {
   "cell_type": "code",
   "execution_count": 25,
   "metadata": {
    "collapsed": false
   },
   "outputs": [
    {
     "name": "stdout",
     "output_type": "stream",
     "text": [
      "RandomizedSearchCV took 187.56 seconds for 20 candidates parameter settings.\n",
      "Model with rank: 1\n",
      "Mean validation score: -0.015 (std: 0.003)\n",
      "Parameters: {'max_features': 64, 'n_estimators': 311, 'max_depth': 14}\n",
      "\n",
      "Model with rank: 2\n",
      "Mean validation score: -0.015 (std: 0.003)\n",
      "Parameters: {'max_features': 41, 'n_estimators': 371, 'max_depth': 15}\n",
      "\n",
      "Model with rank: 3\n",
      "Mean validation score: -0.015 (std: 0.003)\n",
      "Parameters: {'max_features': 56, 'n_estimators': 182, 'max_depth': 10}\n",
      "\n"
     ]
    }
   ],
   "source": [
    "rf_param =  {'n_estimators': scipy.stats.randint(50,400), 'max_depth': scipy.stats.randint(2,40), \n",
    "             'max_features': scipy.stats.randint(5,80)}\n",
    "random_search(rf_regr, rf_param, 20)"
   ]
  },
  {
   "cell_type": "code",
   "execution_count": 55,
   "metadata": {
    "collapsed": false
   },
   "outputs": [
    {
     "data": {
      "text/html": [
       "<div>\n",
       "<table border=\"1\" class=\"dataframe\">\n",
       "  <thead>\n",
       "    <tr style=\"text-align: right;\">\n",
       "      <th></th>\n",
       "      <th>n_estimators</th>\n",
       "      <th>RMSE</th>\n",
       "      <th>std dev</th>\n",
       "    </tr>\n",
       "  </thead>\n",
       "  <tbody>\n",
       "    <tr>\n",
       "      <th>0</th>\n",
       "      <td>50.0</td>\n",
       "      <td>0.12147947189036610582</td>\n",
       "      <td>0.05684757341781586371</td>\n",
       "    </tr>\n",
       "    <tr>\n",
       "      <th>8</th>\n",
       "      <td>450.0</td>\n",
       "      <td>0.12107489474708964250</td>\n",
       "      <td>0.05496934550580743345</td>\n",
       "    </tr>\n",
       "    <tr>\n",
       "      <th>10</th>\n",
       "      <td>550.0</td>\n",
       "      <td>0.12103115717123329176</td>\n",
       "      <td>0.05441586549777371190</td>\n",
       "    </tr>\n",
       "    <tr>\n",
       "      <th>11</th>\n",
       "      <td>600.0</td>\n",
       "      <td>0.12102209288314622060</td>\n",
       "      <td>0.05444241823227150695</td>\n",
       "    </tr>\n",
       "    <tr>\n",
       "      <th>4</th>\n",
       "      <td>250.0</td>\n",
       "      <td>0.12101267243593863410</td>\n",
       "      <td>0.05491609145131785136</td>\n",
       "    </tr>\n",
       "    <tr>\n",
       "      <th>3</th>\n",
       "      <td>200.0</td>\n",
       "      <td>0.12100954951266609805</td>\n",
       "      <td>0.05495931345705244025</td>\n",
       "    </tr>\n",
       "    <tr>\n",
       "      <th>9</th>\n",
       "      <td>500.0</td>\n",
       "      <td>0.12097664319102831298</td>\n",
       "      <td>0.05439258970141931659</td>\n",
       "    </tr>\n",
       "    <tr>\n",
       "      <th>1</th>\n",
       "      <td>100.0</td>\n",
       "      <td>0.12091304791105156324</td>\n",
       "      <td>0.05464743641033392718</td>\n",
       "    </tr>\n",
       "    <tr>\n",
       "      <th>7</th>\n",
       "      <td>400.0</td>\n",
       "      <td>0.12091206695581394048</td>\n",
       "      <td>0.05493135035883409123</td>\n",
       "    </tr>\n",
       "    <tr>\n",
       "      <th>2</th>\n",
       "      <td>150.0</td>\n",
       "      <td>0.12084551628719586436</td>\n",
       "      <td>0.05549924636584853410</td>\n",
       "    </tr>\n",
       "    <tr>\n",
       "      <th>5</th>\n",
       "      <td>300.0</td>\n",
       "      <td>0.12073825085287773207</td>\n",
       "      <td>0.05490310318886777730</td>\n",
       "    </tr>\n",
       "    <tr>\n",
       "      <th>6</th>\n",
       "      <td>350.0</td>\n",
       "      <td>0.12069369913168981334</td>\n",
       "      <td>0.05476317372662947713</td>\n",
       "    </tr>\n",
       "  </tbody>\n",
       "</table>\n",
       "</div>"
      ],
      "text/plain": [
       "    n_estimators                    RMSE                 std dev\n",
       "0           50.0  0.12147947189036610582  0.05684757341781586371\n",
       "8          450.0  0.12107489474708964250  0.05496934550580743345\n",
       "10         550.0  0.12103115717123329176  0.05441586549777371190\n",
       "11         600.0  0.12102209288314622060  0.05444241823227150695\n",
       "4          250.0  0.12101267243593863410  0.05491609145131785136\n",
       "3          200.0  0.12100954951266609805  0.05495931345705244025\n",
       "9          500.0  0.12097664319102831298  0.05439258970141931659\n",
       "1          100.0  0.12091304791105156324  0.05464743641033392718\n",
       "7          400.0  0.12091206695581394048  0.05493135035883409123\n",
       "2          150.0  0.12084551628719586436  0.05549924636584853410\n",
       "5          300.0  0.12073825085287773207  0.05490310318886777730\n",
       "6          350.0  0.12069369913168981334  0.05476317372662947713"
      ]
     },
     "execution_count": 55,
     "metadata": {},
     "output_type": "execute_result"
    },
    {
     "data": {
      "image/png": "[encoded data removed]",
      "text/plain": [
       "<matplotlib.figure.Figure at 0x7fce29e04890>"
      ]
     },
     "metadata": {},
     "output_type": "display_data"
    }
   ],
   "source": [
    "rf_regr = RandomForestRegressor(n_estimators = 311, max_depth = 16, max_features = 82, random_state = 7)\n",
    "rf_params = {'n_estimators': np.arange(50, 650, 50).tolist()}\n",
    "rf_df = single_search(rf_regr, rf_params)\n",
    "rf_df.plot(x = ['n_estimators'], y = ['RMSE'])\n",
    "rf_df.sort_values(['RMSE'], ascending = False)"
   ]
  },
  {
   "cell_type": "code",
   "execution_count": 59,
   "metadata": {
    "collapsed": true
   },
   "outputs": [],
   "source": [
    "rf_regr = RandomForestRegressor(n_estimators = 350, max_depth = 16, max_features = 82, random_state = 7)"
   ]
  },
  {
   "cell_type": "code",
   "execution_count": 60,
   "metadata": {
    "collapsed": false
   },
   "outputs": [
    {
     "data": {
      "text/plain": [
       "0.13729520207118839"
      ]
     },
     "execution_count": 60,
     "metadata": {},
     "output_type": "execute_result"
    }
   ],
   "source": [
    "validate(rf_regr)"
   ]
  },
  {
   "cell_type": "markdown",
   "metadata": {},
   "source": [
    "## Support Vector Regressor"
   ]
  },
  {
   "cell_type": "code",
   "execution_count": 26,
   "metadata": {
    "collapsed": true
   },
   "outputs": [],
   "source": [
    "svr_regr = svm.SVR(cache_size=200, degree=3, max_iter=-1, shrinking=True, tol=0.001, verbose=False)"
   ]
  },
  {
   "cell_type": "code",
   "execution_count": 27,
   "metadata": {
    "collapsed": false
   },
   "outputs": [
    {
     "name": "stdout",
     "output_type": "stream",
     "text": [
      "RandomizedSearchCV took 38.06 seconds for 20 candidates parameter settings.\n",
      "Model with rank: 1\n",
      "Mean validation score: -0.013 (std: 0.003)\n",
      "Parameters: {'kernel': 'rbf', 'C': 0.90596456128430436, 'gamma': 0.011329850115938844}\n",
      "\n",
      "Model with rank: 2\n",
      "Mean validation score: -0.014 (std: 0.003)\n",
      "Parameters: {'kernel': 'rbf', 'C': 0.48457061185066358, 'gamma': 0.0097927350638205898}\n",
      "\n",
      "Model with rank: 3\n",
      "Mean validation score: -0.014 (std: 0.003)\n",
      "Parameters: {'kernel': 'rbf', 'C': 1.0242516282146397, 'gamma': 0.01838490094121346}\n",
      "\n"
     ]
    }
   ],
   "source": [
    "svr_param = {'C': scipy.stats.expon(scale=1), 'gamma': scipy.stats.expon(scale=.1),\n",
    "              'kernel': ['rbf']}\n",
    "random_search(svr_regr, svr_param, 20)"
   ]
  },
  {
   "cell_type": "code",
   "execution_count": 56,
   "metadata": {
    "collapsed": false
   },
   "outputs": [
    {
     "data": {
      "text/html": [
       "<div>\n",
       "<table border=\"1\" class=\"dataframe\">\n",
       "  <thead>\n",
       "    <tr style=\"text-align: right;\">\n",
       "      <th></th>\n",
       "      <th>C</th>\n",
       "      <th>RMSE</th>\n",
       "      <th>std dev</th>\n",
       "    </tr>\n",
       "  </thead>\n",
       "  <tbody>\n",
       "    <tr>\n",
       "      <th>0</th>\n",
       "      <td>0.90000000000000002220</td>\n",
       "      <td>0.11376684472227663325</td>\n",
       "      <td>0.05013085235165419540</td>\n",
       "    </tr>\n",
       "    <tr>\n",
       "      <th>1</th>\n",
       "      <td>1.00000000000000000000</td>\n",
       "      <td>0.11321674437401765823</td>\n",
       "      <td>0.05015497449074347164</td>\n",
       "    </tr>\n",
       "    <tr>\n",
       "      <th>2</th>\n",
       "      <td>1.10000000000000008882</td>\n",
       "      <td>0.11277415757032537014</td>\n",
       "      <td>0.05025132392287327138</td>\n",
       "    </tr>\n",
       "    <tr>\n",
       "      <th>3</th>\n",
       "      <td>1.19999999999999995559</td>\n",
       "      <td>0.11238661654703040182</td>\n",
       "      <td>0.05048657826722264402</td>\n",
       "    </tr>\n",
       "    <tr>\n",
       "      <th>4</th>\n",
       "      <td>1.29999999999999982236</td>\n",
       "      <td>0.11213039065913661674</td>\n",
       "      <td>0.05063205385081607363</td>\n",
       "    </tr>\n",
       "    <tr>\n",
       "      <th>5</th>\n",
       "      <td>1.39999999999999991118</td>\n",
       "      <td>0.11191081304875807878</td>\n",
       "      <td>0.05074997226702282482</td>\n",
       "    </tr>\n",
       "    <tr>\n",
       "      <th>6</th>\n",
       "      <td>1.50000000000000000000</td>\n",
       "      <td>0.11174280142743790722</td>\n",
       "      <td>0.05080311865448833980</td>\n",
       "    </tr>\n",
       "    <tr>\n",
       "      <th>7</th>\n",
       "      <td>1.59999999999999986677</td>\n",
       "      <td>0.11161867463412296353</td>\n",
       "      <td>0.05072774291942994118</td>\n",
       "    </tr>\n",
       "    <tr>\n",
       "      <th>8</th>\n",
       "      <td>1.69999999999999973355</td>\n",
       "      <td>0.11152866743678423178</td>\n",
       "      <td>0.05065515096889291330</td>\n",
       "    </tr>\n",
       "    <tr>\n",
       "      <th>10</th>\n",
       "      <td>1.89999999999999991118</td>\n",
       "      <td>0.11147981420985626777</td>\n",
       "      <td>0.05075108853969481637</td>\n",
       "    </tr>\n",
       "    <tr>\n",
       "      <th>12</th>\n",
       "      <td>2.09999999999999964473</td>\n",
       "      <td>0.11147886536160003801</td>\n",
       "      <td>0.05087832190065649796</td>\n",
       "    </tr>\n",
       "    <tr>\n",
       "      <th>9</th>\n",
       "      <td>1.79999999999999982236</td>\n",
       "      <td>0.11147883000102817852</td>\n",
       "      <td>0.05066203905436478944</td>\n",
       "    </tr>\n",
       "    <tr>\n",
       "      <th>11</th>\n",
       "      <td>1.99999999999999955591</td>\n",
       "      <td>0.11146180845506296897</td>\n",
       "      <td>0.05081203885937884968</td>\n",
       "    </tr>\n",
       "  </tbody>\n",
       "</table>\n",
       "</div>"
      ],
      "text/plain": [
       "                         C                    RMSE                 std dev\n",
       "0   0.90000000000000002220  0.11376684472227663325  0.05013085235165419540\n",
       "1   1.00000000000000000000  0.11321674437401765823  0.05015497449074347164\n",
       "2   1.10000000000000008882  0.11277415757032537014  0.05025132392287327138\n",
       "3   1.19999999999999995559  0.11238661654703040182  0.05048657826722264402\n",
       "4   1.29999999999999982236  0.11213039065913661674  0.05063205385081607363\n",
       "5   1.39999999999999991118  0.11191081304875807878  0.05074997226702282482\n",
       "6   1.50000000000000000000  0.11174280142743790722  0.05080311865448833980\n",
       "7   1.59999999999999986677  0.11161867463412296353  0.05072774291942994118\n",
       "8   1.69999999999999973355  0.11152866743678423178  0.05065515096889291330\n",
       "10  1.89999999999999991118  0.11147981420985626777  0.05075108853969481637\n",
       "12  2.09999999999999964473  0.11147886536160003801  0.05087832190065649796\n",
       "9   1.79999999999999982236  0.11147883000102817852  0.05066203905436478944\n",
       "11  1.99999999999999955591  0.11146180845506296897  0.05081203885937884968"
      ]
     },
     "execution_count": 56,
     "metadata": {},
     "output_type": "execute_result"
    },
    {
     "data": {
      "image/png": "[encoded data removed]",
      "text/plain": [
       "<matplotlib.figure.Figure at 0x7fce28343410>"
      ]
     },
     "metadata": {},
     "output_type": "display_data"
    }
   ],
   "source": [
    "svr_regr = svm.SVR(C=0.9, cache_size=200, coef0=0.0, degree=3, gamma=0.009,\n",
    "                        kernel='rbf', max_iter=-1, shrinking=True, tol=0.001, verbose=False)\n",
    "svr_params = {'C': np.arange(0.9, 2.1, 0.1).tolist()}\n",
    "svr_df = single_search(svr_regr, svr_params)\n",
    "svr_df.plot(x = ['C'], y = ['RMSE'])\n",
    "svr_df.sort_values(['RMSE'], ascending = False)"
   ]
  },
  {
   "cell_type": "code",
   "execution_count": 61,
   "metadata": {
    "collapsed": true
   },
   "outputs": [],
   "source": [
    "svr_regr = svm.SVR(C=2.0, cache_size=200, coef0=0.0, degree=3, gamma=0.009,\n",
    "                        kernel='rbf', max_iter=-1, shrinking=True, tol=0.001, verbose=False)"
   ]
  },
  {
   "cell_type": "code",
   "execution_count": 62,
   "metadata": {
    "collapsed": false
   },
   "outputs": [
    {
     "data": {
      "text/plain": [
       "0.13004653604903565"
      ]
     },
     "execution_count": 62,
     "metadata": {},
     "output_type": "execute_result"
    }
   ],
   "source": [
    "validate(svr_regr)"
   ]
  },
  {
   "cell_type": "markdown",
   "metadata": {},
   "source": [
    "## Orthogonal Matching Pursuit"
   ]
  },
  {
   "cell_type": "code",
   "execution_count": 28,
   "metadata": {
    "collapsed": true
   },
   "outputs": [],
   "source": [
    "omp_regr = linear_model.OrthogonalMatchingPursuit()"
   ]
  },
  {
   "cell_type": "code",
   "execution_count": 29,
   "metadata": {
    "collapsed": false
   },
   "outputs": [
    {
     "name": "stdout",
     "output_type": "stream",
     "text": [
      "RandomizedSearchCV took 3.77 seconds for 20 candidates parameter settings.\n",
      "Model with rank: 1\n",
      "Mean validation score: -0.011 (std: 0.003)\n",
      "Parameters: {'n_nonzero_coefs': 116}\n",
      "\n",
      "Model with rank: 2\n",
      "Mean validation score: -0.012 (std: 0.003)\n",
      "Parameters: {'n_nonzero_coefs': 72}\n",
      "\n",
      "Model with rank: 2\n",
      "Mean validation score: -0.012 (std: 0.003)\n",
      "Parameters: {'n_nonzero_coefs': 72}\n",
      "\n",
      "Model with rank: 2\n",
      "Mean validation score: -0.012 (std: 0.003)\n",
      "Parameters: {'n_nonzero_coefs': 72}\n",
      "\n"
     ]
    }
   ],
   "source": [
    "omp_param = {'n_nonzero_coefs': scipy.stats.randint(20,120)}\n",
    "random_search(omp_regr, omp_param, 20)"
   ]
  },
  {
   "cell_type": "code",
   "execution_count": 52,
   "metadata": {
    "collapsed": false
   },
   "outputs": [
    {
     "data": {
      "text/html": [
       "<div>\n",
       "<table border=\"1\" class=\"dataframe\">\n",
       "  <thead>\n",
       "    <tr style=\"text-align: right;\">\n",
       "      <th></th>\n",
       "      <th>n_nonzero_coefs</th>\n",
       "      <th>RMSE</th>\n",
       "      <th>std dev</th>\n",
       "    </tr>\n",
       "  </thead>\n",
       "  <tbody>\n",
       "    <tr>\n",
       "      <th>5</th>\n",
       "      <td>95.0</td>\n",
       "      <td>0.10858038470669804931</td>\n",
       "      <td>0.05511910306307978707</td>\n",
       "    </tr>\n",
       "    <tr>\n",
       "      <th>8</th>\n",
       "      <td>98.0</td>\n",
       "      <td>0.10856768281119190400</td>\n",
       "      <td>0.05531684344665580705</td>\n",
       "    </tr>\n",
       "    <tr>\n",
       "      <th>6</th>\n",
       "      <td>96.0</td>\n",
       "      <td>0.10854704041909862822</td>\n",
       "      <td>0.05511603397636161833</td>\n",
       "    </tr>\n",
       "    <tr>\n",
       "      <th>9</th>\n",
       "      <td>99.0</td>\n",
       "      <td>0.10848214384188392678</td>\n",
       "      <td>0.05448976099294567527</td>\n",
       "    </tr>\n",
       "    <tr>\n",
       "      <th>0</th>\n",
       "      <td>90.0</td>\n",
       "      <td>0.10839746204083283709</td>\n",
       "      <td>0.05546352884413584955</td>\n",
       "    </tr>\n",
       "    <tr>\n",
       "      <th>2</th>\n",
       "      <td>92.0</td>\n",
       "      <td>0.10838487051235376479</td>\n",
       "      <td>0.05523826117424349147</td>\n",
       "    </tr>\n",
       "    <tr>\n",
       "      <th>4</th>\n",
       "      <td>94.0</td>\n",
       "      <td>0.10834723357767961360</td>\n",
       "      <td>0.05539986974406591741</td>\n",
       "    </tr>\n",
       "    <tr>\n",
       "      <th>7</th>\n",
       "      <td>97.0</td>\n",
       "      <td>0.10833169995877993397</td>\n",
       "      <td>0.05515248968554509190</td>\n",
       "    </tr>\n",
       "    <tr>\n",
       "      <th>1</th>\n",
       "      <td>91.0</td>\n",
       "      <td>0.10827663659956715536</td>\n",
       "      <td>0.05548714303428640970</td>\n",
       "    </tr>\n",
       "    <tr>\n",
       "      <th>3</th>\n",
       "      <td>93.0</td>\n",
       "      <td>0.10824231251512655971</td>\n",
       "      <td>0.05512952146892501071</td>\n",
       "    </tr>\n",
       "    <tr>\n",
       "      <th>10</th>\n",
       "      <td>100.0</td>\n",
       "      <td>0.10815526858669337329</td>\n",
       "      <td>0.05494024294721263496</td>\n",
       "    </tr>\n",
       "    <tr>\n",
       "      <th>12</th>\n",
       "      <td>102.0</td>\n",
       "      <td>0.10807360010373544268</td>\n",
       "      <td>0.05555011635300426132</td>\n",
       "    </tr>\n",
       "    <tr>\n",
       "      <th>11</th>\n",
       "      <td>101.0</td>\n",
       "      <td>0.10801520233155270656</td>\n",
       "      <td>0.05546133826640918529</td>\n",
       "    </tr>\n",
       "    <tr>\n",
       "      <th>13</th>\n",
       "      <td>103.0</td>\n",
       "      <td>0.10776729981735318209</td>\n",
       "      <td>0.05595115988047628941</td>\n",
       "    </tr>\n",
       "    <tr>\n",
       "      <th>15</th>\n",
       "      <td>105.0</td>\n",
       "      <td>0.10772987595067909372</td>\n",
       "      <td>0.05550817770529207357</td>\n",
       "    </tr>\n",
       "    <tr>\n",
       "      <th>14</th>\n",
       "      <td>104.0</td>\n",
       "      <td>0.10772690805633625133</td>\n",
       "      <td>0.05533888866017865060</td>\n",
       "    </tr>\n",
       "    <tr>\n",
       "      <th>16</th>\n",
       "      <td>106.0</td>\n",
       "      <td>0.10766411592822316967</td>\n",
       "      <td>0.05535163677112372310</td>\n",
       "    </tr>\n",
       "    <tr>\n",
       "      <th>18</th>\n",
       "      <td>108.0</td>\n",
       "      <td>0.10752042281217324970</td>\n",
       "      <td>0.05530599169905138501</td>\n",
       "    </tr>\n",
       "    <tr>\n",
       "      <th>17</th>\n",
       "      <td>107.0</td>\n",
       "      <td>0.10751877102345315518</td>\n",
       "      <td>0.05521174464928144121</td>\n",
       "    </tr>\n",
       "    <tr>\n",
       "      <th>19</th>\n",
       "      <td>109.0</td>\n",
       "      <td>0.10735758885663369833</td>\n",
       "      <td>0.05537439687791535781</td>\n",
       "    </tr>\n",
       "    <tr>\n",
       "      <th>20</th>\n",
       "      <td>110.0</td>\n",
       "      <td>0.10719545647958657331</td>\n",
       "      <td>0.05499184852076364344</td>\n",
       "    </tr>\n",
       "    <tr>\n",
       "      <th>22</th>\n",
       "      <td>112.0</td>\n",
       "      <td>0.10710026268926868542</td>\n",
       "      <td>0.05409574472403853168</td>\n",
       "    </tr>\n",
       "    <tr>\n",
       "      <th>21</th>\n",
       "      <td>111.0</td>\n",
       "      <td>0.10707983305164729682</td>\n",
       "      <td>0.05442421851987928882</td>\n",
       "    </tr>\n",
       "    <tr>\n",
       "      <th>23</th>\n",
       "      <td>113.0</td>\n",
       "      <td>0.10689642300901661121</td>\n",
       "      <td>0.05409573320854568768</td>\n",
       "    </tr>\n",
       "    <tr>\n",
       "      <th>24</th>\n",
       "      <td>114.0</td>\n",
       "      <td>0.10677921614476976186</td>\n",
       "      <td>0.05468880393554324121</td>\n",
       "    </tr>\n",
       "    <tr>\n",
       "      <th>28</th>\n",
       "      <td>118.0</td>\n",
       "      <td>0.10674004131604662715</td>\n",
       "      <td>0.05391750400067553406</td>\n",
       "    </tr>\n",
       "    <tr>\n",
       "      <th>34</th>\n",
       "      <td>124.0</td>\n",
       "      <td>0.10673812699788233493</td>\n",
       "      <td>0.05408305846518170201</td>\n",
       "    </tr>\n",
       "    <tr>\n",
       "      <th>33</th>\n",
       "      <td>123.0</td>\n",
       "      <td>0.10673564091184313540</td>\n",
       "      <td>0.05375597762686684655</td>\n",
       "    </tr>\n",
       "    <tr>\n",
       "      <th>25</th>\n",
       "      <td>115.0</td>\n",
       "      <td>0.10672670077292024937</td>\n",
       "      <td>0.05424966115002953504</td>\n",
       "    </tr>\n",
       "    <tr>\n",
       "      <th>27</th>\n",
       "      <td>117.0</td>\n",
       "      <td>0.10662498887167401462</td>\n",
       "      <td>0.05427977035480407303</td>\n",
       "    </tr>\n",
       "    <tr>\n",
       "      <th>32</th>\n",
       "      <td>122.0</td>\n",
       "      <td>0.10660284820647022985</td>\n",
       "      <td>0.05396856543935386191</td>\n",
       "    </tr>\n",
       "    <tr>\n",
       "      <th>26</th>\n",
       "      <td>116.0</td>\n",
       "      <td>0.10659985866203486315</td>\n",
       "      <td>0.05435226882631505330</td>\n",
       "    </tr>\n",
       "    <tr>\n",
       "      <th>30</th>\n",
       "      <td>120.0</td>\n",
       "      <td>0.10652739436551744712</td>\n",
       "      <td>0.05389361790572382710</td>\n",
       "    </tr>\n",
       "    <tr>\n",
       "      <th>31</th>\n",
       "      <td>121.0</td>\n",
       "      <td>0.10649942571567941330</td>\n",
       "      <td>0.05385327990121734076</td>\n",
       "    </tr>\n",
       "    <tr>\n",
       "      <th>29</th>\n",
       "      <td>119.0</td>\n",
       "      <td>0.10644855514264382756</td>\n",
       "      <td>0.05402002274235399165</td>\n",
       "    </tr>\n",
       "  </tbody>\n",
       "</table>\n",
       "</div>"
      ],
      "text/plain": [
       "    n_nonzero_coefs                    RMSE                 std dev\n",
       "5              95.0  0.10858038470669804931  0.05511910306307978707\n",
       "8              98.0  0.10856768281119190400  0.05531684344665580705\n",
       "6              96.0  0.10854704041909862822  0.05511603397636161833\n",
       "9              99.0  0.10848214384188392678  0.05448976099294567527\n",
       "0              90.0  0.10839746204083283709  0.05546352884413584955\n",
       "2              92.0  0.10838487051235376479  0.05523826117424349147\n",
       "4              94.0  0.10834723357767961360  0.05539986974406591741\n",
       "7              97.0  0.10833169995877993397  0.05515248968554509190\n",
       "1              91.0  0.10827663659956715536  0.05548714303428640970\n",
       "3              93.0  0.10824231251512655971  0.05512952146892501071\n",
       "10            100.0  0.10815526858669337329  0.05494024294721263496\n",
       "12            102.0  0.10807360010373544268  0.05555011635300426132\n",
       "11            101.0  0.10801520233155270656  0.05546133826640918529\n",
       "13            103.0  0.10776729981735318209  0.05595115988047628941\n",
       "15            105.0  0.10772987595067909372  0.05550817770529207357\n",
       "14            104.0  0.10772690805633625133  0.05533888866017865060\n",
       "16            106.0  0.10766411592822316967  0.05535163677112372310\n",
       "18            108.0  0.10752042281217324970  0.05530599169905138501\n",
       "17            107.0  0.10751877102345315518  0.05521174464928144121\n",
       "19            109.0  0.10735758885663369833  0.05537439687791535781\n",
       "20            110.0  0.10719545647958657331  0.05499184852076364344\n",
       "22            112.0  0.10710026268926868542  0.05409574472403853168\n",
       "21            111.0  0.10707983305164729682  0.05442421851987928882\n",
       "23            113.0  0.10689642300901661121  0.05409573320854568768\n",
       "24            114.0  0.10677921614476976186  0.05468880393554324121\n",
       "28            118.0  0.10674004131604662715  0.05391750400067553406\n",
       "34            124.0  0.10673812699788233493  0.05408305846518170201\n",
       "33            123.0  0.10673564091184313540  0.05375597762686684655\n",
       "25            115.0  0.10672670077292024937  0.05424966115002953504\n",
       "27            117.0  0.10662498887167401462  0.05427977035480407303\n",
       "32            122.0  0.10660284820647022985  0.05396856543935386191\n",
       "26            116.0  0.10659985866203486315  0.05435226882631505330\n",
       "30            120.0  0.10652739436551744712  0.05389361790572382710\n",
       "31            121.0  0.10649942571567941330  0.05385327990121734076\n",
       "29            119.0  0.10644855514264382756  0.05402002274235399165"
      ]
     },
     "execution_count": 52,
     "metadata": {},
     "output_type": "execute_result"
    },
    {
     "data": {
      "image/png": "[encoded data removed]",
      "text/plain": [
       "<matplotlib.figure.Figure at 0x7fce29e37e90>"
      ]
     },
     "metadata": {},
     "output_type": "display_data"
    }
   ],
   "source": [
    "omp_regr = linear_model.OrthogonalMatchingPursuit(n_nonzero_coefs=55)\n",
    "omp_params = {'n_nonzero_coefs': np.arange(90, 125, 1).tolist()}\n",
    "omp_df = single_search(omp_regr, omp_params)\n",
    "omp_df.plot(x = ['n_nonzero_coefs'], y = ['RMSE'])\n",
    "omp_df.sort_values(['RMSE'], ascending = False)"
   ]
  },
  {
   "cell_type": "code",
   "execution_count": 57,
   "metadata": {
    "collapsed": true
   },
   "outputs": [],
   "source": [
    "omp_regr = linear_model.OrthogonalMatchingPursuit(n_nonzero_coefs=119)"
   ]
  },
  {
   "cell_type": "code",
   "execution_count": 58,
   "metadata": {
    "collapsed": false
   },
   "outputs": [
    {
     "data": {
      "text/plain": [
       "0.12224401212812061"
      ]
     },
     "execution_count": 58,
     "metadata": {},
     "output_type": "execute_result"
    }
   ],
   "source": [
    "validate(omp_regr)"
   ]
  },
  {
   "cell_type": "markdown",
   "metadata": {},
   "source": [
    "## XGBoost"
   ]
  },
  {
   "cell_type": "code",
   "execution_count": 30,
   "metadata": {
    "collapsed": false
   },
   "outputs": [
    {
     "name": "stdout",
     "output_type": "stream",
     "text": [
      "RandomizedSearchCV took 4425.43 seconds for 20 candidates parameter settings.\n",
      "Model with rank: 1\n",
      "Mean validation score: -0.016 (std: 0.003)\n",
      "Parameters: {'reg_alpha': 0.33783330296722153, 'colsample_bytree': 0.88862334923368413, 'learning_rate': 0.17007803806215083, 'min_child_weight': 0.031207010814228001, 'n_estimators': 304, 'subsample': 0.97408620448496352, 'reg_lambda': 0.2225239678417846, 'max_depth': 5, 'gamma': 0.25960663407609319}\n",
      "\n",
      "Model with rank: 2\n",
      "Mean validation score: -0.018 (std: 0.003)\n",
      "Parameters: {'reg_alpha': 1.2735534067388041, 'colsample_bytree': 0.66256299588927547, 'learning_rate': 0.2509920083300915, 'min_child_weight': 1.3817335357494969, 'n_estimators': 90, 'subsample': 0.95581028006028912, 'reg_lambda': 0.70035228765023483, 'max_depth': 3, 'gamma': 0.19701721560322547}\n",
      "\n",
      "Model with rank: 3\n",
      "Mean validation score: -0.020 (std: 0.003)\n",
      "Parameters: {'reg_alpha': 1.5547050960612667, 'colsample_bytree': 0.032001166488390242, 'learning_rate': 0.865978958874566, 'min_child_weight': 0.66749267805436763, 'n_estimators': 191, 'subsample': 0.94052627008262779, 'reg_lambda': 0.12112468520478241, 'max_depth': 1, 'gamma': 0.02269963086857299}\n",
      "\n"
     ]
    }
   ],
   "source": [
    "xgb_regr = xgb.XGBRegressor(seed = 42, nthread = -1, silent = 1)\n",
    "xgb_param = {'max_depth': scipy.stats.randint(1,10), # Max. Depth [1,∞]\n",
    "             'min_child_weight': scipy.stats.expon(scale=1), # Min. Child Weight [0,∞]\n",
    "             'gamma': scipy.stats.expon(scale=1), # Minimum Split Loss, gamma [0,∞]\n",
    "             'subsample': scipy.stats.uniform(0, 1), # Subsample Ratio of the training instance [0,1]\n",
    "             'colsample_bytree': scipy.stats.uniform(0, 1), # Subsample Ratio of columns [0,1]\n",
    "             'reg_alpha': scipy.stats.expon(scale=1), # L1 regularization, alpha [0,∞]\n",
    "             'reg_lambda': scipy.stats.expon(scale=1), # L2 regularization, lambda [0,∞]\n",
    "             'learning_rate': scipy.stats.uniform(0, 1), # Step size shrinkage (learning rate) [0,1]\n",
    "             'n_estimators': scipy.stats.randint(50,500) # Number of boosted trees, n_estimators\n",
    "            }\n",
    "random_search(xgb_regr, xgb_param, 20)"
   ]
  },
  {
   "cell_type": "code",
   "execution_count": 77,
   "metadata": {
    "collapsed": false
   },
   "outputs": [
    {
     "data": {
      "text/html": [
       "<div>\n",
       "<table border=\"1\" class=\"dataframe\">\n",
       "  <thead>\n",
       "    <tr style=\"text-align: right;\">\n",
       "      <th></th>\n",
       "      <th>n_estimators</th>\n",
       "      <th>RMSE</th>\n",
       "      <th>std dev</th>\n",
       "    </tr>\n",
       "  </thead>\n",
       "  <tbody>\n",
       "    <tr>\n",
       "      <th>0</th>\n",
       "      <td>1500.0</td>\n",
       "      <td>0.10737080867996713629</td>\n",
       "      <td>0.05292639924866032047</td>\n",
       "    </tr>\n",
       "    <tr>\n",
       "      <th>4</th>\n",
       "      <td>1900.0</td>\n",
       "      <td>0.10730249649796412548</td>\n",
       "      <td>0.05315596609973199244</td>\n",
       "    </tr>\n",
       "    <tr>\n",
       "      <th>5</th>\n",
       "      <td>2000.0</td>\n",
       "      <td>0.10730142813430119941</td>\n",
       "      <td>0.05315621860823769446</td>\n",
       "    </tr>\n",
       "    <tr>\n",
       "      <th>1</th>\n",
       "      <td>1600.0</td>\n",
       "      <td>0.10728226663499706994</td>\n",
       "      <td>0.05298230516256029893</td>\n",
       "    </tr>\n",
       "    <tr>\n",
       "      <th>3</th>\n",
       "      <td>1800.0</td>\n",
       "      <td>0.10726615191836601226</td>\n",
       "      <td>0.05327755355447199442</td>\n",
       "    </tr>\n",
       "    <tr>\n",
       "      <th>2</th>\n",
       "      <td>1700.0</td>\n",
       "      <td>0.10724298379640230527</td>\n",
       "      <td>0.05302347954098612925</td>\n",
       "    </tr>\n",
       "    <tr>\n",
       "      <th>6</th>\n",
       "      <td>2100.0</td>\n",
       "      <td>0.10722603700182906095</td>\n",
       "      <td>0.05297077487647795790</td>\n",
       "    </tr>\n",
       "    <tr>\n",
       "      <th>7</th>\n",
       "      <td>2200.0</td>\n",
       "      <td>0.10717734696324604515</td>\n",
       "      <td>0.05292332095716705681</td>\n",
       "    </tr>\n",
       "    <tr>\n",
       "      <th>8</th>\n",
       "      <td>2300.0</td>\n",
       "      <td>0.10714160610979717170</td>\n",
       "      <td>0.05291729239315714345</td>\n",
       "    </tr>\n",
       "  </tbody>\n",
       "</table>\n",
       "</div>"
      ],
      "text/plain": [
       "   n_estimators                    RMSE                 std dev\n",
       "0        1500.0  0.10737080867996713629  0.05292639924866032047\n",
       "4        1900.0  0.10730249649796412548  0.05315596609973199244\n",
       "5        2000.0  0.10730142813430119941  0.05315621860823769446\n",
       "1        1600.0  0.10728226663499706994  0.05298230516256029893\n",
       "3        1800.0  0.10726615191836601226  0.05327755355447199442\n",
       "2        1700.0  0.10724298379640230527  0.05302347954098612925\n",
       "6        2100.0  0.10722603700182906095  0.05297077487647795790\n",
       "7        2200.0  0.10717734696324604515  0.05292332095716705681\n",
       "8        2300.0  0.10714160610979717170  0.05291729239315714345"
      ]
     },
     "execution_count": 77,
     "metadata": {},
     "output_type": "execute_result"
    },
    {
     "data": {
      "image/png": "[encoded data removed]",
      "text/plain": [
       "<matplotlib.figure.Figure at 0x7fce283b2750>"
      ]
     },
     "metadata": {},
     "output_type": "display_data"
    }
   ],
   "source": [
    "xgb_regr = xgb.XGBRegressor(\n",
    "    max_depth = 5, \n",
    "    min_child_weight = 0.6,\n",
    "    gamma = 0.03,\n",
    "    subsample = 0.8,\n",
    "    colsample_bytree = 0.2,\n",
    "    reg_alpha = 0.2,\n",
    "    reg_lambda = 0.4, \n",
    "    learning_rate = 0.08,\n",
    "    n_estimators = 304,\n",
    "    objective='reg:linear', \n",
    "    seed = 42,\n",
    "    nthread = -1,\n",
    "    silent = 1)\n",
    "xgb_params = {'n_estimators': np.arange(1500, 2400, 100).tolist()}\n",
    "xgb_df = single_search(xgb_regr, xgb_params)\n",
    "xgb_df.plot(x = ['n_estimators'], y = ['RMSE'])\n",
    "xgb_df.sort_values(['RMSE'], ascending = False)"
   ]
  },
  {
   "cell_type": "code",
   "execution_count": 78,
   "metadata": {
    "collapsed": true
   },
   "outputs": [],
   "source": [
    "xgb_regr = xgb.XGBRegressor(\n",
    "    max_depth = 5, \n",
    "    min_child_weight = 0.6,\n",
    "    gamma = 0.03,\n",
    "    subsample = 0.8,\n",
    "    colsample_bytree = 0.2,\n",
    "    reg_alpha = 0.2,\n",
    "    reg_lambda = 0.4, \n",
    "    learning_rate = 0.08,\n",
    "    n_estimators = 2300,\n",
    "    objective='reg:linear', \n",
    "    seed = 42,\n",
    "    nthread = -1,\n",
    "    silent = 1)"
   ]
  },
  {
   "cell_type": "code",
   "execution_count": 79,
   "metadata": {
    "collapsed": false
   },
   "outputs": [
    {
     "data": {
      "text/plain": [
       "0.12669403163293697"
      ]
     },
     "execution_count": 79,
     "metadata": {},
     "output_type": "execute_result"
    }
   ],
   "source": [
    "validate(xgb_regr)"
   ]
  },
  {
   "cell_type": "markdown",
   "metadata": {},
   "source": [
    "## MLP Regressor"
   ]
  },
  {
   "cell_type": "code",
   "execution_count": 31,
   "metadata": {
    "collapsed": true
   },
   "outputs": [],
   "source": [
    "mlp_regr = MLPRegressor(activation='relu', solver='lbfgs', random_state=641,\n",
    "                        hidden_layer_sizes=(100, ),\n",
    "                        alpha=0.0001, \n",
    "                        tol=0.0001, \n",
    "                        max_iter=200)"
   ]
  },
  {
   "cell_type": "code",
   "execution_count": 32,
   "metadata": {
    "collapsed": false
   },
   "outputs": [
    {
     "name": "stdout",
     "output_type": "stream",
     "text": [
      "RandomizedSearchCV took 1726.08 seconds for 20 candidates parameter settings.\n",
      "Model with rank: 1\n",
      "Mean validation score: -0.018 (std: 0.004)\n",
      "Parameters: {'alpha': 1.6555713463004503e-05, 'max_iter': 248.91505897538366, 'tol': 8.9498700573263629e-05, 'hidden_layer_sizes': 142}\n",
      "\n",
      "Model with rank: 2\n",
      "Mean validation score: -0.018 (std: 0.004)\n",
      "Parameters: {'alpha': 1.8554351982254167e-06, 'max_iter': 212.41787741419671, 'tol': 1.1561504263036275e-05, 'hidden_layer_sizes': 345}\n",
      "\n",
      "Model with rank: 3\n",
      "Mean validation score: -0.018 (std: 0.003)\n",
      "Parameters: {'alpha': 5.7092547100762549e-06, 'max_iter': 509.26444371332951, 'tol': 7.9266017890399499e-05, 'hidden_layer_sizes': 86}\n",
      "\n"
     ]
    }
   ],
   "source": [
    "mlp_regr = MLPRegressor(activation='relu', solver='lbfgs', random_state=641)\n",
    "mlp_param = {'hidden_layer_sizes': scipy.stats.randint(50,500), # size of a single hidden layer\n",
    "             'alpha': scipy.stats.expon(scale=0.0001), # L2 regularization,  [0,∞]\n",
    "             'tol': scipy.stats.expon(scale=0.0001), # Minimum improvement in loss fun. during training\n",
    "             'max_iter': scipy.stats.uniform(200, 400), # Maximum number of iterations of solver\n",
    "            }\n",
    "random_search(mlp_regr, mlp_param, 20)"
   ]
  },
  {
   "cell_type": "code",
   "execution_count": 68,
   "metadata": {
    "collapsed": false
   },
   "outputs": [
    {
     "data": {
      "text/html": [
       "<div>\n",
       "<table border=\"1\" class=\"dataframe\">\n",
       "  <thead>\n",
       "    <tr style=\"text-align: right;\">\n",
       "      <th></th>\n",
       "      <th>max_iter</th>\n",
       "      <th>RMSE</th>\n",
       "      <th>std dev</th>\n",
       "    </tr>\n",
       "  </thead>\n",
       "  <tbody>\n",
       "    <tr>\n",
       "      <th>0</th>\n",
       "      <td>25.0</td>\n",
       "      <td>0.13325194649397645308</td>\n",
       "      <td>0.06578371478862096722</td>\n",
       "    </tr>\n",
       "    <tr>\n",
       "      <th>1</th>\n",
       "      <td>50.0</td>\n",
       "      <td>0.11134550709332002860</td>\n",
       "      <td>0.05246992465364867103</td>\n",
       "    </tr>\n",
       "    <tr>\n",
       "      <th>2</th>\n",
       "      <td>75.0</td>\n",
       "      <td>0.10831736659977574122</td>\n",
       "      <td>0.05214865299312437114</td>\n",
       "    </tr>\n",
       "    <tr>\n",
       "      <th>6</th>\n",
       "      <td>175.0</td>\n",
       "      <td>0.10790550741337628926</td>\n",
       "      <td>0.05340813183737348757</td>\n",
       "    </tr>\n",
       "    <tr>\n",
       "      <th>7</th>\n",
       "      <td>200.0</td>\n",
       "      <td>0.10765490543229111475</td>\n",
       "      <td>0.05261955477271879761</td>\n",
       "    </tr>\n",
       "    <tr>\n",
       "      <th>5</th>\n",
       "      <td>150.0</td>\n",
       "      <td>0.10736687065973707367</td>\n",
       "      <td>0.05328584096255393338</td>\n",
       "    </tr>\n",
       "    <tr>\n",
       "      <th>8</th>\n",
       "      <td>225.0</td>\n",
       "      <td>0.10724582384170519567</td>\n",
       "      <td>0.05103812666831292894</td>\n",
       "    </tr>\n",
       "    <tr>\n",
       "      <th>4</th>\n",
       "      <td>125.0</td>\n",
       "      <td>0.10696867311980524928</td>\n",
       "      <td>0.05287986483036793972</td>\n",
       "    </tr>\n",
       "    <tr>\n",
       "      <th>3</th>\n",
       "      <td>100.0</td>\n",
       "      <td>0.10688296528409126085</td>\n",
       "      <td>0.05244781844546320820</td>\n",
       "    </tr>\n",
       "    <tr>\n",
       "      <th>11</th>\n",
       "      <td>300.0</td>\n",
       "      <td>0.10686560737515231334</td>\n",
       "      <td>0.05093491573123224564</td>\n",
       "    </tr>\n",
       "    <tr>\n",
       "      <th>12</th>\n",
       "      <td>325.0</td>\n",
       "      <td>0.10686560737515231334</td>\n",
       "      <td>0.05093491573123224564</td>\n",
       "    </tr>\n",
       "    <tr>\n",
       "      <th>13</th>\n",
       "      <td>350.0</td>\n",
       "      <td>0.10686560737515231334</td>\n",
       "      <td>0.05093491573123224564</td>\n",
       "    </tr>\n",
       "    <tr>\n",
       "      <th>14</th>\n",
       "      <td>375.0</td>\n",
       "      <td>0.10686560737515231334</td>\n",
       "      <td>0.05093491573123224564</td>\n",
       "    </tr>\n",
       "    <tr>\n",
       "      <th>15</th>\n",
       "      <td>400.0</td>\n",
       "      <td>0.10686560737515231334</td>\n",
       "      <td>0.05093491573123224564</td>\n",
       "    </tr>\n",
       "    <tr>\n",
       "      <th>10</th>\n",
       "      <td>275.0</td>\n",
       "      <td>0.10682227575532259045</td>\n",
       "      <td>0.05093455650742721025</td>\n",
       "    </tr>\n",
       "    <tr>\n",
       "      <th>9</th>\n",
       "      <td>250.0</td>\n",
       "      <td>0.10680632853641433555</td>\n",
       "      <td>0.05113857107400047314</td>\n",
       "    </tr>\n",
       "  </tbody>\n",
       "</table>\n",
       "</div>"
      ],
      "text/plain": [
       "    max_iter                    RMSE                 std dev\n",
       "0       25.0  0.13325194649397645308  0.06578371478862096722\n",
       "1       50.0  0.11134550709332002860  0.05246992465364867103\n",
       "2       75.0  0.10831736659977574122  0.05214865299312437114\n",
       "6      175.0  0.10790550741337628926  0.05340813183737348757\n",
       "7      200.0  0.10765490543229111475  0.05261955477271879761\n",
       "5      150.0  0.10736687065973707367  0.05328584096255393338\n",
       "8      225.0  0.10724582384170519567  0.05103812666831292894\n",
       "4      125.0  0.10696867311980524928  0.05287986483036793972\n",
       "3      100.0  0.10688296528409126085  0.05244781844546320820\n",
       "11     300.0  0.10686560737515231334  0.05093491573123224564\n",
       "12     325.0  0.10686560737515231334  0.05093491573123224564\n",
       "13     350.0  0.10686560737515231334  0.05093491573123224564\n",
       "14     375.0  0.10686560737515231334  0.05093491573123224564\n",
       "15     400.0  0.10686560737515231334  0.05093491573123224564\n",
       "10     275.0  0.10682227575532259045  0.05093455650742721025\n",
       "9      250.0  0.10680632853641433555  0.05113857107400047314"
      ]
     },
     "execution_count": 68,
     "metadata": {},
     "output_type": "execute_result"
    },
    {
     "data": {
      "image/png": "[encoded data removed]",
      "text/plain": [
       "<matplotlib.figure.Figure at 0x7fce2839a650>"
      ]
     },
     "metadata": {},
     "output_type": "display_data"
    }
   ],
   "source": [
    "mlp_regr = MLPRegressor(activation='relu', solver='lbfgs', random_state=641,\n",
    "                        hidden_layer_sizes=(3, ),\n",
    "                        alpha=0.00008, \n",
    "                        tol=0.00017, \n",
    "                        max_iter=250)\n",
    "mlp_params = {'max_iter': np.arange(25, 425, 25).tolist()}\n",
    "mlp_df = single_search(mlp_regr, mlp_params)\n",
    "mlp_df.plot(x = ['max_iter'], y = ['RMSE'])\n",
    "mlp_df.sort_values(['RMSE'], ascending = False)"
   ]
  },
  {
   "cell_type": "code",
   "execution_count": 70,
   "metadata": {
    "collapsed": true
   },
   "outputs": [],
   "source": [
    "mlp_regr = MLPRegressor(activation='relu', solver='lbfgs', random_state=641,\n",
    "                        hidden_layer_sizes=(3, ),\n",
    "                        alpha=0.00008, \n",
    "                        tol=0.00017, \n",
    "                        max_iter=250)"
   ]
  },
  {
   "cell_type": "code",
   "execution_count": 71,
   "metadata": {
    "collapsed": false
   },
   "outputs": [
    {
     "data": {
      "text/plain": [
       "0.12813039421409278"
      ]
     },
     "execution_count": 71,
     "metadata": {},
     "output_type": "execute_result"
    }
   ],
   "source": [
    "validate(mlp_regr)"
   ]
  },
  {
   "cell_type": "code",
   "execution_count": null,
   "metadata": {
    "collapsed": true
   },
   "outputs": [],
   "source": []
  }
 ],
 "metadata": {
  "kernelspec": {
   "display_name": "Python 2",
   "language": "python",
   "name": "python2"
  },
  "language_info": {
   "codemirror_mode": {
    "name": "ipython",
    "version": 2
   },
   "file_extension": ".py",
   "mimetype": "text/x-python",
   "name": "python",
   "nbconvert_exporter": "python",
   "pygments_lexer": "ipython2",
   "version": "2.7.13"
  }
 },
 "nbformat": 4,
 "nbformat_minor": 2
}
