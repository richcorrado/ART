{
 "cells": [
  {
   "cell_type": "markdown",
   "metadata": {},
   "source": [
    "# Modeling 111101111 - drop features"
   ]
  },
  {
   "cell_type": "markdown",
   "metadata": {},
   "source": [
    "In this notebook, we're specifically working on the dataset formed by dropping (31, 496, 524, 534, 917, 969, 1183, 1299) with the features ('LogGrLivArea', 'GrLivArea', 'TotalHouseArea', 'LivAreaWt', 'AreasSum') dropped."
   ]
  },
  {
   "cell_type": "code",
   "execution_count": 1,
   "metadata": {
    "collapsed": true
   },
   "outputs": [],
   "source": [
    "import itertools\n",
    "import numpy as np\n",
    "import pandas as pd\n",
    "import scipy\n",
    "from scipy import optimize\n",
    "\n",
    "pd.set_option('display.precision',20)\n",
    "pd.set_option('display.max_colwidth',100)\n",
    "\n",
    "from sklearn import linear_model, svm, tree\n",
    "from sklearn.metrics import mean_squared_error\n",
    "from sklearn.ensemble import RandomForestRegressor\n",
    "from sklearn.model_selection import train_test_split, cross_val_predict, KFold, cross_val_score, \\\n",
    "                                    GridSearchCV, RandomizedSearchCV, ShuffleSplit\n",
    "from sklearn.neural_network import MLPRegressor\n",
    "    \n",
    "    \n",
    "    \n",
    "import xgboost as xgb\n",
    "\n",
    "from time import time\n",
    "from scipy.stats import randint as sp_randint\n",
    "\n",
    "import matplotlib.pylab as plt\n",
    "from matplotlib.pylab import rcParams\n",
    "from matplotlib import pyplot\n",
    "rcParams['figure.figsize'] = 12, 4\n",
    "%matplotlib inline"
   ]
  },
  {
   "cell_type": "code",
   "execution_count": 2,
   "metadata": {
    "collapsed": true
   },
   "outputs": [],
   "source": [
    "# def to compare goodness of fit on training set\n",
    "def rmse(y_true, y_pred):\n",
    "    return np.sqrt(mean_squared_error(y_true, y_pred))"
   ]
  },
  {
   "cell_type": "code",
   "execution_count": 3,
   "metadata": {
    "collapsed": true
   },
   "outputs": [],
   "source": [
    "# Utility function to report best scores\n",
    "def report(results, n_top=3):\n",
    "    for i in range(1, n_top + 1):\n",
    "        candidates = np.flatnonzero(results['rank_test_score'] == i)\n",
    "        for candidate in candidates:\n",
    "            print(\"Model with rank: {0}\".format(i))\n",
    "            print(\"Mean validation score: {0:.3f} (std: {1:.3f})\".format(\n",
    "                  results['mean_test_score'][candidate],\n",
    "                  results['std_test_score'][candidate]))\n",
    "            print(\"Parameters: {0}\".format(results['params'][candidate]))\n",
    "            print(\"\")"
   ]
  },
  {
   "cell_type": "code",
   "execution_count": 4,
   "metadata": {
    "collapsed": true
   },
   "outputs": [],
   "source": [
    "# run randomized search\n",
    "def random_search(regr, param_dist, n_iter_search): \n",
    "    rs = RandomizedSearchCV(regr, param_distributions=param_dist, scoring = 'neg_mean_squared_error',\n",
    "                                   n_jobs=-1, n_iter=n_iter_search, cv=kfold) #, verbose = 4)\n",
    "    start = time()\n",
    "    rs.fit(x_train, y_train)\n",
    "    print(\"RandomizedSearchCV took %.2f seconds for %d candidates\"\n",
    "      \" parameter settings.\" % ((time() - start), n_iter_search))\n",
    "    report(rs.cv_results_)"
   ]
  },
  {
   "cell_type": "code",
   "execution_count": 5,
   "metadata": {
    "collapsed": true
   },
   "outputs": [],
   "source": [
    "# run single parameter search (for ridge or lasso)\n",
    "def single_search(regr, params):\n",
    "    regr_results_df = pd.DataFrame(dtype = 'float64')\n",
    "    count = 0\n",
    "    for k, v in params.items():\n",
    "        for val in v:\n",
    "            regr.set_params(**{k: val})\n",
    "            regr_results_df.loc[count, k] = val\n",
    "            results = cross_val_score(regr, x_train, y_train, cv=kfold, scoring = 'neg_mean_squared_error')\n",
    "            (regr_results_df.loc[count, 'RMSE'], regr_results_df.loc[count, 'std dev']) = \\\n",
    "                    (np.sqrt(-results.mean()), np.sqrt(results.std()))\n",
    "            count += 1\n",
    "    return regr_results_df"
   ]
  },
  {
   "cell_type": "code",
   "execution_count": 6,
   "metadata": {
    "collapsed": true
   },
   "outputs": [],
   "source": [
    "# test against validation set\n",
    "def validate(regr):\n",
    "    regr.fit(x_train, y_train)\n",
    "    y_pred = regr.predict(x_validation)\n",
    "    return rmse(y_validation, y_pred)"
   ]
  },
  {
   "cell_type": "code",
   "execution_count": 7,
   "metadata": {
    "collapsed": true
   },
   "outputs": [],
   "source": [
    "# Cross-validation sets\n",
    "kfold = KFold(n_splits=10, random_state=7)"
   ]
  },
  {
   "cell_type": "code",
   "execution_count": 8,
   "metadata": {
    "collapsed": true
   },
   "outputs": [],
   "source": [
    "df = pd.read_csv(\"./input/train_tidy_111101111.csv\")\n",
    "df.drop(['LogGrLivArea', 'GrLivArea', 'TotalHouseArea', 'LivAreaWt', 'AreasSum'], axis=1, inplace=True)"
   ]
  },
  {
   "cell_type": "code",
   "execution_count": 9,
   "metadata": {
    "collapsed": false
   },
   "outputs": [],
   "source": [
    "ss = ShuffleSplit(n_splits=1, test_size=0.20, random_state=71)\n",
    "\n",
    "X = df.values\n",
    "\n",
    "for train_idx, validation_idx in ss.split(X):\n",
    "    train_df = df.iloc[train_idx]\n",
    "    validation_df = df.iloc[validation_idx]\n",
    "    \n",
    "y_validation = validation_df['SalePrice'].values\n",
    "x_validation = validation_df.drop(['HouseId', 'SalePrice', 'GarageAge', 'GarageAgeLin'],axis=1).values\n",
    "y_train = train_df['SalePrice'].values\n",
    "x_train = train_df.drop(['HouseId', 'SalePrice', 'GarageAge', 'GarageAgeLin'],axis=1).values"
   ]
  },
  {
   "cell_type": "markdown",
   "metadata": {},
   "source": [
    "## Ridge regression"
   ]
  },
  {
   "cell_type": "code",
   "execution_count": 10,
   "metadata": {
    "collapsed": true
   },
   "outputs": [],
   "source": [
    "ridge_regr = linear_model.Ridge()"
   ]
  },
  {
   "cell_type": "code",
   "execution_count": 11,
   "metadata": {
    "collapsed": false
   },
   "outputs": [
    {
     "name": "stdout",
     "output_type": "stream",
     "text": [
      "RandomizedSearchCV took 4.93 seconds for 20 candidates parameter settings.\n",
      "Model with rank: 1\n",
      "Mean validation score: -0.011 (std: 0.002)\n",
      "Parameters: {'alpha': 4.9903188083313159}\n",
      "\n",
      "Model with rank: 2\n",
      "Mean validation score: -0.011 (std: 0.002)\n",
      "Parameters: {'alpha': 4.2069166705789289}\n",
      "\n",
      "Model with rank: 3\n",
      "Mean validation score: -0.011 (std: 0.002)\n",
      "Parameters: {'alpha': 5.2701378488367991}\n",
      "\n"
     ]
    }
   ],
   "source": [
    "ridge_param = {'alpha': scipy.stats.expon(scale=10)}\n",
    "random_search(ridge_regr, ridge_param, 20)"
   ]
  },
  {
   "cell_type": "code",
   "execution_count": 12,
   "metadata": {
    "collapsed": false
   },
   "outputs": [
    {
     "data": {
      "text/html": [
       "<div>\n",
       "<table border=\"1\" class=\"dataframe\">\n",
       "  <thead>\n",
       "    <tr style=\"text-align: right;\">\n",
       "      <th></th>\n",
       "      <th>alpha</th>\n",
       "      <th>RMSE</th>\n",
       "      <th>std dev</th>\n",
       "    </tr>\n",
       "  </thead>\n",
       "  <tbody>\n",
       "    <tr>\n",
       "      <th>13</th>\n",
       "      <td>14.0</td>\n",
       "      <td>0.10695595807699957713</td>\n",
       "      <td>0.04242061040112877351</td>\n",
       "    </tr>\n",
       "    <tr>\n",
       "      <th>12</th>\n",
       "      <td>13.0</td>\n",
       "      <td>0.10674793690296933979</td>\n",
       "      <td>0.04254338065862599272</td>\n",
       "    </tr>\n",
       "    <tr>\n",
       "      <th>0</th>\n",
       "      <td>1.0</td>\n",
       "      <td>0.10662834591354634906</td>\n",
       "      <td>0.04741372200993906189</td>\n",
       "    </tr>\n",
       "    <tr>\n",
       "      <th>11</th>\n",
       "      <td>12.0</td>\n",
       "      <td>0.10654750999536484468</td>\n",
       "      <td>0.04268303005332788058</td>\n",
       "    </tr>\n",
       "    <tr>\n",
       "      <th>10</th>\n",
       "      <td>11.0</td>\n",
       "      <td>0.10635634587151707176</td>\n",
       "      <td>0.04284214471461142426</td>\n",
       "    </tr>\n",
       "    <tr>\n",
       "      <th>9</th>\n",
       "      <td>10.0</td>\n",
       "      <td>0.10617658890955941620</td>\n",
       "      <td>0.04302401173079010988</td>\n",
       "    </tr>\n",
       "    <tr>\n",
       "      <th>8</th>\n",
       "      <td>9.0</td>\n",
       "      <td>0.10601105843513128346</td>\n",
       "      <td>0.04323287400437363093</td>\n",
       "    </tr>\n",
       "    <tr>\n",
       "      <th>1</th>\n",
       "      <td>2.0</td>\n",
       "      <td>0.10599043401253108176</td>\n",
       "      <td>0.04634625527377449206</td>\n",
       "    </tr>\n",
       "    <tr>\n",
       "      <th>7</th>\n",
       "      <td>8.0</td>\n",
       "      <td>0.10586356295486457069</td>\n",
       "      <td>0.04347430364085170390</td>\n",
       "    </tr>\n",
       "    <tr>\n",
       "      <th>6</th>\n",
       "      <td>7.0</td>\n",
       "      <td>0.10573941788140486797</td>\n",
       "      <td>0.04375576621739050293</td>\n",
       "    </tr>\n",
       "    <tr>\n",
       "      <th>2</th>\n",
       "      <td>3.0</td>\n",
       "      <td>0.10571602502888430286</td>\n",
       "      <td>0.04556858117864481111</td>\n",
       "    </tr>\n",
       "    <tr>\n",
       "      <th>5</th>\n",
       "      <td>6.0</td>\n",
       "      <td>0.10564634368294342770</td>\n",
       "      <td>0.04408750759703070066</td>\n",
       "    </tr>\n",
       "    <tr>\n",
       "      <th>3</th>\n",
       "      <td>4.0</td>\n",
       "      <td>0.10560796234563227247</td>\n",
       "      <td>0.04496663842653182697</td>\n",
       "    </tr>\n",
       "    <tr>\n",
       "      <th>4</th>\n",
       "      <td>5.0</td>\n",
       "      <td>0.10559612709835276834</td>\n",
       "      <td>0.04448402032422510421</td>\n",
       "    </tr>\n",
       "  </tbody>\n",
       "</table>\n",
       "</div>"
      ],
      "text/plain": [
       "    alpha                    RMSE                 std dev\n",
       "13   14.0  0.10695595807699957713  0.04242061040112877351\n",
       "12   13.0  0.10674793690296933979  0.04254338065862599272\n",
       "0     1.0  0.10662834591354634906  0.04741372200993906189\n",
       "11   12.0  0.10654750999536484468  0.04268303005332788058\n",
       "10   11.0  0.10635634587151707176  0.04284214471461142426\n",
       "9    10.0  0.10617658890955941620  0.04302401173079010988\n",
       "8     9.0  0.10601105843513128346  0.04323287400437363093\n",
       "1     2.0  0.10599043401253108176  0.04634625527377449206\n",
       "7     8.0  0.10586356295486457069  0.04347430364085170390\n",
       "6     7.0  0.10573941788140486797  0.04375576621739050293\n",
       "2     3.0  0.10571602502888430286  0.04556858117864481111\n",
       "5     6.0  0.10564634368294342770  0.04408750759703070066\n",
       "3     4.0  0.10560796234563227247  0.04496663842653182697\n",
       "4     5.0  0.10559612709835276834  0.04448402032422510421"
      ]
     },
     "execution_count": 12,
     "metadata": {},
     "output_type": "execute_result"
    },
    {
     "data": {
      "image/png": "[encoded data removed]",
      "text/plain": [
       "<matplotlib.figure.Figure at 0x7fd6b8410510>"
      ]
     },
     "metadata": {},
     "output_type": "display_data"
    }
   ],
   "source": [
    "ridge_params = {'alpha': np.arange(1, 15, 1).tolist()}\n",
    "ridge_df = single_search(ridge_regr, ridge_params)\n",
    "ridge_df.plot(x = ['alpha'], y = ['RMSE'])\n",
    "ridge_df.sort_values(['RMSE'], ascending = False)"
   ]
  },
  {
   "cell_type": "code",
   "execution_count": 16,
   "metadata": {
    "collapsed": true
   },
   "outputs": [],
   "source": [
    "ridge_regr = linear_model.Ridge(alpha = 5)"
   ]
  },
  {
   "cell_type": "code",
   "execution_count": 17,
   "metadata": {
    "collapsed": false
   },
   "outputs": [
    {
     "data": {
      "text/plain": [
       "0.11854339143138473"
      ]
     },
     "execution_count": 17,
     "metadata": {},
     "output_type": "execute_result"
    }
   ],
   "source": [
    "validate(ridge_regr)"
   ]
  },
  {
   "cell_type": "markdown",
   "metadata": {},
   "source": [
    "## Lasso"
   ]
  },
  {
   "cell_type": "code",
   "execution_count": 13,
   "metadata": {
    "collapsed": true
   },
   "outputs": [],
   "source": [
    "lasso_regr = linear_model.Lasso(max_iter=50000)"
   ]
  },
  {
   "cell_type": "code",
   "execution_count": 14,
   "metadata": {
    "collapsed": false
   },
   "outputs": [
    {
     "name": "stdout",
     "output_type": "stream",
     "text": [
      "RandomizedSearchCV took 36.10 seconds for 20 candidates parameter settings.\n",
      "Model with rank: 1\n",
      "Mean validation score: -0.011 (std: 0.002)\n",
      "Parameters: {'alpha': 0.0002037351294307487}\n",
      "\n",
      "Model with rank: 2\n",
      "Mean validation score: -0.011 (std: 0.002)\n",
      "Parameters: {'alpha': 0.00015062338793250034}\n",
      "\n",
      "Model with rank: 3\n",
      "Mean validation score: -0.011 (std: 0.002)\n",
      "Parameters: {'alpha': 0.00048782644285970991}\n",
      "\n"
     ]
    }
   ],
   "source": [
    "lasso_param = {'alpha': scipy.stats.expon(scale=0.001)}\n",
    "random_search(lasso_regr, lasso_param, 20)"
   ]
  },
  {
   "cell_type": "code",
   "execution_count": 15,
   "metadata": {
    "collapsed": false
   },
   "outputs": [
    {
     "data": {
      "text/html": [
       "<div>\n",
       "<table border=\"1\" class=\"dataframe\">\n",
       "  <thead>\n",
       "    <tr style=\"text-align: right;\">\n",
       "      <th></th>\n",
       "      <th>alpha</th>\n",
       "      <th>RMSE</th>\n",
       "      <th>std dev</th>\n",
       "    </tr>\n",
       "  </thead>\n",
       "  <tbody>\n",
       "    <tr>\n",
       "      <th>5</th>\n",
       "      <td>0.00060000000000000006</td>\n",
       "      <td>0.10477429592169028305</td>\n",
       "      <td>0.04584043101238837598</td>\n",
       "    </tr>\n",
       "    <tr>\n",
       "      <th>4</th>\n",
       "      <td>0.00050000000000000001</td>\n",
       "      <td>0.10442208462446038453</td>\n",
       "      <td>0.04583168916718490665</td>\n",
       "    </tr>\n",
       "    <tr>\n",
       "      <th>0</th>\n",
       "      <td>0.00010000000000000000</td>\n",
       "      <td>0.10416184296019982691</td>\n",
       "      <td>0.04829186227478527577</td>\n",
       "    </tr>\n",
       "    <tr>\n",
       "      <th>3</th>\n",
       "      <td>0.00040000000000000002</td>\n",
       "      <td>0.10394101116807825946</td>\n",
       "      <td>0.04592612334894647513</td>\n",
       "    </tr>\n",
       "    <tr>\n",
       "      <th>2</th>\n",
       "      <td>0.00030000000000000003</td>\n",
       "      <td>0.10341223525617115886</td>\n",
       "      <td>0.04625602994857024725</td>\n",
       "    </tr>\n",
       "    <tr>\n",
       "      <th>1</th>\n",
       "      <td>0.00020000000000000001</td>\n",
       "      <td>0.10299947005054826965</td>\n",
       "      <td>0.04684633107449963363</td>\n",
       "    </tr>\n",
       "  </tbody>\n",
       "</table>\n",
       "</div>"
      ],
      "text/plain": [
       "                    alpha                    RMSE                 std dev\n",
       "5  0.00060000000000000006  0.10477429592169028305  0.04584043101238837598\n",
       "4  0.00050000000000000001  0.10442208462446038453  0.04583168916718490665\n",
       "0  0.00010000000000000000  0.10416184296019982691  0.04829186227478527577\n",
       "3  0.00040000000000000002  0.10394101116807825946  0.04592612334894647513\n",
       "2  0.00030000000000000003  0.10341223525617115886  0.04625602994857024725\n",
       "1  0.00020000000000000001  0.10299947005054826965  0.04684633107449963363"
      ]
     },
     "execution_count": 15,
     "metadata": {},
     "output_type": "execute_result"
    },
    {
     "data": {
      "image/png": "[encoded data removed]",
      "text/plain": [
       "<matplotlib.figure.Figure at 0x7fd6b92f4850>"
      ]
     },
     "metadata": {},
     "output_type": "display_data"
    }
   ],
   "source": [
    "lasso_params = {'alpha': np.arange(0.0001, 0.0007, 0.0001).tolist()}\n",
    "lasso_df = single_search(lasso_regr, lasso_params)\n",
    "lasso_df.plot(x = ['alpha'], y = ['RMSE'])\n",
    "lasso_df.sort_values(['RMSE'], ascending = False)"
   ]
  },
  {
   "cell_type": "code",
   "execution_count": 33,
   "metadata": {
    "collapsed": true
   },
   "outputs": [],
   "source": [
    "lasso_regr = linear_model.Lasso(alpha=0.0002, max_iter=50000)"
   ]
  },
  {
   "cell_type": "code",
   "execution_count": 34,
   "metadata": {
    "collapsed": false
   },
   "outputs": [
    {
     "data": {
      "text/plain": [
       "0.11486610186339372"
      ]
     },
     "execution_count": 34,
     "metadata": {},
     "output_type": "execute_result"
    }
   ],
   "source": [
    "validate(lasso_regr)"
   ]
  },
  {
   "cell_type": "markdown",
   "metadata": {},
   "source": [
    "## Lasso LARS"
   ]
  },
  {
   "cell_type": "code",
   "execution_count": 18,
   "metadata": {
    "collapsed": true
   },
   "outputs": [],
   "source": [
    "lassolars_regr = linear_model.LassoLars(max_iter=50000)"
   ]
  },
  {
   "cell_type": "code",
   "execution_count": 19,
   "metadata": {
    "collapsed": false
   },
   "outputs": [
    {
     "name": "stderr",
     "output_type": "stream",
     "text": [
      "/usr/lib64/python2.7/site-packages/sklearn/linear_model/least_angle.py:309: ConvergenceWarning: Regressors in active set degenerate. Dropping a regressor, after 48 iterations, i.e. alpha=3.684e-04, with an active set of 42 regressors, and the smallest cholesky pivot element being 2.581e-08\n",
      "  ConvergenceWarning)\n",
      "/usr/lib64/python2.7/site-packages/sklearn/linear_model/least_angle.py:309: ConvergenceWarning: Regressors in active set degenerate. Dropping a regressor, after 74 iterations, i.e. alpha=2.357e-04, with an active set of 68 regressors, and the smallest cholesky pivot element being 2.581e-08\n",
      "  ConvergenceWarning)\n",
      "/usr/lib64/python2.7/site-packages/sklearn/linear_model/least_angle.py:309: ConvergenceWarning: Regressors in active set degenerate. Dropping a regressor, after 103 iterations, i.e. alpha=1.244e-04, with an active set of 91 regressors, and the smallest cholesky pivot element being 2.107e-08\n",
      "  ConvergenceWarning)\n",
      "/usr/lib64/python2.7/site-packages/sklearn/linear_model/least_angle.py:309: ConvergenceWarning: Regressors in active set degenerate. Dropping a regressor, after 147 iterations, i.e. alpha=6.591e-05, with an active set of 127 regressors, and the smallest cholesky pivot element being 2.980e-08\n",
      "  ConvergenceWarning)\n",
      "/usr/lib64/python2.7/site-packages/sklearn/linear_model/least_angle.py:334: ConvergenceWarning: Early stopping the lars path, as the residues are small and the current value of alpha is no longer well controlled. 151 iterations, alpha=6.456e-05, previous alpha=6.443e-05, with an active set of 130 regressors.\n",
      "  ConvergenceWarning)\n",
      "/usr/lib64/python2.7/site-packages/sklearn/linear_model/least_angle.py:309: ConvergenceWarning: Regressors in active set degenerate. Dropping a regressor, after 104 iterations, i.e. alpha=1.251e-04, with an active set of 96 regressors, and the smallest cholesky pivot element being 2.980e-08\n",
      "  ConvergenceWarning)\n",
      "/usr/lib64/python2.7/site-packages/sklearn/linear_model/least_angle.py:309: ConvergenceWarning: Regressors in active set degenerate. Dropping a regressor, after 48 iterations, i.e. alpha=3.684e-04, with an active set of 42 regressors, and the smallest cholesky pivot element being 2.581e-08\n",
      "  ConvergenceWarning)\n",
      "/usr/lib64/python2.7/site-packages/sklearn/linear_model/least_angle.py:309: ConvergenceWarning: Regressors in active set degenerate. Dropping a regressor, after 74 iterations, i.e. alpha=2.357e-04, with an active set of 68 regressors, and the smallest cholesky pivot element being 2.581e-08\n",
      "  ConvergenceWarning)\n",
      "/usr/lib64/python2.7/site-packages/sklearn/linear_model/least_angle.py:309: ConvergenceWarning: Regressors in active set degenerate. Dropping a regressor, after 103 iterations, i.e. alpha=1.244e-04, with an active set of 91 regressors, and the smallest cholesky pivot element being 2.107e-08\n",
      "  ConvergenceWarning)\n",
      "/usr/lib64/python2.7/site-packages/sklearn/linear_model/least_angle.py:309: ConvergenceWarning: Regressors in active set degenerate. Dropping a regressor, after 147 iterations, i.e. alpha=6.591e-05, with an active set of 127 regressors, and the smallest cholesky pivot element being 2.980e-08\n",
      "  ConvergenceWarning)\n",
      "/usr/lib64/python2.7/site-packages/sklearn/linear_model/least_angle.py:334: ConvergenceWarning: Early stopping the lars path, as the residues are small and the current value of alpha is no longer well controlled. 151 iterations, alpha=6.456e-05, previous alpha=6.443e-05, with an active set of 130 regressors.\n",
      "  ConvergenceWarning)\n",
      "/usr/lib64/python2.7/site-packages/sklearn/linear_model/least_angle.py:309: ConvergenceWarning: Regressors in active set degenerate. Dropping a regressor, after 229 iterations, i.e. alpha=2.378e-05, with an active set of 191 regressors, and the smallest cholesky pivot element being 2.581e-08\n",
      "  ConvergenceWarning)\n",
      "/usr/lib64/python2.7/site-packages/sklearn/linear_model/least_angle.py:309: ConvergenceWarning: Regressors in active set degenerate. Dropping a regressor, after 176 iterations, i.e. alpha=4.563e-05, with an active set of 154 regressors, and the smallest cholesky pivot element being 1.825e-08\n",
      "  ConvergenceWarning)\n",
      "/usr/lib64/python2.7/site-packages/sklearn/linear_model/least_angle.py:309: ConvergenceWarning: Regressors in active set degenerate. Dropping a regressor, after 214 iterations, i.e. alpha=2.614e-05, with an active set of 178 regressors, and the smallest cholesky pivot element being 2.356e-08\n",
      "  ConvergenceWarning)\n",
      "/usr/lib64/python2.7/site-packages/sklearn/linear_model/least_angle.py:309: ConvergenceWarning: Regressors in active set degenerate. Dropping a regressor, after 219 iterations, i.e. alpha=2.982e-05, with an active set of 183 regressors, and the smallest cholesky pivot element being 1.054e-08\n",
      "  ConvergenceWarning)\n",
      "/usr/lib64/python2.7/site-packages/sklearn/linear_model/least_angle.py:309: ConvergenceWarning: Regressors in active set degenerate. Dropping a regressor, after 213 iterations, i.e. alpha=2.708e-05, with an active set of 183 regressors, and the smallest cholesky pivot element being 1.054e-08\n",
      "  ConvergenceWarning)\n",
      "/usr/lib64/python2.7/site-packages/sklearn/linear_model/least_angle.py:309: ConvergenceWarning: Regressors in active set degenerate. Dropping a regressor, after 104 iterations, i.e. alpha=1.251e-04, with an active set of 96 regressors, and the smallest cholesky pivot element being 2.980e-08\n",
      "  ConvergenceWarning)\n",
      "/usr/lib64/python2.7/site-packages/sklearn/linear_model/least_angle.py:309: ConvergenceWarning: Regressors in active set degenerate. Dropping a regressor, after 48 iterations, i.e. alpha=3.684e-04, with an active set of 42 regressors, and the smallest cholesky pivot element being 2.581e-08\n",
      "  ConvergenceWarning)\n",
      "/usr/lib64/python2.7/site-packages/sklearn/linear_model/least_angle.py:309: ConvergenceWarning: Regressors in active set degenerate. Dropping a regressor, after 74 iterations, i.e. alpha=2.357e-04, with an active set of 68 regressors, and the smallest cholesky pivot element being 2.581e-08\n",
      "  ConvergenceWarning)\n",
      "/usr/lib64/python2.7/site-packages/sklearn/linear_model/least_angle.py:309: ConvergenceWarning: Regressors in active set degenerate. Dropping a regressor, after 103 iterations, i.e. alpha=1.244e-04, with an active set of 91 regressors, and the smallest cholesky pivot element being 2.107e-08\n",
      "  ConvergenceWarning)\n",
      "/usr/lib64/python2.7/site-packages/sklearn/linear_model/least_angle.py:309: ConvergenceWarning: Regressors in active set degenerate. Dropping a regressor, after 147 iterations, i.e. alpha=6.591e-05, with an active set of 127 regressors, and the smallest cholesky pivot element being 2.980e-08\n",
      "  ConvergenceWarning)\n",
      "/usr/lib64/python2.7/site-packages/sklearn/linear_model/least_angle.py:334: ConvergenceWarning: Early stopping the lars path, as the residues are small and the current value of alpha is no longer well controlled. 151 iterations, alpha=6.456e-05, previous alpha=6.443e-05, with an active set of 130 regressors.\n",
      "  ConvergenceWarning)\n",
      "/usr/lib64/python2.7/site-packages/sklearn/linear_model/least_angle.py:309: ConvergenceWarning: Regressors in active set degenerate. Dropping a regressor, after 229 iterations, i.e. alpha=2.378e-05, with an active set of 191 regressors, and the smallest cholesky pivot element being 2.581e-08\n",
      "  ConvergenceWarning)\n",
      "/usr/lib64/python2.7/site-packages/sklearn/linear_model/least_angle.py:309: ConvergenceWarning: Regressors in active set degenerate. Dropping a regressor, after 104 iterations, i.e. alpha=1.251e-04, with an active set of 96 regressors, and the smallest cholesky pivot element being 2.980e-08\n",
      "  ConvergenceWarning)\n",
      "/usr/lib64/python2.7/site-packages/sklearn/linear_model/least_angle.py:309: ConvergenceWarning: Regressors in active set degenerate. Dropping a regressor, after 244 iterations, i.e. alpha=1.820e-05, with an active set of 200 regressors, and the smallest cholesky pivot element being 2.356e-08\n",
      "  ConvergenceWarning)\n",
      "/usr/lib64/python2.7/site-packages/sklearn/linear_model/least_angle.py:309: ConvergenceWarning: Regressors in active set degenerate. Dropping a regressor, after 176 iterations, i.e. alpha=4.563e-05, with an active set of 154 regressors, and the smallest cholesky pivot element being 1.825e-08\n",
      "  ConvergenceWarning)\n",
      "/usr/lib64/python2.7/site-packages/sklearn/linear_model/least_angle.py:309: ConvergenceWarning: Regressors in active set degenerate. Dropping a regressor, after 214 iterations, i.e. alpha=2.614e-05, with an active set of 178 regressors, and the smallest cholesky pivot element being 2.356e-08\n",
      "  ConvergenceWarning)\n",
      "/usr/lib64/python2.7/site-packages/sklearn/linear_model/least_angle.py:309: ConvergenceWarning: Regressors in active set degenerate. Dropping a regressor, after 237 iterations, i.e. alpha=1.912e-05, with an active set of 197 regressors, and the smallest cholesky pivot element being 3.161e-08\n",
      "  ConvergenceWarning)\n",
      "/usr/lib64/python2.7/site-packages/sklearn/linear_model/least_angle.py:309: ConvergenceWarning: Regressors in active set degenerate. Dropping a regressor, after 247 iterations, i.e. alpha=1.953e-05, with an active set of 199 regressors, and the smallest cholesky pivot element being 2.581e-08\n",
      "  ConvergenceWarning)\n",
      "/usr/lib64/python2.7/site-packages/sklearn/linear_model/least_angle.py:309: ConvergenceWarning: Regressors in active set degenerate. Dropping a regressor, after 213 iterations, i.e. alpha=2.708e-05, with an active set of 183 regressors, and the smallest cholesky pivot element being 1.054e-08\n",
      "  ConvergenceWarning)\n",
      "/usr/lib64/python2.7/site-packages/sklearn/linear_model/least_angle.py:309: ConvergenceWarning: Regressors in active set degenerate. Dropping a regressor, after 48 iterations, i.e. alpha=3.684e-04, with an active set of 42 regressors, and the smallest cholesky pivot element being 2.581e-08\n",
      "  ConvergenceWarning)\n",
      "/usr/lib64/python2.7/site-packages/sklearn/linear_model/least_angle.py:309: ConvergenceWarning: Regressors in active set degenerate. Dropping a regressor, after 74 iterations, i.e. alpha=2.357e-04, with an active set of 68 regressors, and the smallest cholesky pivot element being 2.581e-08\n",
      "  ConvergenceWarning)\n",
      "/usr/lib64/python2.7/site-packages/sklearn/linear_model/least_angle.py:309: ConvergenceWarning: Regressors in active set degenerate. Dropping a regressor, after 103 iterations, i.e. alpha=1.244e-04, with an active set of 91 regressors, and the smallest cholesky pivot element being 2.107e-08\n",
      "  ConvergenceWarning)\n",
      "/usr/lib64/python2.7/site-packages/sklearn/linear_model/least_angle.py:309: ConvergenceWarning: Regressors in active set degenerate. Dropping a regressor, after 147 iterations, i.e. alpha=6.591e-05, with an active set of 127 regressors, and the smallest cholesky pivot element being 2.980e-08\n",
      "  ConvergenceWarning)\n",
      "/usr/lib64/python2.7/site-packages/sklearn/linear_model/least_angle.py:334: ConvergenceWarning: Early stopping the lars path, as the residues are small and the current value of alpha is no longer well controlled. 151 iterations, alpha=6.456e-05, previous alpha=6.443e-05, with an active set of 130 regressors.\n",
      "  ConvergenceWarning)\n",
      "/usr/lib64/python2.7/site-packages/sklearn/linear_model/least_angle.py:309: ConvergenceWarning: Regressors in active set degenerate. Dropping a regressor, after 176 iterations, i.e. alpha=4.563e-05, with an active set of 154 regressors, and the smallest cholesky pivot element being 1.825e-08\n",
      "  ConvergenceWarning)\n",
      "/usr/lib64/python2.7/site-packages/sklearn/linear_model/least_angle.py:309: ConvergenceWarning: Regressors in active set degenerate. Dropping a regressor, after 104 iterations, i.e. alpha=1.251e-04, with an active set of 96 regressors, and the smallest cholesky pivot element being 2.980e-08\n",
      "  ConvergenceWarning)\n",
      "/usr/lib64/python2.7/site-packages/sklearn/linear_model/least_angle.py:309: ConvergenceWarning: Regressors in active set degenerate. Dropping a regressor, after 229 iterations, i.e. alpha=2.378e-05, with an active set of 191 regressors, and the smallest cholesky pivot element being 2.581e-08\n",
      "  ConvergenceWarning)\n",
      "/usr/lib64/python2.7/site-packages/sklearn/linear_model/least_angle.py:309: ConvergenceWarning: Regressors in active set degenerate. Dropping a regressor, after 214 iterations, i.e. alpha=2.614e-05, with an active set of 178 regressors, and the smallest cholesky pivot element being 2.356e-08\n",
      "  ConvergenceWarning)\n",
      "/usr/lib64/python2.7/site-packages/sklearn/linear_model/least_angle.py:309: ConvergenceWarning: Regressors in active set degenerate. Dropping a regressor, after 237 iterations, i.e. alpha=1.912e-05, with an active set of 197 regressors, and the smallest cholesky pivot element being 3.161e-08\n",
      "  ConvergenceWarning)\n",
      "/usr/lib64/python2.7/site-packages/sklearn/linear_model/least_angle.py:334: ConvergenceWarning: Early stopping the lars path, as the residues are small and the current value of alpha is no longer well controlled. 265 iterations, alpha=1.297e-05, previous alpha=1.288e-05, with an active set of 214 regressors.\n",
      "  ConvergenceWarning)\n",
      "/usr/lib64/python2.7/site-packages/sklearn/linear_model/least_angle.py:309: ConvergenceWarning: Regressors in active set degenerate. Dropping a regressor, after 219 iterations, i.e. alpha=2.982e-05, with an active set of 183 regressors, and the smallest cholesky pivot element being 1.054e-08\n",
      "  ConvergenceWarning)\n",
      "/usr/lib64/python2.7/site-packages/sklearn/linear_model/least_angle.py:309: ConvergenceWarning: Regressors in active set degenerate. Dropping a regressor, after 247 iterations, i.e. alpha=1.953e-05, with an active set of 199 regressors, and the smallest cholesky pivot element being 2.581e-08\n",
      "  ConvergenceWarning)\n",
      "/usr/lib64/python2.7/site-packages/sklearn/linear_model/least_angle.py:309: ConvergenceWarning: Regressors in active set degenerate. Dropping a regressor, after 250 iterations, i.e. alpha=1.310e-05, with an active set of 216 regressors, and the smallest cholesky pivot element being 2.581e-08\n",
      "  ConvergenceWarning)\n",
      "/usr/lib64/python2.7/site-packages/sklearn/linear_model/least_angle.py:309: ConvergenceWarning: Regressors in active set degenerate. Dropping a regressor, after 219 iterations, i.e. alpha=2.982e-05, with an active set of 183 regressors, and the smallest cholesky pivot element being 1.054e-08\n",
      "  ConvergenceWarning)\n",
      "/usr/lib64/python2.7/site-packages/sklearn/linear_model/least_angle.py:309: ConvergenceWarning: Regressors in active set degenerate. Dropping a regressor, after 214 iterations, i.e. alpha=2.614e-05, with an active set of 178 regressors, and the smallest cholesky pivot element being 2.356e-08\n",
      "  ConvergenceWarning)\n",
      "/usr/lib64/python2.7/site-packages/sklearn/linear_model/least_angle.py:309: ConvergenceWarning: Regressors in active set degenerate. Dropping a regressor, after 213 iterations, i.e. alpha=2.708e-05, with an active set of 183 regressors, and the smallest cholesky pivot element being 1.054e-08\n",
      "  ConvergenceWarning)\n"
     ]
    },
    {
     "name": "stdout",
     "output_type": "stream",
     "text": [
      "RandomizedSearchCV took 10.91 seconds for 20 candidates parameter settings.\n",
      "Model with rank: 1\n",
      "Mean validation score: -0.010 (std: 0.002)\n",
      "Parameters: {'alpha': 8.6701517549833823e-05}\n",
      "\n",
      "Model with rank: 2\n",
      "Mean validation score: -0.010 (std: 0.003)\n",
      "Parameters: {'alpha': 7.7194867656442929e-05}\n",
      "\n",
      "Model with rank: 3\n",
      "Mean validation score: -0.010 (std: 0.003)\n",
      "Parameters: {'alpha': 7.2713658361785681e-05}\n",
      "\n"
     ]
    }
   ],
   "source": [
    "lassolars_param = {'alpha': scipy.stats.expon(scale=0.0001)}\n",
    "random_search(lassolars_regr, lassolars_param, 20)"
   ]
  },
  {
   "cell_type": "code",
   "execution_count": 20,
   "metadata": {
    "collapsed": false
   },
   "outputs": [
    {
     "name": "stderr",
     "output_type": "stream",
     "text": [
      "/usr/lib64/python2.7/site-packages/sklearn/linear_model/least_angle.py:309: ConvergenceWarning: Regressors in active set degenerate. Dropping a regressor, after 48 iterations, i.e. alpha=3.684e-04, with an active set of 42 regressors, and the smallest cholesky pivot element being 2.581e-08\n",
      "  ConvergenceWarning)\n",
      "/usr/lib64/python2.7/site-packages/sklearn/linear_model/least_angle.py:309: ConvergenceWarning: Regressors in active set degenerate. Dropping a regressor, after 74 iterations, i.e. alpha=2.357e-04, with an active set of 68 regressors, and the smallest cholesky pivot element being 2.581e-08\n",
      "  ConvergenceWarning)\n",
      "/usr/lib64/python2.7/site-packages/sklearn/linear_model/least_angle.py:309: ConvergenceWarning: Regressors in active set degenerate. Dropping a regressor, after 103 iterations, i.e. alpha=1.244e-04, with an active set of 91 regressors, and the smallest cholesky pivot element being 2.107e-08\n",
      "  ConvergenceWarning)\n",
      "/usr/lib64/python2.7/site-packages/sklearn/linear_model/least_angle.py:309: ConvergenceWarning: Regressors in active set degenerate. Dropping a regressor, after 147 iterations, i.e. alpha=6.591e-05, with an active set of 127 regressors, and the smallest cholesky pivot element being 2.980e-08\n",
      "  ConvergenceWarning)\n",
      "/usr/lib64/python2.7/site-packages/sklearn/linear_model/least_angle.py:334: ConvergenceWarning: Early stopping the lars path, as the residues are small and the current value of alpha is no longer well controlled. 151 iterations, alpha=6.456e-05, previous alpha=6.443e-05, with an active set of 130 regressors.\n",
      "  ConvergenceWarning)\n",
      "/usr/lib64/python2.7/site-packages/sklearn/linear_model/least_angle.py:309: ConvergenceWarning: Regressors in active set degenerate. Dropping a regressor, after 104 iterations, i.e. alpha=1.251e-04, with an active set of 96 regressors, and the smallest cholesky pivot element being 2.980e-08\n",
      "  ConvergenceWarning)\n"
     ]
    },
    {
     "data": {
      "text/html": [
       "<div>\n",
       "<table border=\"1\" class=\"dataframe\">\n",
       "  <thead>\n",
       "    <tr style=\"text-align: right;\">\n",
       "      <th></th>\n",
       "      <th>alpha</th>\n",
       "      <th>RMSE</th>\n",
       "      <th>std dev</th>\n",
       "    </tr>\n",
       "  </thead>\n",
       "  <tbody>\n",
       "    <tr>\n",
       "      <th>10</th>\n",
       "      <td>0.00016000000000000007</td>\n",
       "      <td>0.10389911416605880634</td>\n",
       "      <td>0.04780244563022235937</td>\n",
       "    </tr>\n",
       "    <tr>\n",
       "      <th>9</th>\n",
       "      <td>0.00015000000000000004</td>\n",
       "      <td>0.10349595496974316189</td>\n",
       "      <td>0.04804952944164858630</td>\n",
       "    </tr>\n",
       "    <tr>\n",
       "      <th>8</th>\n",
       "      <td>0.00014000000000000004</td>\n",
       "      <td>0.10313971225199904114</td>\n",
       "      <td>0.04829684962550905014</td>\n",
       "    </tr>\n",
       "    <tr>\n",
       "      <th>7</th>\n",
       "      <td>0.00013000000000000004</td>\n",
       "      <td>0.10280431046074772761</td>\n",
       "      <td>0.04852320547503486542</td>\n",
       "    </tr>\n",
       "    <tr>\n",
       "      <th>6</th>\n",
       "      <td>0.00012000000000000004</td>\n",
       "      <td>0.10253175896768237929</td>\n",
       "      <td>0.04877562635068101449</td>\n",
       "    </tr>\n",
       "    <tr>\n",
       "      <th>0</th>\n",
       "      <td>0.00006000000000000000</td>\n",
       "      <td>0.10249236739443501332</td>\n",
       "      <td>0.05052610964547713662</td>\n",
       "    </tr>\n",
       "    <tr>\n",
       "      <th>5</th>\n",
       "      <td>0.00011000000000000003</td>\n",
       "      <td>0.10235355270114304682</td>\n",
       "      <td>0.04906929026513761477</td>\n",
       "    </tr>\n",
       "    <tr>\n",
       "      <th>1</th>\n",
       "      <td>0.00007000000000000001</td>\n",
       "      <td>0.10230195252680139573</td>\n",
       "      <td>0.05025508734706045366</td>\n",
       "    </tr>\n",
       "    <tr>\n",
       "      <th>4</th>\n",
       "      <td>0.00010000000000000002</td>\n",
       "      <td>0.10224553143798817412</td>\n",
       "      <td>0.04931939850266027492</td>\n",
       "    </tr>\n",
       "    <tr>\n",
       "      <th>2</th>\n",
       "      <td>0.00008000000000000002</td>\n",
       "      <td>0.10219191741472001544</td>\n",
       "      <td>0.04999218385833656408</td>\n",
       "    </tr>\n",
       "    <tr>\n",
       "      <th>3</th>\n",
       "      <td>0.00009000000000000002</td>\n",
       "      <td>0.10216121513878788363</td>\n",
       "      <td>0.04965119248893015702</td>\n",
       "    </tr>\n",
       "  </tbody>\n",
       "</table>\n",
       "</div>"
      ],
      "text/plain": [
       "                     alpha                    RMSE                 std dev\n",
       "10  0.00016000000000000007  0.10389911416605880634  0.04780244563022235937\n",
       "9   0.00015000000000000004  0.10349595496974316189  0.04804952944164858630\n",
       "8   0.00014000000000000004  0.10313971225199904114  0.04829684962550905014\n",
       "7   0.00013000000000000004  0.10280431046074772761  0.04852320547503486542\n",
       "6   0.00012000000000000004  0.10253175896768237929  0.04877562635068101449\n",
       "0   0.00006000000000000000  0.10249236739443501332  0.05052610964547713662\n",
       "5   0.00011000000000000003  0.10235355270114304682  0.04906929026513761477\n",
       "1   0.00007000000000000001  0.10230195252680139573  0.05025508734706045366\n",
       "4   0.00010000000000000002  0.10224553143798817412  0.04931939850266027492\n",
       "2   0.00008000000000000002  0.10219191741472001544  0.04999218385833656408\n",
       "3   0.00009000000000000002  0.10216121513878788363  0.04965119248893015702"
      ]
     },
     "execution_count": 20,
     "metadata": {},
     "output_type": "execute_result"
    },
    {
     "data": {
      "image/png": "[encoded data removed]",
      "text/plain": [
       "<matplotlib.figure.Figure at 0x7fd6b835b990>"
      ]
     },
     "metadata": {},
     "output_type": "display_data"
    }
   ],
   "source": [
    "lassolars_params = {'alpha': np.arange(0.00006, 0.00016, 0.00001).tolist()}\n",
    "lassolars_df = single_search(lassolars_regr, lassolars_params)\n",
    "lassolars_df.plot(x = ['alpha'], y = ['RMSE'])\n",
    "lassolars_df.sort_values(['RMSE'], ascending = False)"
   ]
  },
  {
   "cell_type": "code",
   "execution_count": 35,
   "metadata": {
    "collapsed": true
   },
   "outputs": [],
   "source": [
    "lassolars_regr = linear_model.LassoLars(alpha=0.00009, max_iter=50000)"
   ]
  },
  {
   "cell_type": "code",
   "execution_count": 36,
   "metadata": {
    "collapsed": false
   },
   "outputs": [
    {
     "data": {
      "text/plain": [
       "0.11040524690491826"
      ]
     },
     "execution_count": 36,
     "metadata": {},
     "output_type": "execute_result"
    }
   ],
   "source": [
    "validate(lassolars_regr)"
   ]
  },
  {
   "cell_type": "markdown",
   "metadata": {},
   "source": [
    "## Elastic Net"
   ]
  },
  {
   "cell_type": "code",
   "execution_count": 21,
   "metadata": {
    "collapsed": true
   },
   "outputs": [],
   "source": [
    "elnet_regr = linear_model.ElasticNet(max_iter=15000, random_state=7)"
   ]
  },
  {
   "cell_type": "code",
   "execution_count": 22,
   "metadata": {
    "collapsed": false
   },
   "outputs": [
    {
     "name": "stderr",
     "output_type": "stream",
     "text": [
      "/usr/lib64/python2.7/site-packages/sklearn/linear_model/coordinate_descent.py:479: ConvergenceWarning: Objective did not converge. You might want to increase the number of iterations. Fitting data with very small alpha may cause precision problems.\n",
      "  ConvergenceWarning)\n",
      "/usr/lib64/python2.7/site-packages/sklearn/linear_model/coordinate_descent.py:479: ConvergenceWarning: Objective did not converge. You might want to increase the number of iterations. Fitting data with very small alpha may cause precision problems.\n",
      "  ConvergenceWarning)\n"
     ]
    },
    {
     "name": "stdout",
     "output_type": "stream",
     "text": [
      "RandomizedSearchCV took 72.88 seconds for 20 candidates parameter settings.\n",
      "Model with rank: 1\n",
      "Mean validation score: -0.011 (std: 0.002)\n",
      "Parameters: {'alpha': 0.00031486540055768528, 'l1_ratio': 0.66223429349062668}\n",
      "\n",
      "Model with rank: 2\n",
      "Mean validation score: -0.011 (std: 0.002)\n",
      "Parameters: {'alpha': 0.00031162842090145469, 'l1_ratio': 0.57873792628575804}\n",
      "\n",
      "Model with rank: 3\n",
      "Mean validation score: -0.011 (std: 0.002)\n",
      "Parameters: {'alpha': 0.00040796895027502814, 'l1_ratio': 0.55135670796615444}\n",
      "\n"
     ]
    }
   ],
   "source": [
    "elnet_param =  {'alpha': scipy.stats.expon(scale=0.001), 'l1_ratio': scipy.stats.truncnorm(0, 1, loc=0.5, scale=0.25)}\n",
    "random_search(elnet_regr, elnet_param, 20)"
   ]
  },
  {
   "cell_type": "code",
   "execution_count": 23,
   "metadata": {
    "collapsed": false
   },
   "outputs": [
    {
     "data": {
      "text/html": [
       "<div>\n",
       "<table border=\"1\" class=\"dataframe\">\n",
       "  <thead>\n",
       "    <tr style=\"text-align: right;\">\n",
       "      <th></th>\n",
       "      <th>alpha</th>\n",
       "      <th>RMSE</th>\n",
       "      <th>std dev</th>\n",
       "    </tr>\n",
       "  </thead>\n",
       "  <tbody>\n",
       "    <tr>\n",
       "      <th>0</th>\n",
       "      <td>0.00010000000000000000</td>\n",
       "      <td>0.10572408577817858644</td>\n",
       "      <td>0.04893596128027177805</td>\n",
       "    </tr>\n",
       "    <tr>\n",
       "      <th>8</th>\n",
       "      <td>0.00090000000000000008</td>\n",
       "      <td>0.10444797760964232014</td>\n",
       "      <td>0.04521892296704541764</td>\n",
       "    </tr>\n",
       "    <tr>\n",
       "      <th>7</th>\n",
       "      <td>0.00080000000000000004</td>\n",
       "      <td>0.10417422494901559804</td>\n",
       "      <td>0.04530524283706931915</td>\n",
       "    </tr>\n",
       "    <tr>\n",
       "      <th>1</th>\n",
       "      <td>0.00020000000000000001</td>\n",
       "      <td>0.10393146782692826158</td>\n",
       "      <td>0.04770217671149882405</td>\n",
       "    </tr>\n",
       "    <tr>\n",
       "      <th>6</th>\n",
       "      <td>0.00070000000000000010</td>\n",
       "      <td>0.10392438636657831685</td>\n",
       "      <td>0.04543694875675616252</td>\n",
       "    </tr>\n",
       "    <tr>\n",
       "      <th>5</th>\n",
       "      <td>0.00060000000000000006</td>\n",
       "      <td>0.10363119193033375198</td>\n",
       "      <td>0.04567357051775635529</td>\n",
       "    </tr>\n",
       "    <tr>\n",
       "      <th>2</th>\n",
       "      <td>0.00030000000000000003</td>\n",
       "      <td>0.10334012300950216889</td>\n",
       "      <td>0.04675452162383476190</td>\n",
       "    </tr>\n",
       "    <tr>\n",
       "      <th>4</th>\n",
       "      <td>0.00050000000000000001</td>\n",
       "      <td>0.10333256885839801897</td>\n",
       "      <td>0.04592991850432007889</td>\n",
       "    </tr>\n",
       "    <tr>\n",
       "      <th>3</th>\n",
       "      <td>0.00040000000000000002</td>\n",
       "      <td>0.10320814020931325106</td>\n",
       "      <td>0.04617436995368802422</td>\n",
       "    </tr>\n",
       "  </tbody>\n",
       "</table>\n",
       "</div>"
      ],
      "text/plain": [
       "                    alpha                    RMSE                 std dev\n",
       "0  0.00010000000000000000  0.10572408577817858644  0.04893596128027177805\n",
       "8  0.00090000000000000008  0.10444797760964232014  0.04521892296704541764\n",
       "7  0.00080000000000000004  0.10417422494901559804  0.04530524283706931915\n",
       "1  0.00020000000000000001  0.10393146782692826158  0.04770217671149882405\n",
       "6  0.00070000000000000010  0.10392438636657831685  0.04543694875675616252\n",
       "5  0.00060000000000000006  0.10363119193033375198  0.04567357051775635529\n",
       "2  0.00030000000000000003  0.10334012300950216889  0.04675452162383476190\n",
       "4  0.00050000000000000001  0.10333256885839801897  0.04592991850432007889\n",
       "3  0.00040000000000000002  0.10320814020931325106  0.04617436995368802422"
      ]
     },
     "execution_count": 23,
     "metadata": {},
     "output_type": "execute_result"
    },
    {
     "data": {
      "image/png": "[encoded data removed]",
      "text/plain": [
       "<matplotlib.figure.Figure at 0x7fd6b836ac50>"
      ]
     },
     "metadata": {},
     "output_type": "display_data"
    }
   ],
   "source": [
    "elnet_regr = linear_model.ElasticNet(alpha=0.00038, l1_ratio=0.5, max_iter=15000, random_state=7)\n",
    "elnet_params = {'alpha': np.arange(0.0001, 0.0010, 0.0001).tolist()}\n",
    "elnet_df = single_search(elnet_regr, elnet_params)\n",
    "elnet_df.plot(x = ['alpha'], y = ['RMSE'])\n",
    "elnet_df.sort_values(['RMSE'], ascending = False)"
   ]
  },
  {
   "cell_type": "code",
   "execution_count": 37,
   "metadata": {
    "collapsed": false
   },
   "outputs": [
    {
     "data": {
      "text/html": [
       "<div>\n",
       "<table border=\"1\" class=\"dataframe\">\n",
       "  <thead>\n",
       "    <tr style=\"text-align: right;\">\n",
       "      <th></th>\n",
       "      <th>l1_ratio</th>\n",
       "      <th>RMSE</th>\n",
       "      <th>std dev</th>\n",
       "    </tr>\n",
       "  </thead>\n",
       "  <tbody>\n",
       "    <tr>\n",
       "      <th>0</th>\n",
       "      <td>0.10000000000000000555</td>\n",
       "      <td>0.10546216698267493750</td>\n",
       "      <td>0.04772595397064743200</td>\n",
       "    </tr>\n",
       "    <tr>\n",
       "      <th>1</th>\n",
       "      <td>0.20000000000000001110</td>\n",
       "      <td>0.10439056800213943055</td>\n",
       "      <td>0.04707616811760824416</td>\n",
       "    </tr>\n",
       "    <tr>\n",
       "      <th>8</th>\n",
       "      <td>0.90000000000000002220</td>\n",
       "      <td>0.10383623220555979194</td>\n",
       "      <td>0.04584774699722201502</td>\n",
       "    </tr>\n",
       "    <tr>\n",
       "      <th>2</th>\n",
       "      <td>0.30000000000000004441</td>\n",
       "      <td>0.10370965473693581627</td>\n",
       "      <td>0.04677952343646078759</td>\n",
       "    </tr>\n",
       "    <tr>\n",
       "      <th>7</th>\n",
       "      <td>0.80000000000000004441</td>\n",
       "      <td>0.10363599055020700224</td>\n",
       "      <td>0.04597257759718265113</td>\n",
       "    </tr>\n",
       "    <tr>\n",
       "      <th>6</th>\n",
       "      <td>0.70000000000000006661</td>\n",
       "      <td>0.10338249714447085570</td>\n",
       "      <td>0.04603376556100809841</td>\n",
       "    </tr>\n",
       "    <tr>\n",
       "      <th>3</th>\n",
       "      <td>0.40000000000000002220</td>\n",
       "      <td>0.10337746896102639749</td>\n",
       "      <td>0.04644647940703609812</td>\n",
       "    </tr>\n",
       "    <tr>\n",
       "      <th>5</th>\n",
       "      <td>0.59999999999999997780</td>\n",
       "      <td>0.10321230876579963465</td>\n",
       "      <td>0.04606116020655062065</td>\n",
       "    </tr>\n",
       "    <tr>\n",
       "      <th>4</th>\n",
       "      <td>0.50000000000000000000</td>\n",
       "      <td>0.10320814020931325106</td>\n",
       "      <td>0.04617436995368802422</td>\n",
       "    </tr>\n",
       "  </tbody>\n",
       "</table>\n",
       "</div>"
      ],
      "text/plain": [
       "                 l1_ratio                    RMSE                 std dev\n",
       "0  0.10000000000000000555  0.10546216698267493750  0.04772595397064743200\n",
       "1  0.20000000000000001110  0.10439056800213943055  0.04707616811760824416\n",
       "8  0.90000000000000002220  0.10383623220555979194  0.04584774699722201502\n",
       "2  0.30000000000000004441  0.10370965473693581627  0.04677952343646078759\n",
       "7  0.80000000000000004441  0.10363599055020700224  0.04597257759718265113\n",
       "6  0.70000000000000006661  0.10338249714447085570  0.04603376556100809841\n",
       "3  0.40000000000000002220  0.10337746896102639749  0.04644647940703609812\n",
       "5  0.59999999999999997780  0.10321230876579963465  0.04606116020655062065\n",
       "4  0.50000000000000000000  0.10320814020931325106  0.04617436995368802422"
      ]
     },
     "execution_count": 37,
     "metadata": {},
     "output_type": "execute_result"
    },
    {
     "data": {
      "image/png": "[encoded data removed]",
      "text/plain": [
       "<matplotlib.figure.Figure at 0x7fd6b831d390>"
      ]
     },
     "metadata": {},
     "output_type": "display_data"
    }
   ],
   "source": [
    "elnet_regr = linear_model.ElasticNet(alpha=0.0004, max_iter=15000, random_state=7)\n",
    "elnet_params = {'l1_ratio': np.arange(0.1, 1, 0.1).tolist()}\n",
    "elnet_df = single_search(elnet_regr, elnet_params)\n",
    "elnet_df.plot(x = ['l1_ratio'], y = ['RMSE'])\n",
    "elnet_df.sort_values(['RMSE'], ascending = False)"
   ]
  },
  {
   "cell_type": "code",
   "execution_count": 44,
   "metadata": {
    "collapsed": true
   },
   "outputs": [],
   "source": [
    "elnet_regr = linear_model.ElasticNet(alpha=0.0004, l1_ratio=0.55, max_iter=15000, random_state=7)"
   ]
  },
  {
   "cell_type": "code",
   "execution_count": 45,
   "metadata": {
    "collapsed": false
   },
   "outputs": [
    {
     "data": {
      "text/plain": [
       "0.11470125819781042"
      ]
     },
     "execution_count": 45,
     "metadata": {},
     "output_type": "execute_result"
    }
   ],
   "source": [
    "validate(elnet_regr)"
   ]
  },
  {
   "cell_type": "markdown",
   "metadata": {},
   "source": [
    "## Random Forest"
   ]
  },
  {
   "cell_type": "code",
   "execution_count": 24,
   "metadata": {
    "collapsed": true
   },
   "outputs": [],
   "source": [
    "rf_regr = RandomForestRegressor(n_jobs=-1, random_state = 7)"
   ]
  },
  {
   "cell_type": "code",
   "execution_count": 25,
   "metadata": {
    "collapsed": false
   },
   "outputs": [
    {
     "name": "stdout",
     "output_type": "stream",
     "text": [
      "RandomizedSearchCV took 272.18 seconds for 20 candidates parameter settings.\n",
      "Model with rank: 1\n",
      "Mean validation score: -0.015 (std: 0.003)\n",
      "Parameters: {'max_features': 72, 'n_estimators': 313, 'max_depth': 37}\n",
      "\n",
      "Model with rank: 2\n",
      "Mean validation score: -0.015 (std: 0.003)\n",
      "Parameters: {'max_features': 62, 'n_estimators': 345, 'max_depth': 25}\n",
      "\n",
      "Model with rank: 3\n",
      "Mean validation score: -0.015 (std: 0.003)\n",
      "Parameters: {'max_features': 71, 'n_estimators': 353, 'max_depth': 25}\n",
      "\n"
     ]
    }
   ],
   "source": [
    "rf_param =  {'n_estimators': scipy.stats.randint(50,400), 'max_depth': scipy.stats.randint(2,40), \n",
    "             'max_features': scipy.stats.randint(5,80)}\n",
    "random_search(rf_regr, rf_param, 20)"
   ]
  },
  {
   "cell_type": "code",
   "execution_count": 55,
   "metadata": {
    "collapsed": false
   },
   "outputs": [
    {
     "data": {
      "text/html": [
       "<div>\n",
       "<table border=\"1\" class=\"dataframe\">\n",
       "  <thead>\n",
       "    <tr style=\"text-align: right;\">\n",
       "      <th></th>\n",
       "      <th>n_estimators</th>\n",
       "      <th>RMSE</th>\n",
       "      <th>std dev</th>\n",
       "    </tr>\n",
       "  </thead>\n",
       "  <tbody>\n",
       "    <tr>\n",
       "      <th>0</th>\n",
       "      <td>50.0</td>\n",
       "      <td>0.12416935126110666132</td>\n",
       "      <td>0.05052306305832561517</td>\n",
       "    </tr>\n",
       "    <tr>\n",
       "      <th>1</th>\n",
       "      <td>100.0</td>\n",
       "      <td>0.12241808794656704185</td>\n",
       "      <td>0.05268250316563589941</td>\n",
       "    </tr>\n",
       "    <tr>\n",
       "      <th>3</th>\n",
       "      <td>200.0</td>\n",
       "      <td>0.12223109507974067034</td>\n",
       "      <td>0.05304563451991533424</td>\n",
       "    </tr>\n",
       "    <tr>\n",
       "      <th>2</th>\n",
       "      <td>150.0</td>\n",
       "      <td>0.12222091558797547328</td>\n",
       "      <td>0.05275413294183315532</td>\n",
       "    </tr>\n",
       "    <tr>\n",
       "      <th>4</th>\n",
       "      <td>250.0</td>\n",
       "      <td>0.12199245813805408012</td>\n",
       "      <td>0.05271430329122289010</td>\n",
       "    </tr>\n",
       "    <tr>\n",
       "      <th>7</th>\n",
       "      <td>400.0</td>\n",
       "      <td>0.12180490900833176870</td>\n",
       "      <td>0.05217139409793832006</td>\n",
       "    </tr>\n",
       "    <tr>\n",
       "      <th>8</th>\n",
       "      <td>450.0</td>\n",
       "      <td>0.12178876372373759196</td>\n",
       "      <td>0.05234084969569093027</td>\n",
       "    </tr>\n",
       "    <tr>\n",
       "      <th>6</th>\n",
       "      <td>350.0</td>\n",
       "      <td>0.12170153709727897506</td>\n",
       "      <td>0.05196020968669294582</td>\n",
       "    </tr>\n",
       "    <tr>\n",
       "      <th>9</th>\n",
       "      <td>500.0</td>\n",
       "      <td>0.12166682285126284579</td>\n",
       "      <td>0.05260060550941333957</td>\n",
       "    </tr>\n",
       "    <tr>\n",
       "      <th>10</th>\n",
       "      <td>550.0</td>\n",
       "      <td>0.12162787625060524077</td>\n",
       "      <td>0.05288490454935600160</td>\n",
       "    </tr>\n",
       "    <tr>\n",
       "      <th>11</th>\n",
       "      <td>600.0</td>\n",
       "      <td>0.12159758691611308179</td>\n",
       "      <td>0.05302161018643512108</td>\n",
       "    </tr>\n",
       "    <tr>\n",
       "      <th>5</th>\n",
       "      <td>300.0</td>\n",
       "      <td>0.12159532025576999525</td>\n",
       "      <td>0.05235893491793251059</td>\n",
       "    </tr>\n",
       "  </tbody>\n",
       "</table>\n",
       "</div>"
      ],
      "text/plain": [
       "    n_estimators                    RMSE                 std dev\n",
       "0           50.0  0.12416935126110666132  0.05052306305832561517\n",
       "1          100.0  0.12241808794656704185  0.05268250316563589941\n",
       "3          200.0  0.12223109507974067034  0.05304563451991533424\n",
       "2          150.0  0.12222091558797547328  0.05275413294183315532\n",
       "4          250.0  0.12199245813805408012  0.05271430329122289010\n",
       "7          400.0  0.12180490900833176870  0.05217139409793832006\n",
       "8          450.0  0.12178876372373759196  0.05234084969569093027\n",
       "6          350.0  0.12170153709727897506  0.05196020968669294582\n",
       "9          500.0  0.12166682285126284579  0.05260060550941333957\n",
       "10         550.0  0.12162787625060524077  0.05288490454935600160\n",
       "11         600.0  0.12159758691611308179  0.05302161018643512108\n",
       "5          300.0  0.12159532025576999525  0.05235893491793251059"
      ]
     },
     "execution_count": 55,
     "metadata": {},
     "output_type": "execute_result"
    },
    {
     "data": {
      "image/png": "[encoded data removed]",
      "text/plain": [
       "<matplotlib.figure.Figure at 0x7fd6b827a850>"
      ]
     },
     "metadata": {},
     "output_type": "display_data"
    }
   ],
   "source": [
    "rf_regr = RandomForestRegressor(n_estimators = 313, max_depth = 28, max_features = 79, random_state = 7)\n",
    "rf_params = {'n_estimators': np.arange(50, 650, 50).tolist()}\n",
    "rf_df = single_search(rf_regr, rf_params)\n",
    "rf_df.plot(x = ['n_estimators'], y = ['RMSE'])\n",
    "rf_df.sort_values(['RMSE'], ascending = False)"
   ]
  },
  {
   "cell_type": "code",
   "execution_count": 62,
   "metadata": {
    "collapsed": true
   },
   "outputs": [],
   "source": [
    "rf_regr = RandomForestRegressor(n_estimators = 300, max_depth = 28, max_features = 79, random_state = 7)"
   ]
  },
  {
   "cell_type": "code",
   "execution_count": 63,
   "metadata": {
    "collapsed": false
   },
   "outputs": [
    {
     "data": {
      "text/plain": [
       "0.13096736523931515"
      ]
     },
     "execution_count": 63,
     "metadata": {},
     "output_type": "execute_result"
    }
   ],
   "source": [
    "validate(rf_regr)"
   ]
  },
  {
   "cell_type": "markdown",
   "metadata": {},
   "source": [
    "## Support Vector Regressor"
   ]
  },
  {
   "cell_type": "code",
   "execution_count": 26,
   "metadata": {
    "collapsed": true
   },
   "outputs": [],
   "source": [
    "svr_regr = svm.SVR(cache_size=200, degree=3, max_iter=-1, shrinking=True, tol=0.001, verbose=False)"
   ]
  },
  {
   "cell_type": "code",
   "execution_count": 27,
   "metadata": {
    "collapsed": false
   },
   "outputs": [
    {
     "name": "stdout",
     "output_type": "stream",
     "text": [
      "RandomizedSearchCV took 50.15 seconds for 20 candidates parameter settings.\n",
      "Model with rank: 1\n",
      "Mean validation score: -0.013 (std: 0.002)\n",
      "Parameters: {'kernel': 'rbf', 'C': 6.1870818356615827, 'gamma': 0.0066614674976186276}\n",
      "\n",
      "Model with rank: 2\n",
      "Mean validation score: -0.015 (std: 0.002)\n",
      "Parameters: {'kernel': 'rbf', 'C': 0.42561922956261111, 'gamma': 0.019452340417077128}\n",
      "\n",
      "Model with rank: 3\n",
      "Mean validation score: -0.016 (std: 0.002)\n",
      "Parameters: {'kernel': 'rbf', 'C': 0.63537599238785447, 'gamma': 0.025302607970082019}\n",
      "\n"
     ]
    }
   ],
   "source": [
    "svr_param = {'C': scipy.stats.expon(scale=1), 'gamma': scipy.stats.expon(scale=.1),\n",
    "              'kernel': ['rbf']}\n",
    "random_search(svr_regr, svr_param, 20)"
   ]
  },
  {
   "cell_type": "code",
   "execution_count": 52,
   "metadata": {
    "collapsed": false
   },
   "outputs": [
    {
     "data": {
      "text/html": [
       "<div>\n",
       "<table border=\"1\" class=\"dataframe\">\n",
       "  <thead>\n",
       "    <tr style=\"text-align: right;\">\n",
       "      <th></th>\n",
       "      <th>C</th>\n",
       "      <th>RMSE</th>\n",
       "      <th>std dev</th>\n",
       "    </tr>\n",
       "  </thead>\n",
       "  <tbody>\n",
       "    <tr>\n",
       "      <th>9</th>\n",
       "      <td>11.5</td>\n",
       "      <td>0.11119542014244793160</td>\n",
       "      <td>0.04665835767111697896</td>\n",
       "    </tr>\n",
       "    <tr>\n",
       "      <th>8</th>\n",
       "      <td>11.0</td>\n",
       "      <td>0.11112777742348142751</td>\n",
       "      <td>0.04662354253467408671</td>\n",
       "    </tr>\n",
       "    <tr>\n",
       "      <th>7</th>\n",
       "      <td>10.5</td>\n",
       "      <td>0.11105799010713598984</td>\n",
       "      <td>0.04655081881322870735</td>\n",
       "    </tr>\n",
       "    <tr>\n",
       "      <th>6</th>\n",
       "      <td>10.0</td>\n",
       "      <td>0.11099306977258069362</td>\n",
       "      <td>0.04647169984899318651</td>\n",
       "    </tr>\n",
       "    <tr>\n",
       "      <th>5</th>\n",
       "      <td>9.5</td>\n",
       "      <td>0.11092572621548218992</td>\n",
       "      <td>0.04644772746181536488</td>\n",
       "    </tr>\n",
       "    <tr>\n",
       "      <th>4</th>\n",
       "      <td>9.0</td>\n",
       "      <td>0.11086328142215866321</td>\n",
       "      <td>0.04638791811451977581</td>\n",
       "    </tr>\n",
       "    <tr>\n",
       "      <th>3</th>\n",
       "      <td>8.5</td>\n",
       "      <td>0.11079045621524068188</td>\n",
       "      <td>0.04626843072890138298</td>\n",
       "    </tr>\n",
       "    <tr>\n",
       "      <th>2</th>\n",
       "      <td>8.0</td>\n",
       "      <td>0.11074059334821674538</td>\n",
       "      <td>0.04610054245916825333</td>\n",
       "    </tr>\n",
       "    <tr>\n",
       "      <th>1</th>\n",
       "      <td>7.5</td>\n",
       "      <td>0.11069826485554350171</td>\n",
       "      <td>0.04585204156512847490</td>\n",
       "    </tr>\n",
       "    <tr>\n",
       "      <th>0</th>\n",
       "      <td>7.0</td>\n",
       "      <td>0.11066196877536908783</td>\n",
       "      <td>0.04557294229452008710</td>\n",
       "    </tr>\n",
       "  </tbody>\n",
       "</table>\n",
       "</div>"
      ],
      "text/plain": [
       "      C                    RMSE                 std dev\n",
       "9  11.5  0.11119542014244793160  0.04665835767111697896\n",
       "8  11.0  0.11112777742348142751  0.04662354253467408671\n",
       "7  10.5  0.11105799010713598984  0.04655081881322870735\n",
       "6  10.0  0.11099306977258069362  0.04647169984899318651\n",
       "5   9.5  0.11092572621548218992  0.04644772746181536488\n",
       "4   9.0  0.11086328142215866321  0.04638791811451977581\n",
       "3   8.5  0.11079045621524068188  0.04626843072890138298\n",
       "2   8.0  0.11074059334821674538  0.04610054245916825333\n",
       "1   7.5  0.11069826485554350171  0.04585204156512847490\n",
       "0   7.0  0.11066196877536908783  0.04557294229452008710"
      ]
     },
     "execution_count": 52,
     "metadata": {},
     "output_type": "execute_result"
    },
    {
     "data": {
      "image/png": "[encoded data removed]",
      "text/plain": [
       "<matplotlib.figure.Figure at 0x7fd6b16d8910>"
      ]
     },
     "metadata": {},
     "output_type": "display_data"
    }
   ],
   "source": [
    "svr_regr = svm.SVR(C=6.2, cache_size=200, coef0=0.0, degree=3, gamma=0.002,\n",
    "                        kernel='rbf', max_iter=-1, shrinking=True, tol=0.001, verbose=False)\n",
    "svr_params = {'C': np.arange(7, 12, 0.5).tolist()}\n",
    "svr_df = single_search(svr_regr, svr_params)\n",
    "svr_df.plot(x = ['C'], y = ['RMSE'])\n",
    "svr_df.sort_values(['RMSE'], ascending = False)"
   ]
  },
  {
   "cell_type": "code",
   "execution_count": 56,
   "metadata": {
    "collapsed": true
   },
   "outputs": [],
   "source": [
    "svr_regr = svm.SVR(C=7, cache_size=200, coef0=0.0, degree=3, gamma=0.002,\n",
    "                        kernel='rbf', max_iter=-1, shrinking=True, tol=0.001, verbose=False)"
   ]
  },
  {
   "cell_type": "code",
   "execution_count": 57,
   "metadata": {
    "collapsed": false
   },
   "outputs": [
    {
     "data": {
      "text/plain": [
       "0.12335285689083843"
      ]
     },
     "execution_count": 57,
     "metadata": {},
     "output_type": "execute_result"
    }
   ],
   "source": [
    "validate(svr_regr)"
   ]
  },
  {
   "cell_type": "markdown",
   "metadata": {},
   "source": [
    "## Orthogonal Matching Pursuit"
   ]
  },
  {
   "cell_type": "code",
   "execution_count": 28,
   "metadata": {
    "collapsed": true
   },
   "outputs": [],
   "source": [
    "omp_regr = linear_model.OrthogonalMatchingPursuit()"
   ]
  },
  {
   "cell_type": "code",
   "execution_count": 29,
   "metadata": {
    "collapsed": false
   },
   "outputs": [
    {
     "name": "stdout",
     "output_type": "stream",
     "text": [
      "RandomizedSearchCV took 5.44 seconds for 20 candidates parameter settings.\n",
      "Model with rank: 1\n",
      "Mean validation score: -0.011 (std: 0.002)\n",
      "Parameters: {'n_nonzero_coefs': 96}\n",
      "\n",
      "Model with rank: 1\n",
      "Mean validation score: -0.011 (std: 0.002)\n",
      "Parameters: {'n_nonzero_coefs': 96}\n",
      "\n",
      "Model with rank: 3\n",
      "Mean validation score: -0.011 (std: 0.002)\n",
      "Parameters: {'n_nonzero_coefs': 111}\n",
      "\n"
     ]
    }
   ],
   "source": [
    "omp_param = {'n_nonzero_coefs': scipy.stats.randint(20,120)}\n",
    "random_search(omp_regr, omp_param, 20)"
   ]
  },
  {
   "cell_type": "code",
   "execution_count": 48,
   "metadata": {
    "collapsed": false
   },
   "outputs": [
    {
     "data": {
      "text/html": [
       "<div>\n",
       "<table border=\"1\" class=\"dataframe\">\n",
       "  <thead>\n",
       "    <tr style=\"text-align: right;\">\n",
       "      <th></th>\n",
       "      <th>n_nonzero_coefs</th>\n",
       "      <th>RMSE</th>\n",
       "      <th>std dev</th>\n",
       "    </tr>\n",
       "  </thead>\n",
       "  <tbody>\n",
       "    <tr>\n",
       "      <th>5</th>\n",
       "      <td>129.0</td>\n",
       "      <td>0.10688231507934355113</td>\n",
       "      <td>0.04697946406781331602</td>\n",
       "    </tr>\n",
       "    <tr>\n",
       "      <th>3</th>\n",
       "      <td>127.0</td>\n",
       "      <td>0.10685798275767278975</td>\n",
       "      <td>0.04722660873277255422</td>\n",
       "    </tr>\n",
       "    <tr>\n",
       "      <th>4</th>\n",
       "      <td>128.0</td>\n",
       "      <td>0.10685771947809150073</td>\n",
       "      <td>0.04667100718295857931</td>\n",
       "    </tr>\n",
       "    <tr>\n",
       "      <th>1</th>\n",
       "      <td>125.0</td>\n",
       "      <td>0.10671689082562887951</td>\n",
       "      <td>0.04721091876394019338</td>\n",
       "    </tr>\n",
       "    <tr>\n",
       "      <th>6</th>\n",
       "      <td>130.0</td>\n",
       "      <td>0.10669398299625970639</td>\n",
       "      <td>0.04706009405472896118</td>\n",
       "    </tr>\n",
       "    <tr>\n",
       "      <th>2</th>\n",
       "      <td>126.0</td>\n",
       "      <td>0.10669359960427637901</td>\n",
       "      <td>0.04742529217561654298</td>\n",
       "    </tr>\n",
       "    <tr>\n",
       "      <th>0</th>\n",
       "      <td>124.0</td>\n",
       "      <td>0.10648001383032633382</td>\n",
       "      <td>0.04696114737321356591</td>\n",
       "    </tr>\n",
       "    <tr>\n",
       "      <th>7</th>\n",
       "      <td>131.0</td>\n",
       "      <td>0.10642188768993141035</td>\n",
       "      <td>0.04687654292048799159</td>\n",
       "    </tr>\n",
       "    <tr>\n",
       "      <th>8</th>\n",
       "      <td>132.0</td>\n",
       "      <td>0.10633433676248679745</td>\n",
       "      <td>0.04689682284149559316</td>\n",
       "    </tr>\n",
       "    <tr>\n",
       "      <th>10</th>\n",
       "      <td>134.0</td>\n",
       "      <td>0.10621975445439310604</td>\n",
       "      <td>0.04648734704331335121</td>\n",
       "    </tr>\n",
       "    <tr>\n",
       "      <th>9</th>\n",
       "      <td>133.0</td>\n",
       "      <td>0.10612694748843845560</td>\n",
       "      <td>0.04655765900715340411</td>\n",
       "    </tr>\n",
       "  </tbody>\n",
       "</table>\n",
       "</div>"
      ],
      "text/plain": [
       "    n_nonzero_coefs                    RMSE                 std dev\n",
       "5             129.0  0.10688231507934355113  0.04697946406781331602\n",
       "3             127.0  0.10685798275767278975  0.04722660873277255422\n",
       "4             128.0  0.10685771947809150073  0.04667100718295857931\n",
       "1             125.0  0.10671689082562887951  0.04721091876394019338\n",
       "6             130.0  0.10669398299625970639  0.04706009405472896118\n",
       "2             126.0  0.10669359960427637901  0.04742529217561654298\n",
       "0             124.0  0.10648001383032633382  0.04696114737321356591\n",
       "7             131.0  0.10642188768993141035  0.04687654292048799159\n",
       "8             132.0  0.10633433676248679745  0.04689682284149559316\n",
       "10            134.0  0.10621975445439310604  0.04648734704331335121\n",
       "9             133.0  0.10612694748843845560  0.04655765900715340411"
      ]
     },
     "execution_count": 48,
     "metadata": {},
     "output_type": "execute_result"
    },
    {
     "data": {
      "image/png": "[encoded data removed]",
      "text/plain": [
       "<matplotlib.figure.Figure at 0x7fd6b17a5550>"
      ]
     },
     "metadata": {},
     "output_type": "display_data"
    }
   ],
   "source": [
    "omp_regr = linear_model.OrthogonalMatchingPursuit(n_nonzero_coefs=55)\n",
    "omp_params = {'n_nonzero_coefs': np.arange(124, 135, 1).tolist()}\n",
    "omp_df = single_search(omp_regr, omp_params)\n",
    "omp_df.plot(x = ['n_nonzero_coefs'], y = ['RMSE'])\n",
    "omp_df.sort_values(['RMSE'], ascending = False)"
   ]
  },
  {
   "cell_type": "code",
   "execution_count": 53,
   "metadata": {
    "collapsed": true
   },
   "outputs": [],
   "source": [
    "omp_regr = linear_model.OrthogonalMatchingPursuit(n_nonzero_coefs=133)"
   ]
  },
  {
   "cell_type": "code",
   "execution_count": 54,
   "metadata": {
    "collapsed": false
   },
   "outputs": [
    {
     "data": {
      "text/plain": [
       "0.12252419373128547"
      ]
     },
     "execution_count": 54,
     "metadata": {},
     "output_type": "execute_result"
    }
   ],
   "source": [
    "validate(omp_regr)"
   ]
  },
  {
   "cell_type": "markdown",
   "metadata": {},
   "source": [
    "## XGBoost"
   ]
  },
  {
   "cell_type": "code",
   "execution_count": 30,
   "metadata": {
    "collapsed": false
   },
   "outputs": [
    {
     "name": "stdout",
     "output_type": "stream",
     "text": [
      "RandomizedSearchCV took 6885.45 seconds for 20 candidates parameter settings.\n",
      "Model with rank: 1\n",
      "Mean validation score: -0.016 (std: 0.002)\n",
      "Parameters: {'reg_alpha': 0.72647988913656147, 'colsample_bytree': 0.16518764142953724, 'learning_rate': 0.4627639110092201, 'min_child_weight': 0.48627059663098998, 'n_estimators': 469, 'subsample': 0.24124644353448821, 'reg_lambda': 1.2996425334435149, 'max_depth': 1, 'gamma': 0.056654718519083901}\n",
      "\n",
      "Model with rank: 2\n",
      "Mean validation score: -0.016 (std: 0.002)\n",
      "Parameters: {'reg_alpha': 0.017714959172157058, 'colsample_bytree': 0.43197638052877663, 'learning_rate': 0.14803988515837707, 'min_child_weight': 2.6015121340186669, 'n_estimators': 455, 'subsample': 0.65100037983798353, 'reg_lambda': 0.031032658386604281, 'max_depth': 3, 'gamma': 0.4411744332270584}\n",
      "\n",
      "Model with rank: 3\n",
      "Mean validation score: -0.017 (std: 0.003)\n",
      "Parameters: {'reg_alpha': 0.71181586262345753, 'colsample_bytree': 0.90852772158127815, 'learning_rate': 0.089027062947860669, 'min_child_weight': 0.21371985897816823, 'n_estimators': 378, 'subsample': 0.54909350430586923, 'reg_lambda': 0.55494864833079915, 'max_depth': 8, 'gamma': 0.369333419328298}\n",
      "\n"
     ]
    }
   ],
   "source": [
    "xgb_regr = xgb.XGBRegressor(seed = 42, nthread = -1, silent = 1)\n",
    "xgb_param = {'max_depth': scipy.stats.randint(1,10), # Max. Depth [1,∞]\n",
    "             'min_child_weight': scipy.stats.expon(scale=1), # Min. Child Weight [0,∞]\n",
    "             'gamma': scipy.stats.expon(scale=1), # Minimum Split Loss, gamma [0,∞]\n",
    "             'subsample': scipy.stats.uniform(0, 1), # Subsample Ratio of the training instance [0,1]\n",
    "             'colsample_bytree': scipy.stats.uniform(0, 1), # Subsample Ratio of columns [0,1]\n",
    "             'reg_alpha': scipy.stats.expon(scale=1), # L1 regularization, alpha [0,∞]\n",
    "             'reg_lambda': scipy.stats.expon(scale=1), # L2 regularization, lambda [0,∞]\n",
    "             'learning_rate': scipy.stats.uniform(0, 1), # Step size shrinkage (learning rate) [0,1]\n",
    "             'n_estimators': scipy.stats.randint(50,500) # Number of boosted trees, n_estimators\n",
    "            }\n",
    "random_search(xgb_regr, xgb_param, 20)"
   ]
  },
  {
   "cell_type": "code",
   "execution_count": 74,
   "metadata": {
    "collapsed": false
   },
   "outputs": [
    {
     "data": {
      "text/html": [
       "<div>\n",
       "<table border=\"1\" class=\"dataframe\">\n",
       "  <thead>\n",
       "    <tr style=\"text-align: right;\">\n",
       "      <th></th>\n",
       "      <th>n_estimators</th>\n",
       "      <th>RMSE</th>\n",
       "      <th>std dev</th>\n",
       "    </tr>\n",
       "  </thead>\n",
       "  <tbody>\n",
       "    <tr>\n",
       "      <th>9</th>\n",
       "      <td>2000.0</td>\n",
       "      <td>0.11080600153041270106</td>\n",
       "      <td>0.04747458007264152707</td>\n",
       "    </tr>\n",
       "    <tr>\n",
       "      <th>7</th>\n",
       "      <td>1800.0</td>\n",
       "      <td>0.11072280767326715678</td>\n",
       "      <td>0.04704613711250391767</td>\n",
       "    </tr>\n",
       "    <tr>\n",
       "      <th>2</th>\n",
       "      <td>1300.0</td>\n",
       "      <td>0.11069596654430285954</td>\n",
       "      <td>0.04737825468671915535</td>\n",
       "    </tr>\n",
       "    <tr>\n",
       "      <th>6</th>\n",
       "      <td>1700.0</td>\n",
       "      <td>0.11069184568633752552</td>\n",
       "      <td>0.04702022644153392578</td>\n",
       "    </tr>\n",
       "    <tr>\n",
       "      <th>0</th>\n",
       "      <td>1100.0</td>\n",
       "      <td>0.11067201140195305487</td>\n",
       "      <td>0.04647310220124942215</td>\n",
       "    </tr>\n",
       "    <tr>\n",
       "      <th>8</th>\n",
       "      <td>1900.0</td>\n",
       "      <td>0.11066049318380445643</td>\n",
       "      <td>0.04725304396639307819</td>\n",
       "    </tr>\n",
       "    <tr>\n",
       "      <th>3</th>\n",
       "      <td>1400.0</td>\n",
       "      <td>0.11064382082765859827</td>\n",
       "      <td>0.04736520720601302553</td>\n",
       "    </tr>\n",
       "    <tr>\n",
       "      <th>1</th>\n",
       "      <td>1200.0</td>\n",
       "      <td>0.11060770325503078981</td>\n",
       "      <td>0.04691685540943279359</td>\n",
       "    </tr>\n",
       "    <tr>\n",
       "      <th>5</th>\n",
       "      <td>1600.0</td>\n",
       "      <td>0.11058004755357234150</td>\n",
       "      <td>0.04725653683109274500</td>\n",
       "    </tr>\n",
       "    <tr>\n",
       "      <th>4</th>\n",
       "      <td>1500.0</td>\n",
       "      <td>0.11051723221931746000</td>\n",
       "      <td>0.04713733475999903194</td>\n",
       "    </tr>\n",
       "  </tbody>\n",
       "</table>\n",
       "</div>"
      ],
      "text/plain": [
       "   n_estimators                    RMSE                 std dev\n",
       "9        2000.0  0.11080600153041270106  0.04747458007264152707\n",
       "7        1800.0  0.11072280767326715678  0.04704613711250391767\n",
       "2        1300.0  0.11069596654430285954  0.04737825468671915535\n",
       "6        1700.0  0.11069184568633752552  0.04702022644153392578\n",
       "0        1100.0  0.11067201140195305487  0.04647310220124942215\n",
       "8        1900.0  0.11066049318380445643  0.04725304396639307819\n",
       "3        1400.0  0.11064382082765859827  0.04736520720601302553\n",
       "1        1200.0  0.11060770325503078981  0.04691685540943279359\n",
       "5        1600.0  0.11058004755357234150  0.04725653683109274500\n",
       "4        1500.0  0.11051723221931746000  0.04713733475999903194"
      ]
     },
     "execution_count": 74,
     "metadata": {},
     "output_type": "execute_result"
    },
    {
     "data": {
      "image/png": "[encoded data removed]",
      "text/plain": [
       "<matplotlib.figure.Figure at 0x7fd6b167bb10>"
      ]
     },
     "metadata": {},
     "output_type": "display_data"
    }
   ],
   "source": [
    "xgb_regr = xgb.XGBRegressor(\n",
    "    max_depth = 1, \n",
    "    min_child_weight = 5.1,\n",
    "    gamma = 0.01,\n",
    "    subsample = 0.7,\n",
    "    colsample_bytree = 0.3,\n",
    "    reg_alpha = 0.6,\n",
    "    reg_lambda = 1.8, \n",
    "    learning_rate = 0.2,\n",
    "    n_estimators = 469,\n",
    "    objective='reg:linear', \n",
    "    seed = 42,\n",
    "    nthread = -1,\n",
    "    silent = 1)\n",
    "xgb_params = {'n_estimators': np.arange(1100, 2100, 100).tolist()}\n",
    "xgb_df = single_search(xgb_regr, xgb_params)\n",
    "xgb_df.plot(x = ['n_estimators'], y = ['RMSE'])\n",
    "xgb_df.sort_values(['RMSE'], ascending = False)"
   ]
  },
  {
   "cell_type": "code",
   "execution_count": 75,
   "metadata": {
    "collapsed": true
   },
   "outputs": [],
   "source": [
    "xgb_regr = xgb.XGBRegressor(\n",
    "    max_depth = 1, \n",
    "    min_child_weight = 5.1,\n",
    "    gamma = 0.01,\n",
    "    subsample = 0.7,\n",
    "    colsample_bytree = 0.3,\n",
    "    reg_alpha = 0.6,\n",
    "    reg_lambda = 1.8, \n",
    "    learning_rate = 0.2,\n",
    "    n_estimators = 1500,\n",
    "    objective='reg:linear', \n",
    "    seed = 42,\n",
    "    nthread = -1,\n",
    "    silent = 1)"
   ]
  },
  {
   "cell_type": "code",
   "execution_count": 76,
   "metadata": {
    "collapsed": false
   },
   "outputs": [
    {
     "data": {
      "text/plain": [
       "0.12224939734835051"
      ]
     },
     "execution_count": 76,
     "metadata": {},
     "output_type": "execute_result"
    }
   ],
   "source": [
    "validate(xgb_regr)"
   ]
  },
  {
   "cell_type": "markdown",
   "metadata": {},
   "source": [
    "## MLP Regressor"
   ]
  },
  {
   "cell_type": "code",
   "execution_count": 31,
   "metadata": {
    "collapsed": true
   },
   "outputs": [],
   "source": [
    "mlp_regr = MLPRegressor(activation='relu', solver='lbfgs', random_state=641,\n",
    "                        hidden_layer_sizes=(100, ),\n",
    "                        alpha=0.0001, \n",
    "                        tol=0.0001, \n",
    "                        max_iter=200)"
   ]
  },
  {
   "cell_type": "code",
   "execution_count": 32,
   "metadata": {
    "collapsed": false
   },
   "outputs": [
    {
     "name": "stdout",
     "output_type": "stream",
     "text": [
      "RandomizedSearchCV took 1792.72 seconds for 20 candidates parameter settings.\n",
      "Model with rank: 1\n",
      "Mean validation score: -0.018 (std: 0.003)\n",
      "Parameters: {'alpha': 7.0091346823066011e-05, 'max_iter': 214.89408080986556, 'tol': 2.1956094410854298e-05, 'hidden_layer_sizes': 84}\n",
      "\n",
      "Model with rank: 2\n",
      "Mean validation score: -0.019 (std: 0.004)\n",
      "Parameters: {'alpha': 3.0916540899813092e-05, 'max_iter': 432.69956733080943, 'tol': 6.3727572307887829e-05, 'hidden_layer_sizes': 287}\n",
      "\n",
      "Model with rank: 3\n",
      "Mean validation score: -0.019 (std: 0.002)\n",
      "Parameters: {'alpha': 7.855133045870163e-07, 'max_iter': 423.37530227782929, 'tol': 4.7128218920380142e-05, 'hidden_layer_sizes': 380}\n",
      "\n"
     ]
    }
   ],
   "source": [
    "mlp_regr = MLPRegressor(activation='relu', solver='lbfgs', random_state=641)\n",
    "mlp_param = {'hidden_layer_sizes': scipy.stats.randint(50,500), # size of a single hidden layer\n",
    "             'alpha': scipy.stats.expon(scale=0.0001), # L2 regularization,  [0,∞]\n",
    "             'tol': scipy.stats.expon(scale=0.0001), # Minimum improvement in loss fun. during training\n",
    "             'max_iter': scipy.stats.uniform(200, 400), # Maximum number of iterations of solver\n",
    "            }\n",
    "random_search(mlp_regr, mlp_param, 20)"
   ]
  },
  {
   "cell_type": "code",
   "execution_count": 70,
   "metadata": {
    "collapsed": false
   },
   "outputs": [
    {
     "data": {
      "text/html": [
       "<div>\n",
       "<table border=\"1\" class=\"dataframe\">\n",
       "  <thead>\n",
       "    <tr style=\"text-align: right;\">\n",
       "      <th></th>\n",
       "      <th>max_iter</th>\n",
       "      <th>RMSE</th>\n",
       "      <th>std dev</th>\n",
       "    </tr>\n",
       "  </thead>\n",
       "  <tbody>\n",
       "    <tr>\n",
       "      <th>0</th>\n",
       "      <td>25.0</td>\n",
       "      <td>0.12771822435858648515</td>\n",
       "      <td>0.04633454245826263557</td>\n",
       "    </tr>\n",
       "    <tr>\n",
       "      <th>1</th>\n",
       "      <td>50.0</td>\n",
       "      <td>0.11310044955524176102</td>\n",
       "      <td>0.04960355248825497332</td>\n",
       "    </tr>\n",
       "    <tr>\n",
       "      <th>2</th>\n",
       "      <td>75.0</td>\n",
       "      <td>0.10985007159129561716</td>\n",
       "      <td>0.04677530632664750332</td>\n",
       "    </tr>\n",
       "    <tr>\n",
       "      <th>6</th>\n",
       "      <td>175.0</td>\n",
       "      <td>0.10850397037736457528</td>\n",
       "      <td>0.04760907936179957500</td>\n",
       "    </tr>\n",
       "    <tr>\n",
       "      <th>3</th>\n",
       "      <td>100.0</td>\n",
       "      <td>0.10842153403961128644</td>\n",
       "      <td>0.04401456672547431753</td>\n",
       "    </tr>\n",
       "    <tr>\n",
       "      <th>8</th>\n",
       "      <td>225.0</td>\n",
       "      <td>0.10824255338159595452</td>\n",
       "      <td>0.04859124623165327755</td>\n",
       "    </tr>\n",
       "    <tr>\n",
       "      <th>7</th>\n",
       "      <td>200.0</td>\n",
       "      <td>0.10807968939039079570</td>\n",
       "      <td>0.04819100885030202369</td>\n",
       "    </tr>\n",
       "    <tr>\n",
       "      <th>5</th>\n",
       "      <td>150.0</td>\n",
       "      <td>0.10806645190203487128</td>\n",
       "      <td>0.04320837955646122941</td>\n",
       "    </tr>\n",
       "    <tr>\n",
       "      <th>4</th>\n",
       "      <td>125.0</td>\n",
       "      <td>0.10795161353106852431</td>\n",
       "      <td>0.04313785051590004332</td>\n",
       "    </tr>\n",
       "  </tbody>\n",
       "</table>\n",
       "</div>"
      ],
      "text/plain": [
       "   max_iter                    RMSE                 std dev\n",
       "0      25.0  0.12771822435858648515  0.04633454245826263557\n",
       "1      50.0  0.11310044955524176102  0.04960355248825497332\n",
       "2      75.0  0.10985007159129561716  0.04677530632664750332\n",
       "6     175.0  0.10850397037736457528  0.04760907936179957500\n",
       "3     100.0  0.10842153403961128644  0.04401456672547431753\n",
       "8     225.0  0.10824255338159595452  0.04859124623165327755\n",
       "7     200.0  0.10807968939039079570  0.04819100885030202369\n",
       "5     150.0  0.10806645190203487128  0.04320837955646122941\n",
       "4     125.0  0.10795161353106852431  0.04313785051590004332"
      ]
     },
     "execution_count": 70,
     "metadata": {},
     "output_type": "execute_result"
    },
    {
     "data": {
      "image/png": "[encoded data removed]",
      "text/plain": [
       "<matplotlib.figure.Figure at 0x7fd6b92f44d0>"
      ]
     },
     "metadata": {},
     "output_type": "display_data"
    }
   ],
   "source": [
    "mlp_regr = MLPRegressor(activation='relu', solver='lbfgs', random_state=641,\n",
    "                        hidden_layer_sizes=(3, ),\n",
    "                        alpha=0.000008, \n",
    "                        tol=0.0002, \n",
    "                        max_iter=214)\n",
    "mlp_params = {'max_iter': np.arange(25, 250, 25).tolist()}\n",
    "mlp_df = single_search(mlp_regr, mlp_params)\n",
    "mlp_df.plot(x = ['max_iter'], y = ['RMSE'])\n",
    "mlp_df.sort_values(['RMSE'], ascending = False)"
   ]
  },
  {
   "cell_type": "code",
   "execution_count": 72,
   "metadata": {
    "collapsed": true
   },
   "outputs": [],
   "source": [
    "mlp_regr = MLPRegressor(activation='relu', solver='lbfgs', random_state=641,\n",
    "                        hidden_layer_sizes=(3, ),\n",
    "                        alpha=0.000008, \n",
    "                        tol=0.0002, \n",
    "                        max_iter=125)"
   ]
  },
  {
   "cell_type": "code",
   "execution_count": 73,
   "metadata": {
    "collapsed": false
   },
   "outputs": [
    {
     "data": {
      "text/plain": [
       "0.12102494329812304"
      ]
     },
     "execution_count": 73,
     "metadata": {},
     "output_type": "execute_result"
    }
   ],
   "source": [
    "validate(mlp_regr)"
   ]
  },
  {
   "cell_type": "code",
   "execution_count": null,
   "metadata": {
    "collapsed": true
   },
   "outputs": [],
   "source": []
  }
 ],
 "metadata": {
  "kernelspec": {
   "display_name": "Python 2",
   "language": "python",
   "name": "python2"
  },
  "language_info": {
   "codemirror_mode": {
    "name": "ipython",
    "version": 2
   },
   "file_extension": ".py",
   "mimetype": "text/x-python",
   "name": "python",
   "nbconvert_exporter": "python",
   "pygments_lexer": "ipython2",
   "version": "2.7.13"
  }
 },
 "nbformat": 4,
 "nbformat_minor": 2
}
