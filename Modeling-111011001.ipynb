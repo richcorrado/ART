{
 "cells": [
  {
   "cell_type": "markdown",
   "metadata": {},
   "source": [
    "# Modeling 111011001 - all features"
   ]
  },
  {
   "cell_type": "markdown",
   "metadata": {},
   "source": [
    "In this notebook, we're specifically working on the dataset formed by dropping (31, 496, 524, 692, 917, 1299) with all features."
   ]
  },
  {
   "cell_type": "code",
   "execution_count": 1,
   "metadata": {
    "collapsed": true
   },
   "outputs": [],
   "source": [
    "import itertools\n",
    "import numpy as np\n",
    "import pandas as pd\n",
    "import scipy\n",
    "from scipy import optimize\n",
    "\n",
    "pd.set_option('display.precision',20)\n",
    "pd.set_option('display.max_colwidth',100)\n",
    "\n",
    "from sklearn import linear_model, svm, tree\n",
    "from sklearn.metrics import mean_squared_error\n",
    "from sklearn.ensemble import RandomForestRegressor\n",
    "from sklearn.model_selection import train_test_split, cross_val_predict, KFold, cross_val_score, \\\n",
    "                                    GridSearchCV, RandomizedSearchCV, ShuffleSplit\n",
    "from sklearn.neural_network import MLPRegressor\n",
    "    \n",
    "    \n",
    "    \n",
    "import xgboost as xgb\n",
    "\n",
    "from time import time\n",
    "from scipy.stats import randint as sp_randint\n",
    "\n",
    "import matplotlib.pylab as plt\n",
    "from matplotlib.pylab import rcParams\n",
    "from matplotlib import pyplot\n",
    "rcParams['figure.figsize'] = 12, 4\n",
    "%matplotlib inline"
   ]
  },
  {
   "cell_type": "code",
   "execution_count": 2,
   "metadata": {
    "collapsed": true
   },
   "outputs": [],
   "source": [
    "# def to compare goodness of fit on training set\n",
    "def rmse(y_true, y_pred):\n",
    "    return np.sqrt(mean_squared_error(y_true, y_pred))"
   ]
  },
  {
   "cell_type": "code",
   "execution_count": 3,
   "metadata": {
    "collapsed": true
   },
   "outputs": [],
   "source": [
    "# Utility function to report best scores\n",
    "def report(results, n_top=3):\n",
    "    for i in range(1, n_top + 1):\n",
    "        candidates = np.flatnonzero(results['rank_test_score'] == i)\n",
    "        for candidate in candidates:\n",
    "            print(\"Model with rank: {0}\".format(i))\n",
    "            print(\"Mean validation score: {0:.3f} (std: {1:.3f})\".format(\n",
    "                  results['mean_test_score'][candidate],\n",
    "                  results['std_test_score'][candidate]))\n",
    "            print(\"Parameters: {0}\".format(results['params'][candidate]))\n",
    "            print(\"\")"
   ]
  },
  {
   "cell_type": "code",
   "execution_count": 4,
   "metadata": {
    "collapsed": true
   },
   "outputs": [],
   "source": [
    "# run randomized search\n",
    "def random_search(regr, param_dist, n_iter_search): \n",
    "    rs = RandomizedSearchCV(regr, param_distributions=param_dist, scoring = 'neg_mean_squared_error',\n",
    "                                   n_jobs=-1, n_iter=n_iter_search, cv=kfold) #, verbose = 4)\n",
    "    start = time()\n",
    "    rs.fit(x_train, y_train)\n",
    "    print(\"RandomizedSearchCV took %.2f seconds for %d candidates\"\n",
    "      \" parameter settings.\" % ((time() - start), n_iter_search))\n",
    "    report(rs.cv_results_)"
   ]
  },
  {
   "cell_type": "code",
   "execution_count": 5,
   "metadata": {
    "collapsed": true
   },
   "outputs": [],
   "source": [
    "# run single parameter search (for ridge or lasso)\n",
    "def single_search(regr, params):\n",
    "    regr_results_df = pd.DataFrame(dtype = 'float64')\n",
    "    count = 0\n",
    "    for k, v in params.items():\n",
    "        for val in v:\n",
    "            regr.set_params(**{k: val})\n",
    "            regr_results_df.loc[count, k] = val\n",
    "            results = cross_val_score(regr, x_train, y_train, cv=kfold, scoring = 'neg_mean_squared_error')\n",
    "            (regr_results_df.loc[count, 'RMSE'], regr_results_df.loc[count, 'std dev']) = \\\n",
    "                    (np.sqrt(-results.mean()), np.sqrt(results.std()))\n",
    "            count += 1\n",
    "    return regr_results_df"
   ]
  },
  {
   "cell_type": "code",
   "execution_count": 6,
   "metadata": {
    "collapsed": true
   },
   "outputs": [],
   "source": [
    "# test against validation set\n",
    "def validate(regr):\n",
    "    regr.fit(x_train, y_train)\n",
    "    y_pred = regr.predict(x_validation)\n",
    "    return rmse(y_validation, y_pred)"
   ]
  },
  {
   "cell_type": "code",
   "execution_count": 7,
   "metadata": {
    "collapsed": true
   },
   "outputs": [],
   "source": [
    "# Cross-validation sets\n",
    "kfold = KFold(n_splits=10, random_state=7)"
   ]
  },
  {
   "cell_type": "code",
   "execution_count": 8,
   "metadata": {
    "collapsed": true
   },
   "outputs": [],
   "source": [
    "df = pd.read_csv(\"./input/train_tidy_111011001.csv\")"
   ]
  },
  {
   "cell_type": "code",
   "execution_count": 9,
   "metadata": {
    "collapsed": false
   },
   "outputs": [],
   "source": [
    "ss = ShuffleSplit(n_splits=1, test_size=0.20, random_state=71)\n",
    "\n",
    "X = df.values\n",
    "\n",
    "for train_idx, validation_idx in ss.split(X):\n",
    "    train_df = df.iloc[train_idx]\n",
    "    validation_df = df.iloc[validation_idx]\n",
    "    \n",
    "y_validation = validation_df['SalePrice'].values\n",
    "x_validation = validation_df.drop(['HouseId', 'SalePrice', 'GarageAge', 'GarageAgeLin'],axis=1).values\n",
    "y_train = train_df['SalePrice'].values\n",
    "x_train = train_df.drop(['HouseId', 'SalePrice', 'GarageAge', 'GarageAgeLin'],axis=1).values"
   ]
  },
  {
   "cell_type": "markdown",
   "metadata": {},
   "source": [
    "## Ridge regression"
   ]
  },
  {
   "cell_type": "code",
   "execution_count": 10,
   "metadata": {
    "collapsed": true
   },
   "outputs": [],
   "source": [
    "ridge_regr = linear_model.Ridge()"
   ]
  },
  {
   "cell_type": "code",
   "execution_count": 11,
   "metadata": {
    "collapsed": false
   },
   "outputs": [
    {
     "name": "stdout",
     "output_type": "stream",
     "text": [
      "RandomizedSearchCV took 3.32 seconds for 20 candidates parameter settings.\n",
      "Model with rank: 1\n",
      "Mean validation score: -0.013 (std: 0.005)\n",
      "Parameters: {'alpha': 13.982567582724801}\n",
      "\n",
      "Model with rank: 2\n",
      "Mean validation score: -0.013 (std: 0.005)\n",
      "Parameters: {'alpha': 8.7493987399393802}\n",
      "\n",
      "Model with rank: 3\n",
      "Mean validation score: -0.013 (std: 0.005)\n",
      "Parameters: {'alpha': 15.105582405973152}\n",
      "\n"
     ]
    }
   ],
   "source": [
    "ridge_param = {'alpha': scipy.stats.expon(scale=10)}\n",
    "random_search(ridge_regr, ridge_param, 20)"
   ]
  },
  {
   "cell_type": "code",
   "execution_count": 34,
   "metadata": {
    "collapsed": false
   },
   "outputs": [
    {
     "data": {
      "text/html": [
       "<div>\n",
       "<table border=\"1\" class=\"dataframe\">\n",
       "  <thead>\n",
       "    <tr style=\"text-align: right;\">\n",
       "      <th></th>\n",
       "      <th>alpha</th>\n",
       "      <th>RMSE</th>\n",
       "      <th>std dev</th>\n",
       "    </tr>\n",
       "  </thead>\n",
       "  <tbody>\n",
       "    <tr>\n",
       "      <th>0</th>\n",
       "      <td>5.0</td>\n",
       "      <td>0.11278133847711423188</td>\n",
       "      <td>0.06853616402693260556</td>\n",
       "    </tr>\n",
       "    <tr>\n",
       "      <th>1</th>\n",
       "      <td>6.0</td>\n",
       "      <td>0.11249279817622226396</td>\n",
       "      <td>0.06841155196638716574</td>\n",
       "    </tr>\n",
       "    <tr>\n",
       "      <th>12</th>\n",
       "      <td>17.0</td>\n",
       "      <td>0.11229131750839213555</td>\n",
       "      <td>0.06832092936356762292</td>\n",
       "    </tr>\n",
       "    <tr>\n",
       "      <th>2</th>\n",
       "      <td>7.0</td>\n",
       "      <td>0.11228886477902982888</td>\n",
       "      <td>0.06832350252172579574</td>\n",
       "    </tr>\n",
       "    <tr>\n",
       "      <th>11</th>\n",
       "      <td>16.0</td>\n",
       "      <td>0.11220343393860132686</td>\n",
       "      <td>0.06828825875784115540</td>\n",
       "    </tr>\n",
       "    <tr>\n",
       "      <th>3</th>\n",
       "      <td>8.0</td>\n",
       "      <td>0.11214835236677127284</td>\n",
       "      <td>0.06826378337851791989</td>\n",
       "    </tr>\n",
       "    <tr>\n",
       "      <th>10</th>\n",
       "      <td>15.0</td>\n",
       "      <td>0.11212738693194745920</td>\n",
       "      <td>0.06825911046193880449</td>\n",
       "    </tr>\n",
       "    <tr>\n",
       "      <th>9</th>\n",
       "      <td>14.0</td>\n",
       "      <td>0.11206499891858147377</td>\n",
       "      <td>0.06823435567017388514</td>\n",
       "    </tr>\n",
       "    <tr>\n",
       "      <th>4</th>\n",
       "      <td>9.0</td>\n",
       "      <td>0.11205704506825768518</td>\n",
       "      <td>0.06822609429165744921</td>\n",
       "    </tr>\n",
       "    <tr>\n",
       "      <th>8</th>\n",
       "      <td>13.0</td>\n",
       "      <td>0.11201848140228698458</td>\n",
       "      <td>0.06821507941568991096</td>\n",
       "    </tr>\n",
       "    <tr>\n",
       "      <th>5</th>\n",
       "      <td>10.0</td>\n",
       "      <td>0.11200491091756031858</td>\n",
       "      <td>0.06820564263517557568</td>\n",
       "    </tr>\n",
       "    <tr>\n",
       "      <th>7</th>\n",
       "      <td>12.0</td>\n",
       "      <td>0.11199055171262384256</td>\n",
       "      <td>0.06820264267982531492</td>\n",
       "    </tr>\n",
       "    <tr>\n",
       "      <th>6</th>\n",
       "      <td>11.0</td>\n",
       "      <td>0.11198459703166104007</td>\n",
       "      <td>0.06819876594444018725</td>\n",
       "    </tr>\n",
       "  </tbody>\n",
       "</table>\n",
       "</div>"
      ],
      "text/plain": [
       "    alpha                    RMSE                 std dev\n",
       "0     5.0  0.11278133847711423188  0.06853616402693260556\n",
       "1     6.0  0.11249279817622226396  0.06841155196638716574\n",
       "12   17.0  0.11229131750839213555  0.06832092936356762292\n",
       "2     7.0  0.11228886477902982888  0.06832350252172579574\n",
       "11   16.0  0.11220343393860132686  0.06828825875784115540\n",
       "3     8.0  0.11214835236677127284  0.06826378337851791989\n",
       "10   15.0  0.11212738693194745920  0.06825911046193880449\n",
       "9    14.0  0.11206499891858147377  0.06823435567017388514\n",
       "4     9.0  0.11205704506825768518  0.06822609429165744921\n",
       "8    13.0  0.11201848140228698458  0.06821507941568991096\n",
       "5    10.0  0.11200491091756031858  0.06820564263517557568\n",
       "7    12.0  0.11199055171262384256  0.06820264267982531492\n",
       "6    11.0  0.11198459703166104007  0.06819876594444018725"
      ]
     },
     "execution_count": 34,
     "metadata": {},
     "output_type": "execute_result"
    },
    {
     "data": {
      "image/png": "[encoded data removed]",
      "text/plain": [
       "<matplotlib.figure.Figure at 0x7f08f898d7d0>"
      ]
     },
     "metadata": {},
     "output_type": "display_data"
    }
   ],
   "source": [
    "ridge_params = {'alpha': np.arange(5, 18, 1).tolist()}\n",
    "ridge_df = single_search(ridge_regr, ridge_params)\n",
    "ridge_df.plot(x = ['alpha'], y = ['RMSE'])\n",
    "ridge_df.sort_values(['RMSE'], ascending = False)"
   ]
  },
  {
   "cell_type": "code",
   "execution_count": 40,
   "metadata": {
    "collapsed": true
   },
   "outputs": [],
   "source": [
    "ridge_regr = linear_model.Ridge(alpha = 11)"
   ]
  },
  {
   "cell_type": "code",
   "execution_count": 41,
   "metadata": {
    "collapsed": false
   },
   "outputs": [
    {
     "data": {
      "text/plain": [
       "0.11110292765605044"
      ]
     },
     "execution_count": 41,
     "metadata": {},
     "output_type": "execute_result"
    }
   ],
   "source": [
    "validate(ridge_regr)"
   ]
  },
  {
   "cell_type": "markdown",
   "metadata": {},
   "source": [
    "## Lasso"
   ]
  },
  {
   "cell_type": "code",
   "execution_count": 15,
   "metadata": {
    "collapsed": true
   },
   "outputs": [],
   "source": [
    "lasso_regr = linear_model.Lasso(max_iter=50000)"
   ]
  },
  {
   "cell_type": "code",
   "execution_count": 16,
   "metadata": {
    "collapsed": false
   },
   "outputs": [
    {
     "name": "stderr",
     "output_type": "stream",
     "text": [
      "/usr/lib64/python2.7/site-packages/sklearn/linear_model/coordinate_descent.py:479: ConvergenceWarning: Objective did not converge. You might want to increase the number of iterations. Fitting data with very small alpha may cause precision problems.\n",
      "  ConvergenceWarning)\n",
      "/usr/lib64/python2.7/site-packages/sklearn/linear_model/coordinate_descent.py:479: ConvergenceWarning: Objective did not converge. You might want to increase the number of iterations. Fitting data with very small alpha may cause precision problems.\n",
      "  ConvergenceWarning)\n"
     ]
    },
    {
     "name": "stdout",
     "output_type": "stream",
     "text": [
      "RandomizedSearchCV took 178.49 seconds for 20 candidates parameter settings.\n",
      "Model with rank: 1\n",
      "Mean validation score: -0.012 (std: 0.004)\n",
      "Parameters: {'alpha': 0.00046188433636357878}\n",
      "\n",
      "Model with rank: 2\n",
      "Mean validation score: -0.012 (std: 0.004)\n",
      "Parameters: {'alpha': 0.00033804434871051681}\n",
      "\n",
      "Model with rank: 3\n",
      "Mean validation score: -0.012 (std: 0.004)\n",
      "Parameters: {'alpha': 0.0003244325169258025}\n",
      "\n"
     ]
    }
   ],
   "source": [
    "lasso_param = {'alpha': scipy.stats.expon(scale=0.001)}\n",
    "random_search(lasso_regr, lasso_param, 20)"
   ]
  },
  {
   "cell_type": "code",
   "execution_count": 35,
   "metadata": {
    "collapsed": false
   },
   "outputs": [
    {
     "data": {
      "text/html": [
       "<div>\n",
       "<table border=\"1\" class=\"dataframe\">\n",
       "  <thead>\n",
       "    <tr style=\"text-align: right;\">\n",
       "      <th></th>\n",
       "      <th>alpha</th>\n",
       "      <th>RMSE</th>\n",
       "      <th>std dev</th>\n",
       "    </tr>\n",
       "  </thead>\n",
       "  <tbody>\n",
       "    <tr>\n",
       "      <th>0</th>\n",
       "      <td>0.00010000000000000000</td>\n",
       "      <td>0.11276443200820787660</td>\n",
       "      <td>0.06800283487371905355</td>\n",
       "    </tr>\n",
       "    <tr>\n",
       "      <th>1</th>\n",
       "      <td>0.00020000000000000001</td>\n",
       "      <td>0.11001218398187058434</td>\n",
       "      <td>0.06775353309150637660</td>\n",
       "    </tr>\n",
       "    <tr>\n",
       "      <th>5</th>\n",
       "      <td>0.00060000000000000006</td>\n",
       "      <td>0.10951599927964252024</td>\n",
       "      <td>0.06658498472218291053</td>\n",
       "    </tr>\n",
       "    <tr>\n",
       "      <th>2</th>\n",
       "      <td>0.00030000000000000003</td>\n",
       "      <td>0.10913412910279023105</td>\n",
       "      <td>0.06693867568217280739</td>\n",
       "    </tr>\n",
       "    <tr>\n",
       "      <th>4</th>\n",
       "      <td>0.00050000000000000001</td>\n",
       "      <td>0.10895701635544378927</td>\n",
       "      <td>0.06631786559661977110</td>\n",
       "    </tr>\n",
       "    <tr>\n",
       "      <th>3</th>\n",
       "      <td>0.00040000000000000002</td>\n",
       "      <td>0.10893109057640841530</td>\n",
       "      <td>0.06639091020231868701</td>\n",
       "    </tr>\n",
       "  </tbody>\n",
       "</table>\n",
       "</div>"
      ],
      "text/plain": [
       "                    alpha                    RMSE                 std dev\n",
       "0  0.00010000000000000000  0.11276443200820787660  0.06800283487371905355\n",
       "1  0.00020000000000000001  0.11001218398187058434  0.06775353309150637660\n",
       "5  0.00060000000000000006  0.10951599927964252024  0.06658498472218291053\n",
       "2  0.00030000000000000003  0.10913412910279023105  0.06693867568217280739\n",
       "4  0.00050000000000000001  0.10895701635544378927  0.06631786559661977110\n",
       "3  0.00040000000000000002  0.10893109057640841530  0.06639091020231868701"
      ]
     },
     "execution_count": 35,
     "metadata": {},
     "output_type": "execute_result"
    },
    {
     "data": {
      "image/png": "[encoded data removed]",
      "text/plain": [
       "<matplotlib.figure.Figure at 0x7f08f89747d0>"
      ]
     },
     "metadata": {},
     "output_type": "display_data"
    }
   ],
   "source": [
    "lasso_params = {'alpha': np.arange(0.0001, 0.0007, 0.0001).tolist()}\n",
    "lasso_df = single_search(lasso_regr, lasso_params)\n",
    "lasso_df.plot(x = ['alpha'], y = ['RMSE'])\n",
    "lasso_df.sort_values(['RMSE'], ascending = False)"
   ]
  },
  {
   "cell_type": "code",
   "execution_count": 42,
   "metadata": {
    "collapsed": true
   },
   "outputs": [],
   "source": [
    "lasso_regr = linear_model.Lasso(alpha=0.0004, max_iter=50000)"
   ]
  },
  {
   "cell_type": "code",
   "execution_count": 43,
   "metadata": {
    "collapsed": false
   },
   "outputs": [
    {
     "data": {
      "text/plain": [
       "0.10456894564010284"
      ]
     },
     "execution_count": 43,
     "metadata": {},
     "output_type": "execute_result"
    }
   ],
   "source": [
    "validate(lasso_regr)"
   ]
  },
  {
   "cell_type": "markdown",
   "metadata": {},
   "source": [
    "## Lasso LARS"
   ]
  },
  {
   "cell_type": "code",
   "execution_count": 18,
   "metadata": {
    "collapsed": true
   },
   "outputs": [],
   "source": [
    "lassolars_regr = linear_model.LassoLars(max_iter=50000)"
   ]
  },
  {
   "cell_type": "code",
   "execution_count": 19,
   "metadata": {
    "collapsed": false
   },
   "outputs": [
    {
     "name": "stderr",
     "output_type": "stream",
     "text": [
      "/usr/lib64/python2.7/site-packages/sklearn/linear_model/least_angle.py:309: ConvergenceWarning: Regressors in active set degenerate. Dropping a regressor, after 124 iterations, i.e. alpha=1.059e-04, with an active set of 102 regressors, and the smallest cholesky pivot element being 2.220e-16\n",
      "  ConvergenceWarning)\n",
      "/usr/lib64/python2.7/site-packages/sklearn/linear_model/least_angle.py:309: ConvergenceWarning: Regressors in active set degenerate. Dropping a regressor, after 125 iterations, i.e. alpha=1.055e-04, with an active set of 103 regressors, and the smallest cholesky pivot element being 2.220e-16\n",
      "  ConvergenceWarning)\n",
      "/usr/lib64/python2.7/site-packages/sklearn/linear_model/least_angle.py:334: ConvergenceWarning: Early stopping the lars path, as the residues are small and the current value of alpha is no longer well controlled. 138 iterations, alpha=8.070e-05, previous alpha=8.019e-05, with an active set of 115 regressors.\n",
      "  ConvergenceWarning)\n",
      "/usr/lib64/python2.7/site-packages/sklearn/linear_model/least_angle.py:309: ConvergenceWarning: Regressors in active set degenerate. Dropping a regressor, after 189 iterations, i.e. alpha=3.907e-05, with an active set of 167 regressors, and the smallest cholesky pivot element being 3.942e-08\n",
      "  ConvergenceWarning)\n",
      "/usr/lib64/python2.7/site-packages/sklearn/linear_model/least_angle.py:309: ConvergenceWarning: Regressors in active set degenerate. Dropping a regressor, after 216 iterations, i.e. alpha=2.598e-05, with an active set of 188 regressors, and the smallest cholesky pivot element being 2.581e-08\n",
      "  ConvergenceWarning)\n",
      "/usr/lib64/python2.7/site-packages/sklearn/linear_model/least_angle.py:309: ConvergenceWarning: Regressors in active set degenerate. Dropping a regressor, after 220 iterations, i.e. alpha=2.383e-05, with an active set of 192 regressors, and the smallest cholesky pivot element being 2.581e-08\n",
      "  ConvergenceWarning)\n",
      "/usr/lib64/python2.7/site-packages/sklearn/linear_model/least_angle.py:334: ConvergenceWarning: Early stopping the lars path, as the residues are small and the current value of alpha is no longer well controlled. 228 iterations, alpha=2.258e-05, previous alpha=2.235e-05, with an active set of 199 regressors.\n",
      "  ConvergenceWarning)\n",
      "/usr/lib64/python2.7/site-packages/sklearn/linear_model/least_angle.py:309: ConvergenceWarning: Regressors in active set degenerate. Dropping a regressor, after 182 iterations, i.e. alpha=4.096e-05, with an active set of 162 regressors, and the smallest cholesky pivot element being 2.581e-08\n",
      "  ConvergenceWarning)\n",
      "/usr/lib64/python2.7/site-packages/sklearn/linear_model/least_angle.py:309: ConvergenceWarning: Regressors in active set degenerate. Dropping a regressor, after 191 iterations, i.e. alpha=3.513e-05, with an active set of 167 regressors, and the smallest cholesky pivot element being 1.490e-08\n",
      "  ConvergenceWarning)\n",
      "/usr/lib64/python2.7/site-packages/sklearn/linear_model/least_angle.py:309: ConvergenceWarning: Regressors in active set degenerate. Dropping a regressor, after 191 iterations, i.e. alpha=3.512e-05, with an active set of 167 regressors, and the smallest cholesky pivot element being 1.490e-08\n",
      "  ConvergenceWarning)\n",
      "/usr/lib64/python2.7/site-packages/sklearn/linear_model/least_angle.py:309: ConvergenceWarning: Regressors in active set degenerate. Dropping a regressor, after 278 iterations, i.e. alpha=1.078e-05, with an active set of 218 regressors, and the smallest cholesky pivot element being 2.788e-08\n",
      "  ConvergenceWarning)\n",
      "/usr/lib64/python2.7/site-packages/sklearn/linear_model/least_angle.py:309: ConvergenceWarning: Regressors in active set degenerate. Dropping a regressor, after 280 iterations, i.e. alpha=1.072e-05, with an active set of 220 regressors, and the smallest cholesky pivot element being 2.788e-08\n",
      "  ConvergenceWarning)\n",
      "/usr/lib64/python2.7/site-packages/sklearn/linear_model/least_angle.py:309: ConvergenceWarning: Regressors in active set degenerate. Dropping a regressor, after 236 iterations, i.e. alpha=1.757e-05, with an active set of 200 regressors, and the smallest cholesky pivot element being 3.332e-08\n",
      "  ConvergenceWarning)\n",
      "/usr/lib64/python2.7/site-packages/sklearn/linear_model/least_angle.py:334: ConvergenceWarning: Early stopping the lars path, as the residues are small and the current value of alpha is no longer well controlled. 264 iterations, alpha=1.350e-05, previous alpha=1.350e-05, with an active set of 215 regressors.\n",
      "  ConvergenceWarning)\n",
      "/usr/lib64/python2.7/site-packages/sklearn/linear_model/least_angle.py:309: ConvergenceWarning: Regressors in active set degenerate. Dropping a regressor, after 124 iterations, i.e. alpha=1.059e-04, with an active set of 102 regressors, and the smallest cholesky pivot element being 2.220e-16\n",
      "  ConvergenceWarning)\n",
      "/usr/lib64/python2.7/site-packages/sklearn/linear_model/least_angle.py:309: ConvergenceWarning: Regressors in active set degenerate. Dropping a regressor, after 125 iterations, i.e. alpha=1.055e-04, with an active set of 103 regressors, and the smallest cholesky pivot element being 2.220e-16\n",
      "  ConvergenceWarning)\n",
      "/usr/lib64/python2.7/site-packages/sklearn/linear_model/least_angle.py:334: ConvergenceWarning: Early stopping the lars path, as the residues are small and the current value of alpha is no longer well controlled. 138 iterations, alpha=8.070e-05, previous alpha=8.019e-05, with an active set of 115 regressors.\n",
      "  ConvergenceWarning)\n",
      "/usr/lib64/python2.7/site-packages/sklearn/linear_model/least_angle.py:309: ConvergenceWarning: Regressors in active set degenerate. Dropping a regressor, after 214 iterations, i.e. alpha=2.796e-05, with an active set of 192 regressors, and the smallest cholesky pivot element being 4.470e-08\n",
      "  ConvergenceWarning)\n",
      "/usr/lib64/python2.7/site-packages/sklearn/linear_model/least_angle.py:309: ConvergenceWarning: Regressors in active set degenerate. Dropping a regressor, after 238 iterations, i.e. alpha=2.229e-05, with an active set of 202 regressors, and the smallest cholesky pivot element being 4.712e-08\n",
      "  ConvergenceWarning)\n",
      "/usr/lib64/python2.7/site-packages/sklearn/linear_model/least_angle.py:309: ConvergenceWarning: Regressors in active set degenerate. Dropping a regressor, after 238 iterations, i.e. alpha=2.229e-05, with an active set of 202 regressors, and the smallest cholesky pivot element being 2.220e-16\n",
      "  ConvergenceWarning)\n",
      "/usr/lib64/python2.7/site-packages/sklearn/linear_model/least_angle.py:309: ConvergenceWarning: Regressors in active set degenerate. Dropping a regressor, after 217 iterations, i.e. alpha=2.874e-05, with an active set of 185 regressors, and the smallest cholesky pivot element being 1.490e-08\n",
      "  ConvergenceWarning)\n",
      "/usr/lib64/python2.7/site-packages/sklearn/linear_model/least_angle.py:309: ConvergenceWarning: Regressors in active set degenerate. Dropping a regressor, after 283 iterations, i.e. alpha=1.114e-05, with an active set of 217 regressors, and the smallest cholesky pivot element being 5.576e-08\n",
      "  ConvergenceWarning)\n",
      "/usr/lib64/python2.7/site-packages/sklearn/linear_model/least_angle.py:309: ConvergenceWarning: Regressors in active set degenerate. Dropping a regressor, after 291 iterations, i.e. alpha=1.019e-05, with an active set of 221 regressors, and the smallest cholesky pivot element being 5.162e-08\n",
      "  ConvergenceWarning)\n",
      "/usr/lib64/python2.7/site-packages/sklearn/linear_model/least_angle.py:309: ConvergenceWarning: Regressors in active set degenerate. Dropping a regressor, after 228 iterations, i.e. alpha=2.579e-05, with an active set of 190 regressors, and the smallest cholesky pivot element being 1.490e-08\n",
      "  ConvergenceWarning)\n",
      "/usr/lib64/python2.7/site-packages/sklearn/linear_model/least_angle.py:309: ConvergenceWarning: Regressors in active set degenerate. Dropping a regressor, after 229 iterations, i.e. alpha=2.574e-05, with an active set of 191 regressors, and the smallest cholesky pivot element being 1.490e-08\n",
      "  ConvergenceWarning)\n",
      "/usr/lib64/python2.7/site-packages/sklearn/linear_model/least_angle.py:309: ConvergenceWarning: Regressors in active set degenerate. Dropping a regressor, after 267 iterations, i.e. alpha=1.208e-05, with an active set of 219 regressors, and the smallest cholesky pivot element being 2.107e-08\n",
      "  ConvergenceWarning)\n",
      "/usr/lib64/python2.7/site-packages/sklearn/linear_model/least_angle.py:334: ConvergenceWarning: Early stopping the lars path, as the residues are small and the current value of alpha is no longer well controlled. 241 iterations, alpha=2.274e-05, previous alpha=2.264e-05, with an active set of 202 regressors.\n",
      "  ConvergenceWarning)\n",
      "/usr/lib64/python2.7/site-packages/sklearn/linear_model/least_angle.py:309: ConvergenceWarning: Regressors in active set degenerate. Dropping a regressor, after 246 iterations, i.e. alpha=1.808e-05, with an active set of 198 regressors, and the smallest cholesky pivot element being 2.980e-08\n",
      "  ConvergenceWarning)\n",
      "/usr/lib64/python2.7/site-packages/sklearn/linear_model/least_angle.py:309: ConvergenceWarning: Regressors in active set degenerate. Dropping a regressor, after 189 iterations, i.e. alpha=3.907e-05, with an active set of 167 regressors, and the smallest cholesky pivot element being 3.942e-08\n",
      "  ConvergenceWarning)\n",
      "/usr/lib64/python2.7/site-packages/sklearn/linear_model/least_angle.py:309: ConvergenceWarning: Regressors in active set degenerate. Dropping a regressor, after 216 iterations, i.e. alpha=2.598e-05, with an active set of 188 regressors, and the smallest cholesky pivot element being 2.581e-08\n",
      "  ConvergenceWarning)\n",
      "/usr/lib64/python2.7/site-packages/sklearn/linear_model/least_angle.py:309: ConvergenceWarning: Regressors in active set degenerate. Dropping a regressor, after 220 iterations, i.e. alpha=2.383e-05, with an active set of 192 regressors, and the smallest cholesky pivot element being 2.581e-08\n",
      "  ConvergenceWarning)\n",
      "/usr/lib64/python2.7/site-packages/sklearn/linear_model/least_angle.py:334: ConvergenceWarning: Early stopping the lars path, as the residues are small and the current value of alpha is no longer well controlled. 228 iterations, alpha=2.258e-05, previous alpha=2.235e-05, with an active set of 199 regressors.\n",
      "  ConvergenceWarning)\n",
      "/usr/lib64/python2.7/site-packages/sklearn/linear_model/least_angle.py:309: ConvergenceWarning: Regressors in active set degenerate. Dropping a regressor, after 182 iterations, i.e. alpha=4.096e-05, with an active set of 162 regressors, and the smallest cholesky pivot element being 2.581e-08\n",
      "  ConvergenceWarning)\n",
      "/usr/lib64/python2.7/site-packages/sklearn/linear_model/least_angle.py:309: ConvergenceWarning: Regressors in active set degenerate. Dropping a regressor, after 327 iterations, i.e. alpha=6.856e-06, with an active set of 237 regressors, and the smallest cholesky pivot element being 2.581e-08\n",
      "  ConvergenceWarning)\n",
      "/usr/lib64/python2.7/site-packages/sklearn/linear_model/least_angle.py:334: ConvergenceWarning: Early stopping the lars path, as the residues are small and the current value of alpha is no longer well controlled. 334 iterations, alpha=5.939e-06, previous alpha=5.773e-06, with an active set of 243 regressors.\n",
      "  ConvergenceWarning)\n",
      "/usr/lib64/python2.7/site-packages/sklearn/linear_model/least_angle.py:309: ConvergenceWarning: Regressors in active set degenerate. Dropping a regressor, after 191 iterations, i.e. alpha=3.513e-05, with an active set of 167 regressors, and the smallest cholesky pivot element being 1.490e-08\n",
      "  ConvergenceWarning)\n",
      "/usr/lib64/python2.7/site-packages/sklearn/linear_model/least_angle.py:309: ConvergenceWarning: Regressors in active set degenerate. Dropping a regressor, after 191 iterations, i.e. alpha=3.512e-05, with an active set of 167 regressors, and the smallest cholesky pivot element being 1.490e-08\n",
      "  ConvergenceWarning)\n",
      "/usr/lib64/python2.7/site-packages/sklearn/linear_model/least_angle.py:309: ConvergenceWarning: Regressors in active set degenerate. Dropping a regressor, after 214 iterations, i.e. alpha=2.796e-05, with an active set of 192 regressors, and the smallest cholesky pivot element being 4.470e-08\n",
      "  ConvergenceWarning)\n",
      "/usr/lib64/python2.7/site-packages/sklearn/linear_model/least_angle.py:309: ConvergenceWarning: Regressors in active set degenerate. Dropping a regressor, after 124 iterations, i.e. alpha=1.059e-04, with an active set of 102 regressors, and the smallest cholesky pivot element being 2.220e-16\n",
      "  ConvergenceWarning)\n",
      "/usr/lib64/python2.7/site-packages/sklearn/linear_model/least_angle.py:309: ConvergenceWarning: Regressors in active set degenerate. Dropping a regressor, after 236 iterations, i.e. alpha=1.757e-05, with an active set of 200 regressors, and the smallest cholesky pivot element being 3.332e-08\n",
      "  ConvergenceWarning)\n",
      "/usr/lib64/python2.7/site-packages/sklearn/linear_model/least_angle.py:309: ConvergenceWarning: Regressors in active set degenerate. Dropping a regressor, after 238 iterations, i.e. alpha=2.229e-05, with an active set of 202 regressors, and the smallest cholesky pivot element being 4.712e-08\n",
      "  ConvergenceWarning)\n",
      "/usr/lib64/python2.7/site-packages/sklearn/linear_model/least_angle.py:309: ConvergenceWarning: Regressors in active set degenerate. Dropping a regressor, after 334 iterations, i.e. alpha=5.273e-06, with an active set of 240 regressors, and the smallest cholesky pivot element being 2.980e-08\n",
      "  ConvergenceWarning)\n",
      "/usr/lib64/python2.7/site-packages/sklearn/linear_model/least_angle.py:309: ConvergenceWarning: Regressors in active set degenerate. Dropping a regressor, after 125 iterations, i.e. alpha=1.055e-04, with an active set of 103 regressors, and the smallest cholesky pivot element being 2.220e-16\n",
      "  ConvergenceWarning)\n",
      "/usr/lib64/python2.7/site-packages/sklearn/linear_model/least_angle.py:309: ConvergenceWarning: Regressors in active set degenerate. Dropping a regressor, after 238 iterations, i.e. alpha=2.229e-05, with an active set of 202 regressors, and the smallest cholesky pivot element being 2.220e-16\n",
      "  ConvergenceWarning)\n",
      "/usr/lib64/python2.7/site-packages/sklearn/linear_model/least_angle.py:334: ConvergenceWarning: Early stopping the lars path, as the residues are small and the current value of alpha is no longer well controlled. 138 iterations, alpha=8.070e-05, previous alpha=8.019e-05, with an active set of 115 regressors.\n",
      "  ConvergenceWarning)\n",
      "/usr/lib64/python2.7/site-packages/sklearn/linear_model/least_angle.py:334: ConvergenceWarning: Early stopping the lars path, as the residues are small and the current value of alpha is no longer well controlled. 335 iterations, alpha=5.267e-06, previous alpha=5.152e-06, with an active set of 240 regressors.\n",
      "  ConvergenceWarning)\n",
      "/usr/lib64/python2.7/site-packages/sklearn/linear_model/least_angle.py:309: ConvergenceWarning: Regressors in active set degenerate. Dropping a regressor, after 283 iterations, i.e. alpha=1.114e-05, with an active set of 217 regressors, and the smallest cholesky pivot element being 5.576e-08\n",
      "  ConvergenceWarning)\n",
      "/usr/lib64/python2.7/site-packages/sklearn/linear_model/least_angle.py:334: ConvergenceWarning: Early stopping the lars path, as the residues are small and the current value of alpha is no longer well controlled. 264 iterations, alpha=1.350e-05, previous alpha=1.350e-05, with an active set of 215 regressors.\n",
      "  ConvergenceWarning)\n",
      "/usr/lib64/python2.7/site-packages/sklearn/linear_model/least_angle.py:309: ConvergenceWarning: Regressors in active set degenerate. Dropping a regressor, after 291 iterations, i.e. alpha=1.019e-05, with an active set of 221 regressors, and the smallest cholesky pivot element being 5.162e-08\n",
      "  ConvergenceWarning)\n",
      "/usr/lib64/python2.7/site-packages/sklearn/linear_model/least_angle.py:334: ConvergenceWarning: Early stopping the lars path, as the residues are small and the current value of alpha is no longer well controlled. 293 iterations, alpha=9.990e-06, previous alpha=9.840e-06, with an active set of 222 regressors.\n",
      "  ConvergenceWarning)\n",
      "/usr/lib64/python2.7/site-packages/sklearn/linear_model/least_angle.py:309: ConvergenceWarning: Regressors in active set degenerate. Dropping a regressor, after 217 iterations, i.e. alpha=2.874e-05, with an active set of 185 regressors, and the smallest cholesky pivot element being 1.490e-08\n",
      "  ConvergenceWarning)\n",
      "/usr/lib64/python2.7/site-packages/sklearn/linear_model/least_angle.py:309: ConvergenceWarning: Regressors in active set degenerate. Dropping a regressor, after 228 iterations, i.e. alpha=2.579e-05, with an active set of 190 regressors, and the smallest cholesky pivot element being 1.490e-08\n",
      "  ConvergenceWarning)\n",
      "/usr/lib64/python2.7/site-packages/sklearn/linear_model/least_angle.py:309: ConvergenceWarning: Regressors in active set degenerate. Dropping a regressor, after 229 iterations, i.e. alpha=2.574e-05, with an active set of 191 regressors, and the smallest cholesky pivot element being 1.490e-08\n",
      "  ConvergenceWarning)\n",
      "/usr/lib64/python2.7/site-packages/sklearn/linear_model/least_angle.py:309: ConvergenceWarning: Regressors in active set degenerate. Dropping a regressor, after 246 iterations, i.e. alpha=1.808e-05, with an active set of 198 regressors, and the smallest cholesky pivot element being 2.980e-08\n",
      "  ConvergenceWarning)\n",
      "/usr/lib64/python2.7/site-packages/sklearn/linear_model/least_angle.py:309: ConvergenceWarning: Regressors in active set degenerate. Dropping a regressor, after 267 iterations, i.e. alpha=1.208e-05, with an active set of 219 regressors, and the smallest cholesky pivot element being 2.107e-08\n",
      "  ConvergenceWarning)\n",
      "/usr/lib64/python2.7/site-packages/sklearn/linear_model/least_angle.py:334: ConvergenceWarning: Early stopping the lars path, as the residues are small and the current value of alpha is no longer well controlled. 241 iterations, alpha=2.274e-05, previous alpha=2.264e-05, with an active set of 202 regressors.\n",
      "  ConvergenceWarning)\n",
      "/usr/lib64/python2.7/site-packages/sklearn/linear_model/least_angle.py:334: ConvergenceWarning: Early stopping the lars path, as the residues are small and the current value of alpha is no longer well controlled. 346 iterations, alpha=6.407e-04, previous alpha=3.678e-06, with an active set of 253 regressors.\n",
      "  ConvergenceWarning)\n",
      "/usr/lib64/python2.7/site-packages/sklearn/linear_model/least_angle.py:334: ConvergenceWarning: Early stopping the lars path, as the residues are small and the current value of alpha is no longer well controlled. 333 iterations, alpha=5.738e-06, previous alpha=5.738e-06, with an active set of 240 regressors.\n",
      "  ConvergenceWarning)\n",
      "/usr/lib64/python2.7/site-packages/sklearn/linear_model/least_angle.py:309: ConvergenceWarning: Regressors in active set degenerate. Dropping a regressor, after 322 iterations, i.e. alpha=6.000e-06, with an active set of 236 regressors, and the smallest cholesky pivot element being 2.581e-08\n",
      "  ConvergenceWarning)\n",
      "/usr/lib64/python2.7/site-packages/sklearn/linear_model/least_angle.py:334: ConvergenceWarning: Early stopping the lars path, as the residues are small and the current value of alpha is no longer well controlled. 350 iterations, alpha=3.326e-03, previous alpha=4.394e-06, with an active set of 251 regressors.\n",
      "  ConvergenceWarning)\n",
      "/usr/lib64/python2.7/site-packages/sklearn/linear_model/least_angle.py:309: ConvergenceWarning: Regressors in active set degenerate. Dropping a regressor, after 124 iterations, i.e. alpha=1.059e-04, with an active set of 102 regressors, and the smallest cholesky pivot element being 2.220e-16\n",
      "  ConvergenceWarning)\n",
      "/usr/lib64/python2.7/site-packages/sklearn/linear_model/least_angle.py:309: ConvergenceWarning: Regressors in active set degenerate. Dropping a regressor, after 125 iterations, i.e. alpha=1.055e-04, with an active set of 103 regressors, and the smallest cholesky pivot element being 2.220e-16\n",
      "  ConvergenceWarning)\n",
      "/usr/lib64/python2.7/site-packages/sklearn/linear_model/least_angle.py:334: ConvergenceWarning: Early stopping the lars path, as the residues are small and the current value of alpha is no longer well controlled. 138 iterations, alpha=8.070e-05, previous alpha=8.019e-05, with an active set of 115 regressors.\n",
      "  ConvergenceWarning)\n",
      "/usr/lib64/python2.7/site-packages/sklearn/linear_model/least_angle.py:309: ConvergenceWarning: Regressors in active set degenerate. Dropping a regressor, after 189 iterations, i.e. alpha=3.907e-05, with an active set of 167 regressors, and the smallest cholesky pivot element being 3.942e-08\n",
      "  ConvergenceWarning)\n",
      "/usr/lib64/python2.7/site-packages/sklearn/linear_model/least_angle.py:309: ConvergenceWarning: Regressors in active set degenerate. Dropping a regressor, after 189 iterations, i.e. alpha=3.907e-05, with an active set of 167 regressors, and the smallest cholesky pivot element being 3.942e-08\n",
      "  ConvergenceWarning)\n",
      "/usr/lib64/python2.7/site-packages/sklearn/linear_model/least_angle.py:309: ConvergenceWarning: Regressors in active set degenerate. Dropping a regressor, after 216 iterations, i.e. alpha=2.598e-05, with an active set of 188 regressors, and the smallest cholesky pivot element being 2.581e-08\n",
      "  ConvergenceWarning)\n",
      "/usr/lib64/python2.7/site-packages/sklearn/linear_model/least_angle.py:309: ConvergenceWarning: Regressors in active set degenerate. Dropping a regressor, after 220 iterations, i.e. alpha=2.383e-05, with an active set of 192 regressors, and the smallest cholesky pivot element being 2.581e-08\n",
      "  ConvergenceWarning)\n",
      "/usr/lib64/python2.7/site-packages/sklearn/linear_model/least_angle.py:334: ConvergenceWarning: Early stopping the lars path, as the residues are small and the current value of alpha is no longer well controlled. 228 iterations, alpha=2.258e-05, previous alpha=2.235e-05, with an active set of 199 regressors.\n",
      "  ConvergenceWarning)\n",
      "/usr/lib64/python2.7/site-packages/sklearn/linear_model/least_angle.py:309: ConvergenceWarning: Regressors in active set degenerate. Dropping a regressor, after 278 iterations, i.e. alpha=1.078e-05, with an active set of 218 regressors, and the smallest cholesky pivot element being 2.788e-08\n",
      "  ConvergenceWarning)\n",
      "/usr/lib64/python2.7/site-packages/sklearn/linear_model/least_angle.py:309: ConvergenceWarning: Regressors in active set degenerate. Dropping a regressor, after 280 iterations, i.e. alpha=1.072e-05, with an active set of 220 regressors, and the smallest cholesky pivot element being 2.788e-08\n",
      "  ConvergenceWarning)\n",
      "/usr/lib64/python2.7/site-packages/sklearn/linear_model/least_angle.py:309: ConvergenceWarning: Regressors in active set degenerate. Dropping a regressor, after 182 iterations, i.e. alpha=4.096e-05, with an active set of 162 regressors, and the smallest cholesky pivot element being 2.581e-08\n",
      "  ConvergenceWarning)\n",
      "/usr/lib64/python2.7/site-packages/sklearn/linear_model/least_angle.py:309: ConvergenceWarning: Regressors in active set degenerate. Dropping a regressor, after 327 iterations, i.e. alpha=6.856e-06, with an active set of 237 regressors, and the smallest cholesky pivot element being 2.581e-08\n",
      "  ConvergenceWarning)\n",
      "/usr/lib64/python2.7/site-packages/sklearn/linear_model/least_angle.py:334: ConvergenceWarning: Early stopping the lars path, as the residues are small and the current value of alpha is no longer well controlled. 334 iterations, alpha=5.939e-06, previous alpha=5.773e-06, with an active set of 243 regressors.\n",
      "  ConvergenceWarning)\n",
      "/usr/lib64/python2.7/site-packages/sklearn/linear_model/least_angle.py:309: ConvergenceWarning: Regressors in active set degenerate. Dropping a regressor, after 191 iterations, i.e. alpha=3.513e-05, with an active set of 167 regressors, and the smallest cholesky pivot element being 1.490e-08\n",
      "  ConvergenceWarning)\n",
      "/usr/lib64/python2.7/site-packages/sklearn/linear_model/least_angle.py:309: ConvergenceWarning: Regressors in active set degenerate. Dropping a regressor, after 191 iterations, i.e. alpha=3.512e-05, with an active set of 167 regressors, and the smallest cholesky pivot element being 1.490e-08\n",
      "  ConvergenceWarning)\n",
      "/usr/lib64/python2.7/site-packages/sklearn/linear_model/least_angle.py:309: ConvergenceWarning: Regressors in active set degenerate. Dropping a regressor, after 236 iterations, i.e. alpha=1.757e-05, with an active set of 200 regressors, and the smallest cholesky pivot element being 3.332e-08\n",
      "  ConvergenceWarning)\n",
      "/usr/lib64/python2.7/site-packages/sklearn/linear_model/least_angle.py:334: ConvergenceWarning: Early stopping the lars path, as the residues are small and the current value of alpha is no longer well controlled. 264 iterations, alpha=1.350e-05, previous alpha=1.350e-05, with an active set of 215 regressors.\n",
      "  ConvergenceWarning)\n",
      "/usr/lib64/python2.7/site-packages/sklearn/linear_model/least_angle.py:309: ConvergenceWarning: Regressors in active set degenerate. Dropping a regressor, after 246 iterations, i.e. alpha=1.808e-05, with an active set of 198 regressors, and the smallest cholesky pivot element being 2.980e-08\n",
      "  ConvergenceWarning)\n",
      "/usr/lib64/python2.7/site-packages/sklearn/linear_model/least_angle.py:309: ConvergenceWarning: Regressors in active set degenerate. Dropping a regressor, after 322 iterations, i.e. alpha=6.000e-06, with an active set of 236 regressors, and the smallest cholesky pivot element being 2.581e-08\n",
      "  ConvergenceWarning)\n",
      "/usr/lib64/python2.7/site-packages/sklearn/linear_model/least_angle.py:334: ConvergenceWarning: Early stopping the lars path, as the residues are small and the current value of alpha is no longer well controlled. 333 iterations, alpha=5.738e-06, previous alpha=5.738e-06, with an active set of 240 regressors.\n",
      "  ConvergenceWarning)\n",
      "/usr/lib64/python2.7/site-packages/sklearn/linear_model/least_angle.py:309: ConvergenceWarning: Regressors in active set degenerate. Dropping a regressor, after 182 iterations, i.e. alpha=4.096e-05, with an active set of 162 regressors, and the smallest cholesky pivot element being 2.581e-08\n",
      "  ConvergenceWarning)\n",
      "/usr/lib64/python2.7/site-packages/sklearn/linear_model/least_angle.py:309: ConvergenceWarning: Regressors in active set degenerate. Dropping a regressor, after 214 iterations, i.e. alpha=2.796e-05, with an active set of 192 regressors, and the smallest cholesky pivot element being 4.470e-08\n",
      "  ConvergenceWarning)\n",
      "/usr/lib64/python2.7/site-packages/sklearn/linear_model/least_angle.py:309: ConvergenceWarning: Regressors in active set degenerate. Dropping a regressor, after 217 iterations, i.e. alpha=2.874e-05, with an active set of 185 regressors, and the smallest cholesky pivot element being 1.490e-08\n",
      "  ConvergenceWarning)\n",
      "/usr/lib64/python2.7/site-packages/sklearn/linear_model/least_angle.py:309: ConvergenceWarning: Regressors in active set degenerate. Dropping a regressor, after 228 iterations, i.e. alpha=2.579e-05, with an active set of 190 regressors, and the smallest cholesky pivot element being 1.490e-08\n",
      "  ConvergenceWarning)\n",
      "/usr/lib64/python2.7/site-packages/sklearn/linear_model/least_angle.py:309: ConvergenceWarning: Regressors in active set degenerate. Dropping a regressor, after 238 iterations, i.e. alpha=2.229e-05, with an active set of 202 regressors, and the smallest cholesky pivot element being 4.712e-08\n",
      "  ConvergenceWarning)\n",
      "/usr/lib64/python2.7/site-packages/sklearn/linear_model/least_angle.py:309: ConvergenceWarning: Regressors in active set degenerate. Dropping a regressor, after 238 iterations, i.e. alpha=2.229e-05, with an active set of 202 regressors, and the smallest cholesky pivot element being 2.220e-16\n",
      "  ConvergenceWarning)\n",
      "/usr/lib64/python2.7/site-packages/sklearn/linear_model/least_angle.py:309: ConvergenceWarning: Regressors in active set degenerate. Dropping a regressor, after 229 iterations, i.e. alpha=2.574e-05, with an active set of 191 regressors, and the smallest cholesky pivot element being 1.490e-08\n",
      "  ConvergenceWarning)\n",
      "/usr/lib64/python2.7/site-packages/sklearn/linear_model/least_angle.py:334: ConvergenceWarning: Early stopping the lars path, as the residues are small and the current value of alpha is no longer well controlled. 241 iterations, alpha=2.274e-05, previous alpha=2.264e-05, with an active set of 202 regressors.\n",
      "  ConvergenceWarning)\n",
      "/usr/lib64/python2.7/site-packages/sklearn/linear_model/least_angle.py:309: ConvergenceWarning: Regressors in active set degenerate. Dropping a regressor, after 191 iterations, i.e. alpha=3.513e-05, with an active set of 167 regressors, and the smallest cholesky pivot element being 1.490e-08\n",
      "  ConvergenceWarning)\n",
      "/usr/lib64/python2.7/site-packages/sklearn/linear_model/least_angle.py:309: ConvergenceWarning: Regressors in active set degenerate. Dropping a regressor, after 191 iterations, i.e. alpha=3.512e-05, with an active set of 167 regressors, and the smallest cholesky pivot element being 1.490e-08\n",
      "  ConvergenceWarning)\n",
      "/usr/lib64/python2.7/site-packages/sklearn/linear_model/least_angle.py:309: ConvergenceWarning: Regressors in active set degenerate. Dropping a regressor, after 214 iterations, i.e. alpha=2.796e-05, with an active set of 192 regressors, and the smallest cholesky pivot element being 4.470e-08\n",
      "  ConvergenceWarning)\n",
      "/usr/lib64/python2.7/site-packages/sklearn/linear_model/least_angle.py:309: ConvergenceWarning: Regressors in active set degenerate. Dropping a regressor, after 238 iterations, i.e. alpha=2.229e-05, with an active set of 202 regressors, and the smallest cholesky pivot element being 4.712e-08\n",
      "  ConvergenceWarning)\n",
      "/usr/lib64/python2.7/site-packages/sklearn/linear_model/least_angle.py:309: ConvergenceWarning: Regressors in active set degenerate. Dropping a regressor, after 238 iterations, i.e. alpha=2.229e-05, with an active set of 202 regressors, and the smallest cholesky pivot element being 2.220e-16\n",
      "  ConvergenceWarning)\n",
      "/usr/lib64/python2.7/site-packages/sklearn/linear_model/least_angle.py:309: ConvergenceWarning: Regressors in active set degenerate. Dropping a regressor, after 278 iterations, i.e. alpha=1.078e-05, with an active set of 218 regressors, and the smallest cholesky pivot element being 2.788e-08\n",
      "  ConvergenceWarning)\n",
      "/usr/lib64/python2.7/site-packages/sklearn/linear_model/least_angle.py:309: ConvergenceWarning: Regressors in active set degenerate. Dropping a regressor, after 280 iterations, i.e. alpha=1.072e-05, with an active set of 220 regressors, and the smallest cholesky pivot element being 2.788e-08\n",
      "  ConvergenceWarning)\n"
     ]
    },
    {
     "name": "stdout",
     "output_type": "stream",
     "text": [
      "RandomizedSearchCV took 9.60 seconds for 20 candidates parameter settings.\n",
      "Model with rank: 1\n",
      "Mean validation score: -0.012 (std: 0.004)\n",
      "Parameters: {'alpha': 9.7752479825515836e-05}\n",
      "\n",
      "Model with rank: 2\n",
      "Mean validation score: -0.012 (std: 0.004)\n",
      "Parameters: {'alpha': 0.00010975367870815882}\n",
      "\n",
      "Model with rank: 3\n",
      "Mean validation score: -0.012 (std: 0.004)\n",
      "Parameters: {'alpha': 6.9274564007961226e-05}\n",
      "\n"
     ]
    }
   ],
   "source": [
    "lassolars_param = {'alpha': scipy.stats.expon(scale=0.0001)}\n",
    "random_search(lassolars_regr, lassolars_param, 20)"
   ]
  },
  {
   "cell_type": "code",
   "execution_count": 36,
   "metadata": {
    "collapsed": false
   },
   "outputs": [
    {
     "data": {
      "text/html": [
       "<div>\n",
       "<table border=\"1\" class=\"dataframe\">\n",
       "  <thead>\n",
       "    <tr style=\"text-align: right;\">\n",
       "      <th></th>\n",
       "      <th>alpha</th>\n",
       "      <th>RMSE</th>\n",
       "      <th>std dev</th>\n",
       "    </tr>\n",
       "  </thead>\n",
       "  <tbody>\n",
       "    <tr>\n",
       "      <th>0</th>\n",
       "      <td>0.00006000000000000000</td>\n",
       "      <td>0.10861094794136062769</td>\n",
       "      <td>0.06648048091570869789</td>\n",
       "    </tr>\n",
       "    <tr>\n",
       "      <th>1</th>\n",
       "      <td>0.00007000000000000001</td>\n",
       "      <td>0.10806956048223632927</td>\n",
       "      <td>0.06634093732591093973</td>\n",
       "    </tr>\n",
       "    <tr>\n",
       "      <th>7</th>\n",
       "      <td>0.00013000000000000004</td>\n",
       "      <td>0.10797342225355441303</td>\n",
       "      <td>0.06660424019806045204</td>\n",
       "    </tr>\n",
       "    <tr>\n",
       "      <th>6</th>\n",
       "      <td>0.00012000000000000004</td>\n",
       "      <td>0.10780086232018193382</td>\n",
       "      <td>0.06651192291003760193</td>\n",
       "    </tr>\n",
       "    <tr>\n",
       "      <th>2</th>\n",
       "      <td>0.00008000000000000002</td>\n",
       "      <td>0.10775460793745565702</td>\n",
       "      <td>0.06621854355298824324</td>\n",
       "    </tr>\n",
       "    <tr>\n",
       "      <th>5</th>\n",
       "      <td>0.00011000000000000003</td>\n",
       "      <td>0.10766039297931349894</td>\n",
       "      <td>0.06641097272602761170</td>\n",
       "    </tr>\n",
       "    <tr>\n",
       "      <th>3</th>\n",
       "      <td>0.00009000000000000002</td>\n",
       "      <td>0.10757877305340057816</td>\n",
       "      <td>0.06618406147414017393</td>\n",
       "    </tr>\n",
       "    <tr>\n",
       "      <th>4</th>\n",
       "      <td>0.00010000000000000002</td>\n",
       "      <td>0.10756913895721420538</td>\n",
       "      <td>0.06628514203027958962</td>\n",
       "    </tr>\n",
       "  </tbody>\n",
       "</table>\n",
       "</div>"
      ],
      "text/plain": [
       "                    alpha                    RMSE                 std dev\n",
       "0  0.00006000000000000000  0.10861094794136062769  0.06648048091570869789\n",
       "1  0.00007000000000000001  0.10806956048223632927  0.06634093732591093973\n",
       "7  0.00013000000000000004  0.10797342225355441303  0.06660424019806045204\n",
       "6  0.00012000000000000004  0.10780086232018193382  0.06651192291003760193\n",
       "2  0.00008000000000000002  0.10775460793745565702  0.06621854355298824324\n",
       "5  0.00011000000000000003  0.10766039297931349894  0.06641097272602761170\n",
       "3  0.00009000000000000002  0.10757877305340057816  0.06618406147414017393\n",
       "4  0.00010000000000000002  0.10756913895721420538  0.06628514203027958962"
      ]
     },
     "execution_count": 36,
     "metadata": {},
     "output_type": "execute_result"
    },
    {
     "data": {
      "image/png": "[encoded data removed]",
      "text/plain": [
       "<matplotlib.figure.Figure at 0x7f08f54e8410>"
      ]
     },
     "metadata": {},
     "output_type": "display_data"
    }
   ],
   "source": [
    "lassolars_params = {'alpha': np.arange(0.00006, 0.00014, 0.00001).tolist()}\n",
    "lassolars_df = single_search(lassolars_regr, lassolars_params)\n",
    "lassolars_df.plot(x = ['alpha'], y = ['RMSE'])\n",
    "lassolars_df.sort_values(['RMSE'], ascending = False)"
   ]
  },
  {
   "cell_type": "code",
   "execution_count": 44,
   "metadata": {
    "collapsed": true
   },
   "outputs": [],
   "source": [
    "lassolars_regr = linear_model.LassoLars(alpha=0.0001, max_iter=50000)"
   ]
  },
  {
   "cell_type": "code",
   "execution_count": 45,
   "metadata": {
    "collapsed": false
   },
   "outputs": [
    {
     "data": {
      "text/plain": [
       "0.10163414796915478"
      ]
     },
     "execution_count": 45,
     "metadata": {},
     "output_type": "execute_result"
    }
   ],
   "source": [
    "validate(lassolars_regr)"
   ]
  },
  {
   "cell_type": "markdown",
   "metadata": {},
   "source": [
    "## Elastic Net"
   ]
  },
  {
   "cell_type": "code",
   "execution_count": 21,
   "metadata": {
    "collapsed": true
   },
   "outputs": [],
   "source": [
    "elnet_regr = linear_model.ElasticNet(max_iter=15000, random_state=7)"
   ]
  },
  {
   "cell_type": "code",
   "execution_count": 22,
   "metadata": {
    "collapsed": false
   },
   "outputs": [
    {
     "name": "stdout",
     "output_type": "stream",
     "text": [
      "RandomizedSearchCV took 25.49 seconds for 20 candidates parameter settings.\n",
      "Model with rank: 1\n",
      "Mean validation score: -0.012 (std: 0.004)\n",
      "Parameters: {'alpha': 0.00051772852125632929, 'l1_ratio': 0.74546220429086041}\n",
      "\n",
      "Model with rank: 2\n",
      "Mean validation score: -0.012 (std: 0.004)\n",
      "Parameters: {'alpha': 0.00065045476361525704, 'l1_ratio': 0.60224672562101778}\n",
      "\n",
      "Model with rank: 3\n",
      "Mean validation score: -0.012 (std: 0.004)\n",
      "Parameters: {'alpha': 0.0007803596061589517, 'l1_ratio': 0.60742767523961272}\n",
      "\n"
     ]
    }
   ],
   "source": [
    "elnet_param =  {'alpha': scipy.stats.expon(scale=0.001), 'l1_ratio': scipy.stats.truncnorm(0, 1, loc=0.5, scale=0.25)}\n",
    "random_search(elnet_regr, elnet_param, 20)"
   ]
  },
  {
   "cell_type": "code",
   "execution_count": 37,
   "metadata": {
    "collapsed": false
   },
   "outputs": [
    {
     "data": {
      "text/html": [
       "<div>\n",
       "<table border=\"1\" class=\"dataframe\">\n",
       "  <thead>\n",
       "    <tr style=\"text-align: right;\">\n",
       "      <th></th>\n",
       "      <th>alpha</th>\n",
       "      <th>RMSE</th>\n",
       "      <th>std dev</th>\n",
       "    </tr>\n",
       "  </thead>\n",
       "  <tbody>\n",
       "    <tr>\n",
       "      <th>0</th>\n",
       "      <td>0.00029999999999999997</td>\n",
       "      <td>0.11104595038939174545</td>\n",
       "      <td>0.06765784085225574895</td>\n",
       "    </tr>\n",
       "    <tr>\n",
       "      <th>1</th>\n",
       "      <td>0.00039999999999999996</td>\n",
       "      <td>0.11028733670309411041</td>\n",
       "      <td>0.06751380722654559685</td>\n",
       "    </tr>\n",
       "    <tr>\n",
       "      <th>2</th>\n",
       "      <td>0.00050000000000000001</td>\n",
       "      <td>0.10983199377288019316</td>\n",
       "      <td>0.06726649475938729916</td>\n",
       "    </tr>\n",
       "    <tr>\n",
       "      <th>3</th>\n",
       "      <td>0.00059999999999999995</td>\n",
       "      <td>0.10962936996461744577</td>\n",
       "      <td>0.06696151839067156220</td>\n",
       "    </tr>\n",
       "    <tr>\n",
       "      <th>7</th>\n",
       "      <td>0.00099999999999999980</td>\n",
       "      <td>0.10960270001514335614</td>\n",
       "      <td>0.06660155655686382514</td>\n",
       "    </tr>\n",
       "    <tr>\n",
       "      <th>4</th>\n",
       "      <td>0.00069999999999999988</td>\n",
       "      <td>0.10954537757330833070</td>\n",
       "      <td>0.06671012853037137924</td>\n",
       "    </tr>\n",
       "    <tr>\n",
       "      <th>6</th>\n",
       "      <td>0.00089999999999999998</td>\n",
       "      <td>0.10954140451227016573</td>\n",
       "      <td>0.06650036063802088060</td>\n",
       "    </tr>\n",
       "    <tr>\n",
       "      <th>5</th>\n",
       "      <td>0.00079999999999999993</td>\n",
       "      <td>0.10952605106390704559</td>\n",
       "      <td>0.06656106359014475615</td>\n",
       "    </tr>\n",
       "  </tbody>\n",
       "</table>\n",
       "</div>"
      ],
      "text/plain": [
       "                    alpha                    RMSE                 std dev\n",
       "0  0.00029999999999999997  0.11104595038939174545  0.06765784085225574895\n",
       "1  0.00039999999999999996  0.11028733670309411041  0.06751380722654559685\n",
       "2  0.00050000000000000001  0.10983199377288019316  0.06726649475938729916\n",
       "3  0.00059999999999999995  0.10962936996461744577  0.06696151839067156220\n",
       "7  0.00099999999999999980  0.10960270001514335614  0.06660155655686382514\n",
       "4  0.00069999999999999988  0.10954537757330833070  0.06671012853037137924\n",
       "6  0.00089999999999999998  0.10954140451227016573  0.06650036063802088060\n",
       "5  0.00079999999999999993  0.10952605106390704559  0.06656106359014475615"
      ]
     },
     "execution_count": 37,
     "metadata": {},
     "output_type": "execute_result"
    },
    {
     "data": {
      "image/png": "[encoded data removed]",
      "text/plain": [
       "<matplotlib.figure.Figure at 0x7f08f54d57d0>"
      ]
     },
     "metadata": {},
     "output_type": "display_data"
    }
   ],
   "source": [
    "elnet_regr = linear_model.ElasticNet(alpha=0.00038, l1_ratio=0.5, max_iter=15000, random_state=7)\n",
    "elnet_params = {'alpha': np.arange(0.0003, 0.001, 0.0001).tolist()}\n",
    "elnet_df = single_search(elnet_regr, elnet_params)\n",
    "elnet_df.plot(x = ['alpha'], y = ['RMSE'])\n",
    "elnet_df.sort_values(['RMSE'], ascending = False)"
   ]
  },
  {
   "cell_type": "code",
   "execution_count": 46,
   "metadata": {
    "collapsed": false
   },
   "outputs": [
    {
     "data": {
      "text/html": [
       "<div>\n",
       "<table border=\"1\" class=\"dataframe\">\n",
       "  <thead>\n",
       "    <tr style=\"text-align: right;\">\n",
       "      <th></th>\n",
       "      <th>l1_ratio</th>\n",
       "      <th>RMSE</th>\n",
       "      <th>std dev</th>\n",
       "    </tr>\n",
       "  </thead>\n",
       "  <tbody>\n",
       "    <tr>\n",
       "      <th>0</th>\n",
       "      <td>0.10000000000000000555</td>\n",
       "      <td>0.11237649105537367289</td>\n",
       "      <td>0.06800429844727311213</td>\n",
       "    </tr>\n",
       "    <tr>\n",
       "      <th>1</th>\n",
       "      <td>0.20000000000000001110</td>\n",
       "      <td>0.11081067014071542542</td>\n",
       "      <td>0.06720763391946484033</td>\n",
       "    </tr>\n",
       "    <tr>\n",
       "      <th>8</th>\n",
       "      <td>0.90000000000000002220</td>\n",
       "      <td>0.11051852573351927944</td>\n",
       "      <td>0.06705439282974440252</td>\n",
       "    </tr>\n",
       "    <tr>\n",
       "      <th>2</th>\n",
       "      <td>0.30000000000000004441</td>\n",
       "      <td>0.11008804221729460993</td>\n",
       "      <td>0.06717082643040371559</td>\n",
       "    </tr>\n",
       "    <tr>\n",
       "      <th>7</th>\n",
       "      <td>0.80000000000000004441</td>\n",
       "      <td>0.11005732406117531286</td>\n",
       "      <td>0.06690325032680120854</td>\n",
       "    </tr>\n",
       "    <tr>\n",
       "      <th>3</th>\n",
       "      <td>0.40000000000000002220</td>\n",
       "      <td>0.10967042737295976118</td>\n",
       "      <td>0.06679088294897636557</td>\n",
       "    </tr>\n",
       "    <tr>\n",
       "      <th>6</th>\n",
       "      <td>0.70000000000000006661</td>\n",
       "      <td>0.10964867737182594498</td>\n",
       "      <td>0.06661516856118950003</td>\n",
       "    </tr>\n",
       "    <tr>\n",
       "      <th>4</th>\n",
       "      <td>0.50000000000000000000</td>\n",
       "      <td>0.10952605106390701784</td>\n",
       "      <td>0.06656106359014481166</td>\n",
       "    </tr>\n",
       "    <tr>\n",
       "      <th>5</th>\n",
       "      <td>0.59999999999999997780</td>\n",
       "      <td>0.10946193689476145516</td>\n",
       "      <td>0.06655511410672089456</td>\n",
       "    </tr>\n",
       "  </tbody>\n",
       "</table>\n",
       "</div>"
      ],
      "text/plain": [
       "                 l1_ratio                    RMSE                 std dev\n",
       "0  0.10000000000000000555  0.11237649105537367289  0.06800429844727311213\n",
       "1  0.20000000000000001110  0.11081067014071542542  0.06720763391946484033\n",
       "8  0.90000000000000002220  0.11051852573351927944  0.06705439282974440252\n",
       "2  0.30000000000000004441  0.11008804221729460993  0.06717082643040371559\n",
       "7  0.80000000000000004441  0.11005732406117531286  0.06690325032680120854\n",
       "3  0.40000000000000002220  0.10967042737295976118  0.06679088294897636557\n",
       "6  0.70000000000000006661  0.10964867737182594498  0.06661516856118950003\n",
       "4  0.50000000000000000000  0.10952605106390701784  0.06656106359014481166\n",
       "5  0.59999999999999997780  0.10946193689476145516  0.06655511410672089456"
      ]
     },
     "execution_count": 46,
     "metadata": {},
     "output_type": "execute_result"
    },
    {
     "data": {
      "image/png": "[encoded data removed]",
      "text/plain": [
       "<matplotlib.figure.Figure at 0x7f08f548ca90>"
      ]
     },
     "metadata": {},
     "output_type": "display_data"
    }
   ],
   "source": [
    "elnet_regr = linear_model.ElasticNet(alpha=0.0008, max_iter=15000, random_state=7)\n",
    "elnet_params = {'l1_ratio': np.arange(0.1, 1, 0.1).tolist()}\n",
    "elnet_df = single_search(elnet_regr, elnet_params)\n",
    "elnet_df.plot(x = ['l1_ratio'], y = ['RMSE'])\n",
    "elnet_df.sort_values(['RMSE'], ascending = False)"
   ]
  },
  {
   "cell_type": "code",
   "execution_count": 47,
   "metadata": {
    "collapsed": true
   },
   "outputs": [],
   "source": [
    "elnet_regr = linear_model.ElasticNet(alpha=0.0008, l1_ratio=0.6, max_iter=15000, random_state=7)"
   ]
  },
  {
   "cell_type": "code",
   "execution_count": 48,
   "metadata": {
    "collapsed": false
   },
   "outputs": [
    {
     "data": {
      "text/plain": [
       "0.10509218214025635"
      ]
     },
     "execution_count": 48,
     "metadata": {},
     "output_type": "execute_result"
    }
   ],
   "source": [
    "validate(elnet_regr)"
   ]
  },
  {
   "cell_type": "markdown",
   "metadata": {},
   "source": [
    "## Random Forest"
   ]
  },
  {
   "cell_type": "code",
   "execution_count": 24,
   "metadata": {
    "collapsed": true
   },
   "outputs": [],
   "source": [
    "rf_regr = RandomForestRegressor(n_jobs=-1, random_state = 7)"
   ]
  },
  {
   "cell_type": "code",
   "execution_count": 25,
   "metadata": {
    "collapsed": false
   },
   "outputs": [
    {
     "name": "stdout",
     "output_type": "stream",
     "text": [
      "RandomizedSearchCV took 138.16 seconds for 20 candidates parameter settings.\n",
      "Model with rank: 1\n",
      "Mean validation score: -0.016 (std: 0.005)\n",
      "Parameters: {'max_features': 28, 'n_estimators': 250, 'max_depth': 15}\n",
      "\n",
      "Model with rank: 2\n",
      "Mean validation score: -0.016 (std: 0.005)\n",
      "Parameters: {'max_features': 23, 'n_estimators': 151, 'max_depth': 16}\n",
      "\n",
      "Model with rank: 3\n",
      "Mean validation score: -0.016 (std: 0.005)\n",
      "Parameters: {'max_features': 23, 'n_estimators': 311, 'max_depth': 17}\n",
      "\n"
     ]
    }
   ],
   "source": [
    "rf_param =  {'n_estimators': scipy.stats.randint(50,400), 'max_depth': scipy.stats.randint(2,20), \n",
    "             'max_features': scipy.stats.randint(5,30)}\n",
    "random_search(rf_regr, rf_param, 20)"
   ]
  },
  {
   "cell_type": "code",
   "execution_count": 63,
   "metadata": {
    "collapsed": false
   },
   "outputs": [
    {
     "data": {
      "text/html": [
       "<div>\n",
       "<table border=\"1\" class=\"dataframe\">\n",
       "  <thead>\n",
       "    <tr style=\"text-align: right;\">\n",
       "      <th></th>\n",
       "      <th>n_estimators</th>\n",
       "      <th>RMSE</th>\n",
       "      <th>std dev</th>\n",
       "    </tr>\n",
       "  </thead>\n",
       "  <tbody>\n",
       "    <tr>\n",
       "      <th>1</th>\n",
       "      <td>150.0</td>\n",
       "      <td>0.12397239242075266952</td>\n",
       "      <td>0.07035408202988852056</td>\n",
       "    </tr>\n",
       "    <tr>\n",
       "      <th>0</th>\n",
       "      <td>100.0</td>\n",
       "      <td>0.12382252938565468936</td>\n",
       "      <td>0.07006987735302326603</td>\n",
       "    </tr>\n",
       "    <tr>\n",
       "      <th>2</th>\n",
       "      <td>200.0</td>\n",
       "      <td>0.12375619974139372148</td>\n",
       "      <td>0.07057294947981053446</td>\n",
       "    </tr>\n",
       "    <tr>\n",
       "      <th>8</th>\n",
       "      <td>500.0</td>\n",
       "      <td>0.12368455331133579311</td>\n",
       "      <td>0.07125093975590772455</td>\n",
       "    </tr>\n",
       "    <tr>\n",
       "      <th>4</th>\n",
       "      <td>300.0</td>\n",
       "      <td>0.12364001037357028046</td>\n",
       "      <td>0.07069131582132284763</td>\n",
       "    </tr>\n",
       "    <tr>\n",
       "      <th>11</th>\n",
       "      <td>650.0</td>\n",
       "      <td>0.12363888475894317664</td>\n",
       "      <td>0.07140404069307729196</td>\n",
       "    </tr>\n",
       "    <tr>\n",
       "      <th>12</th>\n",
       "      <td>700.0</td>\n",
       "      <td>0.12362654564087695308</td>\n",
       "      <td>0.07138545076678490253</td>\n",
       "    </tr>\n",
       "    <tr>\n",
       "      <th>10</th>\n",
       "      <td>600.0</td>\n",
       "      <td>0.12361812819995922352</td>\n",
       "      <td>0.07150182155005829765</td>\n",
       "    </tr>\n",
       "    <tr>\n",
       "      <th>13</th>\n",
       "      <td>750.0</td>\n",
       "      <td>0.12361362848616699872</td>\n",
       "      <td>0.07137992701443565680</td>\n",
       "    </tr>\n",
       "    <tr>\n",
       "      <th>7</th>\n",
       "      <td>450.0</td>\n",
       "      <td>0.12361047098713776049</td>\n",
       "      <td>0.07110497389902126208</td>\n",
       "    </tr>\n",
       "    <tr>\n",
       "      <th>6</th>\n",
       "      <td>400.0</td>\n",
       "      <td>0.12360315079655757875</td>\n",
       "      <td>0.07106516277275777560</td>\n",
       "    </tr>\n",
       "    <tr>\n",
       "      <th>5</th>\n",
       "      <td>350.0</td>\n",
       "      <td>0.12357699327226187580</td>\n",
       "      <td>0.07121385838491578468</td>\n",
       "    </tr>\n",
       "    <tr>\n",
       "      <th>3</th>\n",
       "      <td>250.0</td>\n",
       "      <td>0.12356552991304016464</td>\n",
       "      <td>0.07067131991899604226</td>\n",
       "    </tr>\n",
       "    <tr>\n",
       "      <th>9</th>\n",
       "      <td>550.0</td>\n",
       "      <td>0.12356344025704385503</td>\n",
       "      <td>0.07125903705509513408</td>\n",
       "    </tr>\n",
       "  </tbody>\n",
       "</table>\n",
       "</div>"
      ],
      "text/plain": [
       "    n_estimators                    RMSE                 std dev\n",
       "1          150.0  0.12397239242075266952  0.07035408202988852056\n",
       "0          100.0  0.12382252938565468936  0.07006987735302326603\n",
       "2          200.0  0.12375619974139372148  0.07057294947981053446\n",
       "8          500.0  0.12368455331133579311  0.07125093975590772455\n",
       "4          300.0  0.12364001037357028046  0.07069131582132284763\n",
       "11         650.0  0.12363888475894317664  0.07140404069307729196\n",
       "12         700.0  0.12362654564087695308  0.07138545076678490253\n",
       "10         600.0  0.12361812819995922352  0.07150182155005829765\n",
       "13         750.0  0.12361362848616699872  0.07137992701443565680\n",
       "7          450.0  0.12361047098713776049  0.07110497389902126208\n",
       "6          400.0  0.12360315079655757875  0.07106516277275777560\n",
       "5          350.0  0.12357699327226187580  0.07121385838491578468\n",
       "3          250.0  0.12356552991304016464  0.07067131991899604226\n",
       "9          550.0  0.12356344025704385503  0.07125903705509513408"
      ]
     },
     "execution_count": 63,
     "metadata": {},
     "output_type": "execute_result"
    },
    {
     "data": {
      "image/png": "[encoded data removed]",
      "text/plain": [
       "<matplotlib.figure.Figure at 0x7f08f89d8890>"
      ]
     },
     "metadata": {},
     "output_type": "display_data"
    }
   ],
   "source": [
    "rf_regr = RandomForestRegressor(n_estimators = 250, max_depth = 15, max_features = 76, random_state = 7)\n",
    "rf_params = {'n_estimators': np.arange(100, 800, 50).tolist()}\n",
    "rf_df = single_search(rf_regr, rf_params)\n",
    "rf_df.plot(x = ['n_estimators'], y = ['RMSE'])\n",
    "rf_df.sort_values(['RMSE'], ascending = False)"
   ]
  },
  {
   "cell_type": "code",
   "execution_count": 68,
   "metadata": {
    "collapsed": true
   },
   "outputs": [],
   "source": [
    "rf_regr = RandomForestRegressor(n_estimators = 550, max_depth = 15, max_features = 76, random_state = 7)"
   ]
  },
  {
   "cell_type": "code",
   "execution_count": 69,
   "metadata": {
    "collapsed": false
   },
   "outputs": [
    {
     "data": {
      "text/plain": [
       "0.12362621378678934"
      ]
     },
     "execution_count": 69,
     "metadata": {},
     "output_type": "execute_result"
    }
   ],
   "source": [
    "validate(rf_regr)"
   ]
  },
  {
   "cell_type": "markdown",
   "metadata": {},
   "source": [
    "## Support Vector Regressor"
   ]
  },
  {
   "cell_type": "code",
   "execution_count": 27,
   "metadata": {
    "collapsed": true
   },
   "outputs": [],
   "source": [
    "svr_regr = svm.SVR(cache_size=200, degree=3, max_iter=-1, shrinking=True, tol=0.001, verbose=False)"
   ]
  },
  {
   "cell_type": "code",
   "execution_count": 28,
   "metadata": {
    "collapsed": false
   },
   "outputs": [
    {
     "name": "stdout",
     "output_type": "stream",
     "text": [
      "RandomizedSearchCV took 48.49 seconds for 20 candidates parameter settings.\n",
      "Model with rank: 1\n",
      "Mean validation score: -0.015 (std: 0.005)\n",
      "Parameters: {'kernel': 'rbf', 'C': 0.76687925477215324, 'gamma': 0.0028677416679831896}\n",
      "\n",
      "Model with rank: 2\n",
      "Mean validation score: -0.015 (std: 0.005)\n",
      "Parameters: {'kernel': 'rbf', 'C': 0.57148810342129552, 'gamma': 0.016087600761929232}\n",
      "\n",
      "Model with rank: 3\n",
      "Mean validation score: -0.017 (std: 0.005)\n",
      "Parameters: {'kernel': 'rbf', 'C': 2.7326895058837324, 'gamma': 0.029172881795096167}\n",
      "\n"
     ]
    }
   ],
   "source": [
    "svr_param = {'C': scipy.stats.expon(scale=1), 'gamma': scipy.stats.expon(scale=.1),\n",
    "              'kernel': ['rbf']}\n",
    "random_search(svr_regr, svr_param, 20)"
   ]
  },
  {
   "cell_type": "code",
   "execution_count": 54,
   "metadata": {
    "collapsed": false
   },
   "outputs": [
    {
     "data": {
      "text/html": [
       "<div>\n",
       "<table border=\"1\" class=\"dataframe\">\n",
       "  <thead>\n",
       "    <tr style=\"text-align: right;\">\n",
       "      <th></th>\n",
       "      <th>C</th>\n",
       "      <th>RMSE</th>\n",
       "      <th>std dev</th>\n",
       "    </tr>\n",
       "  </thead>\n",
       "  <tbody>\n",
       "    <tr>\n",
       "      <th>0</th>\n",
       "      <td>0.50000000000000000000</td>\n",
       "      <td>0.12016430634562631774</td>\n",
       "      <td>0.07021771020720510292</td>\n",
       "    </tr>\n",
       "    <tr>\n",
       "      <th>1</th>\n",
       "      <td>0.59999999999999997780</td>\n",
       "      <td>0.11919792046888538772</td>\n",
       "      <td>0.07001266646493670143</td>\n",
       "    </tr>\n",
       "    <tr>\n",
       "      <th>2</th>\n",
       "      <td>0.69999999999999995559</td>\n",
       "      <td>0.11855259969208170601</td>\n",
       "      <td>0.06979981328356844872</td>\n",
       "    </tr>\n",
       "    <tr>\n",
       "      <th>3</th>\n",
       "      <td>0.79999999999999993339</td>\n",
       "      <td>0.11803290758822607143</td>\n",
       "      <td>0.06977442102046256533</td>\n",
       "    </tr>\n",
       "    <tr>\n",
       "      <th>4</th>\n",
       "      <td>0.89999999999999991118</td>\n",
       "      <td>0.11764172022177898924</td>\n",
       "      <td>0.06956246092982072693</td>\n",
       "    </tr>\n",
       "    <tr>\n",
       "      <th>5</th>\n",
       "      <td>0.99999999999999988898</td>\n",
       "      <td>0.11740134966213192080</td>\n",
       "      <td>0.06939984338061372382</td>\n",
       "    </tr>\n",
       "    <tr>\n",
       "      <th>6</th>\n",
       "      <td>1.09999999999999986677</td>\n",
       "      <td>0.11722793235113619648</td>\n",
       "      <td>0.06937076833043254176</td>\n",
       "    </tr>\n",
       "    <tr>\n",
       "      <th>7</th>\n",
       "      <td>1.19999999999999973355</td>\n",
       "      <td>0.11708766157606621816</td>\n",
       "      <td>0.06925521633583532621</td>\n",
       "    </tr>\n",
       "    <tr>\n",
       "      <th>8</th>\n",
       "      <td>1.29999999999999982236</td>\n",
       "      <td>0.11700567184572346902</td>\n",
       "      <td>0.06919637601986747266</td>\n",
       "    </tr>\n",
       "    <tr>\n",
       "      <th>9</th>\n",
       "      <td>1.39999999999999991118</td>\n",
       "      <td>0.11688179795979128373</td>\n",
       "      <td>0.06899091346105284961</td>\n",
       "    </tr>\n",
       "    <tr>\n",
       "      <th>19</th>\n",
       "      <td>2.39999999999999946709</td>\n",
       "      <td>0.11684743129006289197</td>\n",
       "      <td>0.06768979211950101882</td>\n",
       "    </tr>\n",
       "    <tr>\n",
       "      <th>10</th>\n",
       "      <td>1.49999999999999977796</td>\n",
       "      <td>0.11673092011799643397</td>\n",
       "      <td>0.06868037301004362161</td>\n",
       "    </tr>\n",
       "    <tr>\n",
       "      <th>18</th>\n",
       "      <td>2.29999999999999982236</td>\n",
       "      <td>0.11668840593332145683</td>\n",
       "      <td>0.06777289868736274814</td>\n",
       "    </tr>\n",
       "    <tr>\n",
       "      <th>11</th>\n",
       "      <td>1.59999999999999964473</td>\n",
       "      <td>0.11659933730108244798</td>\n",
       "      <td>0.06841705808956566326</td>\n",
       "    </tr>\n",
       "    <tr>\n",
       "      <th>17</th>\n",
       "      <td>2.19999999999999973355</td>\n",
       "      <td>0.11657140682267022602</td>\n",
       "      <td>0.06782997206380426969</td>\n",
       "    </tr>\n",
       "    <tr>\n",
       "      <th>12</th>\n",
       "      <td>1.69999999999999973355</td>\n",
       "      <td>0.11649189568760279223</td>\n",
       "      <td>0.06823226577800321768</td>\n",
       "    </tr>\n",
       "    <tr>\n",
       "      <th>16</th>\n",
       "      <td>2.09999999999999964473</td>\n",
       "      <td>0.11646856919966924737</td>\n",
       "      <td>0.06789169946679779466</td>\n",
       "    </tr>\n",
       "    <tr>\n",
       "      <th>13</th>\n",
       "      <td>1.79999999999999982236</td>\n",
       "      <td>0.11643323004148045663</td>\n",
       "      <td>0.06807236286127231473</td>\n",
       "    </tr>\n",
       "    <tr>\n",
       "      <th>15</th>\n",
       "      <td>1.99999999999999955591</td>\n",
       "      <td>0.11640752506326323967</td>\n",
       "      <td>0.06792476947264623754</td>\n",
       "    </tr>\n",
       "    <tr>\n",
       "      <th>14</th>\n",
       "      <td>1.89999999999999968914</td>\n",
       "      <td>0.11639341613756593041</td>\n",
       "      <td>0.06797542813787059435</td>\n",
       "    </tr>\n",
       "  </tbody>\n",
       "</table>\n",
       "</div>"
      ],
      "text/plain": [
       "                         C                    RMSE                 std dev\n",
       "0   0.50000000000000000000  0.12016430634562631774  0.07021771020720510292\n",
       "1   0.59999999999999997780  0.11919792046888538772  0.07001266646493670143\n",
       "2   0.69999999999999995559  0.11855259969208170601  0.06979981328356844872\n",
       "3   0.79999999999999993339  0.11803290758822607143  0.06977442102046256533\n",
       "4   0.89999999999999991118  0.11764172022177898924  0.06956246092982072693\n",
       "5   0.99999999999999988898  0.11740134966213192080  0.06939984338061372382\n",
       "6   1.09999999999999986677  0.11722793235113619648  0.06937076833043254176\n",
       "7   1.19999999999999973355  0.11708766157606621816  0.06925521633583532621\n",
       "8   1.29999999999999982236  0.11700567184572346902  0.06919637601986747266\n",
       "9   1.39999999999999991118  0.11688179795979128373  0.06899091346105284961\n",
       "19  2.39999999999999946709  0.11684743129006289197  0.06768979211950101882\n",
       "10  1.49999999999999977796  0.11673092011799643397  0.06868037301004362161\n",
       "18  2.29999999999999982236  0.11668840593332145683  0.06777289868736274814\n",
       "11  1.59999999999999964473  0.11659933730108244798  0.06841705808956566326\n",
       "17  2.19999999999999973355  0.11657140682267022602  0.06782997206380426969\n",
       "12  1.69999999999999973355  0.11649189568760279223  0.06823226577800321768\n",
       "16  2.09999999999999964473  0.11646856919966924737  0.06789169946679779466\n",
       "13  1.79999999999999982236  0.11643323004148045663  0.06807236286127231473\n",
       "15  1.99999999999999955591  0.11640752506326323967  0.06792476947264623754\n",
       "14  1.89999999999999968914  0.11639341613756593041  0.06797542813787059435"
      ]
     },
     "execution_count": 54,
     "metadata": {},
     "output_type": "execute_result"
    },
    {
     "data": {
      "image/png": "[encoded data removed]",
      "text/plain": [
       "<matplotlib.figure.Figure at 0x7f08f5410a90>"
      ]
     },
     "metadata": {},
     "output_type": "display_data"
    }
   ],
   "source": [
    "svr_regr = svm.SVR(C=0.77, cache_size=200, coef0=0.0, degree=3, gamma=0.008,\n",
    "                        kernel='rbf', max_iter=-1, shrinking=True, tol=0.001, verbose=False)\n",
    "svr_params = {'C': np.arange(0.5, 2.5, 0.1).tolist()}\n",
    "svr_df = single_search(svr_regr, svr_params)\n",
    "svr_df.plot(x = ['C'], y = ['RMSE'])\n",
    "svr_df.sort_values(['RMSE'], ascending = False)"
   ]
  },
  {
   "cell_type": "code",
   "execution_count": 58,
   "metadata": {
    "collapsed": true
   },
   "outputs": [],
   "source": [
    "svr_regr = svm.SVR(C=1.9, cache_size=200, coef0=0.0, degree=3, gamma=0.008,\n",
    "                        kernel='rbf', max_iter=-1, shrinking=True, tol=0.001, verbose=False)"
   ]
  },
  {
   "cell_type": "code",
   "execution_count": 59,
   "metadata": {
    "collapsed": false
   },
   "outputs": [
    {
     "data": {
      "text/plain": [
       "0.11855223837146894"
      ]
     },
     "execution_count": 59,
     "metadata": {},
     "output_type": "execute_result"
    }
   ],
   "source": [
    "validate(svr_regr)"
   ]
  },
  {
   "cell_type": "markdown",
   "metadata": {},
   "source": [
    "## Orthogonal Matching Pursuit"
   ]
  },
  {
   "cell_type": "code",
   "execution_count": 29,
   "metadata": {
    "collapsed": true
   },
   "outputs": [],
   "source": [
    "omp_regr = linear_model.OrthogonalMatchingPursuit()"
   ]
  },
  {
   "cell_type": "code",
   "execution_count": 30,
   "metadata": {
    "collapsed": false
   },
   "outputs": [
    {
     "name": "stdout",
     "output_type": "stream",
     "text": [
      "RandomizedSearchCV took 4.91 seconds for 20 candidates parameter settings.\n",
      "Model with rank: 1\n",
      "Mean validation score: -0.014 (std: 0.005)\n",
      "Parameters: {'n_nonzero_coefs': 98}\n",
      "\n",
      "Model with rank: 2\n",
      "Mean validation score: -0.014 (std: 0.004)\n",
      "Parameters: {'n_nonzero_coefs': 51}\n",
      "\n",
      "Model with rank: 3\n",
      "Mean validation score: -0.014 (std: 0.005)\n",
      "Parameters: {'n_nonzero_coefs': 119}\n",
      "\n"
     ]
    }
   ],
   "source": [
    "omp_param = {'n_nonzero_coefs': scipy.stats.randint(20,120)}\n",
    "random_search(omp_regr, omp_param, 20)"
   ]
  },
  {
   "cell_type": "code",
   "execution_count": 60,
   "metadata": {
    "collapsed": false
   },
   "outputs": [
    {
     "data": {
      "text/html": [
       "<div>\n",
       "<table border=\"1\" class=\"dataframe\">\n",
       "  <thead>\n",
       "    <tr style=\"text-align: right;\">\n",
       "      <th></th>\n",
       "      <th>n_nonzero_coefs</th>\n",
       "      <th>RMSE</th>\n",
       "      <th>std dev</th>\n",
       "    </tr>\n",
       "  </thead>\n",
       "  <tbody>\n",
       "    <tr>\n",
       "      <th>0</th>\n",
       "      <td>70.0</td>\n",
       "      <td>0.11919225949144394983</td>\n",
       "      <td>0.06552697700814155701</td>\n",
       "    </tr>\n",
       "    <tr>\n",
       "      <th>1</th>\n",
       "      <td>71.0</td>\n",
       "      <td>0.11902847384456921587</td>\n",
       "      <td>0.06632449021110765897</td>\n",
       "    </tr>\n",
       "    <tr>\n",
       "      <th>3</th>\n",
       "      <td>73.0</td>\n",
       "      <td>0.11893458926071022452</td>\n",
       "      <td>0.06636990489224085799</td>\n",
       "    </tr>\n",
       "    <tr>\n",
       "      <th>2</th>\n",
       "      <td>72.0</td>\n",
       "      <td>0.11885408275825258551</td>\n",
       "      <td>0.06667220253129806096</td>\n",
       "    </tr>\n",
       "    <tr>\n",
       "      <th>4</th>\n",
       "      <td>74.0</td>\n",
       "      <td>0.11857110973436024715</td>\n",
       "      <td>0.06615122223281799663</td>\n",
       "    </tr>\n",
       "    <tr>\n",
       "      <th>8</th>\n",
       "      <td>78.0</td>\n",
       "      <td>0.11843636829306072866</td>\n",
       "      <td>0.06701307477167696425</td>\n",
       "    </tr>\n",
       "    <tr>\n",
       "      <th>7</th>\n",
       "      <td>77.0</td>\n",
       "      <td>0.11838964081958297525</td>\n",
       "      <td>0.06682682089990199525</td>\n",
       "    </tr>\n",
       "    <tr>\n",
       "      <th>5</th>\n",
       "      <td>75.0</td>\n",
       "      <td>0.11820348241062610117</td>\n",
       "      <td>0.06578867684573889985</td>\n",
       "    </tr>\n",
       "    <tr>\n",
       "      <th>9</th>\n",
       "      <td>79.0</td>\n",
       "      <td>0.11814074709012421793</td>\n",
       "      <td>0.06645688324226450838</td>\n",
       "    </tr>\n",
       "    <tr>\n",
       "      <th>6</th>\n",
       "      <td>76.0</td>\n",
       "      <td>0.11805941430843536200</td>\n",
       "      <td>0.06632654567633396170</td>\n",
       "    </tr>\n",
       "  </tbody>\n",
       "</table>\n",
       "</div>"
      ],
      "text/plain": [
       "   n_nonzero_coefs                    RMSE                 std dev\n",
       "0             70.0  0.11919225949144394983  0.06552697700814155701\n",
       "1             71.0  0.11902847384456921587  0.06632449021110765897\n",
       "3             73.0  0.11893458926071022452  0.06636990489224085799\n",
       "2             72.0  0.11885408275825258551  0.06667220253129806096\n",
       "4             74.0  0.11857110973436024715  0.06615122223281799663\n",
       "8             78.0  0.11843636829306072866  0.06701307477167696425\n",
       "7             77.0  0.11838964081958297525  0.06682682089990199525\n",
       "5             75.0  0.11820348241062610117  0.06578867684573889985\n",
       "9             79.0  0.11814074709012421793  0.06645688324226450838\n",
       "6             76.0  0.11805941430843536200  0.06632654567633396170"
      ]
     },
     "execution_count": 60,
     "metadata": {},
     "output_type": "execute_result"
    },
    {
     "data": {
      "image/png": "[encoded data removed]",
      "text/plain": [
       "<matplotlib.figure.Figure at 0x7f08f53688d0>"
      ]
     },
     "metadata": {},
     "output_type": "display_data"
    }
   ],
   "source": [
    "omp_regr = linear_model.OrthogonalMatchingPursuit(n_nonzero_coefs=90)\n",
    "omp_params = {'n_nonzero_coefs': np.arange(70, 80, 1).tolist()}\n",
    "omp_df = single_search(omp_regr, omp_params)\n",
    "omp_df.plot(x = ['n_nonzero_coefs'], y = ['RMSE'])\n",
    "omp_df.sort_values(['RMSE'], ascending = False)"
   ]
  },
  {
   "cell_type": "code",
   "execution_count": 64,
   "metadata": {
    "collapsed": true
   },
   "outputs": [],
   "source": [
    "omp_regr = linear_model.OrthogonalMatchingPursuit(n_nonzero_coefs=76)"
   ]
  },
  {
   "cell_type": "code",
   "execution_count": 65,
   "metadata": {
    "collapsed": false
   },
   "outputs": [
    {
     "data": {
      "text/plain": [
       "0.1071864875558865"
      ]
     },
     "execution_count": 65,
     "metadata": {},
     "output_type": "execute_result"
    }
   ],
   "source": [
    "validate(omp_regr)"
   ]
  },
  {
   "cell_type": "markdown",
   "metadata": {},
   "source": [
    "## XGBoost"
   ]
  },
  {
   "cell_type": "code",
   "execution_count": 31,
   "metadata": {
    "collapsed": false
   },
   "outputs": [
    {
     "name": "stdout",
     "output_type": "stream",
     "text": [
      "RandomizedSearchCV took 5607.96 seconds for 20 candidates parameter settings.\n",
      "Model with rank: 1\n",
      "Mean validation score: -0.015 (std: 0.004)\n",
      "Parameters: {'reg_alpha': 0.49084827815675031, 'colsample_bytree': 0.17328322844490851, 'learning_rate': 0.19491909759547488, 'min_child_weight': 0.83519826693179, 'n_estimators': 373, 'subsample': 0.47799437028403657, 'reg_lambda': 2.8595767669228707, 'max_depth': 4, 'gamma': 0.034859966200231199}\n",
      "\n",
      "Model with rank: 2\n",
      "Mean validation score: -0.017 (std: 0.005)\n",
      "Parameters: {'reg_alpha': 0.076149888137664046, 'colsample_bytree': 0.34192002776157038, 'learning_rate': 0.57111397872513292, 'min_child_weight': 0.65754793849410131, 'n_estimators': 209, 'subsample': 0.46937011819146457, 'reg_lambda': 2.1059501502877023, 'max_depth': 1, 'gamma': 0.17254275557097479}\n",
      "\n",
      "Model with rank: 3\n",
      "Mean validation score: -0.017 (std: 0.005)\n",
      "Parameters: {'reg_alpha': 0.90218067361183207, 'colsample_bytree': 0.69235957533408465, 'learning_rate': 0.14901035643833871, 'min_child_weight': 0.30999214823453269, 'n_estimators': 89, 'subsample': 0.36013264432895076, 'reg_lambda': 1.6432380729335045, 'max_depth': 9, 'gamma': 0.13462630662360575}\n",
      "\n"
     ]
    }
   ],
   "source": [
    "xgb_regr = xgb.XGBRegressor(seed = 42, nthread = -1, silent = 1)\n",
    "xgb_param = {'max_depth': scipy.stats.randint(1,10), # Max. Depth [1,∞]\n",
    "             'min_child_weight': scipy.stats.expon(scale=1), # Min. Child Weight [0,∞]\n",
    "             'gamma': scipy.stats.expon(scale=1), # Minimum Split Loss, gamma [0,∞]\n",
    "             'subsample': scipy.stats.uniform(0, 1), # Subsample Ratio of the training instance [0,1]\n",
    "             'colsample_bytree': scipy.stats.uniform(0, 1), # Subsample Ratio of columns [0,1]\n",
    "             'reg_alpha': scipy.stats.expon(scale=1), # L1 regularization, alpha [0,∞]\n",
    "             'reg_lambda': scipy.stats.expon(scale=1), # L2 regularization, lambda [0,∞]\n",
    "             'learning_rate': scipy.stats.uniform(0, 1), # Step size shrinkage (learning rate) [0,1]\n",
    "             'n_estimators': scipy.stats.randint(50,500) # Number of boosted trees, n_estimators\n",
    "            }\n",
    "random_search(xgb_regr, xgb_param, 20)"
   ]
  },
  {
   "cell_type": "code",
   "execution_count": 83,
   "metadata": {
    "collapsed": false
   },
   "outputs": [
    {
     "data": {
      "text/html": [
       "<div>\n",
       "<table border=\"1\" class=\"dataframe\">\n",
       "  <thead>\n",
       "    <tr style=\"text-align: right;\">\n",
       "      <th></th>\n",
       "      <th>n_estimators</th>\n",
       "      <th>RMSE</th>\n",
       "      <th>std dev</th>\n",
       "    </tr>\n",
       "  </thead>\n",
       "  <tbody>\n",
       "    <tr>\n",
       "      <th>0</th>\n",
       "      <td>450.0</td>\n",
       "      <td>0.11488295327134608048</td>\n",
       "      <td>0.06700333481590663165</td>\n",
       "    </tr>\n",
       "    <tr>\n",
       "      <th>1</th>\n",
       "      <td>460.0</td>\n",
       "      <td>0.11487053365329000232</td>\n",
       "      <td>0.06676928327071877944</td>\n",
       "    </tr>\n",
       "    <tr>\n",
       "      <th>2</th>\n",
       "      <td>470.0</td>\n",
       "      <td>0.11473013899074983868</td>\n",
       "      <td>0.06692293253544796816</td>\n",
       "    </tr>\n",
       "    <tr>\n",
       "      <th>3</th>\n",
       "      <td>480.0</td>\n",
       "      <td>0.11467275571353161001</td>\n",
       "      <td>0.06711670887012687048</td>\n",
       "    </tr>\n",
       "    <tr>\n",
       "      <th>4</th>\n",
       "      <td>490.0</td>\n",
       "      <td>0.11467250437464214519</td>\n",
       "      <td>0.06721403424964177142</td>\n",
       "    </tr>\n",
       "    <tr>\n",
       "      <th>8</th>\n",
       "      <td>530.0</td>\n",
       "      <td>0.11459213228386004590</td>\n",
       "      <td>0.06744013756312812469</td>\n",
       "    </tr>\n",
       "    <tr>\n",
       "      <th>7</th>\n",
       "      <td>520.0</td>\n",
       "      <td>0.11459097898772317714</td>\n",
       "      <td>0.06736066011337812909</td>\n",
       "    </tr>\n",
       "    <tr>\n",
       "      <th>9</th>\n",
       "      <td>540.0</td>\n",
       "      <td>0.11448658274867984375</td>\n",
       "      <td>0.06735307329195919235</td>\n",
       "    </tr>\n",
       "    <tr>\n",
       "      <th>6</th>\n",
       "      <td>510.0</td>\n",
       "      <td>0.11447998300234235591</td>\n",
       "      <td>0.06739800287760629172</td>\n",
       "    </tr>\n",
       "    <tr>\n",
       "      <th>5</th>\n",
       "      <td>500.0</td>\n",
       "      <td>0.11444389389682142755</td>\n",
       "      <td>0.06727188178455383027</td>\n",
       "    </tr>\n",
       "  </tbody>\n",
       "</table>\n",
       "</div>"
      ],
      "text/plain": [
       "   n_estimators                    RMSE                 std dev\n",
       "0         450.0  0.11488295327134608048  0.06700333481590663165\n",
       "1         460.0  0.11487053365329000232  0.06676928327071877944\n",
       "2         470.0  0.11473013899074983868  0.06692293253544796816\n",
       "3         480.0  0.11467275571353161001  0.06711670887012687048\n",
       "4         490.0  0.11467250437464214519  0.06721403424964177142\n",
       "8         530.0  0.11459213228386004590  0.06744013756312812469\n",
       "7         520.0  0.11459097898772317714  0.06736066011337812909\n",
       "9         540.0  0.11448658274867984375  0.06735307329195919235\n",
       "6         510.0  0.11447998300234235591  0.06739800287760629172\n",
       "5         500.0  0.11444389389682142755  0.06727188178455383027"
      ]
     },
     "execution_count": 83,
     "metadata": {},
     "output_type": "execute_result"
    },
    {
     "data": {
      "image/png": "[encoded data removed]",
      "text/plain": [
       "<matplotlib.figure.Figure at 0x7f08f5245f90>"
      ]
     },
     "metadata": {},
     "output_type": "display_data"
    }
   ],
   "source": [
    "xgb_regr = xgb.XGBRegressor(\n",
    "    max_depth = 1, \n",
    "    min_child_weight = 4.1,\n",
    "    gamma = 0,\n",
    "    subsample = 0.8,\n",
    "    colsample_bytree = 0.2,\n",
    "    reg_alpha = 0.4,\n",
    "    reg_lambda = 3.6, \n",
    "    learning_rate = 0.2,\n",
    "    n_estimators = 373,\n",
    "    objective='reg:linear', \n",
    "    seed = 42,\n",
    "    nthread = -1,\n",
    "    silent = 1)\n",
    "xgb_params = {'n_estimators': np.arange(450, 550, 10).tolist()}\n",
    "xgb_df = single_search(xgb_regr, xgb_params)\n",
    "xgb_df.plot(x = ['n_estimators'], y = ['RMSE'])\n",
    "xgb_df.sort_values(['RMSE'], ascending = False)"
   ]
  },
  {
   "cell_type": "code",
   "execution_count": 84,
   "metadata": {
    "collapsed": true
   },
   "outputs": [],
   "source": [
    "xgb_regr = xgb.XGBRegressor(\n",
    "    max_depth = 1, \n",
    "    min_child_weight = 4.1,\n",
    "    gamma = 0,\n",
    "    subsample = 0.8,\n",
    "    colsample_bytree = 0.2,\n",
    "    reg_alpha = 0.4,\n",
    "    reg_lambda = 3.6, \n",
    "    learning_rate = 0.2,\n",
    "    n_estimators = 500,\n",
    "    objective='reg:linear', \n",
    "    seed = 42,\n",
    "    nthread = -1,\n",
    "    silent = 1)"
   ]
  },
  {
   "cell_type": "code",
   "execution_count": 85,
   "metadata": {
    "collapsed": false
   },
   "outputs": [
    {
     "data": {
      "text/plain": [
       "0.11482177352320572"
      ]
     },
     "execution_count": 85,
     "metadata": {},
     "output_type": "execute_result"
    }
   ],
   "source": [
    "validate(xgb_regr)"
   ]
  },
  {
   "cell_type": "markdown",
   "metadata": {},
   "source": [
    "## MLP Regressor"
   ]
  },
  {
   "cell_type": "code",
   "execution_count": 32,
   "metadata": {
    "collapsed": true
   },
   "outputs": [],
   "source": [
    "mlp_regr = MLPRegressor(activation='relu', solver='lbfgs', random_state=641,\n",
    "                        hidden_layer_sizes=(100, ),\n",
    "                        alpha=0.0001, \n",
    "                        tol=0.0001, \n",
    "                        max_iter=200)"
   ]
  },
  {
   "cell_type": "code",
   "execution_count": 33,
   "metadata": {
    "collapsed": false
   },
   "outputs": [
    {
     "name": "stdout",
     "output_type": "stream",
     "text": [
      "RandomizedSearchCV took 1116.41 seconds for 20 candidates parameter settings.\n",
      "Model with rank: 1\n",
      "Mean validation score: -0.020 (std: 0.006)\n",
      "Parameters: {'alpha': 0.00014500737478201074, 'max_iter': 436.85061273697551, 'tol': 0.00013282616746695567, 'hidden_layer_sizes': 476}\n",
      "\n",
      "Model with rank: 2\n",
      "Mean validation score: -0.021 (std: 0.004)\n",
      "Parameters: {'alpha': 0.00011456338241808748, 'max_iter': 530.82768074649243, 'tol': 0.00010536242443869668, 'hidden_layer_sizes': 380}\n",
      "\n",
      "Model with rank: 3\n",
      "Mean validation score: -0.021 (std: 0.006)\n",
      "Parameters: {'alpha': 2.6171255412647311e-05, 'max_iter': 470.28993166800132, 'tol': 5.4260998862774637e-05, 'hidden_layer_sizes': 476}\n",
      "\n"
     ]
    }
   ],
   "source": [
    "mlp_regr = MLPRegressor(activation='relu', solver='lbfgs', random_state=641)\n",
    "mlp_param = {'hidden_layer_sizes': scipy.stats.randint(50,500), # size of a single hidden layer\n",
    "             'alpha': scipy.stats.expon(scale=0.0001), # L2 regularization,  [0,∞]\n",
    "             'tol': scipy.stats.expon(scale=0.0001), # Minimum improvement in loss fun. during training\n",
    "             'max_iter': scipy.stats.uniform(200, 400), # Maximum number of iterations of solver\n",
    "            }\n",
    "random_search(mlp_regr, mlp_param, 20)"
   ]
  },
  {
   "cell_type": "code",
   "execution_count": 71,
   "metadata": {
    "collapsed": false
   },
   "outputs": [
    {
     "data": {
      "text/html": [
       "<div>\n",
       "<table border=\"1\" class=\"dataframe\">\n",
       "  <thead>\n",
       "    <tr style=\"text-align: right;\">\n",
       "      <th></th>\n",
       "      <th>hidden_layer_sizes</th>\n",
       "      <th>RMSE</th>\n",
       "      <th>std dev</th>\n",
       "    </tr>\n",
       "  </thead>\n",
       "  <tbody>\n",
       "    <tr>\n",
       "      <th>2</th>\n",
       "      <td>3.0</td>\n",
       "      <td>0.13111229951379818615</td>\n",
       "      <td>0.07864116129780150677</td>\n",
       "    </tr>\n",
       "    <tr>\n",
       "      <th>7</th>\n",
       "      <td>8.0</td>\n",
       "      <td>0.13104004914307804119</td>\n",
       "      <td>0.08399261046742731440</td>\n",
       "    </tr>\n",
       "    <tr>\n",
       "      <th>9</th>\n",
       "      <td>10.0</td>\n",
       "      <td>0.13065488714876680176</td>\n",
       "      <td>0.07499117506190763893</td>\n",
       "    </tr>\n",
       "    <tr>\n",
       "      <th>8</th>\n",
       "      <td>9.0</td>\n",
       "      <td>0.12917128472393787919</td>\n",
       "      <td>0.07523847626792490306</td>\n",
       "    </tr>\n",
       "    <tr>\n",
       "      <th>4</th>\n",
       "      <td>5.0</td>\n",
       "      <td>0.12886347316572244193</td>\n",
       "      <td>0.07576759784509058682</td>\n",
       "    </tr>\n",
       "    <tr>\n",
       "      <th>6</th>\n",
       "      <td>7.0</td>\n",
       "      <td>0.12832893324223809683</td>\n",
       "      <td>0.07750067765578255718</td>\n",
       "    </tr>\n",
       "    <tr>\n",
       "      <th>5</th>\n",
       "      <td>6.0</td>\n",
       "      <td>0.12685337482527403452</td>\n",
       "      <td>0.07644904246392320024</td>\n",
       "    </tr>\n",
       "    <tr>\n",
       "      <th>1</th>\n",
       "      <td>2.0</td>\n",
       "      <td>0.12665651357392102017</td>\n",
       "      <td>0.07306659512465150941</td>\n",
       "    </tr>\n",
       "    <tr>\n",
       "      <th>3</th>\n",
       "      <td>4.0</td>\n",
       "      <td>0.12264560727589764177</td>\n",
       "      <td>0.06770605610998044199</td>\n",
       "    </tr>\n",
       "    <tr>\n",
       "      <th>0</th>\n",
       "      <td>1.0</td>\n",
       "      <td>0.11714245988831781253</td>\n",
       "      <td>0.06778818721227310162</td>\n",
       "    </tr>\n",
       "  </tbody>\n",
       "</table>\n",
       "</div>"
      ],
      "text/plain": [
       "   hidden_layer_sizes                    RMSE                 std dev\n",
       "2                 3.0  0.13111229951379818615  0.07864116129780150677\n",
       "7                 8.0  0.13104004914307804119  0.08399261046742731440\n",
       "9                10.0  0.13065488714876680176  0.07499117506190763893\n",
       "8                 9.0  0.12917128472393787919  0.07523847626792490306\n",
       "4                 5.0  0.12886347316572244193  0.07576759784509058682\n",
       "6                 7.0  0.12832893324223809683  0.07750067765578255718\n",
       "5                 6.0  0.12685337482527403452  0.07644904246392320024\n",
       "1                 2.0  0.12665651357392102017  0.07306659512465150941\n",
       "3                 4.0  0.12264560727589764177  0.06770605610998044199\n",
       "0                 1.0  0.11714245988831781253  0.06778818721227310162"
      ]
     },
     "execution_count": 71,
     "metadata": {},
     "output_type": "execute_result"
    },
    {
     "data": {
      "image/png": "[encoded data removed]",
      "text/plain": [
       "<matplotlib.figure.Figure at 0x7f08f53eecd0>"
      ]
     },
     "metadata": {},
     "output_type": "display_data"
    }
   ],
   "source": [
    "mlp_regr = MLPRegressor(activation='relu', solver='lbfgs', random_state=641,\n",
    "                        hidden_layer_sizes=(1, ),\n",
    "                        alpha=0.0008, \n",
    "                        tol=0.0005, \n",
    "                        max_iter=200)\n",
    "mlp_params = {'hidden_layer_sizes': np.arange(1, 11, 1).tolist()}\n",
    "mlp_df = single_search(mlp_regr, mlp_params)\n",
    "mlp_df.plot(x = ['hidden_layer_sizes'], y = ['RMSE'])\n",
    "mlp_df.sort_values(['RMSE'], ascending = False)"
   ]
  },
  {
   "cell_type": "code",
   "execution_count": 73,
   "metadata": {
    "collapsed": true
   },
   "outputs": [],
   "source": [
    "mlp_regr = MLPRegressor(activation='relu', solver='lbfgs', random_state=641,\n",
    "                        hidden_layer_sizes=(1, ),\n",
    "                        alpha=0.0008, \n",
    "                        tol=0.0005, \n",
    "                        max_iter=200)"
   ]
  },
  {
   "cell_type": "code",
   "execution_count": 74,
   "metadata": {
    "collapsed": false
   },
   "outputs": [
    {
     "data": {
      "text/plain": [
       "0.11348673136391933"
      ]
     },
     "execution_count": 74,
     "metadata": {},
     "output_type": "execute_result"
    }
   ],
   "source": [
    "validate(mlp_regr)"
   ]
  },
  {
   "cell_type": "code",
   "execution_count": null,
   "metadata": {
    "collapsed": true
   },
   "outputs": [],
   "source": []
  }
 ],
 "metadata": {
  "kernelspec": {
   "display_name": "Python 2",
   "language": "python",
   "name": "python2"
  },
  "language_info": {
   "codemirror_mode": {
    "name": "ipython",
    "version": 2
   },
   "file_extension": ".py",
   "mimetype": "text/x-python",
   "name": "python",
   "nbconvert_exporter": "python",
   "pygments_lexer": "ipython2",
   "version": "2.7.13"
  }
 },
 "nbformat": 4,
 "nbformat_minor": 2
}
